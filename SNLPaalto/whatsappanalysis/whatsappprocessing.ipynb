{
 "cells": [
  {
   "cell_type": "markdown",
   "metadata": {},
   "source": [
    "## Código para obtener las palabras más frequentes de un chat de whatsapp en español"
   ]
  },
  {
   "cell_type": "code",
   "execution_count": 19,
   "metadata": {},
   "outputs": [],
   "source": [
    "import spacy\n",
    "import re\n",
    "result = \"\"\n",
    "with open(\"mauriciochat.txt\", \"r\") as file: \n",
    "    for line in file:\n",
    "        line = line.replace(\"pm\", \"\")\n",
    "        line = line.replace(\"am\", \"\")\n",
    "        line = line.replace(\"carlos\", \"\")\n",
    "        line = line.replace(\"mauricia\", \"\")\n",
    "        result += re.sub(r'[^a-zA-ZáéíóúüñÁÉÍÓÚÜÑ\\s]', '', line)\n",
    " \n"
   ]
  },
  {
   "cell_type": "code",
   "execution_count": 20,
   "metadata": {},
   "outputs": [],
   "source": [
    "result = result.replace(\"pm\", \"\")\n",
    "line = result\n",
    "line = line.replace(\"carlos\", \"\")\n",
    "line = line.replace(\"mauricia\", \"\")\n",
    "line = line.replace(\"imagen\", \"\")\n",
    "line = line.replace(\"'\\n \\u202f'\", \"\")\n",
    "line = line.replace(\"sticker\", \"\")\n",
    "line = line.replace(\"\\n \\u202f    \", \"\")\n",
    "line = line.replace(\"omitido\", \"\")\n",
    "line = line.replace(\" am \", \"\")\n",
    "line = line.replace(\"omitida\", \"\")\n",
    "line = line.replace(\"audio\", \"\")\n",
    "line = re.sub(r'[JA+]', '', line)\n",
    "# give me a regex that removes all the JAJAJAJA patterns from the text\n",
    "\n",
    "\n",
    "\n"
   ]
  },
  {
   "cell_type": "code",
   "execution_count": 23,
   "metadata": {},
   "outputs": [],
   "source": [
    "def get20mostcommonwords(doc, types: list):\n",
    "    newanalysis = []\n",
    "    for elem in doc:\n",
    "        if elem.tag_ in types:\n",
    "            newanalysis.append(elem.text)\n",
    "\n",
    "    counter = {}\n",
    "\n",
    "    for elem in newanalysis:\n",
    "        if elem in counter:\n",
    "            counter[elem] += 1\n",
    "        else:\n",
    "            counter[elem] = 1\n",
    "\n",
    "    sorted_keys = sorted(counter, key=counter.get, reverse=True)\n",
    "    return sorted_keys[:20]"
   ]
  },
  {
   "cell_type": "code",
   "execution_count": 25,
   "metadata": {},
   "outputs": [],
   "source": [
    "result = line\n",
    "resultado = set()\n",
    "spacy_nlp = spacy.load(\"es_core_news_sm\")\n",
    "for i in range(0, len(result), 100000):\n",
    "    if i < 800000:\n",
    "        \n",
    "        doc = spacy_nlp(result[i:i+100000])\n",
    "        resp = set(get20mostcommonwords(doc, [\"NOUN\", \"VERB\", \"ADJ\"]))\n",
    "        # unimos los dos conjuntos\n",
    "        resultado = resultado.union(resp)\n",
    "\n",
    "    if i == 800000:\n",
    "        result[i: len(result)]\n",
    "        doc = spacy_nlp(result[i: len(result)])\n",
    "        resp = set(get20mostcommonwords(doc, [\"NOUN\", \"VERB\", \"ADJ\"]))\n",
    "        resultado = resultado.union(resp)\n",
    "\n",
    "# ahora vamos a guardar el resultado en un txt\n",
    "with open(\"result.txt\", \"w\") as file:\n",
    "    for elem in resultado:\n",
    "        file.write(str(elem) + \"\\n\")\n",
    "\n",
    "    "
   ]
  }
 ],
 "metadata": {
  "kernelspec": {
   "display_name": "Python 3",
   "language": "python",
   "name": "python3"
  },
  "language_info": {
   "codemirror_mode": {
    "name": "ipython",
    "version": 3
   },
   "file_extension": ".py",
   "mimetype": "text/x-python",
   "name": "python",
   "nbconvert_exporter": "python",
   "pygments_lexer": "ipython3",
   "version": "3.10.13"
  },
  "varInspector": {
   "cols": {
    "lenName": 16,
    "lenType": 16,
    "lenVar": 40
   },
   "kernels_config": {
    "python": {
     "delete_cmd_postfix": "",
     "delete_cmd_prefix": "del ",
     "library": "var_list.py",
     "varRefreshCmd": "print(var_dic_list())"
    },
    "r": {
     "delete_cmd_postfix": ") ",
     "delete_cmd_prefix": "rm(",
     "library": "var_list.r",
     "varRefreshCmd": "cat(var_dic_list()) "
    }
   },
   "types_to_exclude": [
    "module",
    "function",
    "builtin_function_or_method",
    "instance",
    "_Feature"
   ],
   "window_display": false
  }
 },
 "nbformat": 4,
 "nbformat_minor": 4
}
