{
 "cells": [
  {
   "cell_type": "markdown",
   "metadata": {
    "deletable": false,
    "editable": false,
    "nbgrader": {
     "cell_type": "markdown",
     "checksum": "7b256b1ddfe4fd92c2014bbb23fd65ee",
     "grade": false,
     "grade_id": "cell-846d50d8b492aac9",
     "locked": true,
     "schema_version": 3,
     "solution": false,
     "task": false
    }
   },
   "source": [
    "ELEC-E5550 - Statistical Natural Language Processing\n",
    "# SET 7: Neural language models\n",
    "\n",
    "# Released: 13.2.2024\n",
    "# Deadline: 23.2.2024"
   ]
  },
  {
   "cell_type": "code",
   "execution_count": 1,
   "metadata": {},
   "outputs": [],
   "source": [
    "%%capture\n",
    "!pip install nose==1.3.7"
   ]
  },
  {
   "cell_type": "markdown",
   "metadata": {
    "deletable": false,
    "editable": false,
    "nbgrader": {
     "cell_type": "markdown",
     "checksum": "d32313c7b30bf29fffdfda5624934b5e",
     "grade": false,
     "grade_id": "cell-c21f8a399f3e7cc0",
     "locked": true,
     "schema_version": 3,
     "solution": false,
     "task": false
    }
   },
   "source": [
    "# Overview\n",
    "After completing this exercise, you will understand how the neural language models work.\n",
    "Additionally, you will learn how to construct one and generate sentences with it."
   ]
  },
  {
   "cell_type": "markdown",
   "metadata": {
    "deletable": false,
    "editable": false,
    "nbgrader": {
     "cell_type": "markdown",
     "checksum": "1201e9774fd45e6c70343fd4221ebb06",
     "grade": false,
     "grade_id": "cell-508b79519d79dccf",
     "locked": true,
     "schema_version": 3,
     "solution": false,
     "task": false
    }
   },
   "source": [
    "# Table of contents\n",
    "\n",
    "* [Introduction](#intro)\n",
    "    * [Language models](#language_models)\n",
    "    * [Neural language models](#neural_lm)\n",
    "* [Task 1: Data preprocessing](#task_1)\n",
    "    * [Index dictionaries](#task_1_1)\n",
    "    * [Index data](#task_1_2)\n",
    "    * [Prepare features and labels](#task_1_3)\n",
    "    * [Preprocess data](#task_1_4)\n",
    "* [Task 2: FFNN language model](#task_2)\n",
    "    * [Create the FFNN model](#task_2_1)\n",
    "    * [Generate text](#task_2_2)\n",
    "* [Task 3: RNN language model](#task_3)\n",
    "    * [Create the RNN model](#task_3_1)\n",
    "    * [Generate text](#task_3_2)\n",
    "* [Task 4: Output analysis](#task_4)\n",
    "    * [Compare the models](#task_4_1)"
   ]
  },
  {
   "cell_type": "markdown",
   "metadata": {
    "deletable": false,
    "editable": false,
    "nbgrader": {
     "cell_type": "markdown",
     "checksum": "ed2e5919d8322e5c1d6c6f0f59215201",
     "grade": false,
     "grade_id": "cell-4891ef30b009b405",
     "locked": true,
     "schema_version": 3,
     "solution": false,
     "task": false
    }
   },
   "source": [
    "## Introduction <a class=\"anchor\" id=\"intro\"></a>\n",
    "## Language models <a class=\"anchor\" id=\"language_models\"></a>\n",
    "From the n-grams exercise, you are already familiar with what language models are. As a recap, the goal of the language model is to predict the next word that is going to appear, based on the previous words that appeared.\n",
    "$P(w_i| w_{i−1} . . . w_0)$.\n",
    "\n",
    "## Neural language models <a class=\"anchor\" id=\"neural_lm\"></a>\n",
    "The n-gram language models have some shortcomings. They generally can't capture long-span dependencies. Additionally, they are dependant on the word order. These limitations are mitigated by the neural network language models.\n",
    "\n",
    "The neural network language models use word embeddings, instead of the words themselves. The word embeddings are a distributed representation of the words and they have a nice property that similar words are close in the vector space. This solves the word order dependency problem that the n-gram language models have.\n",
    "\n",
    "The recurrent neural networks (RNN) process the input sequentially, where each next prediction is influenced by the history. This allows them to capture long-term dependencies between the words."
   ]
  },
  {
   "cell_type": "markdown",
   "metadata": {
    "deletable": false,
    "editable": false,
    "nbgrader": {
     "cell_type": "markdown",
     "checksum": "f5acda9481b601d8386d017168df5c94",
     "grade": false,
     "grade_id": "cell-dc9406d5e7b087e7",
     "locked": true,
     "schema_version": 3,
     "solution": false,
     "task": false
    }
   },
   "source": [
    "## TASK 1: Data preprocessing <a class=\"anchor\" id=\"task_1\"></a>"
   ]
  },
  {
   "cell_type": "markdown",
   "metadata": {
    "deletable": false,
    "editable": false,
    "nbgrader": {
     "cell_type": "markdown",
     "checksum": "9b1b735d730b457ea5ac36773211d3ef",
     "grade": false,
     "grade_id": "cell-1122e41040dee431",
     "locked": true,
     "schema_version": 3,
     "solution": false,
     "task": false
    }
   },
   "source": [
    "### Importing the dependencies\n",
    "\n",
    "The first thing that we need to do is to import the necessary dependencies. To create the neural language models, we are going to use the [Pytorch](https://pytorch.org/) deep learning framework. "
   ]
  },
  {
   "cell_type": "code",
   "execution_count": 2,
   "metadata": {
    "deletable": false,
    "editable": false,
    "nbgrader": {
     "cell_type": "code",
     "checksum": "95bbcc0d40f3c65684d3beaab7740c7f",
     "grade": false,
     "grade_id": "cell-8e5f47d16bada134",
     "locked": true,
     "schema_version": 3,
     "solution": false,
     "task": false
    }
   },
   "outputs": [
    {
     "data": {
      "text/plain": [
       "<torch._C.Generator at 0x7fb75481d4d0>"
      ]
     },
     "execution_count": 2,
     "metadata": {},
     "output_type": "execute_result"
    }
   ],
   "source": [
    "# loading pytorch\n",
    "import torch\n",
    "import torch.nn as nn # the neural network package that contains functions for creating the neural network layers\n",
    "import torch.nn.functional as F\n",
    "import torch.optim as optim # a package that allows use to use an optimizer in order to update the parameters during training\n",
    "from torch.utils.data import DataLoader # allows use to process the data in batches\n",
    "from torch.nn.utils.rnn import pad_sequence # a function that zero-pads the sentences so they can have equal size in a batch\n",
    "import warnings\n",
    "warnings.simplefilter(\"ignore\")\n",
    "torch.manual_seed(0) # set a random seed for reproducibility"
   ]
  },
  {
   "cell_type": "markdown",
   "metadata": {
    "deletable": false,
    "editable": false,
    "nbgrader": {
     "cell_type": "markdown",
     "checksum": "27c1acab14046fe460dbba91609206b7",
     "grade": false,
     "grade_id": "cell-66ce509efb99899c",
     "locked": true,
     "schema_version": 3,
     "solution": false,
     "task": false
    }
   },
   "source": [
    "### Load the data\n",
    "\n",
    "In this assignment, as data, we are going to use the \"Pride and Prejudice\", same as in the n-grams assignment. The data can be obtained from [here](https://www.gutenberg.org/ebooks/1342).\n",
    "\n",
    "The cell below loads the data."
   ]
  },
  {
   "cell_type": "code",
   "execution_count": 3,
   "metadata": {
    "deletable": false,
    "editable": false,
    "nbgrader": {
     "cell_type": "code",
     "checksum": "361ddcbfce8238e8420d912b2f3cfb5a",
     "grade": false,
     "grade_id": "cell-89129c05a6f5df8f",
     "locked": true,
     "schema_version": 3,
     "solution": false,
     "task": false
    }
   },
   "outputs": [],
   "source": [
    "with open('janeausten.txt', 'r') as f:\n",
    "    data = f.readlines()"
   ]
  },
  {
   "cell_type": "markdown",
   "metadata": {
    "deletable": false,
    "editable": false,
    "nbgrader": {
     "cell_type": "markdown",
     "checksum": "73a507f05244b7a4ff607d979451eb4c",
     "grade": false,
     "grade_id": "cell-ec253c695def93dc",
     "locked": true,
     "schema_version": 3,
     "solution": false,
     "task": false
    }
   },
   "source": [
    "###  Sentence boundaries\n",
    "\n",
    "When dealing with language, it is good to know when a sentence starts and when it ends. That will help the model at the beginning of the prediction, when we don't have any previous words as context. For that purpose, we are going to pad each sentence with a start-of-sentence symbol _\"&lt;s>\"_ and an end-of-sentence symbol _\"&lt;/s>\"_. \n",
    "\n",
    "Since you already did a similar thing in the n-grams exercise, this function is already implemented for you."
   ]
  },
  {
   "cell_type": "code",
   "execution_count": 4,
   "metadata": {
    "deletable": false,
    "editable": false,
    "nbgrader": {
     "cell_type": "code",
     "checksum": "d7c0e966f3e8ed94f1b99e29ed1b22f6",
     "grade": false,
     "grade_id": "cell-8dc8b3d84c549228",
     "locked": true,
     "schema_version": 3,
     "solution": false,
     "task": false
    }
   },
   "outputs": [],
   "source": [
    "def add_sentence_boundaries(data):\n",
    "    \"\"\"\n",
    "    Takes the data, where each line is a sentence, appends <s> token at the beginning and </s> at the end of each sentence\n",
    "    Example input: I live in Helsinki\n",
    "    Example output: <s> I live in Helsinki </s>\n",
    "    \n",
    "    Arguments\n",
    "    ---------\n",
    "    data : list\n",
    "            a list of sentences\n",
    "    \n",
    "    Returns\n",
    "    -------\n",
    "    res : list\n",
    "            a list of sentences, where each sentence has <s> at the beginning and </s> at the end\n",
    "    \"\"\"\n",
    "    res = []\n",
    "    for sent in data:\n",
    "        sent = '<s> ' + sent.rstrip() + ' </s>'\n",
    "        res.append(sent)\n",
    "    \n",
    "    return res"
   ]
  },
  {
   "cell_type": "markdown",
   "metadata": {
    "deletable": false,
    "editable": false,
    "nbgrader": {
     "cell_type": "markdown",
     "checksum": "9f0fae9e88233c4d48ec5b0c1e993d19",
     "grade": false,
     "grade_id": "cell-8bd9afc6b3df34ce",
     "locked": true,
     "schema_version": 3,
     "solution": false,
     "task": false
    }
   },
   "source": [
    "### 1.1  Index dictionaries <a class=\"anchor\" id=\"task_1_1\"></a> (1 Point)\n",
    "Neural networks can't process words as raw strings. Due to that, we need to represent the words with numbers. The first step in doing that is creating two dictionaries: word2idx and idx2word.\n",
    "\n",
    "The word2idx dictionary contains unique words as keys and unique indices for each of the words as values. <br>\n",
    "The idx2word dictionary contains unique indices as keys and unique words for each of those indices as values. It is essentially a reversed word2dx, where the keys are the values and the values are the keys.\n",
    "\n",
    "Example sentences: [\"I look forward\", \"You look forward\"] <br>\n",
    "word2idx = {\"I\": 1, \"look\": 2, \"forward\": 3, \"You\": 4} <br>\n",
    "idx2word = {1: \"I\", 2: \"look\", 3: \"forward\", 4: \"You\"} <br>\n",
    "\n",
    "Write a function that creates two dictionaries: word2idx and idx2work. The dictionaries should contain all the unique words in the data. <b>The indices should start from 1 and not from 0</b>\n",
    "    \n",
    "<b>Additionally, the first index should correspond to the first word in the `data` variable, second word to the second, etc.</b>\n",
    "\n",
    "We need the indices in a specific order because the pre-trained models are trained with indices in that particular order."
   ]
  },
  {
   "cell_type": "code",
   "execution_count": 9,
   "metadata": {
    "deletable": false,
    "nbgrader": {
     "cell_type": "code",
     "checksum": "1ae92f327b03e74833eefe5d6159a722",
     "grade": false,
     "grade_id": "cell-29eb8484bba4f325",
     "locked": false,
     "schema_version": 3,
     "solution": true,
     "task": false
    }
   },
   "outputs": [],
   "source": [
    "def create_indices(data):\n",
    "        \"\"\"\n",
    "        This function creates two dictionaries: word2idx and idx2word, containing each unique word in the dataset\n",
    "        and its corresponding index.\n",
    "        Remember that the starting index should be 1 and not 0\n",
    "        Remember that the first word in 'data' should coeerespond to the first index\n",
    "        \n",
    "        Arguments\n",
    "        ---------\n",
    "        data - list\n",
    "                a list of sentences, where each sentence starts with <s>\n",
    "                and ends with </s> token\n",
    "        \n",
    "        Returns\n",
    "        -------\n",
    "        word2idx - dictionary\n",
    "                        a dictionary, where the keys are the words and the values are the indices\n",
    "                        \n",
    "        idx2word - dictionary\n",
    "                        a dictionary, where the keys are the indices and the values are the words\n",
    "        \"\"\"\n",
    "        \n",
    "        # YOUR CODE HERE\n",
    "        current_index = 1\n",
    "        word2idx = {}\n",
    "        idx2word = {}\n",
    "        for sentence in data: \n",
    "                for word in sentence.split(\" \"): \n",
    "                        if word not in word2idx: \n",
    "                                word2idx[word] = current_index\n",
    "                                idx2word[current_index] = word\n",
    "                                current_index += 1\n",
    "        \n",
    "        return word2idx, idx2word"
   ]
  },
  {
   "cell_type": "code",
   "execution_count": 10,
   "metadata": {
    "deletable": false,
    "editable": false,
    "nbgrader": {
     "cell_type": "code",
     "checksum": "f5ad853e20476faec8bc72962375c4bf",
     "grade": true,
     "grade_id": "cell-b97715fd686184a6",
     "locked": true,
     "points": 1,
     "schema_version": 3,
     "solution": false,
     "task": false
    }
   },
   "outputs": [
    {
     "name": "stdout",
     "output_type": "stream",
     "text": [
      "{'<s>': 1, 'a': 2, 'girl': 3, 'likes': 4, 'eating': 5, 'by': 6, 'herself': 7, '</s>': 8, 'the': 9, 'cat': 10, 'fish': 11}\n",
      "##########\n",
      "{1: '<s>', 2: 'a', 3: 'girl', 4: 'likes', 5: 'eating', 6: 'by', 7: 'herself', 8: '</s>', 9: 'the', 10: 'cat', 11: 'fish'}\n"
     ]
    }
   ],
   "source": [
    "from nose.tools import assert_equal\n",
    "\n",
    "dummy_data = ['<s> a girl likes eating by herself', '</s> the cat likes eating fish']\n",
    "word2idx_dummy, idx2word_dummy = create_indices(dummy_data)\n",
    "\n",
    "# check if the results returned are dictionaries\n",
    "assert_equal(type(word2idx_dummy), dict)\n",
    "assert_equal(type(idx2word_dummy), dict)\n",
    "\n",
    "# check if word2idx and idx2word are the same length\n",
    "assert_equal(len(word2idx_dummy), len(idx2word_dummy))\n",
    "\n",
    "# check if all the unique words in the data set have indices\n",
    "combined_dummy_data = dummy_data[0] + ' ' + dummy_data[1]\n",
    "combined_dummy_data = combined_dummy_data.split()\n",
    "assert_equal(len(set(combined_dummy_data)), len(idx2word_dummy))\n",
    "\n",
    "# check if values are integers in word2idx\n",
    "assert_equal(type(word2idx_dummy['girl']), int)\n",
    "assert_equal(type(word2idx_dummy['fish']), int)\n",
    "assert_equal(type(word2idx_dummy['<s>']), int)\n",
    "\n",
    "# check if values are strings in idx2word\n",
    "assert_equal(type(idx2word_dummy[1]), str)\n",
    "assert_equal(type(idx2word_dummy[2]), str)\n",
    "assert_equal(type(idx2word_dummy[3]), str)\n",
    "\n",
    "# check if word2idx and idx2word have the same values\n",
    "dummy_idx = word2idx_dummy['<s>']\n",
    "dummy_word = idx2word_dummy[dummy_idx]\n",
    "assert_equal(word2idx_dummy[dummy_word], dummy_idx)\n",
    "assert_equal(idx2word_dummy[dummy_idx], dummy_word)\n",
    "\n",
    "# check if the first value in idx2word is 1\n",
    "assert_equal(list(idx2word_dummy.keys())[0], 1)\n",
    "\n",
    "# check if the first word in the dataset corresponds to the first index, second word to the second index, etc\n",
    "assert_equal(word2idx_dummy['<s>'], 1)\n",
    "assert_equal(word2idx_dummy['a'], 2)\n",
    "\n"
   ]
  },
  {
   "cell_type": "markdown",
   "metadata": {
    "deletable": false,
    "editable": false,
    "nbgrader": {
     "cell_type": "markdown",
     "checksum": "f9666c598ce5f82301664682ef22c1b7",
     "grade": false,
     "grade_id": "cell-10d3120044cbf2a9",
     "locked": true,
     "schema_version": 3,
     "solution": false,
     "task": false
    }
   },
   "source": [
    "### 1.2  Index data <a class=\"anchor\" id=\"task_1_2\"></a> (1 Point)\n",
    "After we have created the word2idx and idx2word dictionaries, it is time to index the data. In other words, we need to replace each word in the data with its corresponding index.\n",
    "\n",
    "Write a function that reads each sentence from the data and replaces each word in the sentence with its index from the word2idx dictionary."
   ]
  },
  {
   "cell_type": "code",
   "execution_count": 27,
   "metadata": {
    "deletable": false,
    "nbgrader": {
     "cell_type": "code",
     "checksum": "3eeec6eccd55854d96457df39686fa76",
     "grade": false,
     "grade_id": "cell-bcd6e6181f13b4ee",
     "locked": false,
     "schema_version": 3,
     "solution": true,
     "task": false
    }
   },
   "outputs": [],
   "source": [
    "def index_data(data, word2idx):\n",
    "    \"\"\"\n",
    "    This function replaces each word in the data with its corresponding index\n",
    "    \n",
    "    Arguments\n",
    "    ---------\n",
    "    data - list\n",
    "            a list of sentences, where each sentence starts with <s>\n",
    "            and ends with </s> token\n",
    "    \n",
    "    word2idx - dict\n",
    "            a dictionary where the keys are the unique words in the data\n",
    "            and the values are the unique indices corresponding to the words\n",
    "    \n",
    "    Returns\n",
    "    -------\n",
    "    data_indexed - list\n",
    "                a list of sentences, where each word in the sentence is replaced with its index\n",
    "    \"\"\"\n",
    "    \n",
    "    data_indexed = []\n",
    "    \n",
    "    # YOUR CODE HERE\n",
    "    for sentence in data: \n",
    "        aux = sentence.split(\" \")\n",
    "        tempresp = []\n",
    "        for elem in aux: \n",
    "            tempresp.append(word2idx[elem])\n",
    "            \n",
    "        data_indexed.append(tempresp)\n",
    "\n",
    "    return data_indexed"
   ]
  },
  {
   "cell_type": "code",
   "execution_count": 28,
   "metadata": {
    "deletable": false,
    "editable": false,
    "nbgrader": {
     "cell_type": "code",
     "checksum": "960934e6efe1cbe0d2c126130060b3d1",
     "grade": true,
     "grade_id": "cell-61e868b4dbda9787",
     "locked": true,
     "points": 1,
     "schema_version": 3,
     "solution": false,
     "task": false
    }
   },
   "outputs": [],
   "source": [
    "from nose.tools import assert_equal\n",
    "\n",
    "dummy_data = ['<s> a girl is here </s>', '<s> a boy is there </s>']\n",
    "dummy_word2idx = {'<s>': 1, 'a': 2, 'girl': 3, 'is': 4, 'here': 5, '</s>': 6, 'boy': 7, 'there': 8}\n",
    "dummy_indexed_data = index_data(dummy_data, dummy_word2idx)\n",
    "\n",
    "# check that the returned result is a list\n",
    "assert_equal(type(dummy_indexed_data), list)\n",
    "\n",
    "# check that the length of the results is the same as the length of the data\n",
    "assert_equal(len(dummy_data), len(dummy_indexed_data))\n",
    "\n",
    "# check that the function does what it is supposed to do\n",
    "assert_equal(dummy_indexed_data[0], [1, 2, 3, 4, 5, 6])\n",
    "assert_equal(dummy_indexed_data[1], [1, 2, 7, 4, 8, 6])\n",
    "\n"
   ]
  },
  {
   "cell_type": "markdown",
   "metadata": {
    "deletable": false,
    "editable": false,
    "nbgrader": {
     "cell_type": "markdown",
     "checksum": "7db069593c019785d1f4c86f0460b5b5",
     "grade": false,
     "grade_id": "cell-e9cef6f6c95f9ab1",
     "locked": true,
     "schema_version": 3,
     "solution": false,
     "task": false
    }
   },
   "source": [
    "### Convert sentences to tensors\n",
    "\n",
    "This function converts each indexed sentence to a LongTensor data type. This is required in order to process it later using Pytorch.\n",
    "\n",
    "You don't have to modify this function. It is already implemented for you."
   ]
  },
  {
   "cell_type": "code",
   "execution_count": 29,
   "metadata": {
    "deletable": false,
    "editable": false,
    "nbgrader": {
     "cell_type": "code",
     "checksum": "4285322821031ec9d36190a0ddcd739f",
     "grade": false,
     "grade_id": "cell-e1b1dc71c6baec5d",
     "locked": true,
     "schema_version": 3,
     "solution": false,
     "task": false
    }
   },
   "outputs": [],
   "source": [
    "def convert_to_tensor(data_indexed):\n",
    "    \"\"\"\n",
    "    This function converts the indexed sentences to LongTensors\n",
    "    \n",
    "    Arguments\n",
    "    ---------\n",
    "    data_indexed - list\n",
    "            a list of sentences, where each word in the sentence\n",
    "            is replaced by its index\n",
    "    \n",
    "    Returns\n",
    "    -------\n",
    "    tensor_array - list\n",
    "                a list of sentences, where each sentence\n",
    "                is a LongTensor\n",
    "    \"\"\"\n",
    "    \n",
    "    tensor_array = []\n",
    "    for sent in data_indexed:\n",
    "        tensor_array.append(torch.LongTensor(sent))    \n",
    "        \n",
    "    return tensor_array"
   ]
  },
  {
   "cell_type": "markdown",
   "metadata": {
    "deletable": false,
    "editable": false,
    "nbgrader": {
     "cell_type": "markdown",
     "checksum": "b7ba4727d8cd526d48f603680ca4088d",
     "grade": false,
     "grade_id": "cell-5e962e4653d12e29",
     "locked": true,
     "schema_version": 3,
     "solution": false,
     "task": false
    }
   },
   "source": [
    "### Combine features and labels in a tuple\n",
    "\n",
    "This function combines each indexed sentence and its corresponding labels to a tuple. This will be beneficial for us when we zero-pad the data later, in order to make the batches have equal-length samples.\n",
    "\n",
    "You don't have to modify this function. It is already implemented for you."
   ]
  },
  {
   "cell_type": "code",
   "execution_count": 30,
   "metadata": {
    "deletable": false,
    "editable": false,
    "nbgrader": {
     "cell_type": "code",
     "checksum": "4eda5a06e811e735148032533b6c740a",
     "grade": false,
     "grade_id": "cell-52d9900ae43cd3bc",
     "locked": true,
     "schema_version": 3,
     "solution": false,
     "task": false
    }
   },
   "outputs": [],
   "source": [
    "def combine_data(input_data, labels_data):\n",
    "    \"\"\"\n",
    "    This function converts the input features and the labels into tuples\n",
    "    where each tuple corresponds to one sentence in the format (features, labels)\n",
    "    \n",
    "    Arguments\n",
    "    ---------\n",
    "    input_data - list\n",
    "            a list of tensors containing the training features\n",
    "    \n",
    "    labels_data - list\n",
    "            a list of tensors containing the training labels\n",
    "    \n",
    "    Returns\n",
    "    -------\n",
    "    res - list\n",
    "            a list of tuples, where each tuple corresponds to one sentece pair\n",
    "            in the format (features, labels)\n",
    "    \"\"\"\n",
    "    \n",
    "    res = []\n",
    "    \n",
    "    for i in range(len(input_data)):\n",
    "        res.append((input_data[i], labels_data[i]))\n",
    "\n",
    "    return res"
   ]
  },
  {
   "cell_type": "markdown",
   "metadata": {
    "deletable": false,
    "editable": false,
    "nbgrader": {
     "cell_type": "markdown",
     "checksum": "6315af90e75144392a59629127d9e14b",
     "grade": false,
     "grade_id": "cell-ddb361d733a03a19",
     "locked": true,
     "schema_version": 3,
     "solution": false,
     "task": false
    }
   },
   "source": [
    "### Remove extra data\n",
    "\n",
    "Since we will be processing the data in equal batches during training, we need to make sure that each batch has equal number of sentences. In case the last batch contains less sentences than the batch size, that batch will be discarded.\n",
    "\n",
    "This function discards the extra data that doesn't fit in a batch.\n",
    "\n",
    "You don't have to modify this function. It is already implemented for you."
   ]
  },
  {
   "cell_type": "code",
   "execution_count": 31,
   "metadata": {
    "deletable": false,
    "editable": false,
    "nbgrader": {
     "cell_type": "code",
     "checksum": "f978891c2828fc680f48f186d33b51f3",
     "grade": false,
     "grade_id": "cell-a6d729f55cdbbffb",
     "locked": true,
     "schema_version": 3,
     "solution": false,
     "task": false
    }
   },
   "outputs": [],
   "source": [
    "def remove_extra(data, batch_size):\n",
    "    \"\"\"\n",
    "    This function removes the extra data that does not fit in a batch   \n",
    "    \n",
    "    Arguments\n",
    "    ---------\n",
    "    data - list\n",
    "            a list of tuples, where each tuple corresponds to a\n",
    "            sentence in a format (features, labels)\n",
    "            \n",
    "    batch_size - integer\n",
    "                    the size of the batch\n",
    "    \n",
    "    \n",
    "    Returns\n",
    "    -------\n",
    "    data - list\n",
    "            a list of tuples, where each tuple corresponds to a\n",
    "            sentence in a format (features, labels)\n",
    "    \"\"\"\n",
    "    \n",
    "    extra = len(data) % batch_size\n",
    "    if extra != 0:\n",
    "        data = data[:-extra][:]\n",
    "\n",
    "    return data"
   ]
  },
  {
   "cell_type": "markdown",
   "metadata": {
    "deletable": false,
    "editable": false,
    "nbgrader": {
     "cell_type": "markdown",
     "checksum": "51d6ed0fed32982965a755de14ba3bdc",
     "grade": false,
     "grade_id": "cell-e6b666a51f6a84fe",
     "locked": true,
     "schema_version": 3,
     "solution": false,
     "task": false
    }
   },
   "source": [
    "### Zero-pad the data\n",
    "\n",
    "In order to process the data in batches, we need to make sure that the sentences in each batch have equal lengths. Since we are working with sentences, each sentence in a batch can have different number of words. In this case, we need to  make the length of each sentence the same as the length of the longest sentence in that batch. We do that by adding zeros at the end of each sentence, until the sentence has equal length as the longest one in the batch.\n",
    "\n",
    "This function implements the zero-padding.\n",
    "\n",
    "You don't have to modify this function. It is already implemented for you."
   ]
  },
  {
   "cell_type": "code",
   "execution_count": 32,
   "metadata": {
    "deletable": false,
    "editable": false,
    "nbgrader": {
     "cell_type": "code",
     "checksum": "b2808c5a200ce80f3cfb0246ed390d56",
     "grade": false,
     "grade_id": "cell-e5f21077b5ea9e3e",
     "locked": true,
     "schema_version": 3,
     "solution": false,
     "task": false
    }
   },
   "outputs": [],
   "source": [
    "def collate(list_of_samples):\n",
    "    \"\"\"\n",
    "    This function zero-pads the training data in order to process the sentences\n",
    "    in a batch during training\n",
    "    \n",
    "    Arguments\n",
    "    ---------\n",
    "    list_of_samples - list\n",
    "                        a list of tuples, where each tuple corresponds to a\n",
    "                        sentence in a format (features, labels)\n",
    "    \n",
    "    \n",
    "    Returns\n",
    "    -------\n",
    "    pad_input_data - tensor\n",
    "                        a tensor of input features equal to the batch size,\n",
    "                        where features are zero-padded to have equal lengths\n",
    "                        \n",
    "    input_data_lengths - list\n",
    "                        a list where each element is the length of the \n",
    "                        corresponding sentence\n",
    "    \n",
    "    pad_labels_data - tensor\n",
    "                        a tensor of labels equal to the batch size,\n",
    "                        where labels are zero-padded to have equal lengths\n",
    "            \n",
    "    \"\"\"\n",
    "    \n",
    "    \n",
    "    list_of_samples.sort(key=lambda x: len(x[0]), reverse=True)\n",
    "    input_data, labels_data = zip(*list_of_samples)\n",
    "\n",
    "    input_data_lengths = [len(seq) for seq in input_data]\n",
    "    \n",
    "    padding_value = 0\n",
    "\n",
    "    # pad input\n",
    "    pad_input_data = pad_sequence(input_data, padding_value=padding_value)\n",
    "    \n",
    "    # pad labels\n",
    "    pad_labels_data = pad_sequence(labels_data, padding_value=padding_value)\n",
    "\n",
    "    return pad_input_data, input_data_lengths, pad_labels_data"
   ]
  },
  {
   "cell_type": "markdown",
   "metadata": {
    "deletable": false,
    "editable": false,
    "nbgrader": {
     "cell_type": "markdown",
     "checksum": "f1a57689ab475c45103897bf3a6ce1f1",
     "grade": false,
     "grade_id": "cell-1a9a59d43a7d0704",
     "locked": true,
     "schema_version": 3,
     "solution": false,
     "task": false
    }
   },
   "source": [
    "### 1.3 Prepare features and labels <a class=\"anchor\" id=\"task_1_3\"></a> (1 Point)\n",
    "During training, the model takes an input word and outputs a prediction. We will need to compare this prediction to 'true label'. True label is just the next word in the text, but we will need to organize the data, so that every word in the text is considered as this 'true label'.\n",
    "\n",
    "In the label sentence, every word is moved a step in time, and for the input sentence the last word is missing. \n",
    "\n",
    "Example sentence: oops i did it again <br>\n",
    "INPUT: oops i did it <br>\n",
    "LABEL: i did it again\n",
    "\n",
    "Note: the first word in the sentence is start-of-sentence symbol and the last one is end-of-sentence symbol.\n",
    "\n",
    "Write a function that takes as input the indexed data and returns two arrays: the input array where the last word from each sentence is missing, and the label array, where every word is moved a step in time."
   ]
  },
  {
   "cell_type": "code",
   "execution_count": 33,
   "metadata": {
    "deletable": false,
    "nbgrader": {
     "cell_type": "code",
     "checksum": "c2ed84a322abc664c52dca43409a2c08",
     "grade": false,
     "grade_id": "cell-04fd2b4bad041241",
     "locked": false,
     "schema_version": 3,
     "solution": true,
     "task": false
    }
   },
   "outputs": [],
   "source": [
    "def prepare_for_training(data_indexed):\n",
    "        \"\"\"\n",
    "        This function creates the input features and their corresponding labels\n",
    "        \n",
    "        Arguments\n",
    "        ---------\n",
    "        data_indexed - list\n",
    "                a list of sentences, where each word in the sentence\n",
    "                is replaced by its index\n",
    "        \n",
    "        \n",
    "        Returns\n",
    "        -------\n",
    "        input_data - list\n",
    "                a list of indexed sentences, where the last element of each sentence is removed\n",
    "                \n",
    "        labels_data - list\n",
    "                a list of indexed sentences, where the first element of each sentence is removed\n",
    "        \"\"\"\n",
    "        \n",
    "        input_data = []\n",
    "        labels_data = []\n",
    "\n",
    "        # YOUR CODE HERE\n",
    "        \n",
    "        for sentence in data_indexed: \n",
    "                input_data.append(sentence[:-1])\n",
    "                labels_data.append(sentence[1:])\n",
    "\n",
    "        return input_data, labels_data"
   ]
  },
  {
   "cell_type": "code",
   "execution_count": 34,
   "metadata": {
    "deletable": false,
    "editable": false,
    "nbgrader": {
     "cell_type": "code",
     "checksum": "55e9468b6e82c273ae9649be58faaaa7",
     "grade": true,
     "grade_id": "cell-f5065279195ee97f",
     "locked": true,
     "points": 1,
     "schema_version": 3,
     "solution": false,
     "task": false
    }
   },
   "outputs": [],
   "source": [
    "from nose.tools import assert_equal\n",
    "\n",
    "dummy_data = [[1, 2, 3, 4, 5, 6], [4, 6, 2, 6, 7]]\n",
    "dummy_train_input, dummy_train_labels = prepare_for_training(dummy_data)\n",
    "\n",
    "# check that the returned results are lists\n",
    "assert_equal(type(dummy_train_input), list)\n",
    "assert_equal(type(dummy_train_labels), list)\n",
    "\n",
    "# check that the length of the input and the labels match\n",
    "assert_equal(len(dummy_train_input), len(dummy_train_labels))\n",
    "assert_equal(len(dummy_train_input[0]), len(dummy_train_labels[0]))\n",
    "assert_equal(len(dummy_train_input[1]), len(dummy_train_labels[1]))\n",
    "\n",
    "# check that the function works as it should\n",
    "assert_equal(dummy_train_input[0], [1, 2, 3, 4, 5])\n",
    "assert_equal(dummy_train_input[1], [4, 6, 2, 6])\n",
    "\n",
    "assert_equal(dummy_train_labels[0], [2, 3, 4, 5, 6])\n",
    "assert_equal(dummy_train_labels[1], [6, 2, 6, 7])\n",
    "\n"
   ]
  },
  {
   "cell_type": "markdown",
   "metadata": {
    "deletable": false,
    "editable": false,
    "nbgrader": {
     "cell_type": "markdown",
     "checksum": "af404661b0991e6e0c0f0cbf64213a52",
     "grade": false,
     "grade_id": "cell-bdd4fc1b5167b75c",
     "locked": true,
     "schema_version": 3,
     "solution": false,
     "task": false
    }
   },
   "source": [
    "### 1.4 Preprocess data <a class=\"anchor\" id=\"task_1_4\"></a> (1 Point)\n",
    "At this point, we have all the necessary functions to prepare the data for training. What is left to do is to run them one by one and get the data in the desired format.\n",
    "\n",
    "Write a function that takes the data and prepares it for training. You need to do the following steps:\n",
    "\n",
    "    1. Add sentence boundaries\n",
    "    2. Create index dictionaries (word2idx and idx2word)\n",
    "    3. Index the data in a way that each word is replaced by its index\n",
    "    4. Convert the indexed data to a list of tensors, where each tensor is a sentence\n",
    "    5. Split each sentence to input and labels"
   ]
  },
  {
   "cell_type": "code",
   "execution_count": 37,
   "metadata": {
    "deletable": false,
    "nbgrader": {
     "cell_type": "code",
     "checksum": "fae403026e8848f39a37c9c9f148bd49",
     "grade": false,
     "grade_id": "cell-605424fd32ecf277",
     "locked": false,
     "schema_version": 3,
     "solution": true,
     "task": false
    }
   },
   "outputs": [],
   "source": [
    "def preprocess_data(data):\n",
    "        \"\"\"\n",
    "        This function runs the whole preprocessing pipeline and returns the prepared\n",
    "        input features and labels, along with the word2idx and idx2word dictionaries\n",
    "        \n",
    "        Arguments\n",
    "        ---------\n",
    "        data - list\n",
    "                a list of sentences that need to be prepared for training\n",
    "        \n",
    "        \n",
    "        Returns\n",
    "        -------\n",
    "        input_data - list\n",
    "                a list of tensors, where each tensor is an indexed sentence used as input feature\n",
    "                \n",
    "        labels_data - list\n",
    "                a list of tensors, where each tensor is an indexed sentence used as a true label\n",
    "        \n",
    "        word2idx - dictionary\n",
    "                        a dictionary, where the keys are the words and the values are the indices\n",
    "                        \n",
    "        idx2word - dictionary\n",
    "                        a dictionary, where the keys are the indices and the values are the words\n",
    "        \"\"\"\n",
    "        \n",
    "        # YOUR CODE HERE\n",
    "        data = add_sentence_boundaries(data)\n",
    "        word2idx, idx2word = create_indices(data)\n",
    "        data_indexed = index_data(data, word2idx)\n",
    "        input_data, labels_data = prepare_for_training(data_indexed)\n",
    "    \n",
    "        return input_data, labels_data, word2idx, idx2word"
   ]
  },
  {
   "cell_type": "code",
   "execution_count": 38,
   "metadata": {
    "deletable": false,
    "editable": false,
    "nbgrader": {
     "cell_type": "code",
     "checksum": "b7271bed1a9e83e10f6f5131d189de1a",
     "grade": true,
     "grade_id": "cell-978955c72672b86a",
     "locked": true,
     "points": 1,
     "schema_version": 3,
     "solution": false,
     "task": false
    }
   },
   "outputs": [
    {
     "name": "stdout",
     "output_type": "stream",
     "text": [
      "{'<s>': 1, 'a': 2, 'girl': 3, 'likes': 4, 'eating': 5, 'by': 6, 'herself': 7, '</s>': 8, 'the': 9, 'cat': 10, 'fish': 11}\n",
      "##########\n",
      "{1: '<s>', 2: 'a', 3: 'girl', 4: 'likes', 5: 'eating', 6: 'by', 7: 'herself', 8: '</s>', 9: 'the', 10: 'cat', 11: 'fish'}\n"
     ]
    }
   ],
   "source": [
    "from nose.tools import assert_equal\n",
    "\n",
    "dummy_data = ['a girl likes eating by herself', 'the cat likes eating fish']\n",
    "dummy_input, dummy_labels, dummy_word2idx, dummy_idx2word = preprocess_data(dummy_data)\n",
    "\n",
    "# check that the returned results are lists\n",
    "assert_equal(type(dummy_input), list)\n",
    "assert_equal(type(dummy_labels), list)\n",
    "\n",
    "# check that the returned results have the same lengths\n",
    "assert_equal(len(dummy_input), len(dummy_labels))\n",
    "\n",
    "# check that the sizes of the indexed sentences are correct\n",
    "assert_equal(len(dummy_input[0]), len(dummy_data[0].split()) + 1)\n",
    "assert_equal(len(dummy_input[1]), len(dummy_data[1].split()) + 1)\n",
    "\n",
    "assert_equal(len(dummy_labels[0]), len(dummy_data[0].split()) + 1)\n",
    "assert_equal(len(dummy_labels[1]), len(dummy_data[1].split()) + 1)\n",
    "\n",
    "# check that the input features and labels are correct\n",
    "assert_equal(dummy_input[0][1], dummy_labels[0][0])\n",
    "assert_equal(dummy_input[0][2], dummy_labels[0][1])\n",
    "assert_equal(dummy_input[0][3], dummy_labels[0][2])\n",
    "assert_equal(dummy_input[0][4], dummy_labels[0][3])\n",
    "assert_equal(dummy_input[0][5], dummy_labels[0][4])\n",
    "\n",
    "assert_equal(dummy_input[1][1], dummy_labels[1][0])\n",
    "assert_equal(dummy_input[1][2], dummy_labels[1][1])\n",
    "assert_equal(dummy_input[1][3], dummy_labels[1][2])\n",
    "assert_equal(dummy_input[1][4], dummy_labels[1][3])\n",
    "\n",
    "\n"
   ]
  },
  {
   "cell_type": "markdown",
   "metadata": {
    "deletable": false,
    "editable": false,
    "nbgrader": {
     "cell_type": "markdown",
     "checksum": "075954bc841aaae04edf5f392e13702b",
     "grade": false,
     "grade_id": "cell-8befe0e3d249e5fc",
     "locked": true,
     "schema_version": 3,
     "solution": false,
     "task": false
    }
   },
   "source": [
    "Next, we are going to call the preprocessing function and obtain the features and labels. After that, we will combine the features and labels in tuples using the `combine_data` function and then remove the extra data that does not fit in a batch using the `remove_extra` function. At the end, we are going to call the `DataLoader`, which prepares the data in batches."
   ]
  },
  {
   "cell_type": "code",
   "execution_count": 39,
   "metadata": {
    "deletable": false,
    "editable": false,
    "nbgrader": {
     "cell_type": "code",
     "checksum": "e504876e69cf430ba09d76f2525df33a",
     "grade": false,
     "grade_id": "cell-04e840e1825cbbf9",
     "locked": true,
     "schema_version": 3,
     "solution": false,
     "task": false
    }
   },
   "outputs": [
    {
     "name": "stdout",
     "output_type": "stream",
     "text": [
      "{'<s>': 1, 'it': 2, 'is': 3, 'a': 4, 'truth': 5, 'universally': 6, 'acknowledged': 7, ',': 8, 'that': 9, 'single': 10, 'man': 11, 'in': 12, 'possession': 13, 'of': 14, 'good': 15, 'fortune': 16, 'must': 17, 'be': 18, 'want': 19, 'wife': 20, '.': 21, '</s>': 22, 'however': 23, 'little': 24, 'known': 25, 'the': 26, 'feelings': 27, 'or': 28, 'views': 29, 'such': 30, 'may': 31, 'on': 32, 'his': 33, 'first': 34, 'entering': 35, 'neighbourhood': 36, 'this': 37, 'so': 38, 'well': 39, 'fixed': 40, 'minds': 41, 'surrounding': 42, 'families': 43, 'he': 44, 'considered': 45, 'rightful': 46, 'property': 47, 'some': 48, 'one': 49, 'other': 50, 'their': 51, 'daughters': 52, 'my': 53, 'dear': 54, 'mr': 55, 'bennet': 56, 'said': 57, 'lady': 58, 'to': 59, 'him': 60, 'day': 61, 'have': 62, 'you': 63, 'heard': 64, 'netherfield': 65, 'park': 66, 'let': 67, 'at': 68, 'last': 69, '?': 70, 'replied': 71, 'had': 72, 'not': 73, 'but': 74, 'returned': 75, 'she': 76, ';': 77, 'for': 78, 'mrs': 79, 'long': 80, 'has': 81, 'just': 82, 'been': 83, 'here': 84, 'and': 85, 'told': 86, 'me': 87, 'all': 88, 'about': 89, 'made': 90, 'no': 91, 'answer': 92, 'do': 93, 'know': 94, 'who': 95, 'taken': 96, 'cried': 97, 'impatiently': 98, 'tell': 99, 'i': 100, 'objection': 101, 'hearing': 102, 'was': 103, 'invitation': 104, 'enough': 105, 'why': 106, 'says': 107, 'by': 108, 'young': 109, 'large': 110, 'from': 111, 'north': 112, 'england': 113, 'came': 114, 'down': 115, 'monday': 116, 'chaise': 117, 'four': 118, 'see': 119, 'place': 120, 'much': 121, 'delighted': 122, 'with': 123, 'agreed': 124, 'morris': 125, 'immediately': 126, 'take': 127, 'before': 128, 'michaelmas': 129, 'servants': 130, 'are': 131, 'house': 132, 'end': 133, 'next': 134, 'week': 135, 'what': 136, 'name': 137, 'bingley': 138, 'married': 139, 'oh': 140, '!': 141, 'sure': 142, 'five': 143, 'thousand': 144, 'year': 145, 'fine': 146, 'thing': 147, 'our': 148, 'girls': 149, 'how': 150, 'can': 151, 'affect': 152, 'them': 153, 'tiresome': 154, 'am': 155, 'thinking': 156, 'marrying': 157, 'design': 158, 'settling': 159, 'nonsense': 160, 'talk': 161, 'very': 162, 'likely': 163, 'fall': 164, 'love': 165, 'therefore': 166, 'visit': 167, 'as': 168, 'soon': 169, 'comes': 170, 'occasion': 171, 'go': 172, 'send': 173, 'themselves': 174, 'which': 175, 'perhaps': 176, 'will': 177, 'still': 178, 'better': 179, 'handsome': 180, 'any': 181, 'like': 182, 'best': 183, 'party': 184, 'flatter': 185, 'certainly': 186, 'share': 187, 'beauty': 188, 'pretend': 189, 'anything': 190, 'extraordinary': 191, 'now': 192, 'when': 193, 'woman': 194, 'grown': 195, 'up': 196, 'ought': 197, 'give': 198, 'over': 199, 'her': 200, 'own': 201, 'cases': 202, 'often': 203, 'think': 204, 'indeed': 205, 'into': 206, 'more': 207, 'than': 208, 'engage': 209, 'assure': 210, 'consider': 211, 'your': 212, 'only': 213, 'an': 214, 'establishment': 215, 'would': 216, 'sir': 217, 'william': 218, 'lucas': 219, 'determined': 220, 'merely': 221, 'account': 222, 'general': 223, 'they': 224, 'newcomers': 225, 'impossible': 226, 'us': 227, 'if': 228, 'scrupulous': 229, 'surely': 230, 'dare': 231, 'say': 232, 'glad': 233, 'few': 234, 'lines': 235, 'hearty': 236, 'consent': 237, 'whichever': 238, 'chooses': 239, 'though': 240, 'throw': 241, 'word': 242, 'lizzy': 243, 'desire': 244, 'bit': 245, 'others': 246, 'half': 247, 'jane': 248, 'nor': 249, 'humoured': 250, 'lydia': 251, 'always': 252, 'giving': 253, 'preference': 254, 'none': 255, 'recommend': 256, 'silly': 257, 'ignorant': 258, 'something': 259, 'quickness': 260, 'sisters': 261, 'abuse': 262, 'children': 263, 'way': 264, 'delight': 265, 'vexing': 266, 'compassion': 267, 'poor': 268, 'nerves': 269, 'mistake': 270, 'high': 271, 'respect': 272, 'old': 273, 'friends': 274, 'mention': 275, 'consideration': 276, 'these': 277, 'twenty': 278, 'years': 279, 'least': 280, 'ah': 281, 'suffer': 282, 'hope': 283, 'get': 284, 'live': 285, 'many': 286, 'men': 287, 'come': 288, 'use': 289, 'should': 290, 'since': 291, 'depend': 292, 'upon': 293, 'there': 294, 'odd': 295, 'mixture': 296, 'quick': 297, 'parts': 298, 'sarcastic': 299, 'humour': 300, 'reserve': 301, 'caprice': 302, 'experience': 303, 'three': 304, 'insufficient': 305, 'make': 306, 'understand': 307, 'character': 308, 'mind': 309, 'less': 310, 'difficult': 311, 'develop': 312, 'mean': 313, 'understanding': 314, 'information': 315, 'uncertain': 316, 'temper': 317, 'discontented': 318, 'fancied': 319, 'herself': 320, 'nervous': 321, 'business': 322, 'life': 323, 'its': 324, 'solace': 325, 'visiting': 326, 'news': 327, 'among': 328, 'earliest': 329, 'those': 330, 'waited': 331, 'intended': 332, 'assuring': 333, 'till': 334, 'evening': 335, 'after': 336, 'paid': 337, 'knowledge': 338, 'then': 339, 'disclosed': 340, 'following': 341, 'manner': 342, 'observing': 343, 'second': 344, 'daughter': 345, 'employed': 346, 'trimming': 347, 'hat': 348, 'suddenly': 349, 'addressed': 350, 'we': 351, 'likes': 352, 'mother': 353, 'resentfully': 354, 'forget': 355, 'mamma': 356, 'elizabeth': 357, 'shall': 358, 'meet': 359, 'assemblies': 360, 'promised': 361, 'introduce': 362, 'believe': 363, 'two': 364, 'nieces': 365, 'selfish': 366, 'hypocritical': 367, 'opinion': 368, 'find': 369, 'serving': 370, 'deigned': 371, 'reply': 372, 'unable': 373, 'contain': 374, 'began': 375, 'scolding': 376, 'don': 377, \"'t\": 378, 'keep': 379, 'coughing': 380, 'kitty': 381, 'heaven': 382, \"'s\": 383, 'sake': 384, 'tear': 385, 'pieces': 386, 'discretion': 387, 'coughs': 388, 'father': 389, 'times': 390, 'ill': 391, 'cough': 392, 'amusement': 393, 'fretfully': 394, 'ball': 395, 'morrow': 396, 'fortnight': 397, 'aye': 398, 'does': 399, 'back': 400, 'advantage': 401, 'friend': 402, 'acquainted': 403, 'myself': 404, 'teasing': 405, 'honour': 406, 'circumspection': 407, 'acquaintance': 408, 'cannot': 409, 'really': 410, 'venture': 411, 'somebody': 412, 'else': 413, 'stand': 414, 'chance': 415, 'act': 416, 'kindness': 417, 'decline': 418, 'office': 419, 'stared': 420, 'meaning': 421, 'emphatic': 422, 'exclamation': 423, 'forms': 424, 'introduction': 425, 'stress': 426, 'laid': 427, 'quite': 428, 'agree': 429, 'mary': 430, 'deep': 431, 'reflection': 432, 'read': 433, 'great': 434, 'books': 435, 'extracts': 436, 'wished': 437, 'sensible': 438, 'knew': 439, 'while': 440, 'adjusting': 441, 'ideas': 442, 'continued': 443, 'return': 444, 'sick': 445, 'sorry': 446, 'hear': 447, 'did': 448, 'morning': 449, 'called': 450, 'unlucky': 451, 'actually': 452, 'escape': 453, 'astonishment': 454, 'ladies': 455, 'surpassing': 456, 'rest': 457, 'tumult': 458, 'joy': 459, 'declare': 460, 'expected': 461, 'persuade': 462, 'loved': 463, 'too': 464, 'neglect': 465, 'pleased': 466, 'joke': 467, 'gone': 468, 'never': 469, 'choose': 470, 'spoke': 471, 'left': 472, 'room': 473, 'fatigued': 474, 'raptures': 475, 'excellent': 476, 'door': 477, 'shut': 478, 'ever': 479, 'amends': 480, 'either': 481, 'matter': 482, 'time': 483, 'pleasant': 484, 'making': 485, 'new': 486, 'acquaintances': 487, 'every': 488, 'sakes': 489, 'youngest': 490, 'dance': 491, 'stoutly': 492, 'afraid': 493, \"'m\": 494, 'tallest': 495, 'spent': 496, 'conjecturing': 497, 'determining': 498, 'ask': 499, 'dinner': 500, 'assistance': 501, 'could': 502, 'subject': 503, 'sufficient': 504, 'draw': 505, 'husband': 506, 'satisfactory': 507, 'description': 508, 'attacked': 509, 'various': 510, 'ways': 511, 'barefaced': 512, 'questions': 513, 'ingenious': 514, 'suppositions': 515, 'distant': 516, 'surmises': 517, 'eluded': 518, 'skill': 519, 'were': 520, 'obliged': 521, 'accept': 522, 'hand': 523, 'intelligence': 524, 'neighbour': 525, 'report': 526, 'highly': 527, 'favourable': 528, 'wonderfully': 529, 'extremely': 530, 'agreeable': 531, 'crown': 532, 'whole': 533, 'meant': 534, 'assembly': 535, 'nothing': 536, 'delightful': 537, 'fond': 538, 'dancing': 539, 'certain': 540, 'step': 541, 'towards': 542, 'falling': 543, 'lively': 544, 'hopes': 545, 'heart': 546, 'entertained': 547, 'happily': 548, 'settled': 549, 'equally': 550, 'wish': 551, 'days': 552, 'sat': 553, 'ten': 554, 'minutes': 555, 'library': 556, 'being': 557, 'admitted': 558, 'sight': 559, 'whose': 560, 'saw': 561, 'somewhat': 562, 'fortunate': 563, 'ascertaining': 564, 'upper': 565, 'window': 566, 'wore': 567, 'blue': 568, 'coat': 569, 'rode': 570, 'black': 571, 'horse': 572, 'afterwards': 573, 'dispatched': 574, 'already': 575, 'planned': 576, 'courses': 577, 'credit': 578, 'housekeeping': 579, 'arrived': 580, 'deferred': 581, 'town': 582, 'consequently': 583, 'etc': 584, 'disconcerted': 585, 'imagine': 586, 'arrival': 587, 'hertfordshire': 588, 'fear': 589, 'might': 590, 'flying': 591, 'another': 592, 'quieted': 593, 'fears': 594, 'starting': 595, 'idea': 596, 'london': 597, 'followed': 598, 'bring': 599, 'twelve': 600, 'seven': 601, 'gentlemen': 602, 'grieved': 603, 'number': 604, 'comforted': 605, 'instead': 606, 'brought': 607, 'six': 608, 'cousin': 609, 'entered': 610, 'consisted': 611, 'altogether': 612, 'eldest': 613, 'looking': 614, 'gentlemanlike': 615, 'countenance': 616, 'easy': 617, 'unaffected': 618, 'manners': 619, 'women': 620, 'air': 621, 'decided': 622, 'fashion': 623, 'brother': 624, 'law': 625, 'hurst': 626, 'looked': 627, 'gentleman': 628, 'darcy': 629, 'drew': 630, 'attention': 631, 'tall': 632, 'person': 633, 'features': 634, 'noble': 635, 'mien': 636, 'circulation': 637, 'within': 638, 'entrance': 639, 'having': 640, 'pronounced': 641, 'figure': 642, 'declared': 643, 'handsomer': 644, 'admiration': 645, 'gave': 646, 'disgust': 647, 'turned': 648, 'tide': 649, 'popularity': 650, 'discovered': 651, 'proud': 652, 'above': 653, 'company': 654, 'estate': 655, 'derbyshire': 656, 'save': 657, 'most': 658, 'forbidding': 659, 'disagreeable': 660, 'unworthy': 661, 'compared': 662, 'himself': 663, 'principal': 664, 'people': 665, 'unreserved': 666, 'danced': 667, 'angry': 668, 'closed': 669, 'early': 670, 'talked': 671, 'amiable': 672, 'qualities': 673, 'speak': 674, 'contrast': 675, 'between': 676, 'once': 677, 'miss': 678, 'declined': 679, 'introduced': 680, 'walking': 681, 'speaking': 682, 'occasionally': 683, 'proudest': 684, 'world': 685, 'everybody': 686, 'hoped': 687, 'again': 688, 'amongst': 689, 'violent': 690, 'against': 691, 'dislike': 692, 'behaviour': 693, 'sharpened': 694, 'particular': 695, 'resentment': 696, 'slighted': 697, 'scarcity': 698, 'sit': 699, 'dances': 700, 'during': 701, 'part': 702, 'standing': 703, 'near': 704, 'conversation': 705, 'press': 706, 'join': 707, 'hate': 708, 'yourself': 709, 'stupid': 710, 'detest': 711, 'unless': 712, 'particularly': 713, 'partner': 714, 'insupportable': 715, 'engaged': 716, 'whom': 717, 'punishment': 718, 'fastidious': 719, 'kingdom': 720, 'met': 721, 'several': 722, 'uncommonly': 723, 'pretty': 724, 'girl': 725, 'beautiful': 726, 'creature': 727, 'beheld': 728, 'sitting': 729, 'behind': 730, 'turning': 731, 'round': 732, 'moment': 733, 'catching': 734, 'eye': 735, 'withdrew': 736, 'coldly': 737, 'tolerable': 738, 'tempt': 739, 'present': 740, 'consequence': 741, 'enjoy': 742, 'smiles': 743, 'wasting': 744, 'advice': 745, 'walked': 746, 'off': 747, 'remained': 748, 'cordial': 749, 'toward': 750, 'story': 751, 'spirit': 752, 'playful': 753, 'disposition': 754, 'ridiculous': 755, 'passed': 756, 'pleasantly': 757, 'family': 758, 'seen': 759, 'admired': 760, 'twice': 761, 'distinguished': 762, 'gratified': 763, 'quieter': 764, 'felt': 765, 'pleasure': 766, 'mentioned': 767, 'accomplished': 768, 'catherine': 769, 'without': 770, 'partners': 771, 'yet': 772, 'learnt': 773, 'care': 774, 'spirits': 775, 'longbourn': 776, 'village': 777, 'where': 778, 'lived': 779, 'inhabitants': 780, 'found': 781, 'book': 782, 'regardless': 783, 'deal': 784, 'curiosity': 785, 'event': 786, 'raised': 787, 'splendid': 788, 'expectations': 789, 'rather': 790, 'stranger': 791, 'disappointed': 792, 'out': 793, 'different': 794, 'thought': 795, 'asked': 796, 'vexed': 797, 'admire': 798, 'nobody': 799, 'seemed': 800, 'struck': 801, 'going': 802, 'inquired': 803, 'got': 804, 'third': 805, 'king': 806, 'fourth': 807, 'maria': 808, 'fifth': 809, 'sixth': 810, 'boulanger': 811, '': 812, 'god': 813, 'sprained': 814, 'ankle': 815, 'excessively': 816, 'charming': 817, 'elegant': 818, 'dresses': 819, 'lace': 820, 'gown': 821, 'interrupted': 822, 'protested': 823, 'finery': 824, 'seek': 825, 'branch': 826, 'related': 827, 'bitterness': 828, 'exaggeration': 829, 'shocking': 830, 'rudeness': 831, 'added': 832, 'lose': 833, 'suiting': 834, 'fancy': 835, 'horrid': 836, 'worth': 837, 'pleasing': 838, 'conceited': 839, 'enduring': 840, 'fancying': 841, 'given': 842, 'set': 843, 'downs': 844, 'alone': 845, 'former': 846, 'cautious': 847, 'praise': 848, 'expressed': 849, 'sister': 850, 'happy': 851, 'ease': 852, 'perfect': 853, 'breeding': 854, 'also': 855, 'likewise': 856, 'possibly': 857, 'thereby': 858, 'complete': 859, 'flattered': 860, 'asking': 861, 'expect': 862, 'compliment': 863, 'difference': 864, 'compliments': 865, 'surprise': 866, 'natural': 867, 'help': 868, 'seeing': 869, 'thanks': 870, 'gallantry': 871, 'leave': 872, 'liked': 873, 'stupider': 874, 'apt': 875, 'fault': 876, 'anybody': 877, 'eyes': 878, 'human': 879, 'hasty': 880, 'censuring': 881, 'anyone': 882, 'makes': 883, 'wonder': 884, 'sense': 885, 'honestly': 886, 'blind': 887, 'follies': 888, 'affectation': 889, 'candour': 890, 'common': 891, 'meets': 892, 'everywhere': 893, 'candid': 894, 'ostentation': 895, 'bad': 896, 'belongs': 897, 'equal': 898, 'converse': 899, 'mistaken': 900, 'listened': 901, 'silence': 902, 'convinced': 903, 'calculated': 904, 'please': 905, 'observation': 906, 'pliancy': 907, 'judgement': 908, 'unassailed': 909, 'disposed': 910, 'approve': 911, 'fact': 912, 'deficient': 913, 'power': 914, 'chose': 915, 'educated': 916, 'private': 917, 'seminaries': 918, 'pounds': 919, 'habit': 920, 'spending': 921, 'associating': 922, 'rank': 923, 'entitled': 924, 'meanly': 925, 'respectable': 926, 'circumstance': 927, 'deeply': 928, 'impressed': 929, 'memories': 930, 'acquired': 931, 'trade': 932, 'inherited': 933, 'amount': 934, 'nearly': 935, 'hundred': 936, 'purchase': 937, 'sometimes': 938, 'choice': 939, 'county': 940, 'provided': 941, 'liberty': 942, 'manor': 943, 'doubtful': 944, 'easiness': 945, 'whether': 946, 'spend': 947, 'remainder': 948, 'generation': 949, 'anxious': 950, 'established': 951, 'tenant': 952, 'means': 953, 'unwilling': 954, 'preside': 955, 'table': 956, 'home': 957, 'suited': 958, 'age': 959, 'tempted': 960, 'accidental': 961, 'recommendation': 962, 'look': 963, 'hour': 964, 'situation': 965, 'rooms': 966, 'satisfied': 967, 'owner': 968, 'took': 969, 'steady': 970, 'friendship': 971, 'spite': 972, 'opposition': 973, 'endeared': 974, 'openness': 975, 'ductility': 976, 'offer': 977, 'greater': 978, 'appeared': 979, 'dissatisfied': 980, 'strength': 981, 'regard': 982, 'firmest': 983, 'reliance': 984, 'highest': 985, 'superior': 986, 'clever': 987, 'same': 988, 'haughty': 989, 'reserved': 990, 'bred': 991, 'inviting': 992, 'greatly': 993, 'wherever': 994, 'continually': 995, 'offense': 996, 'meryton': 997, 'sufficiently': 998, 'characteristic': 999, 'prettier': 1000, 'kind': 1001, 'attentive': 1002, 'formality': 1003, 'stiffness': 1004, 'conceive': 1005, 'angel': 1006, 'contrary': 1007, 'collection': 1008, 'smallest': 1009, 'interest': 1010, 'received': 1011, 'smiled': 1012, 'allowed': 1013, 'sweet': 1014, 'object': 1015, 'authorized': 1016, 'commendation': 1017, 'short': 1018, 'walk': 1019, 'bennets': 1020, 'intimate': 1021, 'formerly': 1022, 'risen': 1023, 'knighthood': 1024, 'address': 1025, 'mayoralty': 1026, 'distinction': 1027, 'strongly': 1028, 'residence': 1029, 'small': 1030, 'market': 1031, 'quitting': 1032, 'both': 1033, 'removed': 1034, 'mile': 1035, 'denominated': 1036, 'period': 1037, 'lodge': 1038, 'importance': 1039, 'unshackled': 1040, 'occupy': 1041, 'solely': 1042, 'civil': 1043, 'elated': 1044, 'render': 1045, 'supercilious': 1046, 'nature': 1047, 'inoffensive': 1048, 'friendly': 1049, 'obliging': 1050, 'presentation': 1051, 'st': 1052, 'james': 1053, 'courteous': 1054, 'valuable': 1055, 'intelligent': 1056, 'lucases': 1057, 'absolutely': 1058, 'necessary': 1059, 'communicate': 1060, 'charlotte': 1061, 'self': 1062, 'command': 1063, 'yes': 1064, 'suppose': 1065, 'because': 1066, 'seem': 1067, 'hardly': 1068, 'robinson': 1069, 'overheard': 1070, 'prettiest': 1071, 'answering': 1072, 'question': 1073, 'beyond': 1074, 'doubt': 1075, 'opinions': 1076, 'point': 1077, \"'\": 1078, 'overhearings': 1079, 'purpose': 1080, 'yours': 1081, 'eliza': 1082, 'listening': 1083, 'beg': 1084, 'put': 1085, 'head': 1086, 'treatment': 1087, 'misfortune': 1088, 'night': 1089, 'close': 1090, 'opening': 1091, 'lips': 1092, 'ma': 1093, \"'am\": 1094, 'speaks': 1095, 'remarkably': 1096, 'guess': 1097, 'eat': 1098, 'pride': 1099, 'somehow': 1100, 'carriage': 1101, 'hack': 1102, 'talking': 1103, 'safely': 1104, 'promise': 1105, 'offend': 1106, 'excuse': 1107, 'everything': 1108, 'favour': 1109, 'express': 1110, 'right': 1111, 'true': 1112, 'easily': 1113, 'forgive': 1114, 'mortified': 1115, 'mine': 1116, 'observed': 1117, 'piqued': 1118, 'solidity': 1119, 'reflections': 1120, 'failing': 1121, 'prone': 1122, 'cherish': 1123, 'feeling': 1124, 'complacency': 1125, 'score': 1126, 'quality': 1127, 'real': 1128, 'imaginary': 1129, 'vanity': 1130, 'things': 1131, 'words': 1132, 'used': 1133, 'synonymously': 1134, 'vain': 1135, 'relates': 1136, 'ourselves': 1137, 'rich': 1138, 'pack': 1139, 'foxhounds': 1140, 'drink': 1141, 'bottle': 1142, 'wine': 1143, 'away': 1144, 'directly': 1145, 'boy': 1146, 'argument': 1147, 'ended': 1148, 'due': 1149, 'form': 1150, 'grew': 1151, 'goodwill': 1152, 'intolerable': 1153, 'younger': 1154, 'greatest': 1155, 'superciliousness': 1156, 'excepting': 1157, 'even': 1158, 'value': 1159, 'arising': 1160, 'probability': 1161, 'influence': 1162, 'generally': 1163, 'evident': 1164, 'whenever': 1165, 'yielding': 1166, 'begun': 1167, 'entertain': 1168, 'united': 1169, 'composure': 1170, 'uniform': 1171, 'cheerfulness': 1172, 'guard': 1173, 'suspicions': 1174, 'impertinent': 1175, 'able': 1176, 'impose': 1177, 'public': 1178, 'case': 1179, 'disadvantage': 1180, 'guarded': 1181, 'conceals': 1182, 'affection': 1183, 'opportunity': 1184, 'fixing': 1185, 'consolation': 1186, 'dark': 1187, 'gratitude': 1188, 'almost': 1189, 'attachment': 1190, 'safe': 1191, 'itself': 1192, 'begin': 1193, 'freely': 1194, 'slight': 1195, 'encouragement': 1196, 'nine': 1197, 'show': 1198, 'feels': 1199, 'undoubtedly': 1200, 'allow': 1201, 'perceive': 1202, 'simpleton': 1203, 'discover': 1204, 'remember': 1205, 'partial': 1206, 'endeavour': 1207, 'conceal': 1208, 'sees': 1209, 'tolerably': 1210, 'hours': 1211, 'together': 1212, 'each': 1213, 'mixed': 1214, 'parties': 1215, 'conversing': 1216, 'secure': 1217, 'leisure': 1218, 'plan': 1219, 'adopt': 1220, 'acting': 1221, 'degree': 1222, 'reasonableness': 1223, 'dined': 1224, 'represent': 1225, 'appetite': 1226, 'evenings': 1227, 'enabled': 1228, 'ascertain': 1229, 'vingt': 1230, 'un': 1231, 'commerce': 1232, 'leading': 1233, 'unfolded': 1234, 'success': 1235, 'happiness': 1236, 'studying': 1237, 'twelvemonth': 1238, 'marriage': 1239, 'entirely': 1240, 'dispositions': 1241, 'similar': 1242, 'beforehand': 1243, 'advance': 1244, 'felicity': 1245, 'continue': 1246, 'grow': 1247, 'unlike': 1248, 'vexation': 1249, 'possible': 1250, 'defects': 1251, 'pass': 1252, 'laugh': 1253, 'sound': 1254, 'occupied': 1255, 'attentions': 1256, 'far': 1257, 'suspecting': 1258, 'becoming': 1259, 'scarcely': 1260, 'criticise': 1261, 'sooner': 1262, 'clear': 1263, 'feature': 1264, 'face': 1265, 'rendered': 1266, 'expression': 1267, 'discovery': 1268, 'succeeded': 1269, 'mortifying': 1270, 'detected': 1271, 'critical': 1272, 'failure': 1273, 'symmetry': 1274, 'forced': 1275, 'acknowledge': 1276, 'light': 1277, 'asserting': 1278, 'fashionable': 1279, 'caught': 1280, 'playfulness': 1281, 'perfectly': 1282, 'unaware': 1283, 'nowhere': 1284, 'attended': 1285, 'doing': 1286, 'notice': 1287, 'assembled': 1288, 'colonel': 1289, 'forster': 1290, 'satirical': 1291, 'approaching': 1292, 'seeming': 1293, 'intention': 1294, 'defied': 1295, 'provoking': 1296, 'energy': 1297, 'energetic': 1298, 'severe': 1299, 'turn': 1300, 'teased': 1301, 'open': 1302, 'instrument': 1303, 'follows': 1304, 'strange': 1305, 'wanting': 1306, 'play': 1307, 'sing': 1308, 'musical': 1309, 'invaluable': 1310, 'performers': 1311, 'persevering': 1312, 'gravely': 1313, 'glancing': 1314, 'saying': 1315, 'course': 1316, 'familiar': 1317, 'breath': 1318, 'cool': 1319, 'porridge': 1320, 'swell': 1321, 'song': 1322, 'performance': 1323, 'capital': 1324, 'entreaties': 1325, 'eagerly': 1326, 'plain': 1327, 'worked': 1328, 'hard': 1329, 'accomplishments': 1330, 'impatient': 1331, 'display': 1332, 'neither': 1333, 'genius': 1334, 'taste': 1335, 'application': 1336, 'pedantic': 1337, 'injured': 1338, 'higher': 1339, 'excellence': 1340, 'reached': 1341, 'playing': 1342, 'concerto': 1343, 'scotch': 1344, 'irish': 1345, 'airs': 1346, 'request': 1347, 'officers': 1348, 'joined': 1349, 'stood': 1350, 'silent': 1351, 'indignation': 1352, 'mode': 1353, 'passing': 1354, 'exclusion': 1355, 'engrossed': 1356, 'thoughts': 1357, 'thus': 1358, 'refinements': 1359, 'polished': 1360, 'society': 1361, 'vogue': 1362, 'societies': 1363, 'savage': 1364, 'performs': 1365, 'delightfully': 1366, 'pause': 1367, 'group': 1368, 'adept': 1369, 'science': 1370, 'inconsiderable': 1371, 'proper': 1372, 'pay': 1373, 'avoid': 1374, 'conclude': 1375, 'bowed': 1376, 'feel': 1377, 'paused': 1378, 'companion': 1379, 'instant': 1380, 'moving': 1381, 'action': 1382, 'gallant': 1383, 'desirable': 1384, 'refuse': 1385, 'taking': 1386, 'surprised': 1387, 'receive': 1388, 'instantly': 1389, 'discomposure': 1390, 'entreat': 1391, 'moved': 1392, 'order': 1393, 'grave': 1394, 'propriety': 1395, 'requested': 1396, 'shake': 1397, 'attempt': 1398, 'persuasion': 1399, 'excel': 1400, 'cruel': 1401, 'deny': 1402, 'dislikes': 1403, 'oblige': 1404, 'politeness': 1405, 'smiling': 1406, 'considering': 1407, 'inducement': 1408, 'complaisance': 1409, 'archly': 1410, 'resistance': 1411, 'accosted': 1412, 'reverie': 1413, 'annoyed': 1414, 'insipidity': 1415, 'noise': 1416, 'nothingness': 1417, 'strictures': 1418, 'conjecture': 1419, 'totally': 1420, 'wrong': 1421, 'agreeably': 1422, 'meditating': 1423, 'pair': 1424, 'bestow': 1425, 'desired': 1426, 'inspiring': 1427, 'intrepidity': 1428, 'repeated': 1429, 'favourite': 1430, 'pray': 1431, 'exactly': 1432, 'imagination': 1433, 'rapid': 1434, 'jumps': 1435, 'matrimony': 1436, 'wishing': 1437, 'nay': 1438, 'serious': 1439, 'pemberley': 1440, 'indifference': 1441, 'wit': 1442, 'flowed': 1443, 'unfortunately': 1444, 'entailed': 1445, 'default': 1446, 'heirs': 1447, 'male': 1448, 'relation': 1449, 'ample': 1450, 'supply': 1451, 'deficiency': 1452, 'attorney': 1453, 'phillips': 1454, 'clerk': 1455, 'line': 1456, 'convenient': 1457, 'distance': 1458, 'usually': 1459, 'thither': 1460, 'duty': 1461, 'aunt': 1462, 'milliner': 1463, 'shop': 1464, 'frequent': 1465, 'vacant': 1466, 'offered': 1467, 'amuse': 1468, 'furnish': 1469, 'bare': 1470, 'country': 1471, 'contrived': 1472, 'learn': 1473, 'supplied': 1474, 'recent': 1475, 'militia': 1476, 'regiment': 1477, 'remain': 1478, 'winter': 1479, 'headquarters': 1480, 'visits': 1481, 'productive': 1482, 'interesting': 1483, 'names': 1484, 'connections': 1485, 'lodgings': 1486, 'secret': 1487, 'length': 1488, 'visited': 1489, 'opened': 1490, 'store': 1491, 'unknown': 1492, 'animation': 1493, 'worthless': 1494, 'opposed': 1495, 'regimentals': 1496, 'ensign': 1497, 'effusions': 1498, 'coolly': 1499, 'collect': 1500, 'silliest': 1501, 'suspected': 1502, 'captain': 1503, 'carter': 1504, 'astonished': 1505, 'ready': 1506, 'slightingly': 1507, 'happens': 1508, 'sentiments': 1509, 'coincided': 1510, 'differ': 1511, 'foolish': 1512, 'red': 1513, 'smart': 1514, 'watson': 1515, 'clarke': 1516, 'prevented': 1517, 'replying': 1518, 'footman': 1519, 'note': 1520, 'servant': 1521, 'sparkled': 1522, 'calling': 1523, 'haste': 1524, 'aloud': 1525, 'compassionate': 1526, 'dine': 1527, 'louisa': 1528, 'danger': 1529, 'hating': 1530, 'lives': 1531, 'tête': 1532, 'à': 1533, 'quarrel': 1534, 'receipt': 1535, 'caroline': 1536, 'dining': 1537, 'horseback': 1538, 'seems': 1539, 'rain': 1540, 'stay': 1541, 'scheme': 1542, 'hursts': 1543, 'horses': 1544, 'theirs': 1545, 'coach': 1546, 'spare': 1547, 'wanted': 1548, 'farm': 1549, 'oftener': 1550, 'answered': 1551, 'extort': 1552, 'acknowledgment': 1553, 'cheerful': 1554, 'prognostics': 1555, 'rained': 1556, 'uneasy': 1557, 'intermission': 1558, 'lucky': 1559, 'aware': 1560, 'contrivance': 1561, 'breakfast': 1562, 'dearest': 1563, 'unwell': 1564, 'imputed': 1565, 'getting': 1566, 'wet': 1567, 'through': 1568, 'yesterday': 1569, 'returning': 1570, 'insist': 1571, 'jones': 1572, 'alarmed': 1573, 'sore': 1574, 'throat': 1575, 'headache': 1576, 'dangerous': 1577, 'fit': 1578, 'illness': 1579, 'die': 1580, 'comfort': 1581, 'pursuit': 1582, 'under': 1583, 'orders': 1584, 'dying': 1585, 'trifling': 1586, 'colds': 1587, 'stays': 1588, 'horsewoman': 1589, 'alternative': 1590, 'resolution': 1591, 'dirt': 1592, 'hint': 1593, 'motive': 1594, 'miles': 1595, 'activity': 1596, 'benevolence': 1597, 'impulse': 1598, 'guided': 1599, 'reason': 1600, 'exertion': 1601, 'proportion': 1602, 'required': 1603, 'accepted': 1604, 'along': 1605, 'goes': 1606, 'parted': 1607, 'repaired': 1608, 'wives': 1609, 'crossing': 1610, 'field': 1611, 'pace': 1612, 'jumping': 1613, 'stiles': 1614, 'springing': 1615, 'puddles': 1616, 'finding': 1617, 'view': 1618, 'weary': 1619, 'ankles': 1620, 'dirty': 1621, 'stockings': 1622, 'glowing': 1623, 'warmth': 1624, 'exercise': 1625, 'shown': 1626, 'parlour': 1627, 'appearance': 1628, 'created': 1629, 'weather': 1630, 'incredible': 1631, 'held': 1632, 'contempt': 1633, 'politely': 1634, 'divided': 1635, 'brilliancy': 1636, 'complexion': 1637, 'justifying': 1638, 'coming': 1639, 'latter': 1640, 'inquiries': 1641, 'favourably': 1642, 'slept': 1643, 'feverish': 1644, 'withheld': 1645, 'alarm': 1646, 'inconvenience': 1647, 'expressing': 1648, 'longed': 1649, 'besides': 1650, 'expressions': 1651, 'treated': 1652, 'silently': 1653, 'solicitude': 1654, 'showed': 1655, 'apothecary': 1656, 'examined': 1657, 'patient': 1658, 'supposed': 1659, 'cold': 1660, 'advised': 1661, 'bed': 1662, 'draughts': 1663, 'readily': 1664, 'symptoms': 1665, 'increased': 1666, 'ached': 1667, 'acutely': 1668, 'quit': 1669, 'absent': 1670, 'elsewhere': 1671, 'clock': 1672, 'unwillingly': 1673, 'pressing': 1674, 'testified': 1675, 'concern': 1676, 'parting': 1677, 'convert': 1678, 'thankfully': 1679, 'consented': 1680, 'acquaint': 1681, 'clothes': 1682, 'o': 1683, \"'clock\": 1684, 'retired': 1685, 'dress': 1686, 'past': 1687, 'summoned': 1688, 'poured': 1689, 'distinguishing': 1690, 'disliked': 1691, 'restored': 1692, 'enjoyment': 1693, 'anxiety': 1694, 'intruder': 1695, 'believed': 1696, 'indolent': 1697, 'cards': 1698, 'prefer': 1699, 'dish': 1700, 'ragout': 1701, 'abusing': 1702, 'impertinence': 1703, 'style': 1704, 'walker': 1705, 'wild': 1706, 'nonsensical': 1707, 'scampering': 1708, 'hair': 1709, 'untidy': 1710, 'blowsy': 1711, 'petticoat': 1712, 'inches': 1713, 'mud': 1714, 'hide': 1715, 'picture': 1716, 'exact': 1717, 'lost': 1718, 'escaped': 1719, 'inclined': 1720, 'exhibition': 1721, 'whatever': 1722, 'abominable': 1723, 'sort': 1724, 'independence': 1725, 'decorum': 1726, 'shows': 1727, 'whisper': 1728, 'adventure': 1729, 'affected': 1730, 'brightened': 1731, 'speech': 1732, 'excessive': 1733, 'low': 1734, 'uncle': 1735, 'somewhere': 1736, 'cheapside': 1737, 'laughed': 1738, 'heartily': 1739, 'uncles': 1740, 'fill': 1741, 'jot': 1742, 'materially': 1743, 'lessen': 1744, 'assent': 1745, 'indulged': 1746, 'mirth': 1747, 'expense': 1748, 'vulgar': 1749, 'relations': 1750, 'renewal': 1751, 'tenderness': 1752, 'leaving': 1753, 'coffee': 1754, 'poorly': 1755, 'late': 1756, 'sleep': 1757, 'downstairs': 1758, 'drawing': 1759, 'loo': 1760, 'invited': 1761, 'below': 1762, 'reading': 1763, 'singular': 1764, 'despises': 1765, 'reader': 1766, 'deserve': 1767, 'censure': 1768, 'nursing': 1769, 'thanked': 1770, 'lying': 1771, 'fetch': 1772, 'afforded': 1773, 'larger': 1774, 'benefit': 1775, 'idle': 1776, 'fellow': 1777, 'assured': 1778, 'suit': 1779, 'work': 1780, 'generations': 1781, 'buying': 1782, 'comprehend': 1783, 'add': 1784, 'beauties': 1785, 'charles': 1786, 'build': 1787, 'advise': 1788, 'model': 1789, 'finer': 1790, 'buy': 1791, 'sell': 1792, 'possibilities': 1793, 'imitation': 1794, 'laying': 1795, 'wholly': 1796, 'aside': 1797, 'card': 1798, 'stationed': 1799, 'observe': 1800, 'game': 1801, 'spring': 1802, 'height': 1803, 'taller': 1804, 'pianoforte': 1805, 'exquisite': 1806, 'amazing': 1807, 'patience': 1808, 'paint': 1809, 'tables': 1810, 'cover': 1811, 'screens': 1812, 'net': 1813, 'purses': 1814, 'spoken': 1815, 'informed': 1816, 'list': 1817, 'extent': 1818, 'applied': 1819, 'deserves': 1820, 'otherwise': 1821, 'netting': 1822, 'purse': 1823, 'covering': 1824, 'screen': 1825, 'agreeing': 1826, 'estimation': 1827, 'boast': 1828, 'knowing': 1829, 'dozen': 1830, 'range': 1831, 'faithful': 1832, 'assistant': 1833, 'esteemed': 1834, 'surpass': 1835, 'thorough': 1836, 'music': 1837, 'singing': 1838, 'modern': 1839, 'languages': 1840, 'possess': 1841, 'tone': 1842, 'voice': 1843, 'deserved': 1844, 'substantial': 1845, 'improvement': 1846, 'extensive': 1847, 'longer': 1848, 'sex': 1849, 'possibility': 1850, 'capacity': 1851, 'elegance': 1852, 'describe': 1853, 'injustice': 1854, 'implied': 1855, 'protesting': 1856, 'bitter': 1857, 'complaints': 1858, 'inattention': 1859, 'forward': 1860, 'undervaluing': 1861, 'succeeds': 1862, 'paltry': 1863, 'device': 1864, 'art': 1865, 'remark': 1866, 'chiefly': 1867, 'meanness': 1868, 'arts': 1869, 'condescend': 1870, 'employ': 1871, 'captivation': 1872, 'bears': 1873, 'affinity': 1874, 'cunning': 1875, 'despicable': 1876, 'worse': 1877, 'urged': 1878, 'sent': 1879, 'service': 1880, 'recommended': 1881, 'eminent': 1882, 'physicians': 1883, 'comply': 1884, 'proposal': 1885, 'decidedly': 1886, 'uncomfortable': 1887, 'miserable': 1888, 'solaced': 1889, 'wretchedness': 1890, 'duets': 1891, 'supper': 1892, 'relief': 1893, 'housekeeper': 1894, 'directions': 1895, 'chief': 1896, 'housemaid': 1897, 'amendment': 1898, 'desiring': 1899, 'contents': 1900, 'quickly': 1901, 'complied': 1902, 'accompanied': 1903, 'apparent': 1904, 'alarming': 1905, 'recovering': 1906, 'restoration': 1907, 'health': 1908, 'probably': 1909, 'remove': 1910, 'listen': 1911, 'carried': 1912, 'advisable': 1913, 'trespass': 1914, 'removal': 1915, 'madam': 1916, 'civility': 1917, 'remains': 1918, 'profuse': 1919, 'acknowledgments': 1920, 'become': 1921, 'suffers': 1922, 'vast': 1923, 'exception': 1924, 'sweetest': 1925, 'prospect': 1926, 'gravel': 1927, 'hurry': 1928, 'lease': 1929, 'done': 1930, 'resolve': 1931, 'pitiful': 1932, 'follow': 1933, 'intricate': 1934, 'estimable': 1935, 'run': 1936, 'suffered': 1937, 'studier': 1938, 'amusing': 1939, 'study': 1940, 'characters': 1941, 'subjects': 1942, 'move': 1943, 'confined': 1944, 'unvarying': 1945, 'alter': 1946, 'offended': 1947, 'mentioning': 1948, 'gained': 1949, 'victory': 1950, 'triumph': 1951, 'except': 1952, 'shops': 1953, 'places': 1954, 'pleasanter': 1955, 'advantages': 1956, 'blushing': 1957, 'mistook': 1958, 'variety': 1959, 'meeting': 1960, 'neighbourhoods': 1961, 'enable': 1962, 'delicate': 1963, 'directed': 1964, 'expressive': 1965, 'smile': 1966, 'genteel': 1967, 'persons': 1968, 'important': 1969, 'mouths': 1970, 'mince': 1971, 'pies': 1972, 'differently': 1973, 'judge': 1974, 'pity': 1975, 'envied': 1976, 'child': 1977, 'trust': 1978, 'partiality': 1979, 'fifteen': 1980, 'gardiner': 1981, 'wrote': 1982, 'verses': 1983, 'overcome': 1984, 'efficacy': 1985, 'poetry': 1986, 'driving': 1987, 'food': 1988, 'stout': 1989, 'healthy': 1990, 'nourishes': 1991, 'strong': 1992, 'thin': 1993, 'inclination': 1994, 'sonnet': 1995, 'starve': 1996, 'ensued': 1997, 'tremble': 1998, 'lest': 1999, 'exposing': 2000, 'repeating': 2001, 'apology': 2002, 'troubling': 2003, 'unaffectedly': 2004, 'performed': 2005, 'graciousness': 2006, 'ordered': 2007, 'signal': 2008, 'whispering': 2009, 'result': 2010, 'tax': 2011, 'animal': 2012, 'dinners': 2013, 'assurance': 2014, 'abruptly': 2015, 'reminded': 2016, 'adding': 2017, 'shameful': 2018, 'sudden': 2019, 'attack': 2020, 'ear': 2021, 'engagement': 2022, 'recovered': 2023, 'wait': 2024, 'shame': 2025, 'departed': 2026, 'remarks': 2027, 'prevailed': 2028, 'witticisms': 2029, 'invalid': 2030, 'slowly': 2031, 'mend': 2032, 'appear': 2033, 'writing': 2034, 'seated': 2035, 'watching': 2036, 'progress': 2037, 'letter': 2038, 'repeatedly': 2039, 'messages': 2040, 'piquet': 2041, 'needlework': 2042, 'amused': 2043, 'attending': 2044, 'perpetual': 2045, 'commendations': 2046, 'handwriting': 2047, 'evenness': 2048, 'unconcern': 2049, 'praises': 2050, 'formed': 2051, 'curious': 2052, 'dialogue': 2053, 'union': 2054, 'write': 2055, 'fast': 2056, 'letters': 2057, 'odious': 2058, 'lot': 2059, 'pen': 2060, 'pens': 2061, 'thank': 2062, 'contrive': 2063, 'harp': 2064, 'infinitely': 2065, 'grantley': 2066, 'defer': 2067, 'justice': 2068, 'january': 2069, 'determine': 2070, 'rule': 2071, 'studies': 2072, 'syllables': 2073, 'writes': 2074, 'careless': 2075, 'imaginable': 2076, 'leaves': 2077, 'blots': 2078, 'flow': 2079, 'rapidly': 2080, 'convey': 2081, 'correspondents': 2082, 'humility': 2083, 'disarm': 2084, 'reproof': 2085, 'deceitful': 2086, 'carelessness': 2087, 'indirect': 2088, 'call': 2089, 'piece': 2090, 'modesty': 2091, 'proceeding': 2092, 'rapidity': 2093, 'execution': 2094, 'prized': 2095, 'possessor': 2096, 'imperfection': 2097, 'resolved': 2098, 'panegyric': 2099, 'laudable': 2100, 'precipitance': 2101, 'undone': 2102, 'assume': 2103, 'needless': 2104, 'celerity': 2105, 'conduct': 2106, 'dependent': 2107, 'mounting': 2108, 'month': 2109, 'proved': 2110, 'exceedingly': 2111, 'converting': 2112, 'sweetness': 2113, 'intend': 2114, 'flat': 2115, 'denial': 2116, 'ride': 2117, 'rashness': 2118, 'original': 2119, 'intentions': 2120, 'atoned': 2121, 'obstinacy': 2122, 'adhering': 2123, 'explain': 2124, 'allowing': 2125, 'according': 2126, 'representation': 2127, 'delay': 2128, 'offering': 2129, 'yield': 2130, 'merit': 2131, 'conviction': 2132, 'requester': 2133, 'waiting': 2134, 'arguments': 2135, 'occurs': 2136, 'discuss': 2137, 'thereupon': 2138, 'ordinary': 2139, 'change': 2140, 'complying': 2141, 'argued': 2142, 'proceed': 2143, 'arrange': 2144, 'precision': 2145, 'appertain': 2146, 'intimacy': 2147, 'subsisting': 2148, 'particulars': 2149, 'forgetting': 2150, 'comparative': 2151, 'size': 2152, 'weight': 2153, 'comparison': 2154, 'deference': 2155, 'awful': 2156, 'occasions': 2157, 'especially': 2158, 'sunday': 2159, 'checked': 2160, 'warmly': 2161, 'resented': 2162, 'indignity': 2163, 'expostulation': 2164, 'disputes': 2165, 'thankful': 2166, 'sacrifice': 2167, 'side': 2168, 'finish': 2169, 'indulgence': 2170, 'alacrity': 2171, 'polite': 2172, 'lead': 2173, 'earnestly': 2174, 'negatived': 2175, 'sang': 2176, 'lay': 2177, 'frequently': 2178, 'reprehensible': 2179, 'supposition': 2180, 'pain': 2181, 'approbation': 2182, 'italian': 2183, 'songs': 2184, 'varied': 2185, 'charm': 2186, 'seize': 2187, 'reel': 2188, 'despising': 2189, 'overthrowing': 2190, 'schemes': 2191, 'cheating': 2192, 'premeditated': 2193, 'despise': 2194, 'affront': 2195, 'amazed': 2196, 'archness': 2197, 'bewitched': 2198, 'inferiority': 2199, 'jealous': 2200, 'recovery': 2201, 'rid': 2202, 'tried': 2203, 'provoke': 2204, 'disliking': 2205, 'guest': 2206, 'planning': 2207, 'alliance': 2208, 'shrubbery': 2209, 'hints': 2210, 'takes': 2211, 'holding': 2212, 'tongue': 2213, 'compass': 2214, 'cure': 2215, 'running': 2216, 'check': 2217, 'bordering': 2218, 'conceit': 2219, 'possesses': 2220, 'propose': 2221, 'domestic': 2222, 'portraits': 2223, 'placed': 2224, 'gallery': 2225, 'profession': 2226, 'painter': 2227, 'catch': 2228, 'colour': 2229, 'shape': 2230, 'eyelashes': 2231, 'copied': 2232, 'confusion': 2233, 'abominably': 2234, 'telling': 2235, 'disengaged': 2236, 'arm': 2237, 'path': 2238, 'wide': 2239, 'avenue': 2240, 'laughingly': 2241, 'charmingly': 2242, 'grouped': 2243, 'uncommon': 2244, 'picturesque': 2245, 'spoilt': 2246, 'admitting': 2247, 'bye': 2248, 'ran': 2249, 'gaily': 2250, 'rejoicing': 2251, 'rambled': 2252, 'couple': 2253, 'welcomed': 2254, 'professions': 2255, 'powers': 2256, 'considerable': 2257, 'entertainment': 2258, 'accuracy': 2259, 'relate': 2260, 'anecdote': 2261, 'advanced': 2262, 'steps': 2263, 'congratulation': 2264, 'bow': 2265, 'diffuseness': 2266, 'salutation': 2267, 'full': 2268, 'piling': 2269, 'fire': 2270, 'fireplace': 2271, 'further': 2272, 'opposite': 2273, 'corner': 2274, 'tea': 2275, 'obtained': 2276, 'petition': 2277, 'rejected': 2278, 'justify': 2279, 'stretch': 2280, 'sofas': 2281, 'principally': 2282, 'bracelets': 2283, 'rings': 2284, 'perpetually': 2285, 'inquiry': 2286, 'page': 2287, 'win': 2288, 'exhausted': 2289, 'chosen': 2290, 'volume': 2291, 'yawn': 2292, 'tires': 2293, 'yawned': 2294, 'threw': 2295, 'cast': 2296, 'quest': 2297, 'consult': 2298, 'wishes': 2299, 'begins': 2300, 'nicholls': 2301, 'white': 2302, 'soup': 2303, 'balls': 2304, 'insufferably': 2305, 'tedious': 2306, 'usual': 2307, 'process': 2308, 'rational': 2309, 'aimed': 2310, 'inflexibly': 2311, 'studious': 2312, 'desperation': 2313, 'effort': 2314, 'example': 2315, 'refreshing': 2316, 'attitude': 2317, 'awake': 2318, 'novelty': 2319, 'quarter': 2320, 'unconsciously': 2321, 'motives': 2322, 'choosing': 2323, 'joining': 2324, 'interfere': 2325, 'surest': 2326, 'disappointing': 2327, 'incapable': 2328, 'persevered': 2329, 'requiring': 2330, 'explanation': 2331, 'explaining': 2332, 'method': 2333, 'confidence': 2334, 'affairs': 2335, 'conscious': 2336, 'figures': 2337, 'completely': 2338, 'punish': 2339, 'plague': 2340, 'tease': 2341, 'taught': 2342, 'calmness': 2343, 'presence': 2344, 'defy': 2345, 'laughter': 2346, 'expose': 2347, 'attempting': 2348, 'hug': 2349, 'loss': 2350, 'dearly': 2351, 'wisest': 2352, 'actions': 2353, 'ridicule': 2354, 'wise': 2355, 'whims': 2356, 'inconsistencies': 2357, 'divert': 2358, 'precisely': 2359, 'weaknesses': 2360, 'weakness': 2361, 'superiority': 2362, 'regulation': 2363, 'examination': 2364, 'presume': 2365, 'defect': 2366, 'owns': 2367, 'disguise': 2368, 'pretension': 2369, 'faults': 2370, 'vouch': 2371, 'convenience': 2372, 'vices': 2373, 'offenses': 2374, 'puffed': 2375, 'resentful': 2376, 'forever': 2377, 'implacable': 2378, 'shade': 2379, 'tendency': 2380, 'evil': 2381, 'education': 2382, 'willfully': 2383, 'misunderstand': 2384, 'tired': 2385, 'waking': 2386, 'moments': 2387, 'recollection': 2388, 'paying': 2389, 'agreement': 2390, 'remaining': 2391, 'tuesday': 2392, 'propitious': 2393, 'postscript': 2394, 'pressed': 2395, 'staying': 2396, 'positively': 2397, 'fearful': 2398, 'intruding': 2399, 'needlessly': 2400, 'borrow': 2401, 'communication': 2402, 'excited': 2403, 'proposed': 2404, 'jealousy': 2405, 'exceeded': 2406, 'master': 2407, 'sorrow': 2408, 'firm': 2409, 'welcome': 2410, 'attracted': 2411, 'uncivil': 2412, 'wisely': 2413, 'careful': 2414, 'sign': 2415, 'elevate': 2416, 'influencing': 2417, 'suggested': 2418, 'material': 2419, 'confirming': 2420, 'crushing': 2421, 'saturday': 2422, 'adhered': 2423, 'conscientiously': 2424, 'separation': 2425, 'embracing': 2426, 'tenderly': 2427, 'shook': 2428, 'hands': 2429, 'liveliest': 2430, 'cordially': 2431, 'wondered': 2432, 'trouble': 2433, 'laconic': 2434, 'circle': 2435, 'absence': 2436, 'bass': 2437, 'observations': 2438, 'threadbare': 2439, 'morality': 2440, 'preceding': 2441, 'wednesday': 2442, 'lately': 2443, 'flogged': 2444, 'hinted': 2445, 'addition': 2446, 'happen': 2447, 'lord': 2448, 'fish': 2449, 'ring': 2450, 'bell': 2451, 'hill': 2452, 'roused': 2453, 'questioned': 2454, 'explained': 2455, 'ago': 2456, 'delicacy': 2457, 'collins': 2458, 'dead': 2459, 'pleases': 2460, 'bear': 2461, 'hardest': 2462, 'entail': 2463, 'attempted': 2464, 'reach': 2465, 'rail': 2466, 'bitterly': 2467, 'cruelty': 2468, 'cared': 2469, 'iniquitous': 2470, 'affair': 2471, 'guilt': 2472, 'inheriting': 2473, 'softened': 2474, 'false': 2475, 'quarreling': 2476, 'filial': 2477, 'scruples': 2478, 'hunsford': 2479, 'westerham': 2480, 'kent': 2481, 'th': 2482, 'october': 2483, 'disagreement': 2484, 'honoured': 2485, 'uneasiness': 2486, 'heal': 2487, 'breach': 2488, 'kept': 2489, 'doubts': 2490, 'fearing': 2491, 'disrespectful': 2492, 'memory': 2493, 'terms': 2494, 'variance': 2495, 'ordination': 2496, 'easter': 2497, 'patronage': 2498, 'honourable': 2499, 'de': 2500, 'bourgh': 2501, 'widow': 2502, 'lewis': 2503, 'bounty': 2504, 'beneficence': 2505, 'preferred': 2506, 'rectory': 2507, 'parish': 2508, 'earnest': 2509, 'demean': 2510, 'grateful': 2511, 'ladyship': 2512, 'perform': 2513, 'rites': 2514, 'ceremonies': 2515, 'instituted': 2516, 'church': 2517, 'clergyman': 2518, 'moreover': 2519, 'promote': 2520, 'establish': 2521, 'blessing': 2522, 'peace': 2523, 'grounds': 2524, 'overtures': 2525, 'commendable': 2526, 'kindly': 2527, 'overlooked': 2528, 'reject': 2529, 'olive': 2530, 'concerned': 2531, 'injuring': 2532, 'apologise': 2533, 'readiness': 2534, 'hereafter': 2535, 'satisfaction': 2536, 'november': 2537, 'hospitality': 2538, 'se': 2539, \"'ennight\": 2540, 'objecting': 2541, 'occasional': 2542, 'respectful': 2543, 'wisher': 2544, 'folded': 2545, 'conscientious': 2546, 'prove': 2547, 'indulgent': 2548, 'discourage': 2549, 'atonement': 2550, 'thinks': 2551, 'christening': 2552, 'burying': 2553, 'parishioners': 2554, 'oddity': 2555, 'pompous': 2556, 'apologising': 2557, 'reverse': 2558, 'servility': 2559, 'promises': 2560, 'composition': 2561, 'defective': 2562, 'writer': 2563, 'scarlet': 2564, 'weeks': 2565, 'preparing': 2566, 'punctual': 2567, 'need': 2568, 'heavy': 2569, 'stately': 2570, 'formal': 2571, 'complimented': 2572, 'instance': 2573, 'fame': 2574, 'fallen': 2575, 'hearers': 2576, 'quarreled': 2577, 'destitute': 2578, 'oddly': 2579, 'allude': 2580, 'grievous': 2581, 'confess': 2582, 'estates': 2583, 'hardship': 2584, 'fair': 2585, 'cousins': 2586, 'appearing': 2587, 'precipitate': 2588, 'prepared': 2589, 'summons': 2590, 'objects': 2591, 'hall': 2592, 'furniture': 2593, 'praised': 2594, 'touched': 2595, 'viewing': 2596, 'future': 2597, 'begged': 2598, 'excellency': 2599, 'cooking': 2600, 'owing': 2601, 'asperity': 2602, 'cook': 2603, 'kitchen': 2604, 'pardon': 2605, 'displeased': 2606, 'withdrawn': 2607, 'started': 2608, 'shine': 2609, 'patroness': 2610, 'remarkable': 2611, 'eloquent': 2612, 'elevated': 2613, 'solemnity': 2614, 'aspect': 2615, 'witnessed': 2616, 'affability': 2617, 'condescension': 2618, 'experienced': 2619, 'graciously': 2620, 'discourses': 2621, 'preaching': 2622, 'rosings': 2623, 'pool': 2624, 'quadrille': 2625, 'reckoned': 2626, 'condescended': 2627, 'marry': 2628, 'humble': 2629, 'parsonage': 2630, 'approved': 2631, 'alterations': 2632, 'vouchsafed': 2633, 'suggest': 2634, 'shelves': 2635, 'closet': 2636, 'stairs': 2637, 'garden': 2638, 'stands': 2639, 'abode': 2640, 'separated': 2641, 'lane': 2642, 'heiress': 2643, 'shaking': 2644, 'handsomest': 2645, 'marks': 2646, 'birth': 2647, 'sickly': 2648, 'constitution': 2649, 'failed': 2650, 'superintended': 2651, 'resides': 2652, 'condescends': 2653, 'drive': 2654, 'phaeton': 2655, 'ponies': 2656, 'presented': 2657, 'court': 2658, 'indifferent': 2659, 'state': 2660, 'unhappily': 2661, 'prevents': 2662, 'deprived': 2663, 'british': 2664, 'brightest': 2665, 'ornament': 2666, 'acceptable': 2667, 'born': 2668, 'duchess': 2669, 'adorned': 2670, 'peculiarly': 2671, 'bound': 2672, 'properly': 2673, 'talent': 2674, 'flattering': 2675, 'previous': 2676, 'arise': 2677, 'suggesting': 2678, 'arranging': 2679, 'adapted': 2680, 'unstudied': 2681, 'fully': 2682, 'absurd': 2683, 'keenest': 2684, 'maintaining': 2685, 'resolute': 2686, 'glance': 2687, 'dose': 2688, 'invite': 2689, 'assented': 2690, 'produced': 2691, 'beholding': 2692, 'announced': 2693, 'circulating': 2694, 'begging': 2695, 'novels': 2696, 'exclaimed': 2697, 'deliberation': 2698, 'fordyce': 2699, 'sermons': 2700, 'gaped': 2701, 'monotonous': 2702, 'pages': 2703, 'talks': 2704, 'richard': 2705, 'hire': 2706, 'denny': 2707, 'bid': 2708, 'hold': 2709, 'interested': 2710, 'stamp': 2711, 'written': 2712, 'amazes': 2713, 'advantageous': 2714, 'instruction': 2715, 'importune': 2716, 'antagonist': 2717, 'backgammon': 2718, 'challenge': 2719, 'acted': 2720, 'amusements': 2721, 'apologised': 2722, 'civilly': 2723, 'interruption': 2724, 'occur': 2725, 'resume': 2726, 'bore': 2727, 'resent': 2728, 'assisted': 2729, 'guidance': 2730, 'illiterate': 2731, 'miserly': 2732, 'belonged': 2733, 'universities': 2734, 'forming': 2735, 'useful': 2736, 'subjection': 2737, 'originally': 2738, 'counteracted': 2739, 'weak': 2740, 'living': 2741, 'retirement': 2742, 'consequential': 2743, 'unexpected': 2744, 'prosperity': 2745, 'veneration': 2746, 'mingling': 2747, 'authority': 2748, 'rector': 2749, 'obsequiousness': 2750, 'income': 2751, 'seeking': 2752, 'reconciliation': 2753, 'represented': 2754, 'eligibility': 2755, 'suitableness': 2756, 'generous': 2757, 'disinterested': 2758, 'vary': 2759, 'lovely': 2760, 'confirmed': 2761, 'strictest': 2762, 'notions': 2763, 'seniority': 2764, 'alteration': 2765, 'beginning': 2766, 'naturally': 2767, 'avowal': 2768, 'mistress': 2769, 'amid': 2770, 'complaisant': 2771, 'caution': 2772, 'prepossession': 2773, 'incumbent': 2774, 'stirring': 2775, 'treasured': 2776, 'trusted': 2777, 'graces': 2778, 'forgotten': 2779, 'attend': 2780, 'nominally': 2781, 'largest': 2782, 'folios': 2783, 'cessation': 2784, 'doings': 2785, 'discomposed': 2786, 'tranquillity': 2787, 'folly': 2788, 'free': 2789, 'prompt': 2790, 'fitted': 2791, 'nothings': 2792, 'assents': 2793, 'ones': 2794, 'wandering': 2795, 'street': 2796, 'bonnet': 2797, 'muslin': 2798, 'recall': 2799, 'officer': 2800, 'concerning': 2801, 'inquire': 2802, 'led': 2803, 'across': 2804, 'pretense': 2805, 'fortunately': 2806, 'pavement': 2807, 'spot': 2808, 'entreated': 2809, 'permission': 2810, 'wickham': 2811, 'commission': 2812, 'corps': 2813, 'correct': 2814, 'unassuming': 2815, 'riding': 2816, 'civilities': 2817, 'spokesman': 2818, 'corroborated': 2819, 'fix': 2820, 'arrested': 2821, 'happening': 2822, 'effect': 2823, 'changed': 2824, 'minute': 2825, 'noticed': 2826, 'phillip': 2827, 'bows': 2828, 'throwing': 2829, 'loudly': 2830, 'seconding': 2831, 'fetched': 2832, 'happened': 2833, 'claimed': 2834, 'intrusion': 2835, 'justified': 2836, 'relationship': 2837, 'awed': 2838, 'excess': 2839, 'contemplation': 2840, 'exclamations': 2841, 'lieutenant': 2842, 'shire': 2843, 'occupation': 2844, 'unluckily': 2845, 'windows': 2846, 'fellows': 2847, 'phillipses': 2848, 'nice': 2849, 'comfortable': 2850, 'noisy': 2851, 'lottery': 2852, 'tickets': 2853, 'hot': 2854, 'delights': 2855, 'cheering': 2856, 'mutual': 2857, 'apologies': 2858, 'unwearying': 2859, 'defended': 2860, 'admiring': 2861, 'utmost': 2862, 'pointedly': 2863, 'included': 2864, 'although': 2865, 'utterly': 2866, 'attributed': 2867, 'connection': 2868, 'steadily': 2869, 'resisted': 2870, 'conveyed': 2871, 'suitable': 2872, 'seats': 2873, 'around': 2874, 'apartment': 2875, 'summer': 2876, 'gratification': 2877, 'understood': 2878, 'proprietor': 2879, 'chimney': 2880, 'cost': 2881, 'eight': 2882, 'force': 2883, 'describing': 2884, 'grandeur': 2885, 'mansion': 2886, 'digressions': 2887, 'improvements': 2888, 'receiving': 2889, 'until': 2890, 'listener': 2891, 'resolving': 2892, 'retail': 2893, 'neighbours': 2894, 'examine': 2895, 'imitations': 2896, 'china': 2897, 'mantelpiece': 2898, 'interval': 2899, 'approach': 2900, 'unreasonable': 2901, 'creditable': 2902, 'broad': 2903, 'faced': 2904, 'stuffy': 2905, 'breathing': 2906, 'port': 2907, 'female': 2908, 'finally': 2909, 'fell': 2910, 'commonest': 2911, 'dullest': 2912, 'topic': 2913, 'speaker': 2914, 'rivals': 2915, 'sink': 2916, 'insignificance': 2917, 'intervals': 2918, 'watchfulness': 2919, 'abundantly': 2920, 'muffin': 2921, 'whist': 2922, 'improve': 2923, 'compliance': 2924, 'engrossing': 2925, 'talker': 2926, 'eager': 2927, 'bets': 2928, 'exclaiming': 2929, 'prizes': 2930, 'demands': 2931, 'willing': 2932, 'history': 2933, 'dared': 2934, 'unexpectedly': 2935, 'relieved': 2936, 'hesitating': 2937, 'drop': 2938, 'per': 2939, 'annum': 2940, 'capable': 2941, 'connected': 2942, 'infancy': 2943, 'assertion': 2944, 'qualified': 2945, 'impartial': 2946, 'astonish': 2947, 'anywhere': 2948, 'disgusted': 2949, 'estimated': 2950, 'deserts': 2951, 'blinded': 2952, 'frightened': 2953, 'imposing': 2954, 'tempered': 2955, 'plans': 2956, 'driven': 2957, 'gives': 2958, 'avoiding': 2959, 'proclaim': 2960, 'usage': 2961, 'painful': 2962, 'regrets': 2963, 'breathed': 2964, 'truest': 2965, 'soul': 2966, 'tender': 2967, 'recollections': 2968, 'scandalous': 2969, 'verily': 2970, 'disgracing': 2971, 'increase': 2972, 'topics': 2973, 'gentle': 2974, 'intelligible': 2975, 'constant': 2976, 'enter': 2977, 'quarters': 2978, 'procured': 2979, 'solitude': 2980, 'employment': 2981, 'military': 2982, 'circumstances': 2983, 'eligible': 2984, 'bequeathed': 2985, 'gift': 2986, 'godfather': 2987, 'attached': 2988, 'provide': 2989, 'amply': 2990, 'heavens': 2991, 'disregarded': 2992, 'legal': 2993, 'redress': 2994, 'informality': 2995, 'bequest': 2996, 'doubted': 2997, 'treat': 2998, 'conditional': 2999, 'assert': 3000, 'forfeited': 3001, 'claim': 3002, 'extravagance': 3003, 'imprudence': 3004, 'became': 3005, 'accuse': 3006, 'warm': 3007, 'unguarded': 3008, 'hates': 3009, 'publicly': 3010, 'disgraced': 3011, 'induced': 3012, 'behave': 3013, 'cruelly': 3014, 'attribute': 3015, 'measure': 3016, 'son': 3017, 'borne': 3018, 'irritated': 3019, 'competition': 3020, 'creatures': 3021, 'suspect': 3022, 'descending': 3023, 'malicious': 3024, 'revenge': 3025, 'inhumanity': 3026, 'boasting': 3027, 'implacability': 3028, 'resentments': 3029, 'unforgiving': 3030, 'dreadful': 3031, 'godson': 3032, 'contented': 3033, 'childhood': 3034, 'closest': 3035, 'youth': 3036, 'inmates': 3037, 'sharing': 3038, 'parental': 3039, 'appears': 3040, 'devoted': 3041, 'confidential': 3042, 'obligations': 3043, 'active': 3044, 'superintendence': 3045, 'death': 3046, 'voluntary': 3047, 'providing': 3048, 'debt': 3049, 'dishonest': 3050, 'dishonesty': 3051, 'wonderful': 3052, 'traced': 3053, 'nearer': 3054, 'virtue': 3055, 'consistent': 3056, 'stronger': 3057, 'impulses': 3058, 'liberal': 3059, 'money': 3060, 'assist': 3061, 'tenants': 3062, 'relieve': 3063, 'disgrace': 3064, 'degenerate': 3065, 'popular': 3066, 'powerful': 3067, 'brotherly': 3068, 'guardian': 3069, 'brothers': 3070, 'affectionate': 3071, 'sixteen': 3072, 'superintends': 3073, 'pauses': 3074, 'trials': 3075, 'reverting': 3076, 'truly': 3077, 'abilities': 3078, 'conversible': 3079, 'equals': 3080, 'prosperous': 3081, 'minded': 3082, 'sincere': 3083, 'breaking': 3084, 'players': 3085, 'gathered': 3086, 'station': 3087, 'gravity': 3088, 'mere': 3089, 'trifle': 3090, 'chances': 3091, 'shillings': 3092, 'necessity': 3093, 'regarding': 3094, 'matters': 3095, 'intimately': 3096, 'anne': 3097, 'existence': 3098, 'unite': 3099, 'useless': 3100, 'destined': 3101, 'misleads': 3102, 'arrogant': 3103, 'dictatorial': 3104, 'insolent': 3105, 'reputation': 3106, 'derives': 3107, 'authoritative': 3108, 'nephew': 3109, 'everyone': 3110, 'class': 3111, 'gracefully': 3112, 'went': 3113, 'incessantly': 3114, 'won': 3115, 'losses': 3116, 'enumerating': 3117, 'dishes': 3118, 'crowded': 3119, 'manage': 3120, 'stopped': 3121, 'veracity': 3122, 'endured': 3123, 'unkindness': 3124, 'defend': 3125, 'accident': 3126, 'deceived': 3127, 'misrepresented': 3128, 'causes': 3129, 'alienated': 3130, 'actual': 3131, 'blame': 3132, 'behalf': 3133, 'disgraceful': 3134, 'treating': 3135, 'humanity': 3136, 'imposed': 3137, 'invent': 3138, 'facts': 3139, 'ceremony': 3140, 'contradict': 3141, 'looks': 3142, 'distressing': 3143, 'knows': 3144, 'certainty': 3145, 'personal': 3146, 'rising': 3147, 'hurrying': 3148, 'ceremonious': 3149, 'pictured': 3150, 'confirmation': 3151, 'anticipated': 3152, 'depended': 3153, 'satisfy': 3154, 'rate': 3155, 'disinclination': 3156, 'mornings': 3157, 'engagements': 3158, 'claims': 3159, 'profess': 3160, 'recreation': 3161, 'unnecessarily': 3162, 'scruple': 3163, 'dreading': 3164, 'rebuke': 3165, 'archbishop': 3166, 'venturing': 3167, 'soliciting': 3168, 'cause': 3169, 'disrespect': 3170, 'liveliness': 3171, 'timed': 3172, 'perforce': 3173, 'delayed': 3174, 'grace': 3175, 'selected': 3176, 'worthy': 3177, 'assisting': 3178, 'visitors': 3179, 'increasing': 3180, 'vivacity': 3181, 'charms': 3182, 'dispute': 3183, 'prepare': 3184, 'pitiable': 3185, 'succession': 3186, 'sought': 3187, 'shoe': 3188, 'roses': 3189, 'proxy': 3190, 'trial': 3191, 'suspended': 3192, 'friday': 3193, 'endurable': 3194, 'cluster': 3195, 'coats': 3196, 'occurred': 3197, 'unreasonably': 3198, 'dressed': 3199, 'conquest': 3200, 'unsubdued': 3201, 'trusting': 3202, 'arose': 3203, 'suspicion': 3204, 'purposely': 3205, 'omitted': 3206, 'bingleys': 3207, 'absolute': 3208, 'significant': 3209, 'unheard': 3210, 'answerable': 3211, 'surmise': 3212, 'displeasure': 3213, 'immediate': 3214, 'disappointment': 3215, 'approached': 3216, 'attendance': 3217, 'forbearance': 3218, 'injury': 3219, 'surmount': 3220, 'provoked': 3221, 'destroyed': 3222, 'dwell': 3223, 'griefs': 3224, 'transition': 3225, 'oddities': 3226, 'distress': 3227, 'mortification': 3228, 'awkward': 3229, 'solemn': 3230, 'misery': 3231, 'release': 3232, 'ecstasy': 3233, 'refreshment': 3234, 'fret': 3235, 'console': 3236, 'forbid': 3237, 'recommenced': 3238, 'cautioning': 3239, 'unpleasant': 3240, 'dignity': 3241, 'amazement': 3242, 'break': 3243, 'couples': 3244, 'arranged': 3245, 'consulting': 3246, 'gratifying': 3247, 'similarity': 3248, 'unsocial': 3249, 'taciturn': 3250, 'amaze': 3251, 'handed': 3252, 'posterity': 3253, 'éclat': 3254, 'proverb': 3255, 'striking': 3256, 'resemblance': 3257, 'portrait': 3258, 'decide': 3259, 'affirmative': 3260, 'resist': 3261, 'temptation': 3262, 'deeper': 3263, 'hauteur': 3264, 'overspread': 3265, 'blaming': 3266, 'constrained': 3267, 'blessed': 3268, 'ensure': 3269, 'retaining': 3270, 'emphasis': 3271, 'desirous': 3272, 'changing': 3273, 'perceiving': 3274, 'courtesy': 3275, 'belong': 3276, 'circles': 3277, 'congratulations': 3278, 'appeal': 3279, 'interrupt': 3280, 'detaining': 3281, 'bewitching': 3282, 'bright': 3283, 'upbraiding': 3284, 'allusion': 3285, 'strike': 3286, 'forcibly': 3287, 'shortly': 3288, 'compare': 3289, 'occupies': 3290, 'scenes': 3291, 'wandered': 3292, 'forgave': 3293, 'unappeasable': 3294, 'prejudice': 3295, 'judging': 3296, 'tend': 3297, 'illustration': 3298, 'endeavouring': 3299, 'trying': 3300, 'accounts': 3301, 'puzzle': 3302, 'reports': 3303, 'sketch': 3304, 'reflect': 3305, 'likeness': 3306, 'suspend': 3307, 'breast': 3308, 'anger': 3309, 'disdain': 3310, 'george': 3311, 'forgot': 3312, 'steward': 3313, 'implicit': 3314, 'assertions': 3315, 'using': 3316, 'infamous': 3317, 'including': 3318, 'descent': 3319, 'angrily': 3320, 'sneer': 3321, 'interference': 3322, 'wilful': 3323, 'ignorance': 3324, 'malice': 3325, 'undertaken': 3326, 'glow': 3327, 'marked': 3328, 'occurrences': 3329, 'enemies': 3330, 'fairest': 3331, 'probity': 3332, 'imprudent': 3333, 'recollect': 3334, 'believes': 3335, 'conditionally': 3336, 'sincerity': 3337, 'assurances': 3338, 'defense': 3339, 'unacquainted': 3340, 'discourse': 3341, 'sentiment': 3342, 'modest': 3343, 'heighten': 3344, 'pleasantness': 3345, 'exultation': 3346, 'overhear': 3347, 'honours': 3348, 'respects': 3349, 'total': 3350, 'plead': 3351, 'earlier': 3352, \"'nnight\": 3353, 'dissuade': 3354, 'addressing': 3355, 'freedom': 3356, 'ceased': 3357, 'scope': 3358, 'permit': 3359, 'laity': 3360, 'regulate': 3361, 'clergy': 3362, 'clerical': 3363, 'maintained': 3364, 'dictates': 3365, 'conscience': 3366, 'leads': 3367, 'neglecting': 3368, 'profit': 3369, 'guide': 3370, 'habitual': 3371, 'reception': 3372, 'advances': 3373, 'watched': 3374, 'prefaced': 3375, 'motion': 3376, 'eyeing': 3377, 'unrestrained': 3378, 'discouraged': 3379, 'discernment': 3380, 'unworthily': 3381, 'pursue': 3382, 'train': 3383, 'plainly': 3384, 'bent': 3385, 'perverseness': 3386, 'openly': 3387, 'expectation': 3388, 'animating': 3389, 'fatigue': 3390, 'match': 3391, 'points': 3392, 'gratulation': 3393, 'promising': 3394, 'lastly': 3395, 'consign': 3396, 'etiquette': 3397, 'concluded': 3398, 'evidently': 3399, 'triumphantly': 3400, 'believing': 3401, 'audible': 3402, 'inexpressible': 3403, 'scolded': 3404, 'owe': 3405, 'lower': 3406, 'blushed': 3407, 'dreaded': 3408, 'invariably': 3409, 'gradually': 3410, 'indignant': 3411, 'composed': 3412, 'yawning': 3413, 'repetition': 3414, 'likelihood': 3415, 'comforts': 3416, 'ham': 3417, 'chicken': 3418, 'revive': 3419, 'entreaty': 3420, 'prevent': 3421, 'proof': 3422, 'exhibiting': 3423, 'sensations': 3424, 'stanzas': 3425, 'impatience': 3426, 'rewarded': 3427, 'agonies': 3428, 'composedly': 3429, 'signs': 3430, 'derision': 3431, 'imperturbably': 3432, 'finished': 3433, 'exhibit': 3434, 'pretending': 3435, 'innocent': 3436, 'diversion': 3437, 'compatible': 3438, 'devoting': 3439, 'tithes': 3440, 'beneficial': 3441, 'offensive': 3442, 'patron': 3443, 'duties': 3444, 'dwelling': 3445, 'excused': 3446, 'conciliatory': 3447, 'owes': 3448, 'preferment': 3449, 'acquit': 3450, 'omit': 3451, 'testifying': 3452, 'loud': 3453, 'seriously': 3454, 'commended': 3455, 'sensibly': 3456, 'distressed': 3457, 'ridiculing': 3458, 'perseveringly': 3459, 'prevail': 3460, 'arguing': 3461, 'project': 3462, 'owed': 3463, 'naturedly': 3464, 'probable': 3465, 'allusions': 3466, 'rejoiced': 3467, 'depart': 3468, 'manoeuvre': 3469, 'complain': 3470, 'repulsed': 3471, 'languor': 3472, 'speeches': 3473, 'complimenting': 3474, 'guests': 3475, 'enjoying': 3476, 'scene': 3477, 'detached': 3478, 'preserved': 3479, 'utter': 3480, 'pressingly': 3481, 'eating': 3482, 'whither': 3483, 'quitted': 3484, 'preparations': 3485, 'settlements': 3486, 'carriages': 3487, 'wedding': 3488, 'months': 3489, 'eclipsed': 3490, 'declaration': 3491, 'extended': 3492, 'diffidence': 3493, 'orderly': 3494, 'observances': 3495, 'regular': 3496, 'solicit': 3497, 'audience': 3498, 'blush': 3499, 'gathering': 3500, 'hastening': 3501, 'embarrassed': 3502, 'oppose': 3503, 'injunction': 3504, 'quietly': 3505, 'incessant': 3506, 'disservice': 3507, 'adds': 3508, 'perfections': 3509, 'unwillingness': 3510, 'respected': 3511, 'purport': 3512, 'dissemble': 3513, 'singled': 3514, 'reasons': 3515, 'selecting': 3516, 'laughing': 3517, 'stop': 3518, 'secondly': 3519, 'thirdly': 3520, 'unasked': 3521, 'pools': 3522, 'jenkinson': 3523, 'footstool': 3524, 'gentlewoman': 3525, 'reckon': 3526, 'inevitably': 3527, 'excite': 3528, 'inherit': 3529, 'melancholy': 3530, 'esteem': 3531, 'animated': 3532, 'language': 3533, 'violence': 3534, 'demand': 3535, 'cents': 3536, 'decease': 3537, 'uniformly': 3538, 'ungenerous': 3539, 'reproach': 3540, 'proposals': 3541, 'wave': 3542, 'addresses': 3543, 'secretly': 3544, 'applies': 3545, 'refusal': 3546, 'altar': 3547, 'ere': 3548, 'daring': 3549, 'risk': 3550, 'persuaded': 3551, 'disapprove': 3552, 'economy': 3553, 'qualification': 3554, 'unnecessary': 3555, 'refusing': 3556, 'falls': 3557, 'accusing': 3558, 'custom': 3559, 'encourage': 3560, 'hitherto': 3561, 'convince': 3562, 'briefly': 3563, 'acceptance': 3564, 'manifold': 3565, 'attractions': 3566, 'portion': 3567, 'undo': 3568, 'effects': 3569, 'loveliness': 3570, 'qualifications': 3571, 'rejection': 3572, 'suspense': 3573, 'practice': 3574, 'females': 3575, 'pretensions': 3576, 'consists': 3577, 'tormenting': 3578, 'plainer': 3579, 'intending': 3580, 'sanctioned': 3581, 'parents': 3582, 'fail': 3583, 'perseverance': 3584, 'deception': 3585, 'persisted': 3586, 'refusals': 3587, 'apply': 3588, 'negative': 3589, 'uttered': 3590, 'decisive': 3591, 'coquetry': 3592, 'successful': 3593, 'dawdled': 3594, 'vestibule': 3595, 'watch': 3596, 'conference': 3597, 'staircase': 3598, 'congratulated': 3599, 'felicitations': 3600, 'proceeded': 3601, 'interview': 3602, 'steadfastly': 3603, 'bashful': 3604, 'genuine': 3605, 'startled': 3606, 'headstrong': 3607, 'interrupting': 3608, 'persists': 3609, 'rejecting': 3610, 'accepting': 3611, 'liable': 3612, 'contribute': 3613, 'natured': 3614, 'settle': 3615, 'uproar': 3616, 'vows': 3617, 'calm': 3618, 'altered': 3619, 'declares': 3620, 'hopeless': 3621, 'rang': 3622, 'refused': 3623, 'insists': 3624, 'unhappy': 3625, 'conclusion': 3626, 'regarded': 3627, 'favours': 3628, 'coaxed': 3629, 'threatened': 3630, 'turns': 3631, 'endeavoured': 3632, 'mildness': 3633, 'interfering': 3634, 'earnestness': 3635, 'gaiety': 3636, 'attacks': 3637, 'determination': 3638, 'meanwhile': 3639, 'hurt': 3640, 'deserving': 3641, 'regret': 3642, 'fun': 3643, 'entreating': 3644, 'spared': 3645, 'unconcerned': 3646, 'caring': 3647, 'york': 3648, 'maintain': 3649, 'warn': 3650, 'undutiful': 3651, 'pitied': 3652, 'effusion': 3653, 'soothe': 3654, 'irritation': 3655, 'tongues': 3656, 'ground': 3657, 'detained': 3658, 'doleful': 3659, 'projected': 3660, 'presently': 3661, 'resignation': 3662, 'inevitable': 3663, 'evils': 3664, 'peculiar': 3665, 'resigned': 3666, 'positive': 3667, 'denied': 3668, 'showing': 3669, 'withdrawing': 3670, 'requesting': 3671, 'interpose': 3672, 'objectionable': 3673, 'dismission': 3674, 'error': 3675, 'discussion': 3676, 'necessarily': 3677, 'peevish': 3678, 'embarrassment': 3679, 'dejection': 3680, 'assiduous': 3681, 'transferred': 3682, 'seasonable': 3683, 'abatement': 3684, 'shorten': 3685, 'lament': 3686, 'voluntarily': 3687, 'bestowed': 3688, 'accompanying': 3689, 'double': 3690, 'introducing': 3691, 'delivered': 3692, 'envelope': 3693, 'contained': 3694, 'sheet': 3695, 'paper': 3696, 'covered': 3697, 'flowing': 3698, 'intently': 3699, 'passages': 3700, 'recollected': 3701, 'putting': 3702, 'contains': 3703, 'sentence': 3704, 'comprised': 3705, 'grosvenor': 3706, 'returns': 3707, 'intercourse': 3708, 'correspondence': 3709, 'highflown': 3710, 'insensibility': 3711, 'distrust': 3712, 'suddenness': 3713, 'cease': 3714, 'arrive': 3715, 'renewed': 3716, 'imagined': 3717, 'gets': 3718, 'comfortless': 3719, 'hotel': 3720, 'crowd': 3721, 'despair': 3722, 'sincerely': 3723, 'christmas': 3724, 'abound': 3725, 'gaieties': 3726, 'season': 3727, 'brings': 3728, 'beaux': 3729, 'numerous': 3730, 'deprive': 3731, 'passage': 3732, 'hurts': 3733, 'reserves': 3734, 'georgiana': 3735, 'inspires': 3736, 'heightened': 3737, 'confiding': 3738, 'admires': 3739, 'footing': 3740, 'misleading': 3741, 'engaging': 3742, 'indulging': 3743, 'expressly': 3744, 'expects': 3745, 'suspects': 3746, 'willingly': 3747, 'wants': 3748, 'keeping': 3749, 'tries': 3750, 'grand': 3751, 'notion': 3752, 'intermarriage': 3753, 'achieving': 3754, 'ingenuity': 3755, 'succeed': 3756, 'tells': 3757, 'alike': 3758, 'foundation': 3759, 'unjust': 3760, 'wilfully': 3761, 'deceiving': 3762, 'supposing': 3763, 'mature': 3764, 'disobliging': 3765, 'equivalent': 3766, 'faintly': 3767, 'disapprobation': 3768, 'hesitate': 3769, 'suggestion': 3770, 'artfully': 3771, 'independent': 3772, 'desponding': 3773, 'overcame': 3774, 'departure': 3775, 'bewailed': 3776, 'lamenting': 3777, 'thanking': 3778, 'keeps': 3779, 'repaid': 3780, 'farther': 3781, 'conception': 3782, 'appearances': 3783, 'admirable': 3784, 'slyness': 3785, 'hasten': 3786, 'feet': 3787, 'encouraging': 3788, 'comparatively': 3789, 'diffident': 3790, 'perceived': 3791, 'accidentally': 3792, 'eloquence': 3793, 'awaited': 3794, 'happiest': 3795, 'solicitation': 3796, 'waived': 3797, 'stupidity': 3798, 'favoured': 3799, 'courtship': 3800, 'continuance': 3801, 'pure': 3802, 'speedily': 3803, 'joyful': 3804, 'prospects': 3805, 'wealth': 3806, 'calculate': 3807, 'expedient': 3808, 'overjoyed': 3809, 'boys': 3810, 'apprehension': 3811, 'maid': 3812, 'irksome': 3813, 'provision': 3814, 'pleasantest': 3815, 'preservative': 3816, 'luck': 3817, 'valued': 3818, 'shaken': 3819, 'charged': 3820, 'secrecy': 3821, 'dutifully': 3822, 'difficulty': 3823, 'burst': 3824, 'forth': 3825, 'direct': 3826, 'evade': 3827, 'exercising': 3828, 'longing': 3829, 'publish': 3830, 'journey': 3831, 'cordiality': 3832, 'hoping': 3833, 'avail': 3834, 'speedy': 3835, 'offending': 3836, 'concurrence': 3837, 'offence': 3838, 'mark': 3839, 'meditated': 3840, 'rated': 3841, 'encouraged': 3842, 'hers': 3843, 'bounds': 3844, 'crying': 3845, 'commanded': 3846, 'momentary': 3847, 'regained': 3848, 'calmly': 3849, 'procure': 3850, 'firmness': 3851, 'romantic': 3852, 'reconciled': 3853, 'unsuitable': 3854, 'strangeness': 3855, 'offers': 3856, 'sacrificed': 3857, 'worldly': 3858, 'humiliating': 3859, 'pang': 3860, 'sunk': 3861, 'reflecting': 3862, 'doubting': 3863, 'authorised': 3864, 'announce': 3865, 'houses': 3866, 'wondering': 3867, 'incredulous': 3868, 'boisterously': 3869, 'courtier': 3870, 'forbearing': 3871, 'confirm': 3872, 'prior': 3873, 'overpowered': 3874, 'vent': 3875, 'disbelieving': 3876, 'fourthly': 3877, 'broken': 3878, 'inferences': 3879, 'deduced': 3880, 'mischief': 3881, 'barbarously': 3882, 'misused': 3883, 'dwelt': 3884, 'appease': 3885, 'wear': 3886, 'elapsed': 3887, 'rude': 3888, 'emotions': 3889, 'tranquil': 3890, 'confessed': 3891, 'improbable': 3892, 'envying': 3893, 'spread': 3894, 'insensible': 3895, 'retort': 3896, 'sour': 3897, 'restraint': 3898, 'mutually': 3899, 'subsist': 3900, 'fonder': 3901, 'rectitude': 3902, 'daily': 3903, 'counting': 3904, 'reasonably': 3905, 'prompted': 3906, 'discharging': 3907, 'inform': 3908, 'rapturous': 3909, 'unanswerable': 3910, 'inconvenient': 3911, 'troublesome': 3912, 'hated': 3913, 'lovers': 3914, 'murmurs': 3915, 'bringing': 3916, 'tidings': 3917, 'incensed': 3918, 'falsehood': 3919, 'admit': 3920, 'destructive': 3921, 'dishonorable': 3922, 'stability': 3923, 'lover': 3924, 'occurring': 3925, 'efforts': 3926, 'unfeeling': 3927, 'overpowering': 3928, 'feared': 3929, 'concealing': 3930, 'alluded': 3931, 'restrained': 3932, 'seldom': 3933, 'require': 3934, 'needed': 3935, 'punctually': 3936, 'gracious': 3937, 'luckily': 3938, 'agony': 3939, 'successor': 3940, 'abhorrence': 3941, 'anticipating': 3942, 'complained': 3943, 'gloomy': 3944, 'survivor': 3945, 'consoling': 3946, 'professed': 3947, 'boasted': 3948, 'joyfully': 3949, 'ventured': 3950, 'predict': 3951, 'accomplishment': 3952, 'inmate': 3953, 'communicated': 3954, 'slave': 3955, 'designing': 3956, 'sport': 3957, 'involved': 3958, 'unavailing': 3959, 'died': 3960, 'suppressed': 3961, 'wounded': 3962, 'courage': 3963, 'continual': 3964, 'repine': 3965, 'slightly': 3966, 'colouring': 3967, 'try': 3968, 'harm': 3969, 'disinterestedness': 3970, 'angelic': 3971, 'disclaimed': 3972, 'encroaching': 3973, 'privilege': 3974, 'universal': 3975, 'fewer': 3976, 'confirms': 3977, 'belief': 3978, 'inconsistency': 3979, 'dependence': 3980, 'instances': 3981, 'unaccountable': 3982, 'ruin': 3983, 'allowance': 3984, 'respectability': 3985, 'prudent': 3986, 'benefited': 3987, 'narrow': 3988, 'individual': 3989, 'principle': 3990, 'integrity': 3991, 'selfishness': 3992, 'prudence': 3993, 'security': 3994, 'intentionally': 3995, 'circumspect': 3996, 'deceives': 3997, 'designedly': 3998, 'attributing': 3999, 'scheming': 4000, 'thoughtlessness': 4001, 'impute': 4002, 'displease': 4003, 'whilst': 4004, 'persist': 4005, 'conjunction': 4006, 'position': 4007, 'unlikely': 4008, 'unnaturally': 4009, 'ashamed': 4010, 'clearly': 4011, 'perplexity': 4012, 'transient': 4013, 'liking': 4014, 'statement': 4015, 'repeat': 4016, 'crossed': 4017, 'congratulate': 4018, 'companions': 4019, 'outdone': 4020, 'disappoint': 4021, 'jilt': 4022, 'creditably': 4023, 'befall': 4024, 'dispelling': 4025, 'gloom': 4026, 'perverse': 4027, 'thrown': 4028, 'recommendations': 4029, 'unreserve': 4030, 'canvassed': 4031, 'extenuating': 4032, 'mild': 4033, 'pleaded': 4034, 'allowances': 4035, 'mistakes': 4036, 'condemned': 4037, 'worst': 4038, 'alleviated': 4039, 'bride': 4040, 'warehouses': 4041, 'subsisted': 4042, 'distribute': 4043, 'presents': 4044, 'newest': 4045, 'fashions': 4046, 'grievances': 4047, 'artful': 4048, 'thwarted': 4049, 'sleeves': 4050, 'separates': 4051, 'forgets': 4052, 'violently': 4053, 'hackneyed': 4054, 'indefinite': 4055, 'growing': 4056, 'inattentive': 4057, 'incivility': 4058, 'essence': 4059, 'acquiescence': 4060, 'custody': 4061, 'gracechurch': 4062, 'ablution': 4063, 'cleanse': 4064, 'impurities': 4065, 'stirs': 4066, 'correspond': 4067, 'reanimated': 4068, 'successfully': 4069, 'combated': 4070, 'gardiners': 4071, 'stayed': 4072, 'carefully': 4073, 'suspicious': 4074, 'narrowly': 4075, 'affording': 4076, 'unconnected': 4077, 'fresher': 4078, 'procuring': 4079, 'inexhaustible': 4080, 'comparing': 4081, 'bestowing': 4082, 'tribute': 4083, 'delighting': 4084, 'reputed': 4085, 'lad': 4086, 'confident': 4087, 'fitzwilliam': 4088, 'warned': 4089, 'involve': 4090, 'becomes': 4091, 'forfeit': 4092, 'wiser': 4093, 'wisdom': 4094, 'remind': 4095, 'refrain': 4096, 'thursday': 4097, 'farewell': 4098, 'rose': 4099, 'ungracious': 4100, 'reluctant': 4101, 'foresaw': 4102, 'march': 4103, 'bridegroom': 4104, 'slacken': 4105, 'correspondent': 4106, 'eagerness': 4107, 'pronounce': 4108, 'foreseen': 4109, 'cheerfully': 4110, 'surrounded': 4111, 'roads': 4112, 'rationally': 4113, 'accounted': 4114, 'reproached': 4115, 'inventing': 4116, 'fresh': 4117, 'visitor': 4118, 'shortness': 4119, 'deceive': 4120, 'triumphing': 4121, 'obstinate': 4122, 'meantime': 4123, 'singling': 4124, 'deservedly': 4125, 'harshly': 4126, 'duplicity': 4127, 'banish': 4128, 'invariable': 4129, 'duped': 4130, 'review': 4131, 'contentment': 4132, 'subsided': 4133, 'admirer': 4134, 'watchful': 4135, 'permitted': 4136, 'acquisition': 4137, 'rendering': 4138, 'sighted': 4139, 'struggles': 4140, 'relinquish': 4141, 'relating': 4142, 'elevating': 4143, 'passion': 4144, 'effectual': 4145, 'distractedly': 4146, 'purchased': 4147, 'defection': 4148, 'events': 4149, 'diversified': 4150, 'walks': 4151, 'february': 4152, 'depending': 4153, 'learned': 4154, 'weakened': 4155, 'uncompanionable': 4156, 'faultless': 4157, 'unwelcome': 4158, 'peep': 4159, 'smoothly': 4160, 'accompany': 4161, 'bidding': 4162, 'adieu': 4163, 'reminding': 4164, 'coincide': 4165, 'attach': 4166, 'travellers': 4167, 'empty': 4168, 'headed': 4169, 'rattle': 4170, 'absurdities': 4171, 'wonders': 4172, 'worn': 4173, 'noon': 4174, 'drove': 4175, 'healthful': 4176, 'troop': 4177, 'shyness': 4178, 'bustle': 4179, 'shopping': 4180, 'theatres': 4181, 'struggled': 4182, 'support': 4183, 'periods': 4184, 'reasonable': 4185, 'conversations': 4186, 'rallied': 4187, 'niece': 4188, 'desertion': 4189, 'bearing': 4190, 'mercenary': 4191, 'matrimonial': 4192, 'avarice': 4193, 'grandfather': 4194, 'allowable': 4195, 'gain': 4196, 'affections': 4197, 'indelicacy': 4198, 'directing': 4199, 'decorums': 4200, 'savours': 4201, 'tour': 4202, 'carry': 4203, 'lakes': 4204, 'rapturously': 4205, 'vigour': 4206, 'spleen': 4207, 'rocks': 4208, 'mountains': 4209, 'transport': 4210, 'accurate': 4211, 'rivers': 4212, 'jumbled': 4213, 'imaginations': 4214, 'relative': 4215, 'generality': 4216, 'northern': 4217, 'source': 4218, 'road': 4219, 'search': 4220, 'palings': 4221, 'boundary': 4222, 'discernible': 4223, 'sloping': 4224, 'green': 4225, 'pales': 4226, 'laurel': 4227, 'hedge': 4228, 'arriving': 4229, 'gate': 4230, 'amidst': 4231, 'nods': 4232, 'affectionately': 4233, 'pointing': 4234, 'neatness': 4235, 'ostentatious': 4236, 'glory': 4237, 'displaying': 4238, 'neat': 4239, 'gratify': 4240, 'sigh': 4241, 'repentance': 4242, 'unseldom': 4243, 'involuntarily': 4244, 'discern': 4245, 'faint': 4246, 'article': 4247, 'sideboard': 4248, 'fender': 4249, 'stroll': 4250, 'cultivation': 4251, 'pleasures': 4252, 'healthfulness': 4253, 'owned': 4254, 'cross': 4255, 'pointed': 4256, 'minuteness': 4257, 'fields': 4258, 'direction': 4259, 'trees': 4260, 'clump': 4261, 'bordered': 4262, 'front': 4263, 'building': 4264, 'situated': 4265, 'meadows': 4266, 'shoes': 4267, 'encounter': 4268, 'frost': 4269, 'built': 4270, 'consistency': 4271, 'throughout': 4272, 'ensuing': 4273, 'hesitation': 4274, 'include': 4275, 'regularly': 4276, 'chamber': 4277, 'meditate': 4278, 'guiding': 4279, 'anticipate': 4280, 'quiet': 4281, 'tenor': 4282, 'employments': 4283, 'vexatious': 4284, 'interruptions': 4285, 'middle': 4286, 'landing': 4287, 'breathless': 4288, 'agitation': 4289, 'fronted': 4290, 'stopping': 4291, 'pigs': 4292, 'la': 4293, 'shocked': 4294, 'doors': 4295, 'wind': 4296, 'doorway': 4297, 'greatness': 4298, 'constantly': 4299, 'bowing': 4300, 'letting': 4301, 'acquire': 4302, 'instructing': 4303, 'overpower': 4304, 'separating': 4305, 'toilette': 4306, 'apparel': 4307, 'simply': 4308, 'dressing': 4309, 'objected': 4310, 'formidable': 4311, 'inspire': 4312, 'enumeration': 4313, 'glazing': 4314, 'ascended': 4315, 'talents': 4316, 'miraculous': 4317, 'stateliness': 4318, 'witness': 4319, 'trepidation': 4320, 'ornaments': 4321, 'ante': 4322, 'seat': 4323, 'senses': 4324, 'edge': 4325, 'chair': 4326, 'conciliating': 4327, 'inferior': 4328, 'examining': 4329, 'deportment': 4330, 'pale': 4331, 'insignificant': 4332, 'placing': 4333, 'informing': 4334, 'articles': 4335, 'plate': 4336, 'foretold': 4337, 'bottom': 4338, 'carved': 4339, 'ate': 4340, 'echo': 4341, 'indisposed': 4342, 'delivering': 4343, 'controverted': 4344, 'concerns': 4345, 'familiarly': 4346, 'minutely': 4347, 'management': 4348, 'regulated': 4349, 'instructed': 4350, 'cows': 4351, 'poultry': 4352, 'beneath': 4353, 'dictating': 4354, 'older': 4355, 'maiden': 4356, 'entailing': 4357, 'webbs': 4358, 'masters': 4359, 'governess': 4360, 'neglected': 4361, 'strenuously': 4362, 'supplying': 4363, 'metcalf': 4364, 'finds': 4365, 'pope': 4366, 'treasure': 4367, 'elder': 4368, 'sisterly': 4369, 'dignified': 4370, 'cassino': 4371, 'superlatively': 4372, 'syllable': 4373, 'stating': 4374, 'storing': 4375, 'anecdotes': 4376, 'played': 4377, 'gratefully': 4378, 'instructions': 4379, 'thankfulness': 4380, 'costing': 4381, 'comfortably': 4382, 'possessing': 4383, 'gig': 4384, 'backwards': 4385, 'sized': 4386, 'arrangement': 4387, 'distinguish': 4388, 'indebted': 4389, 'unfrequently': 4390, 'livings': 4391, 'negligence': 4392, 'joints': 4393, 'meat': 4394, 'magistrate': 4395, 'minutest': 4396, 'cottagers': 4397, 'quarrelsome': 4398, 'sallied': 4399, 'differences': 4400, 'scold': 4401, 'harmony': 4402, 'plenty': 4403, 'counterpart': 4404, 'grove': 4405, 'edged': 4406, 'sheltered': 4407, 'designs': 4408, 'lodges': 4409, 'hurried': 4410, 'hastened': 4411, 'nephews': 4412, 'disclaim': 4413, 'thirty': 4414, 'curtseyed': 4415, 'awakened': 4416, 'betray': 4417, 'consciousness': 4418, 'confused': 4419, 'pursued': 4420, 'considerably': 4421, 'travelling': 4422, 'conversed': 4423, 'shared': 4424, 'proficient': 4425, 'proficiency': 4426, 'practises': 4427, 'charge': 4428, 'performer': 4429, 'arch': 4430, 'frighten': 4431, 'stubbornness': 4432, 'rises': 4433, 'intimidate': 4434, 'professing': 4435, 'teach': 4436, 'impolitic': 4437, 'retaliate': 4438, 'shock': 4439, 'smilingly': 4440, 'behaves': 4441, 'strangers': 4442, 'scarce': 4443, 'fingers': 4444, 'judged': 4445, 'applying': 4446, 'masterly': 4447, 'produce': 4448, 'practising': 4449, 'amiss': 4450, 'practised': 4451, 'fingering': 4452, 'symptom': 4453, 'derived': 4454, 'mixing': 4455, 'sinking': 4456, 'emergence': 4457, 'recollecting': 4458, 'rejoice': 4459, 'prudential': 4460, 'fifty': 4461, 'varying': 4462, 'expenses': 4463, 'unimportant': 4464, 'journeys': 4465, 'local': 4466, 'newspaper': 4467, 'colder': 4468, 'concise': 4469, 'occasioned': 4470, 'conjectures': 4471, 'sports': 4472, 'billiard': 4473, 'nearness': 4474, 'separately': 4475, 'captivating': 4476, 'softness': 4477, 'disputable': 4478, 'steadfast': 4479, 'gaze': 4480, 'raising': 4481, 'vanish': 4482, 'counterbalance': 4483, 'ramble': 4484, 'mischance': 4485, 'haunt': 4486, 'penance': 4487, 'rencontre': 4488, 'solitary': 4489, 'imply': 4490, 'perusing': 4491, 'forcing': 4492, 'accordingly': 4493, 'disposal': 4494, 'arranges': 4495, 'feelingly': 4496, 'inured': 4497, 'earl': 4498, 'hardships': 4499, 'sons': 4500, 'habits': 4501, 'afford': 4502, 'coloured': 4503, 'price': 4504, 'dropped': 4505, 'someone': 4506, 'lasting': 4507, 'sole': 4508, 'divide': 4509, 'guardianship': 4510, 'guardians': 4511, 'tractable': 4512, 'drily': 4513, 'prodigious': 4514, 'hither': 4515, 'saved': 4516, 'inconveniences': 4517, 'scrape': 4518, 'objections': 4519, 'separate': 4520, 'swelling': 4521, 'thoughtful': 4522, 'officious': 4523, 'condemn': 4524, 'unnatural': 4525, 'lessening': 4526, 'sadly': 4527, 'jestingly': 4528, 'exist': 4529, 'boundless': 4530, 'measures': 4531, 'mislead': 4532, 'ruined': 4533, 'inflicted': 4534, 'goodness': 4535, 'improved': 4536, 'peculiarities': 4537, 'wound': 4538, 'partly': 4539, 'governed': 4540, 'tears': 4541, 'exasperate': 4542, 'complaint': 4543, 'revival': 4544, 'suffering': 4545, 'characterise': 4546, 'serenity': 4547, 'clouded': 4548, 'conveying': 4549, 'perusal': 4550, 'inflict': 4551, 'keener': 4552, 'sufferings': 4553, 'remembering': 4554, 'fluttered': 4555, 'banished': 4556, 'imputing': 4557, 'agitated': 4558, 'repressed': 4559, 'ardently': 4560, 'detailed': 4561, 'degradation': 4562, 'obstacles': 4563, 'wounding': 4564, 'rooted': 4565, 'subsequent': 4566, 'compose': 4567, 'representing': 4568, 'endeavours': 4569, 'conquer': 4570, 'cheeks': 4571, 'obligation': 4572, 'avowed': 4573, 'unequally': 4574, 'duration': 4575, 'overcoming': 4576, 'leaning': 4577, 'disturbance': 4578, 'visible': 4579, 'struggling': 4580, 'attained': 4581, 'expecting': 4582, 'insulting': 4583, 'provocations': 4584, 'ruining': 4585, 'beloved': 4586, 'emotion': 4587, 'dividing': 4588, 'instability': 4589, 'involving': 4590, 'acutest': 4591, 'unmoved': 4592, 'remorse': 4593, 'incredulity': 4594, 'assumed': 4595, 'denying': 4596, 'kinder': 4597, 'disdained': 4598, 'noticing': 4599, 'conciliate': 4600, 'founded': 4601, 'recital': 4602, 'misrepresentation': 4603, 'misfortunes': 4604, 'contemptuously': 4605, 'infliction': 4606, 'reduced': 4607, 'poverty': 4608, 'designed': 4609, 'desert': 4610, 'calculation': 4611, 'honest': 4612, 'confession': 4613, 'accusations': 4614, 'policy': 4615, 'concealed': 4616, 'impelled': 4617, 'unqualified': 4618, 'unalloyed': 4619, 'condition': 4620, 'behaved': 4621, 'start': 4622, 'obvious': 4623, 'mingled': 4624, 'impressing': 4625, 'fullest': 4626, 'arrogance': 4627, 'groundwork': 4628, 'succeeding': 4629, 'immovable': 4630, 'hastily': 4631, 'painfully': 4632, 'reflected': 4633, 'inspired': 4634, 'shameless': 4635, 'unpardonable': 4636, 'acknowledging': 4637, 'unequal': 4638, 'awoke': 4639, 'meditations': 4640, 'recover': 4641, 'indulge': 4642, 'turnpike': 4643, 'paling': 4644, 'gates': 4645, 'verdure': 4646, 'continuing': 4647, 'glimpse': 4648, 'retreating': 4649, 'stepping': 4650, 'instinctively': 4651, 'plantation': 4652, 'strongest': 4653, 'containing': 4654, 'sheets': 4655, 'pursuing': 4656, 'dated': 4657, 'disgusting': 4658, 'paining': 4659, 'humbling': 4660, 'formation': 4661, 'magnitude': 4662, 'defiance': 4663, 'blasted': 4664, 'wantonly': 4665, 'depravity': 4666, 'growth': 4667, 'severity': 4668, 'liberally': 4669, 'respecting': 4670, 'secured': 4671, 'obeyed': 4672, 'rise': 4673, 'undecided': 4674, 'attentively': 4675, 'scrutiny': 4676, 'participation': 4677, 'misled': 4678, 'acute': 4679, 'observer': 4680, 'investigation': 4681, 'decisions': 4682, 'influenced': 4683, 'repugnance': 4684, 'existing': 4685, 'stated': 4686, 'betrayed': 4687, 'pains': 4688, 'nearest': 4689, 'conducted': 4690, 'yourselves': 4691, 'preserve': 4692, 'coincidence': 4693, 'detaching': 4694, 'described': 4695, 'enforced': 4696, 'remonstrance': 4697, 'staggered': 4698, 'ultimately': 4699, 'seconded': 4700, 'hesitated': 4701, 'extinguished': 4702, 'concealment': 4703, 'unknowingly': 4704, 'weighty': 4705, 'accusation': 4706, 'refute': 4707, 'accused': 4708, 'summon': 4709, 'undoubted': 4710, 'discharge': 4711, 'supported': 4712, 'school': 4713, 'cambridge': 4714, 'vicious': 4715, 'propensities': 4716, 'opportunities': 4717, 'unfolding': 4718, 'advancement': 4719, 'legacy': 4720, 'survive': 4721, 'pecuniary': 4722, 'lieu': 4723, 'therein': 4724, 'accede': 4725, 'dissolved': 4726, 'pretence': 4727, 'idleness': 4728, 'dissipation': 4729, 'unprofitable': 4730, 'ordained': 4731, 'revered': 4732, 'resisting': 4733, 'doubtless': 4734, 'reproaches': 4735, 'obtruded': 4736, 'induce': 4737, 'unfold': 4738, 'junior': 4739, 'presided': 4740, 'ramsgate': 4741, 'younge': 4742, 'connivance': 4743, 'aid': 4744, 'retained': 4745, 'impression': 4746, 'elopement': 4747, 'grieving': 4748, 'exposure': 4749, 'unquestionably': 4750, 'revenging': 4751, 'narrative': 4752, 'henceforth': 4753, 'previously': 4754, 'detection': 4755, 'revealed': 4756, 'testimony': 4757, 'executors': 4758, 'unavoidably': 4759, 'transactions': 4760, 'valueless': 4761, 'bless': 4762, 'contrariety': 4763, 'defined': 4764, 'comprehension': 4765, 'penitent': 4766, 'insolence': 4767, 'clearer': 4768, 'overthrow': 4769, 'cherished': 4770, 'definition': 4771, 'horror': 4772, 'oppressed': 4773, 'discredit': 4774, 'grossest': 4775, 'perturbed': 4776, 'collecting': 4777, 'recalled': 4778, 'gross': 4779, 'err': 4780, 're': 4781, 'resigning': 4782, 'sum': 4783, 'weighed': 4784, 'impartiality': 4785, 'deliberated': 4786, 'sides': 4787, 'blameless': 4788, 'profligacy': 4789, 'scrupled': 4790, 'inquiring': 4791, 'trait': 4792, 'rescue': 4793, 'predominance': 4794, 'atone': 4795, 'casual': 4796, 'errors': 4797, 'vice': 4798, 'befriended': 4799, 'social': 4800, 'mess': 4801, 'pausing': 4802, 'alas': 4803, 'referred': 4804, 'awkwardness': 4805, 'hazarded': 4806, 'corroboration': 4807, 'remembered': 4808, 'impropriety': 4809, 'communications': 4810, 'avoided': 4811, 'discussed': 4812, 'hatefully': 4813, 'mediocrity': 4814, 'moderation': 4815, 'grasp': 4816, 'incautiously': 4817, 'lingering': 4818, 'struggle': 4819, 'fainter': 4820, 'justification': 4821, 'asserted': 4822, 'blamelessness': 4823, 'repulsive': 4824, 'latterly': 4825, 'unprincipled': 4826, 'irreligious': 4827, 'immoral': 4828, 'violation': 4829, 'incomprehensible': 4830, 'prejudiced': 4831, 'despicably': 4832, 'prided': 4833, 'blameable': 4834, 'mistrust': 4835, 'humiliation': 4836, 'wretchedly': 4837, 'courted': 4838, 'widely': 4839, 'unsuspicious': 4840, 'fervent': 4841, 'displayed': 4842, 'sensibility': 4843, 'merited': 4844, 'unfelt': 4845, 'soothed': 4846, 'depressed': 4847, 'probabilities': 4848, 'reconciling': 4849, 'repressing': 4850, 'unfit': 4851, 'missing': 4852, 'obeisance': 4853, 'message': 4854, 'importing': 4855, 'dull': 4856, 'diminution': 4857, 'increases': 4858, 'accounting': 4859, 'june': 4860, 'dawson': 4861, 'barouche': 4862, 'box': 4863, 'abide': 4864, 'post': 4865, 'improper': 4866, 'john': 4867, 'discreditable': 4868, 'bromley': 4869, 'studied': 4870, 'unjustly': 4871, 'upbraided': 4872, 'repent': 4873, 'slightest': 4874, 'heavier': 4875, 'chagrin': 4876, 'remedy': 4877, 'exert': 4878, 'restrain': 4879, 'giddiness': 4880, 'spirited': 4881, 'irritable': 4882, 'affronted': 4883, 'willed': 4884, 'flirt': 4885, 'prevailing': 4886, 'restoring': 4887, 'cleared': 4888, 'implicitness': 4889, 'replete': 4890, 'indecorum': 4891, 'development': 4892, 'packing': 4893, 'urgent': 4894, 'gowns': 4895, 'trunk': 4896, 'afresh': 4897, 'exerted': 4898, 'curtsey': 4899, 'deemed': 4900, 'indispensably': 4901, 'domestics': 4902, 'unpleasantly': 4903, 'disagreeably': 4904, 'disadvantages': 4905, 'abiding': 4906, 'sharers': 4907, 'elevation': 4908, 'sentences': 4909, 'drawn': 4910, 'unfortunate': 4911, 'firmly': 4912, 'sprang': 4913, 'regretting': 4914, 'trunks': 4915, 'fastened': 4916, 'parcels': 4917, 'commissioning': 4918, 'consternation': 4919, 'drinking': 4920, 'privately': 4921, 'revealing': 4922, 'conquered': 4923, 'indecision': 4924, 'grieve': 4925, 'appointed': 4926, 'inn': 4927, 'token': 4928, 'coachman': 4929, 'punctuality': 4930, 'sentinel': 4931, 'salad': 4932, 'cucumber': 4933, 'welcoming': 4934, 'larder': 4935, 'affords': 4936, 'lend': 4937, 'ours': 4938, 'purchases': 4939, 'bought': 4940, 'pull': 4941, 'abused': 4942, 'ugly': 4943, 'uglier': 4944, 'satin': 4945, 'trim': 4946, 'signify': 4947, 'wears': 4948, 'encamped': 4949, 'brighton': 4950, 'papa': 4951, 'delicious': 4952, 'campful': 4953, 'soldiers': 4954, 'overset': 4955, 'monthly': 4956, 'waiter': 4957, 'hears': 4958, 'chin': 4959, 'liverpool': 4960, 'fool': 4961, 'straws': 4962, 'nasty': 4963, 'freckled': 4964, 'coarseness': 4965, 'harboured': 4966, 'boxes': 4967, 'bags': 4968, 'nicely': 4969, 'crammed': 4970, 'bandbox': 4971, 'snug': 4972, 'flirting': 4973, 'husbands': 4974, 'chaperon': 4975, 'harringtons': 4976, 'harriet': 4977, 'chamberlayne': 4978, 'pratt': 4979, 'kinds': 4980, 'histories': 4981, 'jokes': 4982, 'additions': 4983, 'escaping': 4984, 'undiminished': 4985, 'welfare': 4986, 'doubly': 4987, 'retailing': 4988, 'louder': 4989, 'blinds': 4990, 'pretended': 4991, 'handsomely': 4992, 'nicest': 4993, 'luncheon': 4994, 'merry': 4995, 'depreciate': 4996, 'congenial': 4997, 'afternoon': 4998, 'answers': 4999, 'vague': 5000, 'equivocal': 5001, 'disheartened': 5002, 'despaired': 5003, 'suppress': 5004, 'lessened': 5005, 'unhappiness': 5006, 'stroke': 5007, 'wickedness': 5008, 'existed': 5009, 'race': 5010, 'mankind': 5011, 'collected': 5012, 'vindication': 5013, 'labour': 5014, 'quantity': 5015, 'shifting': 5016, 'extorted': 5017, 'profusion': 5018, 'saving': 5019, 'feather': 5020, 'gentleness': 5021, 'mismanagement': 5022, 'spur': 5023, 'abusive': 5024, 'stumbling': 5025, 'witty': 5026, 'undeserved': 5027, 'prejudices': 5028, 'dreadfully': 5029, 'undeceive': 5030, 'hence': 5031, 'desperate': 5032, 'allayed': 5033, 'secrets': 5034, 'lurking': 5035, 'forbade': 5036, 'disclosure': 5037, 'partake': 5038, 'encumbrance': 5039, 'mystery': 5040, 'steadiness': 5041, 'attachments': 5042, 'fervently': 5043, 'remembrance': 5044, 'requisite': 5045, 'injurious': 5046, 'sad': 5047, 'undeserving': 5048, 'collinses': 5049, 'manager': 5050, 'sharp': 5051, 'extravagant': 5052, 'outrun': 5053, 'lawfully': 5054, 'drooping': 5055, 'apace': 5056, 'extreme': 5057, 'heartedness': 5058, 'exclaim': 5059, 'woe': 5060, 'grief': 5061, 'miller': 5062, 'sea': 5063, 'bathing': 5064, 'lamentations': 5065, 'resounding': 5066, 'diverted': 5067, 'anew': 5068, 'rapture': 5069, 'adoration': 5070, 'flew': 5071, 'restless': 5072, 'luckless': 5073, 'repined': 5074, 'fate': 5075, 'accent': 5076, 'exciting': 5077, 'warrant': 5078, 'detestable': 5079, 'advising': 5080, 'improprieties': 5081, 'derive': 5082, 'temptations': 5083, 'exposed': 5084, 'arisen': 5085, 'squeamish': 5086, 'youths': 5087, 'absurdity': 5088, 'aloof': 5089, 'injuries': 5090, 'complaining': 5091, 'volatility': 5092, 'checking': 5093, 'exuberant': 5094, 'teaching': 5095, 'pursuits': 5096, 'meanest': 5097, 'flirtation': 5098, 'attraction': 5099, 'emptiness': 5100, 'ward': 5101, 'rage': 5102, 'comprehended': 5103, 'uncontrolled': 5104, 'censured': 5105, 'despised': 5106, 'prey': 5107, 'degrees': 5108, 'authorising': 5109, 'lock': 5110, 'content': 5111, 'vexations': 5112, 'unavoidable': 5113, 'augment': 5114, 'substance': 5115, 'volubility': 5116, 'earthly': 5117, 'creative': 5118, 'streets': 5119, 'gay': 5120, 'tens': 5121, 'scores': 5122, 'glories': 5123, 'camp': 5124, 'tents': 5125, 'stretched': 5126, 'beauteous': 5127, 'uniformity': 5128, 'dazzling': 5129, 'tent': 5130, 'realities': 5131, 'consoled': 5132, 'agitations': 5133, 'detect': 5134, 'sameness': 5135, 'renewing': 5136, 'serve': 5137, 'frivolous': 5138, 'improves': 5139, 'gayer': 5140, 'aught': 5141, 'essentials': 5142, 'apprehensive': 5143, 'gentlest': 5144, 'accents': 5145, 'deter': 5146, 'foul': 5147, 'misconduct': 5148, 'cautiousness': 5149, 'alluding': 5150, 'adopted': 5151, 'awe': 5152, 'operated': 5153, 'forwarding': 5154, 'repress': 5155, 'broke': 5156, 'whence': 5157, 'pathetic': 5158, 'shed': 5159, 'weep': 5160, 'envy': 5161, 'diffuse': 5162, 'impressive': 5163, 'injunctions': 5164, 'clamorous': 5165, 'adieus': 5166, 'conjugal': 5167, 'captivated': 5168, 'illiberal': 5169, 'vanished': 5170, 'overthrown': 5171, 'tastes': 5172, 'enjoyments': 5173, 'contributed': 5174, 'philosopher': 5175, 'overlook': 5176, 'rightly': 5177, 'enlarging': 5178, 'abroad': 5179, 'repinings': 5180, 'dullness': 5181, 'regain': 5182, 'disturbers': 5183, 'brain': 5184, 'apprehended': 5185, 'hardened': 5186, 'watering': 5187, 'commencement': 5188, 'anticipation': 5189, 'discontentedness': 5190, 'carrying': 5191, 'ceaseless': 5192, 'realised': 5193, 'warded': 5194, 'defence': 5195, 'parasol': 5196, 'reappear': 5197, 'happier': 5198, 'querulous': 5199, 'war': 5200, 'quartered': 5201, 'curtailed': 5202, 'setting': 5203, 'later': 5204, 'july': 5205, 'substitute': 5206, 'contracted': 5207, 'northwards': 5208, 'celebrated': 5209, 'matlock': 5210, 'chatsworth': 5211, 'dovedale': 5212, 'peak': 5213, 'impunity': 5214, 'rob': 5215, 'petrified': 5216, 'spars': 5217, 'doubled': 5218, 'loving': 5219, 'enhance': 5220, 'disappointments': 5221, 'route': 5222, 'oxford': 5223, 'blenheim': 5224, 'warwick': 5225, 'kenilworth': 5226, 'birmingham': 5227, 'lambton': 5228, 'willingness': 5229, 'carpets': 5230, 'curtains': 5231, 'richly': 5232, 'furnished': 5233, 'finest': 5234, 'woods': 5235, 'acquiesce': 5236, 'resource': 5237, 'unfavourably': 5238, 'chambermaid': 5239, 'alarms': 5240, 'revived': 5241, 'perturbation': 5242, 'flutter': 5243, 'lowest': 5244, 'wood': 5245, 'stretching': 5246, 'top': 5247, 'eminence': 5248, 'valley': 5249, 'abruptness': 5250, 'stone': 5251, 'backed': 5252, 'ridge': 5253, 'woody': 5254, 'hills': 5255, 'stream': 5256, 'swelled': 5257, 'artificial': 5258, 'banks': 5259, 'falsely': 5260, 'descended': 5261, 'bridge': 5262, 'elderly': 5263, 'proportioned': 5264, 'surveying': 5265, 'crowned': 5266, 'river': 5267, 'scattered': 5268, 'winding': 5269, 'trace': 5270, 'positions': 5271, 'lofty': 5272, 'gaudy': 5273, 'uselessly': 5274, 'splendour': 5275, 'reynolds': 5276, 'miniatures': 5277, 'army': 5278, 'intimation': 5279, 'plays': 5280, 'sings': 5281, 'communicativeness': 5282, 'hearted': 5283, 'affable': 5284, 'pictures': 5285, 'dimensions': 5286, 'merits': 5287, 'landlord': 5288, 'nowadays': 5289, 'whispered': 5290, 'reaching': 5291, 'spacious': 5292, 'lobby': 5293, 'lightness': 5294, 'apartments': 5295, 'bedrooms': 5296, 'paintings': 5297, 'drawings': 5298, 'crayons': 5299, 'lifetime': 5300, 'sensation': 5301, 'canvas': 5302, 'inspection': 5303, 'consigned': 5304, 'gardener': 5305, 'date': 5306, 'stables': 5307, 'yards': 5308, 'abrupt': 5309, 'deepest': 5310, 'lift': 5311, 'recurring': 5312, 'sedateness': 5313, 'distraction': 5314, 'discrimination': 5315, 'alighted': 5316, 'strikingly': 5317, 'water': 5318, 'nobler': 5319, 'mechanically': 5320, 'appeals': 5321, 'aroused': 5322, 'spots': 5323, 'wander': 5324, 'overspreading': 5325, 'triumphant': 5326, 'accustomed': 5327, 'circuit': 5328, 'hanging': 5329, 'narrowest': 5330, 'simple': 5331, 'glen': 5332, 'rough': 5333, 'coppice': 5334, 'explore': 5335, 'windings': 5336, 'submit': 5337, 'slow': 5338, 'fishing': 5339, 'trout': 5340, 'lasted': 5341, 'imitate': 5342, 'mischievously': 5343, 'construed': 5344, 'unprepared': 5345, 'revolted': 5346, 'named': 5347, 'stole': 5348, 'sly': 5349, 'decamping': 5350, 'sustained': 5351, 'fortitude': 5352, 'gloried': 5353, 'tackle': 5354, 'reproofs': 5355, 'resuming': 5356, 'brink': 5357, 'plant': 5358, 'chanced': 5359, 'originated': 5360, 'inadequate': 5361, 'bakewell': 5362, 'acceded': 5363, 'outstripped': 5364, 'lawn': 5365, 'embargo': 5366, 'dove': 5367, 'dale': 5368, 'unbecoming': 5369, 'whimsical': 5370, 'misunderstood': 5371, 'mouth': 5372, 'unfavourable': 5373, 'flaming': 5374, 'comprehends': 5375, 'construction': 5376, 'faulty': 5377, 'naming': 5378, 'relied': 5379, 'environs': 5380, 'satisfactions': 5381, 'discontinuance': 5382, 'curricle': 5383, 'recognizing': 5384, 'livery': 5385, 'guessed': 5386, 'imparted': 5387, 'acquainting': 5388, 'newly': 5389, 'heads': 5390, 'disquiet': 5391, 'commonly': 5392, 'retreated': 5393, 'shy': 5394, 'obtain': 5395, 'monosyllable': 5396, 'scale': 5397, 'womanly': 5398, 'graceful': 5399, 'unembarrassed': 5400, 'discerning': 5401, 'barely': 5402, 'personage': 5403, 'overflowing': 5404, 'prepossessed': 5405, 'rival': 5406, 'interpretation': 5407, 'denoted': 5408, 'untinctured': 5409, 'unattended': 5410, 'temporary': 5411, 'outlived': 5412, 'courting': 5413, 'unbending': 5414, 'invitations': 5415, 'presuming': 5416, 'avoidance': 5417, 'construing': 5418, 'untouched': 5419, 'reference': 5420, 'recognized': 5421, 'indicated': 5422, 'imperfectly': 5423, 'debts': 5424, 'discharged': 5425, 'hatred': 5426, 'repugnant': 5427, 'friendlier': 5428, 'petulance': 5429, 'acrimony': 5430, 'enemy': 5431, 'indelicate': 5432, 'peculiarity': 5433, 'selves': 5434, 'ardent': 5435, 'unpleasing': 5436, 'possessed': 5437, 'imitated': 5438, 'equalled': 5439, 'saloon': 5440, 'oaks': 5441, 'spanish': 5442, 'chestnuts': 5443, 'intermediate': 5444, 'annesley': 5445, 'closely': 5446, 'employing': 5447, 'brevity': 5448, 'variation': 5449, 'cake': 5450, 'fruits': 5451, 'pyramids': 5452, 'grapes': 5453, 'nectarines': 5454, 'peaches': 5455, 'deciding': 5456, 'predominate': 5457, 'learning': 5458, 'forwarded': 5459, 'sneering': 5460, 'uppermost': 5461, 'exerting': 5462, 'vigorously': 5463, 'repel': 5464, 'involuntary': 5465, 'refrained': 5466, 'discompose': 5467, 'injure': 5468, 'venting': 5469, 'criticisms': 5470, 'brown': 5471, 'coarse': 5472, 'tanned': 5473, 'rejoined': 5474, 'nose': 5475, 'teeth': 5476, 'shrewish': 5477, 'sufficiency': 5478, 'recommending': 5479, 'nettled': 5480, 'resolutely': 5481, 'mostly': 5482, 'fruit': 5483, 'repining': 5484, 'missent': 5485, 'scotland': 5486, 'thoughtless': 5487, 'indiscreet': 5488, 'conjectured': 5489, 'missed': 5490, 'finishing': 5491, 'seized': 5492, 'bewildered': 5493, 'coherent': 5494, 'f': 5495, 'gretna': 5496, 'w': 5497, 'b': 5498, 'clapham': 5499, 'hackney': 5500, 'dismissed': 5501, 'epsom': 5502, 'anxiously': 5503, 'turnpikes': 5504, 'inns': 5505, 'barnet': 5506, 'hatfield': 5507, 'kindest': 5508, 'apprehensions': 5509, 'safest': 5510, 'exigence': 5511, 'rely': 5512, 'darting': 5513, 'losing': 5514, 'precious': 5515, 'impetuous': 5516, 'superseded': 5517, 'detain': 5518, 'knees': 5519, 'trembled': 5520, 'commissioned': 5521, 'unintelligible': 5522, 'miserably': 5523, 'commiseration': 5524, 'glass': 5525, 'wretched': 5526, 'indistinctly': 5527, 'eloped': 5528, 'horrible': 5529, 'meditation': 5530, 'brow': 5531, 'consolatory': 5532, 'bosom': 5533, 'palliation': 5534, 'intrude': 5535, 'engross': 5536, 'swallowed': 5537, 'handkerchief': 5538, 'torment': 5539, 'calls': 5540, 'meetings': 5541, 'retrospective': 5542, 'contradictions': 5543, 'varieties': 5544, 'sighed': 5545, 'promoted': 5546, 'termination': 5547, 'foundations': 5548, 'sources': 5549, 'exchanged': 5550, 'authorise': 5551, 'infamy': 5552, 'additional': 5553, 'anguish': 5554, 'deliberately': 5555, 'fluctuating': 5556, 'cares': 5557, 'deranged': 5558, 'satisfying': 5559, 'trembling': 5560, 'afflicted': 5561, 'actuated': 5562, 'disclose': 5563, 'notes': 5564, 'excuses': 5565, 'completed': 5566, 'shorter': 5567, 'space': 5568, 'unprotected': 5569, 'friendless': 5570, 'adequate': 5571, 'brightening': 5572, 'decency': 5573, 'guilty': 5574, 'removing': 5575, 'presumption': 5576, 'traces': 5577, 'exceptional': 5578, 'abundant': 5579, 'economically': 5580, 'expeditiously': 5581, 'forego': 5582, 'benefiting': 5583, 'dishonourable': 5584, 'indolence': 5585, 'dispose': 5586, 'susceptibility': 5587, 'captivate': 5588, 'profligate': 5589, 'insinuating': 5590, 'alive': 5591, 'liberality': 5592, 'lies': 5593, 'endless': 5594, 'thoroughly': 5595, 'unpretending': 5596, 'apparently': 5597, 'ensue': 5598, 'perceptible': 5599, 'moderate': 5600, 'favourites': 5601, 'forgetfulness': 5602, 'travelled': 5603, 'sleeping': 5604, 'wearied': 5605, 'paddock': 5606, 'lighted': 5607, 'faces': 5608, 'bodies': 5609, 'capers': 5610, 'frisks': 5611, 'jumped': 5612, 'kiss': 5613, 'embraced': 5614, 'filled': 5615, 'fugitives': 5616, 'safety': 5617, 'alternate': 5618, 'sanguine': 5619, 'deserted': 5620, 'proceedings': 5621, 'invectives': 5622, 'villainous': 5623, 'forsters': 5624, 'overruled': 5625, 'fight': 5626, 'killed': 5627, 'terrific': 5628, 'fighting': 5629, 'frighted': 5630, 'wits': 5631, 'tremblings': 5632, 'flutterings': 5633, 'spasms': 5634, 'beatings': 5635, 'seclusion': 5636, 'household': 5637, 'busily': 5638, 'incurred': 5639, 'fretfulness': 5640, 'stem': 5641, 'pour': 5642, 'bosoms': 5643, 'balm': 5644, 'lesson': 5645, 'irretrievable': 5646, 'involves': 5647, 'brittle': 5648, 'lifted': 5649, 'moral': 5650, 'extractions': 5651, 'availed': 5652, 'sequel': 5653, 'brains': 5654, 'unjustifiable': 5655, 'pocket': 5656, 'sally': 5657, 'slit': 5658, 'packed': 5659, 'belonging': 5660, 'hysterics': 5661, 'faculties': 5662, 'repose': 5663, 'condole': 5664, 'services': 5665, 'condolence': 5666, 'insufferable': 5667, 'postilions': 5668, 'fare': 5669, 'remarked': 5670, 'anyhow': 5671, 'negligent': 5672, 'dilatory': 5673, 'duel': 5674, 'serviceable': 5675, 'heartening': 5676, 'reporting': 5677, 'irregularity': 5678, 'dispirited': 5679, 'striving': 5680, 'blacken': 5681, 'tradesman': 5682, 'intrigues': 5683, 'title': 5684, 'seduction': 5685, 'wickedest': 5686, 'distrusted': 5687, 'gaining': 5688, 'hotels': 5689, 'disinclined': 5690, 'intimates': 5691, 'clue': 5692, 'essential': 5693, 'curiosities': 5694, 'affliction': 5695, 'sympathise': 5696, 'bitterest': 5697, 'alleviate': 5698, 'afflicting': 5699, 'parent': 5700, 'lamented': 5701, 'informs': 5702, 'licentiousness': 5703, 'enormity': 5704, 'howsoever': 5705, 'grievously': 5706, 'apprehending': 5707, 'fortunes': 5708, 'condescendingly': 5709, 'connect': 5710, 'augmented': 5711, 'reap': 5712, 'heinous': 5713, 'finances': 5714, 'transpired': 5715, 'gaming': 5716, 'gamester': 5717, 'spiritless': 5718, 'yielded': 5719, 'stage': 5720, 'lowness': 5721, 'fairly': 5722, 'dread': 5723, 'sleepless': 5724, 'philosophic': 5725, 'parade': 5726, 'nightcap': 5727, 'powdering': 5728, 'runs': 5729, 'eastbourne': 5730, 'prohibited': 5731, 'stir': 5732, 'threats': 5733, 'cry': 5734, 'concluding': 5735, 'thence': 5736, 'butler': 5737, 'copse': 5738, 'lagged': 5739, 'panting': 5740, 'august': 5741, 'settlement': 5742, 'conditions': 5743, 'privileged': 5744, 'haggerston': 5745, 'diligence': 5746, 'explicitly': 5747, 'edw': 5748, 'farthing': 5749, 'clearing': 5750, 'sixpence': 5751, 'requited': 5752, 'protection': 5753, 'consenting': 5754, 'preparation': 5755, 'exuberance': 5756, 'fidgety': 5757, 'disturbed': 5758, 'humbled': 5759, 'transports': 5760, 'pledged': 5761, 'sounds': 5762, 'dictate': 5763, 'calico': 5764, 'cambric': 5765, 'dictated': 5766, 'plentiful': 5767, 'consulted': 5768, 'philips': 5769, 'airing': 5770, 'bowl': 5771, 'punch': 5772, 'refuge': 5773, 'justly': 5774, 'annual': 5775, 'survived': 5776, 'britain': 5777, 'rested': 5778, 'cutting': 5779, 'successively': 5780, 'exceeding': 5781, 'proportions': 5782, 'acceding': 5783, 'concisely': 5784, 'fulfil': 5785, 'loser': 5786, 'board': 5787, 'undertaking': 5788, 'proportionate': 5789, 'speed': 5790, 'decent': 5791, 'philosophy': 5792, 'secluded': 5793, 'farmhouse': 5794, 'spiteful': 5795, 'oppressively': 5796, 'damp': 5797, 'attendants': 5798, 'nuptials': 5799, 'muslins': 5800, 'searching': 5801, 'haye': 5802, 'gouldings': 5803, 'stoke': 5804, 'ashworth': 5805, 'pulvis': 5806, 'attics': 5807, 'admittance': 5808, 'impudence': 5809, 'guinea': 5810, 'inconceivable': 5811, 'valid': 5812, 'eloping': 5813, 'spreading': 5814, 'confidently': 5815, 'frailty': 5816, 'individually': 5817, 'gulf': 5818, 'impassable': 5819, 'scorned': 5820, 'shrink': 5821, 'blow': 5822, 'repented': 5823, 'proudly': 5824, 'spurned': 5825, 'gladly': 5826, 'mortal': 5827, 'multitude': 5828, 'connubial': 5829, 'precluding': 5830, 'permanent': 5831, 'passions': 5832, 'regulars': 5833, 'ensigncy': 5834, 'arrangements': 5835, 'creditors': 5836, 'payment': 5837, 'subjoin': 5838, 'south': 5839, 'begs': 5840, 'e': 5841, 'residing': 5842, 'mildly': 5843, 'culprit': 5844, 'endure': 5845, 'decked': 5846, 'impenetrably': 5847, 'stepped': 5848, 'forwards': 5849, 'shewed': 5850, 'austerity': 5851, 'untamed': 5852, 'unabashed': 5853, 'fearless': 5854, 'demanding': 5855, 'limits': 5856, 'impudent': 5857, 'caused': 5858, 'replies': 5859, 'expressively': 5860, 'hereabouts': 5861, 'overtook': 5862, 'goulding': 5863, 'glove': 5864, 'frame': 5865, 'housemaids': 5866, 'newcastle': 5867, 'regretted': 5868, 'elope': 5869, 'flight': 5870, 'kill': 5871, 'birds': 5872, 'september': 5873, 'body': 5874, 'managed': 5875, 'clement': 5876, 'eleven': 5877, 'fuss': 5878, 'distracted': 5879, 'sermon': 5880, 'breakfasted': 5881, \"'ll\": 5882, 'foot': 5883, 'theatre': 5884, 'faithfully': 5885, 'burning': 5886, 'noblest': 5887, 'seizing': 5888, 'dropt': 5889, 'cogent': 5890, 'tricks': 5891, 'stratagems': 5892, 'confidante': 5893, 'benches': 5894, 'sept': 5895, 'devote': 5896, 'foresee': 5897, 'comprise': 5898, 'explicit': 5899, 'racked': 5900, 'hunting': 5901, 'worthlessness': 5902, 'confide': 5903, 'generously': 5904, 'edward': 5905, 'bribery': 5906, 'corruption': 5907, 'insisted': 5908, 'expedite': 5909, 'consequences': 5910, 'resign': 5911, 'effectually': 5912, 'postponed': 5913, 'battled': 5914, 'sorely': 5915, 'grain': 5916, 'borrowed': 5917, 'feathers': 5918, 'amounting': 5919, 'admission': 5920, 'staid': 5921, 'bold': 5922, 'prudently': 5923, 'exclude': 5924, 'p': 5925, 'm': 5926, 'unsettled': 5927, 'uncertainty': 5928, 'attendant': 5929, 'research': 5930, 'supplication': 5931, 'abominate': 5932, 'bribe': 5933, 'considerations': 5934, 'revolt': 5935, 'saucy': 5936, 'overtaken': 5937, 'strangely': 5938, 'biting': 5939, 'silenced': 5940, 'kympton': 5941, 'palatable': 5942, 'compromised': 5943, 'kissed': 5944, 'simpers': 5945, 'smirks': 5946, 'prodigiously': 5947, 'forlorn': 5948, 'shoot': 5949, 'fidgets': 5950, 'latest': 5951, 'butcher': 5952, 'ducks': 5953, 'wavered': 5954, 'legally': 5955, 'hired': 5956, 'speculation': 5957, 'errand': 5958, 'neighbouring': 5959, \"'tis\": 5960, 'shan': 5961, 'thirteen': 5962, 'sufferer': 5963, 'counted': 5964, 'intervene': 5965, 'vow': 5966, 'explanatory': 5967, 'shew': 5968, 'undervalued': 5969, 'benefits': 5970, 'witnessing': 5971, 'lustre': 5972, 'unshaken': 5973, 'paler': 5974, 'sedate': 5975, 'contrasted': 5976, 'preservation': 5977, 'irremediable': 5978, 'thoughtfulness': 5979, 'changes': 5980, 'papers': 5981, 'courier': 5982, 'esq': 5983, 'northward': 5984, 'levelled': 5985, 'vastly': 5986, 'covies': 5987, 'compensation': 5988, 'kindled': 5989, 'chatty': 5990, 'mindful': 5991, 'deaden': 5992, 'dines': 5993, 'sportsmen': 5994, 'forbore': 5995, 'sanction': 5996, 'ungraciousness': 5997, 'enabling': 5998, 'wearisome': 5999, 'pouring': 6000, 'confederacy': 6001, 'vacancy': 6002, 'closer': 6003, 'enraged': 6004, 'protest': 6005, 'abhorrent': 6006, 'cup': 6007, 'scarborough': 6008, 'victim': 6009, 'rapacity': 6010, 'unsuccessfully': 6011, 'venison': 6012, 'roasted': 6013, 'fat': 6014, 'haunch': 6015, 'partridges': 6016, 'french': 6017, 'cooks': 6018, 'mortifies': 6019, 'instruct': 6020, 'sarah': 6021, 'forwarder': 6022, 'hang': 6023, 'sash': 6024, 'winking': 6025, 'innocently': 6026, 'wink': 6027, 'waste': 6028, 'premeditation': 6029, 'ineffectual': 6030, 'officiousness': 6031, 'appointment': 6032, 'communicative': 6033, 'eccentric': 6034, 'invention': 6035, 'counteract': 6036, 'infinite': 6037, 'hearth': 6038, 'basis': 6039, 'super': 6040, 'simpered': 6041, 'tempers': 6042, 'cheat': 6043, 'exceed': 6044, 'dispense': 6045, 'petitioned': 6046, 'barbarous': 6047, 'detested': 6048, 'advantageously': 6049, 'vex': 6050, 'dupe': 6051, 'forgiving': 6052, 'forty': 6053, 'shift': 6054, 'luckiest': 6055, 'equipage': 6056, 'preceded': 6057, 'confinement': 6058, 'stiffly': 6059, 'west': 6060, 'puzzled': 6061, 'prettyish': 6062, 'wilderness': 6063, 'hermitage': 6064, 'pronouncing': 6065, 'survey': 6066, 'trifled': 6067, 'insincere': 6068, 'frankness': 6069, 'contradicted': 6070, 'industriously': 6071, 'circulated': 6072, 'retains': 6073, 'allurements': 6074, 'infatuation': 6075, 'aspire': 6076, 'cradles': 6077, 'unallied': 6078, 'tacit': 6079, 'completion': 6080, 'inclinations': 6081, 'dissuaded': 6082, 'brooking': 6083, 'maternal': 6084, 'ancient': 6085, 'untitled': 6086, 'member': 6087, 'respective': 6088, 'upstart': 6089, 'sphere': 6090, 'aunts': 6091, 'recede': 6092, 'intimidated': 6093, 'persuasions': 6094, 'importuned': 6095, 'patched': 6096, 'expence': 6097, 'earth': 6098, 'shades': 6099, 'polluted': 6100, 'insulted': 6101, 'constitute': 6102, 'obey': 6103, 'violated': 6104, 'scorn': 6105, 'final': 6106, 'ambition': 6107, 'originate': 6108, 'revolving': 6109, 'persisting': 6110, 'judgment': 6111, 'miseries': 6112, 'weakest': 6113, 'solid': 6114, 'reasoning': 6115, 'wavering': 6116, 'unblemished': 6117, 'constancy': 6118, 'obligingly': 6119, 'appeased': 6120, 'dismay': 6121, 'consequent': 6122, 'explanations': 6123, 'rushed': 6124, 'instantaneous': 6125, 'undetermined': 6126, 'penetration': 6127, 'sagacity': 6128, 'gossiping': 6129, 'advertised': 6130, 'presumed': 6131, 'illustrious': 6132, 'personages': 6133, 'land': 6134, 'kindred': 6135, 'incur': 6136, 'closure': 6137, 'pitched': 6138, 'lie': 6139, 'blemish': 6140, 'pleasantry': 6141, 'termed': 6142, 'speediest': 6143, 'hushed': 6144, 'declaring': 6145, 'christian': 6146, 'forgiveness': 6147, 'missish': 6148, 'hypocrisy': 6149, 'outstrip': 6150, 'boldly': 6151, 'executed': 6152, 'unexampled': 6153, 'mortifications': 6154, 'discovering': 6155, 'inducements': 6156, 'april': 6157, 'unchanged': 6158, 'fluently': 6159, 'undergone': 6160, 'heartfelt': 6161, 'diffused': 6162, 'proving': 6163, 'emphatically': 6164, 'contrariwise': 6165, 'irrevocably': 6166, 'frankly': 6167, 'premises': 6168, 'severest': 6169, 'annexed': 6170, 'strictly': 6171, 'irreproachable': 6172, 'inexpressibly': 6173, 'tortured': 6174, 'devoid': 6175, 'burnt': 6176, 'unalterable': 6177, 'implies': 6178, 'charity': 6179, 'retrospections': 6180, 'void': 6181, 'innocence': 6182, 'repelled': 6183, 'principles': 6184, 'benevolent': 6185, 'overbearing': 6186, 'loveliest': 6187, 'blamed': 6188, 'leisurely': 6189, 'busy': 6190, 'watches': 6191, 'term': 6192, 'unabated': 6193, 'forgiven': 6194, 'unmarked': 6195, 'unacknowledged': 6196, 'overflows': 6197, 'joking': 6198, 'loves': 6199, 'doubtingly': 6200, 'shooting': 6201, 'disturb': 6202, 'epithet': 6203, 'lanes': 6204, 'oakham': 6205, 'mount': 6206, 'vehemence': 6207, 'filling': 6208, 'disposing': 6209, 'gradual': 6210, 'test': 6211, 'reconcile': 6212, 'rant': 6213, 'storm': 6214, 'tranquilly': 6215, 'familiarity': 6216, 'backward': 6217, 'fidget': 6218, 'pin': 6219, 'jewels': 6220, 'special': 6221, 'licence': 6222, 'omen': 6223, 'warmest': 6224, 'withstood': 6225, 'assiduously': 6226, 'exaggerate': 6227, 'quarrelling': 6228, 'springs': 6229, 'detail': 6230, 'loose': 6231, 'rein': 6232, 'sends': 6233, 'sending': 6234, 'blown': 6235, 'parading': 6236, 'obsequious': 6237, 'jewel': 6238, 'shrug': 6239, 'shoulders': 6240, 'vulgarity': 6241, 'shield': 6242, 'relished': 6243, 'unusual': 6244, 'vicinity': 6245, 'darling': 6246, 'ungovernable': 6247, 'insipid': 6248, 'mix': 6249, 'moralize': 6250, 'comparisons': 6251, 'submitted': 6252, 'reluctance': 6253, 'revolution': 6254, 'ingratitude': 6255, 'congratulatory': 6256, 'expences': 6257, 'heedless': 6258, 'bills': 6259, 'cheap': 6260, 'bath': 6261, 'retain': 6262, 'heretofore': 6263, 'arrear': 6264, 'sportive': 6265, 'liberties': 6266, 'pollution': 6267, 'city': 6268, 'uniting': 6269}\n",
      "##########\n",
      "{1: '<s>', 2: 'it', 3: 'is', 4: 'a', 5: 'truth', 6: 'universally', 7: 'acknowledged', 8: ',', 9: 'that', 10: 'single', 11: 'man', 12: 'in', 13: 'possession', 14: 'of', 15: 'good', 16: 'fortune', 17: 'must', 18: 'be', 19: 'want', 20: 'wife', 21: '.', 22: '</s>', 23: 'however', 24: 'little', 25: 'known', 26: 'the', 27: 'feelings', 28: 'or', 29: 'views', 30: 'such', 31: 'may', 32: 'on', 33: 'his', 34: 'first', 35: 'entering', 36: 'neighbourhood', 37: 'this', 38: 'so', 39: 'well', 40: 'fixed', 41: 'minds', 42: 'surrounding', 43: 'families', 44: 'he', 45: 'considered', 46: 'rightful', 47: 'property', 48: 'some', 49: 'one', 50: 'other', 51: 'their', 52: 'daughters', 53: 'my', 54: 'dear', 55: 'mr', 56: 'bennet', 57: 'said', 58: 'lady', 59: 'to', 60: 'him', 61: 'day', 62: 'have', 63: 'you', 64: 'heard', 65: 'netherfield', 66: 'park', 67: 'let', 68: 'at', 69: 'last', 70: '?', 71: 'replied', 72: 'had', 73: 'not', 74: 'but', 75: 'returned', 76: 'she', 77: ';', 78: 'for', 79: 'mrs', 80: 'long', 81: 'has', 82: 'just', 83: 'been', 84: 'here', 85: 'and', 86: 'told', 87: 'me', 88: 'all', 89: 'about', 90: 'made', 91: 'no', 92: 'answer', 93: 'do', 94: 'know', 95: 'who', 96: 'taken', 97: 'cried', 98: 'impatiently', 99: 'tell', 100: 'i', 101: 'objection', 102: 'hearing', 103: 'was', 104: 'invitation', 105: 'enough', 106: 'why', 107: 'says', 108: 'by', 109: 'young', 110: 'large', 111: 'from', 112: 'north', 113: 'england', 114: 'came', 115: 'down', 116: 'monday', 117: 'chaise', 118: 'four', 119: 'see', 120: 'place', 121: 'much', 122: 'delighted', 123: 'with', 124: 'agreed', 125: 'morris', 126: 'immediately', 127: 'take', 128: 'before', 129: 'michaelmas', 130: 'servants', 131: 'are', 132: 'house', 133: 'end', 134: 'next', 135: 'week', 136: 'what', 137: 'name', 138: 'bingley', 139: 'married', 140: 'oh', 141: '!', 142: 'sure', 143: 'five', 144: 'thousand', 145: 'year', 146: 'fine', 147: 'thing', 148: 'our', 149: 'girls', 150: 'how', 151: 'can', 152: 'affect', 153: 'them', 154: 'tiresome', 155: 'am', 156: 'thinking', 157: 'marrying', 158: 'design', 159: 'settling', 160: 'nonsense', 161: 'talk', 162: 'very', 163: 'likely', 164: 'fall', 165: 'love', 166: 'therefore', 167: 'visit', 168: 'as', 169: 'soon', 170: 'comes', 171: 'occasion', 172: 'go', 173: 'send', 174: 'themselves', 175: 'which', 176: 'perhaps', 177: 'will', 178: 'still', 179: 'better', 180: 'handsome', 181: 'any', 182: 'like', 183: 'best', 184: 'party', 185: 'flatter', 186: 'certainly', 187: 'share', 188: 'beauty', 189: 'pretend', 190: 'anything', 191: 'extraordinary', 192: 'now', 193: 'when', 194: 'woman', 195: 'grown', 196: 'up', 197: 'ought', 198: 'give', 199: 'over', 200: 'her', 201: 'own', 202: 'cases', 203: 'often', 204: 'think', 205: 'indeed', 206: 'into', 207: 'more', 208: 'than', 209: 'engage', 210: 'assure', 211: 'consider', 212: 'your', 213: 'only', 214: 'an', 215: 'establishment', 216: 'would', 217: 'sir', 218: 'william', 219: 'lucas', 220: 'determined', 221: 'merely', 222: 'account', 223: 'general', 224: 'they', 225: 'newcomers', 226: 'impossible', 227: 'us', 228: 'if', 229: 'scrupulous', 230: 'surely', 231: 'dare', 232: 'say', 233: 'glad', 234: 'few', 235: 'lines', 236: 'hearty', 237: 'consent', 238: 'whichever', 239: 'chooses', 240: 'though', 241: 'throw', 242: 'word', 243: 'lizzy', 244: 'desire', 245: 'bit', 246: 'others', 247: 'half', 248: 'jane', 249: 'nor', 250: 'humoured', 251: 'lydia', 252: 'always', 253: 'giving', 254: 'preference', 255: 'none', 256: 'recommend', 257: 'silly', 258: 'ignorant', 259: 'something', 260: 'quickness', 261: 'sisters', 262: 'abuse', 263: 'children', 264: 'way', 265: 'delight', 266: 'vexing', 267: 'compassion', 268: 'poor', 269: 'nerves', 270: 'mistake', 271: 'high', 272: 'respect', 273: 'old', 274: 'friends', 275: 'mention', 276: 'consideration', 277: 'these', 278: 'twenty', 279: 'years', 280: 'least', 281: 'ah', 282: 'suffer', 283: 'hope', 284: 'get', 285: 'live', 286: 'many', 287: 'men', 288: 'come', 289: 'use', 290: 'should', 291: 'since', 292: 'depend', 293: 'upon', 294: 'there', 295: 'odd', 296: 'mixture', 297: 'quick', 298: 'parts', 299: 'sarcastic', 300: 'humour', 301: 'reserve', 302: 'caprice', 303: 'experience', 304: 'three', 305: 'insufficient', 306: 'make', 307: 'understand', 308: 'character', 309: 'mind', 310: 'less', 311: 'difficult', 312: 'develop', 313: 'mean', 314: 'understanding', 315: 'information', 316: 'uncertain', 317: 'temper', 318: 'discontented', 319: 'fancied', 320: 'herself', 321: 'nervous', 322: 'business', 323: 'life', 324: 'its', 325: 'solace', 326: 'visiting', 327: 'news', 328: 'among', 329: 'earliest', 330: 'those', 331: 'waited', 332: 'intended', 333: 'assuring', 334: 'till', 335: 'evening', 336: 'after', 337: 'paid', 338: 'knowledge', 339: 'then', 340: 'disclosed', 341: 'following', 342: 'manner', 343: 'observing', 344: 'second', 345: 'daughter', 346: 'employed', 347: 'trimming', 348: 'hat', 349: 'suddenly', 350: 'addressed', 351: 'we', 352: 'likes', 353: 'mother', 354: 'resentfully', 355: 'forget', 356: 'mamma', 357: 'elizabeth', 358: 'shall', 359: 'meet', 360: 'assemblies', 361: 'promised', 362: 'introduce', 363: 'believe', 364: 'two', 365: 'nieces', 366: 'selfish', 367: 'hypocritical', 368: 'opinion', 369: 'find', 370: 'serving', 371: 'deigned', 372: 'reply', 373: 'unable', 374: 'contain', 375: 'began', 376: 'scolding', 377: 'don', 378: \"'t\", 379: 'keep', 380: 'coughing', 381: 'kitty', 382: 'heaven', 383: \"'s\", 384: 'sake', 385: 'tear', 386: 'pieces', 387: 'discretion', 388: 'coughs', 389: 'father', 390: 'times', 391: 'ill', 392: 'cough', 393: 'amusement', 394: 'fretfully', 395: 'ball', 396: 'morrow', 397: 'fortnight', 398: 'aye', 399: 'does', 400: 'back', 401: 'advantage', 402: 'friend', 403: 'acquainted', 404: 'myself', 405: 'teasing', 406: 'honour', 407: 'circumspection', 408: 'acquaintance', 409: 'cannot', 410: 'really', 411: 'venture', 412: 'somebody', 413: 'else', 414: 'stand', 415: 'chance', 416: 'act', 417: 'kindness', 418: 'decline', 419: 'office', 420: 'stared', 421: 'meaning', 422: 'emphatic', 423: 'exclamation', 424: 'forms', 425: 'introduction', 426: 'stress', 427: 'laid', 428: 'quite', 429: 'agree', 430: 'mary', 431: 'deep', 432: 'reflection', 433: 'read', 434: 'great', 435: 'books', 436: 'extracts', 437: 'wished', 438: 'sensible', 439: 'knew', 440: 'while', 441: 'adjusting', 442: 'ideas', 443: 'continued', 444: 'return', 445: 'sick', 446: 'sorry', 447: 'hear', 448: 'did', 449: 'morning', 450: 'called', 451: 'unlucky', 452: 'actually', 453: 'escape', 454: 'astonishment', 455: 'ladies', 456: 'surpassing', 457: 'rest', 458: 'tumult', 459: 'joy', 460: 'declare', 461: 'expected', 462: 'persuade', 463: 'loved', 464: 'too', 465: 'neglect', 466: 'pleased', 467: 'joke', 468: 'gone', 469: 'never', 470: 'choose', 471: 'spoke', 472: 'left', 473: 'room', 474: 'fatigued', 475: 'raptures', 476: 'excellent', 477: 'door', 478: 'shut', 479: 'ever', 480: 'amends', 481: 'either', 482: 'matter', 483: 'time', 484: 'pleasant', 485: 'making', 486: 'new', 487: 'acquaintances', 488: 'every', 489: 'sakes', 490: 'youngest', 491: 'dance', 492: 'stoutly', 493: 'afraid', 494: \"'m\", 495: 'tallest', 496: 'spent', 497: 'conjecturing', 498: 'determining', 499: 'ask', 500: 'dinner', 501: 'assistance', 502: 'could', 503: 'subject', 504: 'sufficient', 505: 'draw', 506: 'husband', 507: 'satisfactory', 508: 'description', 509: 'attacked', 510: 'various', 511: 'ways', 512: 'barefaced', 513: 'questions', 514: 'ingenious', 515: 'suppositions', 516: 'distant', 517: 'surmises', 518: 'eluded', 519: 'skill', 520: 'were', 521: 'obliged', 522: 'accept', 523: 'hand', 524: 'intelligence', 525: 'neighbour', 526: 'report', 527: 'highly', 528: 'favourable', 529: 'wonderfully', 530: 'extremely', 531: 'agreeable', 532: 'crown', 533: 'whole', 534: 'meant', 535: 'assembly', 536: 'nothing', 537: 'delightful', 538: 'fond', 539: 'dancing', 540: 'certain', 541: 'step', 542: 'towards', 543: 'falling', 544: 'lively', 545: 'hopes', 546: 'heart', 547: 'entertained', 548: 'happily', 549: 'settled', 550: 'equally', 551: 'wish', 552: 'days', 553: 'sat', 554: 'ten', 555: 'minutes', 556: 'library', 557: 'being', 558: 'admitted', 559: 'sight', 560: 'whose', 561: 'saw', 562: 'somewhat', 563: 'fortunate', 564: 'ascertaining', 565: 'upper', 566: 'window', 567: 'wore', 568: 'blue', 569: 'coat', 570: 'rode', 571: 'black', 572: 'horse', 573: 'afterwards', 574: 'dispatched', 575: 'already', 576: 'planned', 577: 'courses', 578: 'credit', 579: 'housekeeping', 580: 'arrived', 581: 'deferred', 582: 'town', 583: 'consequently', 584: 'etc', 585: 'disconcerted', 586: 'imagine', 587: 'arrival', 588: 'hertfordshire', 589: 'fear', 590: 'might', 591: 'flying', 592: 'another', 593: 'quieted', 594: 'fears', 595: 'starting', 596: 'idea', 597: 'london', 598: 'followed', 599: 'bring', 600: 'twelve', 601: 'seven', 602: 'gentlemen', 603: 'grieved', 604: 'number', 605: 'comforted', 606: 'instead', 607: 'brought', 608: 'six', 609: 'cousin', 610: 'entered', 611: 'consisted', 612: 'altogether', 613: 'eldest', 614: 'looking', 615: 'gentlemanlike', 616: 'countenance', 617: 'easy', 618: 'unaffected', 619: 'manners', 620: 'women', 621: 'air', 622: 'decided', 623: 'fashion', 624: 'brother', 625: 'law', 626: 'hurst', 627: 'looked', 628: 'gentleman', 629: 'darcy', 630: 'drew', 631: 'attention', 632: 'tall', 633: 'person', 634: 'features', 635: 'noble', 636: 'mien', 637: 'circulation', 638: 'within', 639: 'entrance', 640: 'having', 641: 'pronounced', 642: 'figure', 643: 'declared', 644: 'handsomer', 645: 'admiration', 646: 'gave', 647: 'disgust', 648: 'turned', 649: 'tide', 650: 'popularity', 651: 'discovered', 652: 'proud', 653: 'above', 654: 'company', 655: 'estate', 656: 'derbyshire', 657: 'save', 658: 'most', 659: 'forbidding', 660: 'disagreeable', 661: 'unworthy', 662: 'compared', 663: 'himself', 664: 'principal', 665: 'people', 666: 'unreserved', 667: 'danced', 668: 'angry', 669: 'closed', 670: 'early', 671: 'talked', 672: 'amiable', 673: 'qualities', 674: 'speak', 675: 'contrast', 676: 'between', 677: 'once', 678: 'miss', 679: 'declined', 680: 'introduced', 681: 'walking', 682: 'speaking', 683: 'occasionally', 684: 'proudest', 685: 'world', 686: 'everybody', 687: 'hoped', 688: 'again', 689: 'amongst', 690: 'violent', 691: 'against', 692: 'dislike', 693: 'behaviour', 694: 'sharpened', 695: 'particular', 696: 'resentment', 697: 'slighted', 698: 'scarcity', 699: 'sit', 700: 'dances', 701: 'during', 702: 'part', 703: 'standing', 704: 'near', 705: 'conversation', 706: 'press', 707: 'join', 708: 'hate', 709: 'yourself', 710: 'stupid', 711: 'detest', 712: 'unless', 713: 'particularly', 714: 'partner', 715: 'insupportable', 716: 'engaged', 717: 'whom', 718: 'punishment', 719: 'fastidious', 720: 'kingdom', 721: 'met', 722: 'several', 723: 'uncommonly', 724: 'pretty', 725: 'girl', 726: 'beautiful', 727: 'creature', 728: 'beheld', 729: 'sitting', 730: 'behind', 731: 'turning', 732: 'round', 733: 'moment', 734: 'catching', 735: 'eye', 736: 'withdrew', 737: 'coldly', 738: 'tolerable', 739: 'tempt', 740: 'present', 741: 'consequence', 742: 'enjoy', 743: 'smiles', 744: 'wasting', 745: 'advice', 746: 'walked', 747: 'off', 748: 'remained', 749: 'cordial', 750: 'toward', 751: 'story', 752: 'spirit', 753: 'playful', 754: 'disposition', 755: 'ridiculous', 756: 'passed', 757: 'pleasantly', 758: 'family', 759: 'seen', 760: 'admired', 761: 'twice', 762: 'distinguished', 763: 'gratified', 764: 'quieter', 765: 'felt', 766: 'pleasure', 767: 'mentioned', 768: 'accomplished', 769: 'catherine', 770: 'without', 771: 'partners', 772: 'yet', 773: 'learnt', 774: 'care', 775: 'spirits', 776: 'longbourn', 777: 'village', 778: 'where', 779: 'lived', 780: 'inhabitants', 781: 'found', 782: 'book', 783: 'regardless', 784: 'deal', 785: 'curiosity', 786: 'event', 787: 'raised', 788: 'splendid', 789: 'expectations', 790: 'rather', 791: 'stranger', 792: 'disappointed', 793: 'out', 794: 'different', 795: 'thought', 796: 'asked', 797: 'vexed', 798: 'admire', 799: 'nobody', 800: 'seemed', 801: 'struck', 802: 'going', 803: 'inquired', 804: 'got', 805: 'third', 806: 'king', 807: 'fourth', 808: 'maria', 809: 'fifth', 810: 'sixth', 811: 'boulanger', 812: '', 813: 'god', 814: 'sprained', 815: 'ankle', 816: 'excessively', 817: 'charming', 818: 'elegant', 819: 'dresses', 820: 'lace', 821: 'gown', 822: 'interrupted', 823: 'protested', 824: 'finery', 825: 'seek', 826: 'branch', 827: 'related', 828: 'bitterness', 829: 'exaggeration', 830: 'shocking', 831: 'rudeness', 832: 'added', 833: 'lose', 834: 'suiting', 835: 'fancy', 836: 'horrid', 837: 'worth', 838: 'pleasing', 839: 'conceited', 840: 'enduring', 841: 'fancying', 842: 'given', 843: 'set', 844: 'downs', 845: 'alone', 846: 'former', 847: 'cautious', 848: 'praise', 849: 'expressed', 850: 'sister', 851: 'happy', 852: 'ease', 853: 'perfect', 854: 'breeding', 855: 'also', 856: 'likewise', 857: 'possibly', 858: 'thereby', 859: 'complete', 860: 'flattered', 861: 'asking', 862: 'expect', 863: 'compliment', 864: 'difference', 865: 'compliments', 866: 'surprise', 867: 'natural', 868: 'help', 869: 'seeing', 870: 'thanks', 871: 'gallantry', 872: 'leave', 873: 'liked', 874: 'stupider', 875: 'apt', 876: 'fault', 877: 'anybody', 878: 'eyes', 879: 'human', 880: 'hasty', 881: 'censuring', 882: 'anyone', 883: 'makes', 884: 'wonder', 885: 'sense', 886: 'honestly', 887: 'blind', 888: 'follies', 889: 'affectation', 890: 'candour', 891: 'common', 892: 'meets', 893: 'everywhere', 894: 'candid', 895: 'ostentation', 896: 'bad', 897: 'belongs', 898: 'equal', 899: 'converse', 900: 'mistaken', 901: 'listened', 902: 'silence', 903: 'convinced', 904: 'calculated', 905: 'please', 906: 'observation', 907: 'pliancy', 908: 'judgement', 909: 'unassailed', 910: 'disposed', 911: 'approve', 912: 'fact', 913: 'deficient', 914: 'power', 915: 'chose', 916: 'educated', 917: 'private', 918: 'seminaries', 919: 'pounds', 920: 'habit', 921: 'spending', 922: 'associating', 923: 'rank', 924: 'entitled', 925: 'meanly', 926: 'respectable', 927: 'circumstance', 928: 'deeply', 929: 'impressed', 930: 'memories', 931: 'acquired', 932: 'trade', 933: 'inherited', 934: 'amount', 935: 'nearly', 936: 'hundred', 937: 'purchase', 938: 'sometimes', 939: 'choice', 940: 'county', 941: 'provided', 942: 'liberty', 943: 'manor', 944: 'doubtful', 945: 'easiness', 946: 'whether', 947: 'spend', 948: 'remainder', 949: 'generation', 950: 'anxious', 951: 'established', 952: 'tenant', 953: 'means', 954: 'unwilling', 955: 'preside', 956: 'table', 957: 'home', 958: 'suited', 959: 'age', 960: 'tempted', 961: 'accidental', 962: 'recommendation', 963: 'look', 964: 'hour', 965: 'situation', 966: 'rooms', 967: 'satisfied', 968: 'owner', 969: 'took', 970: 'steady', 971: 'friendship', 972: 'spite', 973: 'opposition', 974: 'endeared', 975: 'openness', 976: 'ductility', 977: 'offer', 978: 'greater', 979: 'appeared', 980: 'dissatisfied', 981: 'strength', 982: 'regard', 983: 'firmest', 984: 'reliance', 985: 'highest', 986: 'superior', 987: 'clever', 988: 'same', 989: 'haughty', 990: 'reserved', 991: 'bred', 992: 'inviting', 993: 'greatly', 994: 'wherever', 995: 'continually', 996: 'offense', 997: 'meryton', 998: 'sufficiently', 999: 'characteristic', 1000: 'prettier', 1001: 'kind', 1002: 'attentive', 1003: 'formality', 1004: 'stiffness', 1005: 'conceive', 1006: 'angel', 1007: 'contrary', 1008: 'collection', 1009: 'smallest', 1010: 'interest', 1011: 'received', 1012: 'smiled', 1013: 'allowed', 1014: 'sweet', 1015: 'object', 1016: 'authorized', 1017: 'commendation', 1018: 'short', 1019: 'walk', 1020: 'bennets', 1021: 'intimate', 1022: 'formerly', 1023: 'risen', 1024: 'knighthood', 1025: 'address', 1026: 'mayoralty', 1027: 'distinction', 1028: 'strongly', 1029: 'residence', 1030: 'small', 1031: 'market', 1032: 'quitting', 1033: 'both', 1034: 'removed', 1035: 'mile', 1036: 'denominated', 1037: 'period', 1038: 'lodge', 1039: 'importance', 1040: 'unshackled', 1041: 'occupy', 1042: 'solely', 1043: 'civil', 1044: 'elated', 1045: 'render', 1046: 'supercilious', 1047: 'nature', 1048: 'inoffensive', 1049: 'friendly', 1050: 'obliging', 1051: 'presentation', 1052: 'st', 1053: 'james', 1054: 'courteous', 1055: 'valuable', 1056: 'intelligent', 1057: 'lucases', 1058: 'absolutely', 1059: 'necessary', 1060: 'communicate', 1061: 'charlotte', 1062: 'self', 1063: 'command', 1064: 'yes', 1065: 'suppose', 1066: 'because', 1067: 'seem', 1068: 'hardly', 1069: 'robinson', 1070: 'overheard', 1071: 'prettiest', 1072: 'answering', 1073: 'question', 1074: 'beyond', 1075: 'doubt', 1076: 'opinions', 1077: 'point', 1078: \"'\", 1079: 'overhearings', 1080: 'purpose', 1081: 'yours', 1082: 'eliza', 1083: 'listening', 1084: 'beg', 1085: 'put', 1086: 'head', 1087: 'treatment', 1088: 'misfortune', 1089: 'night', 1090: 'close', 1091: 'opening', 1092: 'lips', 1093: 'ma', 1094: \"'am\", 1095: 'speaks', 1096: 'remarkably', 1097: 'guess', 1098: 'eat', 1099: 'pride', 1100: 'somehow', 1101: 'carriage', 1102: 'hack', 1103: 'talking', 1104: 'safely', 1105: 'promise', 1106: 'offend', 1107: 'excuse', 1108: 'everything', 1109: 'favour', 1110: 'express', 1111: 'right', 1112: 'true', 1113: 'easily', 1114: 'forgive', 1115: 'mortified', 1116: 'mine', 1117: 'observed', 1118: 'piqued', 1119: 'solidity', 1120: 'reflections', 1121: 'failing', 1122: 'prone', 1123: 'cherish', 1124: 'feeling', 1125: 'complacency', 1126: 'score', 1127: 'quality', 1128: 'real', 1129: 'imaginary', 1130: 'vanity', 1131: 'things', 1132: 'words', 1133: 'used', 1134: 'synonymously', 1135: 'vain', 1136: 'relates', 1137: 'ourselves', 1138: 'rich', 1139: 'pack', 1140: 'foxhounds', 1141: 'drink', 1142: 'bottle', 1143: 'wine', 1144: 'away', 1145: 'directly', 1146: 'boy', 1147: 'argument', 1148: 'ended', 1149: 'due', 1150: 'form', 1151: 'grew', 1152: 'goodwill', 1153: 'intolerable', 1154: 'younger', 1155: 'greatest', 1156: 'superciliousness', 1157: 'excepting', 1158: 'even', 1159: 'value', 1160: 'arising', 1161: 'probability', 1162: 'influence', 1163: 'generally', 1164: 'evident', 1165: 'whenever', 1166: 'yielding', 1167: 'begun', 1168: 'entertain', 1169: 'united', 1170: 'composure', 1171: 'uniform', 1172: 'cheerfulness', 1173: 'guard', 1174: 'suspicions', 1175: 'impertinent', 1176: 'able', 1177: 'impose', 1178: 'public', 1179: 'case', 1180: 'disadvantage', 1181: 'guarded', 1182: 'conceals', 1183: 'affection', 1184: 'opportunity', 1185: 'fixing', 1186: 'consolation', 1187: 'dark', 1188: 'gratitude', 1189: 'almost', 1190: 'attachment', 1191: 'safe', 1192: 'itself', 1193: 'begin', 1194: 'freely', 1195: 'slight', 1196: 'encouragement', 1197: 'nine', 1198: 'show', 1199: 'feels', 1200: 'undoubtedly', 1201: 'allow', 1202: 'perceive', 1203: 'simpleton', 1204: 'discover', 1205: 'remember', 1206: 'partial', 1207: 'endeavour', 1208: 'conceal', 1209: 'sees', 1210: 'tolerably', 1211: 'hours', 1212: 'together', 1213: 'each', 1214: 'mixed', 1215: 'parties', 1216: 'conversing', 1217: 'secure', 1218: 'leisure', 1219: 'plan', 1220: 'adopt', 1221: 'acting', 1222: 'degree', 1223: 'reasonableness', 1224: 'dined', 1225: 'represent', 1226: 'appetite', 1227: 'evenings', 1228: 'enabled', 1229: 'ascertain', 1230: 'vingt', 1231: 'un', 1232: 'commerce', 1233: 'leading', 1234: 'unfolded', 1235: 'success', 1236: 'happiness', 1237: 'studying', 1238: 'twelvemonth', 1239: 'marriage', 1240: 'entirely', 1241: 'dispositions', 1242: 'similar', 1243: 'beforehand', 1244: 'advance', 1245: 'felicity', 1246: 'continue', 1247: 'grow', 1248: 'unlike', 1249: 'vexation', 1250: 'possible', 1251: 'defects', 1252: 'pass', 1253: 'laugh', 1254: 'sound', 1255: 'occupied', 1256: 'attentions', 1257: 'far', 1258: 'suspecting', 1259: 'becoming', 1260: 'scarcely', 1261: 'criticise', 1262: 'sooner', 1263: 'clear', 1264: 'feature', 1265: 'face', 1266: 'rendered', 1267: 'expression', 1268: 'discovery', 1269: 'succeeded', 1270: 'mortifying', 1271: 'detected', 1272: 'critical', 1273: 'failure', 1274: 'symmetry', 1275: 'forced', 1276: 'acknowledge', 1277: 'light', 1278: 'asserting', 1279: 'fashionable', 1280: 'caught', 1281: 'playfulness', 1282: 'perfectly', 1283: 'unaware', 1284: 'nowhere', 1285: 'attended', 1286: 'doing', 1287: 'notice', 1288: 'assembled', 1289: 'colonel', 1290: 'forster', 1291: 'satirical', 1292: 'approaching', 1293: 'seeming', 1294: 'intention', 1295: 'defied', 1296: 'provoking', 1297: 'energy', 1298: 'energetic', 1299: 'severe', 1300: 'turn', 1301: 'teased', 1302: 'open', 1303: 'instrument', 1304: 'follows', 1305: 'strange', 1306: 'wanting', 1307: 'play', 1308: 'sing', 1309: 'musical', 1310: 'invaluable', 1311: 'performers', 1312: 'persevering', 1313: 'gravely', 1314: 'glancing', 1315: 'saying', 1316: 'course', 1317: 'familiar', 1318: 'breath', 1319: 'cool', 1320: 'porridge', 1321: 'swell', 1322: 'song', 1323: 'performance', 1324: 'capital', 1325: 'entreaties', 1326: 'eagerly', 1327: 'plain', 1328: 'worked', 1329: 'hard', 1330: 'accomplishments', 1331: 'impatient', 1332: 'display', 1333: 'neither', 1334: 'genius', 1335: 'taste', 1336: 'application', 1337: 'pedantic', 1338: 'injured', 1339: 'higher', 1340: 'excellence', 1341: 'reached', 1342: 'playing', 1343: 'concerto', 1344: 'scotch', 1345: 'irish', 1346: 'airs', 1347: 'request', 1348: 'officers', 1349: 'joined', 1350: 'stood', 1351: 'silent', 1352: 'indignation', 1353: 'mode', 1354: 'passing', 1355: 'exclusion', 1356: 'engrossed', 1357: 'thoughts', 1358: 'thus', 1359: 'refinements', 1360: 'polished', 1361: 'society', 1362: 'vogue', 1363: 'societies', 1364: 'savage', 1365: 'performs', 1366: 'delightfully', 1367: 'pause', 1368: 'group', 1369: 'adept', 1370: 'science', 1371: 'inconsiderable', 1372: 'proper', 1373: 'pay', 1374: 'avoid', 1375: 'conclude', 1376: 'bowed', 1377: 'feel', 1378: 'paused', 1379: 'companion', 1380: 'instant', 1381: 'moving', 1382: 'action', 1383: 'gallant', 1384: 'desirable', 1385: 'refuse', 1386: 'taking', 1387: 'surprised', 1388: 'receive', 1389: 'instantly', 1390: 'discomposure', 1391: 'entreat', 1392: 'moved', 1393: 'order', 1394: 'grave', 1395: 'propriety', 1396: 'requested', 1397: 'shake', 1398: 'attempt', 1399: 'persuasion', 1400: 'excel', 1401: 'cruel', 1402: 'deny', 1403: 'dislikes', 1404: 'oblige', 1405: 'politeness', 1406: 'smiling', 1407: 'considering', 1408: 'inducement', 1409: 'complaisance', 1410: 'archly', 1411: 'resistance', 1412: 'accosted', 1413: 'reverie', 1414: 'annoyed', 1415: 'insipidity', 1416: 'noise', 1417: 'nothingness', 1418: 'strictures', 1419: 'conjecture', 1420: 'totally', 1421: 'wrong', 1422: 'agreeably', 1423: 'meditating', 1424: 'pair', 1425: 'bestow', 1426: 'desired', 1427: 'inspiring', 1428: 'intrepidity', 1429: 'repeated', 1430: 'favourite', 1431: 'pray', 1432: 'exactly', 1433: 'imagination', 1434: 'rapid', 1435: 'jumps', 1436: 'matrimony', 1437: 'wishing', 1438: 'nay', 1439: 'serious', 1440: 'pemberley', 1441: 'indifference', 1442: 'wit', 1443: 'flowed', 1444: 'unfortunately', 1445: 'entailed', 1446: 'default', 1447: 'heirs', 1448: 'male', 1449: 'relation', 1450: 'ample', 1451: 'supply', 1452: 'deficiency', 1453: 'attorney', 1454: 'phillips', 1455: 'clerk', 1456: 'line', 1457: 'convenient', 1458: 'distance', 1459: 'usually', 1460: 'thither', 1461: 'duty', 1462: 'aunt', 1463: 'milliner', 1464: 'shop', 1465: 'frequent', 1466: 'vacant', 1467: 'offered', 1468: 'amuse', 1469: 'furnish', 1470: 'bare', 1471: 'country', 1472: 'contrived', 1473: 'learn', 1474: 'supplied', 1475: 'recent', 1476: 'militia', 1477: 'regiment', 1478: 'remain', 1479: 'winter', 1480: 'headquarters', 1481: 'visits', 1482: 'productive', 1483: 'interesting', 1484: 'names', 1485: 'connections', 1486: 'lodgings', 1487: 'secret', 1488: 'length', 1489: 'visited', 1490: 'opened', 1491: 'store', 1492: 'unknown', 1493: 'animation', 1494: 'worthless', 1495: 'opposed', 1496: 'regimentals', 1497: 'ensign', 1498: 'effusions', 1499: 'coolly', 1500: 'collect', 1501: 'silliest', 1502: 'suspected', 1503: 'captain', 1504: 'carter', 1505: 'astonished', 1506: 'ready', 1507: 'slightingly', 1508: 'happens', 1509: 'sentiments', 1510: 'coincided', 1511: 'differ', 1512: 'foolish', 1513: 'red', 1514: 'smart', 1515: 'watson', 1516: 'clarke', 1517: 'prevented', 1518: 'replying', 1519: 'footman', 1520: 'note', 1521: 'servant', 1522: 'sparkled', 1523: 'calling', 1524: 'haste', 1525: 'aloud', 1526: 'compassionate', 1527: 'dine', 1528: 'louisa', 1529: 'danger', 1530: 'hating', 1531: 'lives', 1532: 'tête', 1533: 'à', 1534: 'quarrel', 1535: 'receipt', 1536: 'caroline', 1537: 'dining', 1538: 'horseback', 1539: 'seems', 1540: 'rain', 1541: 'stay', 1542: 'scheme', 1543: 'hursts', 1544: 'horses', 1545: 'theirs', 1546: 'coach', 1547: 'spare', 1548: 'wanted', 1549: 'farm', 1550: 'oftener', 1551: 'answered', 1552: 'extort', 1553: 'acknowledgment', 1554: 'cheerful', 1555: 'prognostics', 1556: 'rained', 1557: 'uneasy', 1558: 'intermission', 1559: 'lucky', 1560: 'aware', 1561: 'contrivance', 1562: 'breakfast', 1563: 'dearest', 1564: 'unwell', 1565: 'imputed', 1566: 'getting', 1567: 'wet', 1568: 'through', 1569: 'yesterday', 1570: 'returning', 1571: 'insist', 1572: 'jones', 1573: 'alarmed', 1574: 'sore', 1575: 'throat', 1576: 'headache', 1577: 'dangerous', 1578: 'fit', 1579: 'illness', 1580: 'die', 1581: 'comfort', 1582: 'pursuit', 1583: 'under', 1584: 'orders', 1585: 'dying', 1586: 'trifling', 1587: 'colds', 1588: 'stays', 1589: 'horsewoman', 1590: 'alternative', 1591: 'resolution', 1592: 'dirt', 1593: 'hint', 1594: 'motive', 1595: 'miles', 1596: 'activity', 1597: 'benevolence', 1598: 'impulse', 1599: 'guided', 1600: 'reason', 1601: 'exertion', 1602: 'proportion', 1603: 'required', 1604: 'accepted', 1605: 'along', 1606: 'goes', 1607: 'parted', 1608: 'repaired', 1609: 'wives', 1610: 'crossing', 1611: 'field', 1612: 'pace', 1613: 'jumping', 1614: 'stiles', 1615: 'springing', 1616: 'puddles', 1617: 'finding', 1618: 'view', 1619: 'weary', 1620: 'ankles', 1621: 'dirty', 1622: 'stockings', 1623: 'glowing', 1624: 'warmth', 1625: 'exercise', 1626: 'shown', 1627: 'parlour', 1628: 'appearance', 1629: 'created', 1630: 'weather', 1631: 'incredible', 1632: 'held', 1633: 'contempt', 1634: 'politely', 1635: 'divided', 1636: 'brilliancy', 1637: 'complexion', 1638: 'justifying', 1639: 'coming', 1640: 'latter', 1641: 'inquiries', 1642: 'favourably', 1643: 'slept', 1644: 'feverish', 1645: 'withheld', 1646: 'alarm', 1647: 'inconvenience', 1648: 'expressing', 1649: 'longed', 1650: 'besides', 1651: 'expressions', 1652: 'treated', 1653: 'silently', 1654: 'solicitude', 1655: 'showed', 1656: 'apothecary', 1657: 'examined', 1658: 'patient', 1659: 'supposed', 1660: 'cold', 1661: 'advised', 1662: 'bed', 1663: 'draughts', 1664: 'readily', 1665: 'symptoms', 1666: 'increased', 1667: 'ached', 1668: 'acutely', 1669: 'quit', 1670: 'absent', 1671: 'elsewhere', 1672: 'clock', 1673: 'unwillingly', 1674: 'pressing', 1675: 'testified', 1676: 'concern', 1677: 'parting', 1678: 'convert', 1679: 'thankfully', 1680: 'consented', 1681: 'acquaint', 1682: 'clothes', 1683: 'o', 1684: \"'clock\", 1685: 'retired', 1686: 'dress', 1687: 'past', 1688: 'summoned', 1689: 'poured', 1690: 'distinguishing', 1691: 'disliked', 1692: 'restored', 1693: 'enjoyment', 1694: 'anxiety', 1695: 'intruder', 1696: 'believed', 1697: 'indolent', 1698: 'cards', 1699: 'prefer', 1700: 'dish', 1701: 'ragout', 1702: 'abusing', 1703: 'impertinence', 1704: 'style', 1705: 'walker', 1706: 'wild', 1707: 'nonsensical', 1708: 'scampering', 1709: 'hair', 1710: 'untidy', 1711: 'blowsy', 1712: 'petticoat', 1713: 'inches', 1714: 'mud', 1715: 'hide', 1716: 'picture', 1717: 'exact', 1718: 'lost', 1719: 'escaped', 1720: 'inclined', 1721: 'exhibition', 1722: 'whatever', 1723: 'abominable', 1724: 'sort', 1725: 'independence', 1726: 'decorum', 1727: 'shows', 1728: 'whisper', 1729: 'adventure', 1730: 'affected', 1731: 'brightened', 1732: 'speech', 1733: 'excessive', 1734: 'low', 1735: 'uncle', 1736: 'somewhere', 1737: 'cheapside', 1738: 'laughed', 1739: 'heartily', 1740: 'uncles', 1741: 'fill', 1742: 'jot', 1743: 'materially', 1744: 'lessen', 1745: 'assent', 1746: 'indulged', 1747: 'mirth', 1748: 'expense', 1749: 'vulgar', 1750: 'relations', 1751: 'renewal', 1752: 'tenderness', 1753: 'leaving', 1754: 'coffee', 1755: 'poorly', 1756: 'late', 1757: 'sleep', 1758: 'downstairs', 1759: 'drawing', 1760: 'loo', 1761: 'invited', 1762: 'below', 1763: 'reading', 1764: 'singular', 1765: 'despises', 1766: 'reader', 1767: 'deserve', 1768: 'censure', 1769: 'nursing', 1770: 'thanked', 1771: 'lying', 1772: 'fetch', 1773: 'afforded', 1774: 'larger', 1775: 'benefit', 1776: 'idle', 1777: 'fellow', 1778: 'assured', 1779: 'suit', 1780: 'work', 1781: 'generations', 1782: 'buying', 1783: 'comprehend', 1784: 'add', 1785: 'beauties', 1786: 'charles', 1787: 'build', 1788: 'advise', 1789: 'model', 1790: 'finer', 1791: 'buy', 1792: 'sell', 1793: 'possibilities', 1794: 'imitation', 1795: 'laying', 1796: 'wholly', 1797: 'aside', 1798: 'card', 1799: 'stationed', 1800: 'observe', 1801: 'game', 1802: 'spring', 1803: 'height', 1804: 'taller', 1805: 'pianoforte', 1806: 'exquisite', 1807: 'amazing', 1808: 'patience', 1809: 'paint', 1810: 'tables', 1811: 'cover', 1812: 'screens', 1813: 'net', 1814: 'purses', 1815: 'spoken', 1816: 'informed', 1817: 'list', 1818: 'extent', 1819: 'applied', 1820: 'deserves', 1821: 'otherwise', 1822: 'netting', 1823: 'purse', 1824: 'covering', 1825: 'screen', 1826: 'agreeing', 1827: 'estimation', 1828: 'boast', 1829: 'knowing', 1830: 'dozen', 1831: 'range', 1832: 'faithful', 1833: 'assistant', 1834: 'esteemed', 1835: 'surpass', 1836: 'thorough', 1837: 'music', 1838: 'singing', 1839: 'modern', 1840: 'languages', 1841: 'possess', 1842: 'tone', 1843: 'voice', 1844: 'deserved', 1845: 'substantial', 1846: 'improvement', 1847: 'extensive', 1848: 'longer', 1849: 'sex', 1850: 'possibility', 1851: 'capacity', 1852: 'elegance', 1853: 'describe', 1854: 'injustice', 1855: 'implied', 1856: 'protesting', 1857: 'bitter', 1858: 'complaints', 1859: 'inattention', 1860: 'forward', 1861: 'undervaluing', 1862: 'succeeds', 1863: 'paltry', 1864: 'device', 1865: 'art', 1866: 'remark', 1867: 'chiefly', 1868: 'meanness', 1869: 'arts', 1870: 'condescend', 1871: 'employ', 1872: 'captivation', 1873: 'bears', 1874: 'affinity', 1875: 'cunning', 1876: 'despicable', 1877: 'worse', 1878: 'urged', 1879: 'sent', 1880: 'service', 1881: 'recommended', 1882: 'eminent', 1883: 'physicians', 1884: 'comply', 1885: 'proposal', 1886: 'decidedly', 1887: 'uncomfortable', 1888: 'miserable', 1889: 'solaced', 1890: 'wretchedness', 1891: 'duets', 1892: 'supper', 1893: 'relief', 1894: 'housekeeper', 1895: 'directions', 1896: 'chief', 1897: 'housemaid', 1898: 'amendment', 1899: 'desiring', 1900: 'contents', 1901: 'quickly', 1902: 'complied', 1903: 'accompanied', 1904: 'apparent', 1905: 'alarming', 1906: 'recovering', 1907: 'restoration', 1908: 'health', 1909: 'probably', 1910: 'remove', 1911: 'listen', 1912: 'carried', 1913: 'advisable', 1914: 'trespass', 1915: 'removal', 1916: 'madam', 1917: 'civility', 1918: 'remains', 1919: 'profuse', 1920: 'acknowledgments', 1921: 'become', 1922: 'suffers', 1923: 'vast', 1924: 'exception', 1925: 'sweetest', 1926: 'prospect', 1927: 'gravel', 1928: 'hurry', 1929: 'lease', 1930: 'done', 1931: 'resolve', 1932: 'pitiful', 1933: 'follow', 1934: 'intricate', 1935: 'estimable', 1936: 'run', 1937: 'suffered', 1938: 'studier', 1939: 'amusing', 1940: 'study', 1941: 'characters', 1942: 'subjects', 1943: 'move', 1944: 'confined', 1945: 'unvarying', 1946: 'alter', 1947: 'offended', 1948: 'mentioning', 1949: 'gained', 1950: 'victory', 1951: 'triumph', 1952: 'except', 1953: 'shops', 1954: 'places', 1955: 'pleasanter', 1956: 'advantages', 1957: 'blushing', 1958: 'mistook', 1959: 'variety', 1960: 'meeting', 1961: 'neighbourhoods', 1962: 'enable', 1963: 'delicate', 1964: 'directed', 1965: 'expressive', 1966: 'smile', 1967: 'genteel', 1968: 'persons', 1969: 'important', 1970: 'mouths', 1971: 'mince', 1972: 'pies', 1973: 'differently', 1974: 'judge', 1975: 'pity', 1976: 'envied', 1977: 'child', 1978: 'trust', 1979: 'partiality', 1980: 'fifteen', 1981: 'gardiner', 1982: 'wrote', 1983: 'verses', 1984: 'overcome', 1985: 'efficacy', 1986: 'poetry', 1987: 'driving', 1988: 'food', 1989: 'stout', 1990: 'healthy', 1991: 'nourishes', 1992: 'strong', 1993: 'thin', 1994: 'inclination', 1995: 'sonnet', 1996: 'starve', 1997: 'ensued', 1998: 'tremble', 1999: 'lest', 2000: 'exposing', 2001: 'repeating', 2002: 'apology', 2003: 'troubling', 2004: 'unaffectedly', 2005: 'performed', 2006: 'graciousness', 2007: 'ordered', 2008: 'signal', 2009: 'whispering', 2010: 'result', 2011: 'tax', 2012: 'animal', 2013: 'dinners', 2014: 'assurance', 2015: 'abruptly', 2016: 'reminded', 2017: 'adding', 2018: 'shameful', 2019: 'sudden', 2020: 'attack', 2021: 'ear', 2022: 'engagement', 2023: 'recovered', 2024: 'wait', 2025: 'shame', 2026: 'departed', 2027: 'remarks', 2028: 'prevailed', 2029: 'witticisms', 2030: 'invalid', 2031: 'slowly', 2032: 'mend', 2033: 'appear', 2034: 'writing', 2035: 'seated', 2036: 'watching', 2037: 'progress', 2038: 'letter', 2039: 'repeatedly', 2040: 'messages', 2041: 'piquet', 2042: 'needlework', 2043: 'amused', 2044: 'attending', 2045: 'perpetual', 2046: 'commendations', 2047: 'handwriting', 2048: 'evenness', 2049: 'unconcern', 2050: 'praises', 2051: 'formed', 2052: 'curious', 2053: 'dialogue', 2054: 'union', 2055: 'write', 2056: 'fast', 2057: 'letters', 2058: 'odious', 2059: 'lot', 2060: 'pen', 2061: 'pens', 2062: 'thank', 2063: 'contrive', 2064: 'harp', 2065: 'infinitely', 2066: 'grantley', 2067: 'defer', 2068: 'justice', 2069: 'january', 2070: 'determine', 2071: 'rule', 2072: 'studies', 2073: 'syllables', 2074: 'writes', 2075: 'careless', 2076: 'imaginable', 2077: 'leaves', 2078: 'blots', 2079: 'flow', 2080: 'rapidly', 2081: 'convey', 2082: 'correspondents', 2083: 'humility', 2084: 'disarm', 2085: 'reproof', 2086: 'deceitful', 2087: 'carelessness', 2088: 'indirect', 2089: 'call', 2090: 'piece', 2091: 'modesty', 2092: 'proceeding', 2093: 'rapidity', 2094: 'execution', 2095: 'prized', 2096: 'possessor', 2097: 'imperfection', 2098: 'resolved', 2099: 'panegyric', 2100: 'laudable', 2101: 'precipitance', 2102: 'undone', 2103: 'assume', 2104: 'needless', 2105: 'celerity', 2106: 'conduct', 2107: 'dependent', 2108: 'mounting', 2109: 'month', 2110: 'proved', 2111: 'exceedingly', 2112: 'converting', 2113: 'sweetness', 2114: 'intend', 2115: 'flat', 2116: 'denial', 2117: 'ride', 2118: 'rashness', 2119: 'original', 2120: 'intentions', 2121: 'atoned', 2122: 'obstinacy', 2123: 'adhering', 2124: 'explain', 2125: 'allowing', 2126: 'according', 2127: 'representation', 2128: 'delay', 2129: 'offering', 2130: 'yield', 2131: 'merit', 2132: 'conviction', 2133: 'requester', 2134: 'waiting', 2135: 'arguments', 2136: 'occurs', 2137: 'discuss', 2138: 'thereupon', 2139: 'ordinary', 2140: 'change', 2141: 'complying', 2142: 'argued', 2143: 'proceed', 2144: 'arrange', 2145: 'precision', 2146: 'appertain', 2147: 'intimacy', 2148: 'subsisting', 2149: 'particulars', 2150: 'forgetting', 2151: 'comparative', 2152: 'size', 2153: 'weight', 2154: 'comparison', 2155: 'deference', 2156: 'awful', 2157: 'occasions', 2158: 'especially', 2159: 'sunday', 2160: 'checked', 2161: 'warmly', 2162: 'resented', 2163: 'indignity', 2164: 'expostulation', 2165: 'disputes', 2166: 'thankful', 2167: 'sacrifice', 2168: 'side', 2169: 'finish', 2170: 'indulgence', 2171: 'alacrity', 2172: 'polite', 2173: 'lead', 2174: 'earnestly', 2175: 'negatived', 2176: 'sang', 2177: 'lay', 2178: 'frequently', 2179: 'reprehensible', 2180: 'supposition', 2181: 'pain', 2182: 'approbation', 2183: 'italian', 2184: 'songs', 2185: 'varied', 2186: 'charm', 2187: 'seize', 2188: 'reel', 2189: 'despising', 2190: 'overthrowing', 2191: 'schemes', 2192: 'cheating', 2193: 'premeditated', 2194: 'despise', 2195: 'affront', 2196: 'amazed', 2197: 'archness', 2198: 'bewitched', 2199: 'inferiority', 2200: 'jealous', 2201: 'recovery', 2202: 'rid', 2203: 'tried', 2204: 'provoke', 2205: 'disliking', 2206: 'guest', 2207: 'planning', 2208: 'alliance', 2209: 'shrubbery', 2210: 'hints', 2211: 'takes', 2212: 'holding', 2213: 'tongue', 2214: 'compass', 2215: 'cure', 2216: 'running', 2217: 'check', 2218: 'bordering', 2219: 'conceit', 2220: 'possesses', 2221: 'propose', 2222: 'domestic', 2223: 'portraits', 2224: 'placed', 2225: 'gallery', 2226: 'profession', 2227: 'painter', 2228: 'catch', 2229: 'colour', 2230: 'shape', 2231: 'eyelashes', 2232: 'copied', 2233: 'confusion', 2234: 'abominably', 2235: 'telling', 2236: 'disengaged', 2237: 'arm', 2238: 'path', 2239: 'wide', 2240: 'avenue', 2241: 'laughingly', 2242: 'charmingly', 2243: 'grouped', 2244: 'uncommon', 2245: 'picturesque', 2246: 'spoilt', 2247: 'admitting', 2248: 'bye', 2249: 'ran', 2250: 'gaily', 2251: 'rejoicing', 2252: 'rambled', 2253: 'couple', 2254: 'welcomed', 2255: 'professions', 2256: 'powers', 2257: 'considerable', 2258: 'entertainment', 2259: 'accuracy', 2260: 'relate', 2261: 'anecdote', 2262: 'advanced', 2263: 'steps', 2264: 'congratulation', 2265: 'bow', 2266: 'diffuseness', 2267: 'salutation', 2268: 'full', 2269: 'piling', 2270: 'fire', 2271: 'fireplace', 2272: 'further', 2273: 'opposite', 2274: 'corner', 2275: 'tea', 2276: 'obtained', 2277: 'petition', 2278: 'rejected', 2279: 'justify', 2280: 'stretch', 2281: 'sofas', 2282: 'principally', 2283: 'bracelets', 2284: 'rings', 2285: 'perpetually', 2286: 'inquiry', 2287: 'page', 2288: 'win', 2289: 'exhausted', 2290: 'chosen', 2291: 'volume', 2292: 'yawn', 2293: 'tires', 2294: 'yawned', 2295: 'threw', 2296: 'cast', 2297: 'quest', 2298: 'consult', 2299: 'wishes', 2300: 'begins', 2301: 'nicholls', 2302: 'white', 2303: 'soup', 2304: 'balls', 2305: 'insufferably', 2306: 'tedious', 2307: 'usual', 2308: 'process', 2309: 'rational', 2310: 'aimed', 2311: 'inflexibly', 2312: 'studious', 2313: 'desperation', 2314: 'effort', 2315: 'example', 2316: 'refreshing', 2317: 'attitude', 2318: 'awake', 2319: 'novelty', 2320: 'quarter', 2321: 'unconsciously', 2322: 'motives', 2323: 'choosing', 2324: 'joining', 2325: 'interfere', 2326: 'surest', 2327: 'disappointing', 2328: 'incapable', 2329: 'persevered', 2330: 'requiring', 2331: 'explanation', 2332: 'explaining', 2333: 'method', 2334: 'confidence', 2335: 'affairs', 2336: 'conscious', 2337: 'figures', 2338: 'completely', 2339: 'punish', 2340: 'plague', 2341: 'tease', 2342: 'taught', 2343: 'calmness', 2344: 'presence', 2345: 'defy', 2346: 'laughter', 2347: 'expose', 2348: 'attempting', 2349: 'hug', 2350: 'loss', 2351: 'dearly', 2352: 'wisest', 2353: 'actions', 2354: 'ridicule', 2355: 'wise', 2356: 'whims', 2357: 'inconsistencies', 2358: 'divert', 2359: 'precisely', 2360: 'weaknesses', 2361: 'weakness', 2362: 'superiority', 2363: 'regulation', 2364: 'examination', 2365: 'presume', 2366: 'defect', 2367: 'owns', 2368: 'disguise', 2369: 'pretension', 2370: 'faults', 2371: 'vouch', 2372: 'convenience', 2373: 'vices', 2374: 'offenses', 2375: 'puffed', 2376: 'resentful', 2377: 'forever', 2378: 'implacable', 2379: 'shade', 2380: 'tendency', 2381: 'evil', 2382: 'education', 2383: 'willfully', 2384: 'misunderstand', 2385: 'tired', 2386: 'waking', 2387: 'moments', 2388: 'recollection', 2389: 'paying', 2390: 'agreement', 2391: 'remaining', 2392: 'tuesday', 2393: 'propitious', 2394: 'postscript', 2395: 'pressed', 2396: 'staying', 2397: 'positively', 2398: 'fearful', 2399: 'intruding', 2400: 'needlessly', 2401: 'borrow', 2402: 'communication', 2403: 'excited', 2404: 'proposed', 2405: 'jealousy', 2406: 'exceeded', 2407: 'master', 2408: 'sorrow', 2409: 'firm', 2410: 'welcome', 2411: 'attracted', 2412: 'uncivil', 2413: 'wisely', 2414: 'careful', 2415: 'sign', 2416: 'elevate', 2417: 'influencing', 2418: 'suggested', 2419: 'material', 2420: 'confirming', 2421: 'crushing', 2422: 'saturday', 2423: 'adhered', 2424: 'conscientiously', 2425: 'separation', 2426: 'embracing', 2427: 'tenderly', 2428: 'shook', 2429: 'hands', 2430: 'liveliest', 2431: 'cordially', 2432: 'wondered', 2433: 'trouble', 2434: 'laconic', 2435: 'circle', 2436: 'absence', 2437: 'bass', 2438: 'observations', 2439: 'threadbare', 2440: 'morality', 2441: 'preceding', 2442: 'wednesday', 2443: 'lately', 2444: 'flogged', 2445: 'hinted', 2446: 'addition', 2447: 'happen', 2448: 'lord', 2449: 'fish', 2450: 'ring', 2451: 'bell', 2452: 'hill', 2453: 'roused', 2454: 'questioned', 2455: 'explained', 2456: 'ago', 2457: 'delicacy', 2458: 'collins', 2459: 'dead', 2460: 'pleases', 2461: 'bear', 2462: 'hardest', 2463: 'entail', 2464: 'attempted', 2465: 'reach', 2466: 'rail', 2467: 'bitterly', 2468: 'cruelty', 2469: 'cared', 2470: 'iniquitous', 2471: 'affair', 2472: 'guilt', 2473: 'inheriting', 2474: 'softened', 2475: 'false', 2476: 'quarreling', 2477: 'filial', 2478: 'scruples', 2479: 'hunsford', 2480: 'westerham', 2481: 'kent', 2482: 'th', 2483: 'october', 2484: 'disagreement', 2485: 'honoured', 2486: 'uneasiness', 2487: 'heal', 2488: 'breach', 2489: 'kept', 2490: 'doubts', 2491: 'fearing', 2492: 'disrespectful', 2493: 'memory', 2494: 'terms', 2495: 'variance', 2496: 'ordination', 2497: 'easter', 2498: 'patronage', 2499: 'honourable', 2500: 'de', 2501: 'bourgh', 2502: 'widow', 2503: 'lewis', 2504: 'bounty', 2505: 'beneficence', 2506: 'preferred', 2507: 'rectory', 2508: 'parish', 2509: 'earnest', 2510: 'demean', 2511: 'grateful', 2512: 'ladyship', 2513: 'perform', 2514: 'rites', 2515: 'ceremonies', 2516: 'instituted', 2517: 'church', 2518: 'clergyman', 2519: 'moreover', 2520: 'promote', 2521: 'establish', 2522: 'blessing', 2523: 'peace', 2524: 'grounds', 2525: 'overtures', 2526: 'commendable', 2527: 'kindly', 2528: 'overlooked', 2529: 'reject', 2530: 'olive', 2531: 'concerned', 2532: 'injuring', 2533: 'apologise', 2534: 'readiness', 2535: 'hereafter', 2536: 'satisfaction', 2537: 'november', 2538: 'hospitality', 2539: 'se', 2540: \"'ennight\", 2541: 'objecting', 2542: 'occasional', 2543: 'respectful', 2544: 'wisher', 2545: 'folded', 2546: 'conscientious', 2547: 'prove', 2548: 'indulgent', 2549: 'discourage', 2550: 'atonement', 2551: 'thinks', 2552: 'christening', 2553: 'burying', 2554: 'parishioners', 2555: 'oddity', 2556: 'pompous', 2557: 'apologising', 2558: 'reverse', 2559: 'servility', 2560: 'promises', 2561: 'composition', 2562: 'defective', 2563: 'writer', 2564: 'scarlet', 2565: 'weeks', 2566: 'preparing', 2567: 'punctual', 2568: 'need', 2569: 'heavy', 2570: 'stately', 2571: 'formal', 2572: 'complimented', 2573: 'instance', 2574: 'fame', 2575: 'fallen', 2576: 'hearers', 2577: 'quarreled', 2578: 'destitute', 2579: 'oddly', 2580: 'allude', 2581: 'grievous', 2582: 'confess', 2583: 'estates', 2584: 'hardship', 2585: 'fair', 2586: 'cousins', 2587: 'appearing', 2588: 'precipitate', 2589: 'prepared', 2590: 'summons', 2591: 'objects', 2592: 'hall', 2593: 'furniture', 2594: 'praised', 2595: 'touched', 2596: 'viewing', 2597: 'future', 2598: 'begged', 2599: 'excellency', 2600: 'cooking', 2601: 'owing', 2602: 'asperity', 2603: 'cook', 2604: 'kitchen', 2605: 'pardon', 2606: 'displeased', 2607: 'withdrawn', 2608: 'started', 2609: 'shine', 2610: 'patroness', 2611: 'remarkable', 2612: 'eloquent', 2613: 'elevated', 2614: 'solemnity', 2615: 'aspect', 2616: 'witnessed', 2617: 'affability', 2618: 'condescension', 2619: 'experienced', 2620: 'graciously', 2621: 'discourses', 2622: 'preaching', 2623: 'rosings', 2624: 'pool', 2625: 'quadrille', 2626: 'reckoned', 2627: 'condescended', 2628: 'marry', 2629: 'humble', 2630: 'parsonage', 2631: 'approved', 2632: 'alterations', 2633: 'vouchsafed', 2634: 'suggest', 2635: 'shelves', 2636: 'closet', 2637: 'stairs', 2638: 'garden', 2639: 'stands', 2640: 'abode', 2641: 'separated', 2642: 'lane', 2643: 'heiress', 2644: 'shaking', 2645: 'handsomest', 2646: 'marks', 2647: 'birth', 2648: 'sickly', 2649: 'constitution', 2650: 'failed', 2651: 'superintended', 2652: 'resides', 2653: 'condescends', 2654: 'drive', 2655: 'phaeton', 2656: 'ponies', 2657: 'presented', 2658: 'court', 2659: 'indifferent', 2660: 'state', 2661: 'unhappily', 2662: 'prevents', 2663: 'deprived', 2664: 'british', 2665: 'brightest', 2666: 'ornament', 2667: 'acceptable', 2668: 'born', 2669: 'duchess', 2670: 'adorned', 2671: 'peculiarly', 2672: 'bound', 2673: 'properly', 2674: 'talent', 2675: 'flattering', 2676: 'previous', 2677: 'arise', 2678: 'suggesting', 2679: 'arranging', 2680: 'adapted', 2681: 'unstudied', 2682: 'fully', 2683: 'absurd', 2684: 'keenest', 2685: 'maintaining', 2686: 'resolute', 2687: 'glance', 2688: 'dose', 2689: 'invite', 2690: 'assented', 2691: 'produced', 2692: 'beholding', 2693: 'announced', 2694: 'circulating', 2695: 'begging', 2696: 'novels', 2697: 'exclaimed', 2698: 'deliberation', 2699: 'fordyce', 2700: 'sermons', 2701: 'gaped', 2702: 'monotonous', 2703: 'pages', 2704: 'talks', 2705: 'richard', 2706: 'hire', 2707: 'denny', 2708: 'bid', 2709: 'hold', 2710: 'interested', 2711: 'stamp', 2712: 'written', 2713: 'amazes', 2714: 'advantageous', 2715: 'instruction', 2716: 'importune', 2717: 'antagonist', 2718: 'backgammon', 2719: 'challenge', 2720: 'acted', 2721: 'amusements', 2722: 'apologised', 2723: 'civilly', 2724: 'interruption', 2725: 'occur', 2726: 'resume', 2727: 'bore', 2728: 'resent', 2729: 'assisted', 2730: 'guidance', 2731: 'illiterate', 2732: 'miserly', 2733: 'belonged', 2734: 'universities', 2735: 'forming', 2736: 'useful', 2737: 'subjection', 2738: 'originally', 2739: 'counteracted', 2740: 'weak', 2741: 'living', 2742: 'retirement', 2743: 'consequential', 2744: 'unexpected', 2745: 'prosperity', 2746: 'veneration', 2747: 'mingling', 2748: 'authority', 2749: 'rector', 2750: 'obsequiousness', 2751: 'income', 2752: 'seeking', 2753: 'reconciliation', 2754: 'represented', 2755: 'eligibility', 2756: 'suitableness', 2757: 'generous', 2758: 'disinterested', 2759: 'vary', 2760: 'lovely', 2761: 'confirmed', 2762: 'strictest', 2763: 'notions', 2764: 'seniority', 2765: 'alteration', 2766: 'beginning', 2767: 'naturally', 2768: 'avowal', 2769: 'mistress', 2770: 'amid', 2771: 'complaisant', 2772: 'caution', 2773: 'prepossession', 2774: 'incumbent', 2775: 'stirring', 2776: 'treasured', 2777: 'trusted', 2778: 'graces', 2779: 'forgotten', 2780: 'attend', 2781: 'nominally', 2782: 'largest', 2783: 'folios', 2784: 'cessation', 2785: 'doings', 2786: 'discomposed', 2787: 'tranquillity', 2788: 'folly', 2789: 'free', 2790: 'prompt', 2791: 'fitted', 2792: 'nothings', 2793: 'assents', 2794: 'ones', 2795: 'wandering', 2796: 'street', 2797: 'bonnet', 2798: 'muslin', 2799: 'recall', 2800: 'officer', 2801: 'concerning', 2802: 'inquire', 2803: 'led', 2804: 'across', 2805: 'pretense', 2806: 'fortunately', 2807: 'pavement', 2808: 'spot', 2809: 'entreated', 2810: 'permission', 2811: 'wickham', 2812: 'commission', 2813: 'corps', 2814: 'correct', 2815: 'unassuming', 2816: 'riding', 2817: 'civilities', 2818: 'spokesman', 2819: 'corroborated', 2820: 'fix', 2821: 'arrested', 2822: 'happening', 2823: 'effect', 2824: 'changed', 2825: 'minute', 2826: 'noticed', 2827: 'phillip', 2828: 'bows', 2829: 'throwing', 2830: 'loudly', 2831: 'seconding', 2832: 'fetched', 2833: 'happened', 2834: 'claimed', 2835: 'intrusion', 2836: 'justified', 2837: 'relationship', 2838: 'awed', 2839: 'excess', 2840: 'contemplation', 2841: 'exclamations', 2842: 'lieutenant', 2843: 'shire', 2844: 'occupation', 2845: 'unluckily', 2846: 'windows', 2847: 'fellows', 2848: 'phillipses', 2849: 'nice', 2850: 'comfortable', 2851: 'noisy', 2852: 'lottery', 2853: 'tickets', 2854: 'hot', 2855: 'delights', 2856: 'cheering', 2857: 'mutual', 2858: 'apologies', 2859: 'unwearying', 2860: 'defended', 2861: 'admiring', 2862: 'utmost', 2863: 'pointedly', 2864: 'included', 2865: 'although', 2866: 'utterly', 2867: 'attributed', 2868: 'connection', 2869: 'steadily', 2870: 'resisted', 2871: 'conveyed', 2872: 'suitable', 2873: 'seats', 2874: 'around', 2875: 'apartment', 2876: 'summer', 2877: 'gratification', 2878: 'understood', 2879: 'proprietor', 2880: 'chimney', 2881: 'cost', 2882: 'eight', 2883: 'force', 2884: 'describing', 2885: 'grandeur', 2886: 'mansion', 2887: 'digressions', 2888: 'improvements', 2889: 'receiving', 2890: 'until', 2891: 'listener', 2892: 'resolving', 2893: 'retail', 2894: 'neighbours', 2895: 'examine', 2896: 'imitations', 2897: 'china', 2898: 'mantelpiece', 2899: 'interval', 2900: 'approach', 2901: 'unreasonable', 2902: 'creditable', 2903: 'broad', 2904: 'faced', 2905: 'stuffy', 2906: 'breathing', 2907: 'port', 2908: 'female', 2909: 'finally', 2910: 'fell', 2911: 'commonest', 2912: 'dullest', 2913: 'topic', 2914: 'speaker', 2915: 'rivals', 2916: 'sink', 2917: 'insignificance', 2918: 'intervals', 2919: 'watchfulness', 2920: 'abundantly', 2921: 'muffin', 2922: 'whist', 2923: 'improve', 2924: 'compliance', 2925: 'engrossing', 2926: 'talker', 2927: 'eager', 2928: 'bets', 2929: 'exclaiming', 2930: 'prizes', 2931: 'demands', 2932: 'willing', 2933: 'history', 2934: 'dared', 2935: 'unexpectedly', 2936: 'relieved', 2937: 'hesitating', 2938: 'drop', 2939: 'per', 2940: 'annum', 2941: 'capable', 2942: 'connected', 2943: 'infancy', 2944: 'assertion', 2945: 'qualified', 2946: 'impartial', 2947: 'astonish', 2948: 'anywhere', 2949: 'disgusted', 2950: 'estimated', 2951: 'deserts', 2952: 'blinded', 2953: 'frightened', 2954: 'imposing', 2955: 'tempered', 2956: 'plans', 2957: 'driven', 2958: 'gives', 2959: 'avoiding', 2960: 'proclaim', 2961: 'usage', 2962: 'painful', 2963: 'regrets', 2964: 'breathed', 2965: 'truest', 2966: 'soul', 2967: 'tender', 2968: 'recollections', 2969: 'scandalous', 2970: 'verily', 2971: 'disgracing', 2972: 'increase', 2973: 'topics', 2974: 'gentle', 2975: 'intelligible', 2976: 'constant', 2977: 'enter', 2978: 'quarters', 2979: 'procured', 2980: 'solitude', 2981: 'employment', 2982: 'military', 2983: 'circumstances', 2984: 'eligible', 2985: 'bequeathed', 2986: 'gift', 2987: 'godfather', 2988: 'attached', 2989: 'provide', 2990: 'amply', 2991: 'heavens', 2992: 'disregarded', 2993: 'legal', 2994: 'redress', 2995: 'informality', 2996: 'bequest', 2997: 'doubted', 2998: 'treat', 2999: 'conditional', 3000: 'assert', 3001: 'forfeited', 3002: 'claim', 3003: 'extravagance', 3004: 'imprudence', 3005: 'became', 3006: 'accuse', 3007: 'warm', 3008: 'unguarded', 3009: 'hates', 3010: 'publicly', 3011: 'disgraced', 3012: 'induced', 3013: 'behave', 3014: 'cruelly', 3015: 'attribute', 3016: 'measure', 3017: 'son', 3018: 'borne', 3019: 'irritated', 3020: 'competition', 3021: 'creatures', 3022: 'suspect', 3023: 'descending', 3024: 'malicious', 3025: 'revenge', 3026: 'inhumanity', 3027: 'boasting', 3028: 'implacability', 3029: 'resentments', 3030: 'unforgiving', 3031: 'dreadful', 3032: 'godson', 3033: 'contented', 3034: 'childhood', 3035: 'closest', 3036: 'youth', 3037: 'inmates', 3038: 'sharing', 3039: 'parental', 3040: 'appears', 3041: 'devoted', 3042: 'confidential', 3043: 'obligations', 3044: 'active', 3045: 'superintendence', 3046: 'death', 3047: 'voluntary', 3048: 'providing', 3049: 'debt', 3050: 'dishonest', 3051: 'dishonesty', 3052: 'wonderful', 3053: 'traced', 3054: 'nearer', 3055: 'virtue', 3056: 'consistent', 3057: 'stronger', 3058: 'impulses', 3059: 'liberal', 3060: 'money', 3061: 'assist', 3062: 'tenants', 3063: 'relieve', 3064: 'disgrace', 3065: 'degenerate', 3066: 'popular', 3067: 'powerful', 3068: 'brotherly', 3069: 'guardian', 3070: 'brothers', 3071: 'affectionate', 3072: 'sixteen', 3073: 'superintends', 3074: 'pauses', 3075: 'trials', 3076: 'reverting', 3077: 'truly', 3078: 'abilities', 3079: 'conversible', 3080: 'equals', 3081: 'prosperous', 3082: 'minded', 3083: 'sincere', 3084: 'breaking', 3085: 'players', 3086: 'gathered', 3087: 'station', 3088: 'gravity', 3089: 'mere', 3090: 'trifle', 3091: 'chances', 3092: 'shillings', 3093: 'necessity', 3094: 'regarding', 3095: 'matters', 3096: 'intimately', 3097: 'anne', 3098: 'existence', 3099: 'unite', 3100: 'useless', 3101: 'destined', 3102: 'misleads', 3103: 'arrogant', 3104: 'dictatorial', 3105: 'insolent', 3106: 'reputation', 3107: 'derives', 3108: 'authoritative', 3109: 'nephew', 3110: 'everyone', 3111: 'class', 3112: 'gracefully', 3113: 'went', 3114: 'incessantly', 3115: 'won', 3116: 'losses', 3117: 'enumerating', 3118: 'dishes', 3119: 'crowded', 3120: 'manage', 3121: 'stopped', 3122: 'veracity', 3123: 'endured', 3124: 'unkindness', 3125: 'defend', 3126: 'accident', 3127: 'deceived', 3128: 'misrepresented', 3129: 'causes', 3130: 'alienated', 3131: 'actual', 3132: 'blame', 3133: 'behalf', 3134: 'disgraceful', 3135: 'treating', 3136: 'humanity', 3137: 'imposed', 3138: 'invent', 3139: 'facts', 3140: 'ceremony', 3141: 'contradict', 3142: 'looks', 3143: 'distressing', 3144: 'knows', 3145: 'certainty', 3146: 'personal', 3147: 'rising', 3148: 'hurrying', 3149: 'ceremonious', 3150: 'pictured', 3151: 'confirmation', 3152: 'anticipated', 3153: 'depended', 3154: 'satisfy', 3155: 'rate', 3156: 'disinclination', 3157: 'mornings', 3158: 'engagements', 3159: 'claims', 3160: 'profess', 3161: 'recreation', 3162: 'unnecessarily', 3163: 'scruple', 3164: 'dreading', 3165: 'rebuke', 3166: 'archbishop', 3167: 'venturing', 3168: 'soliciting', 3169: 'cause', 3170: 'disrespect', 3171: 'liveliness', 3172: 'timed', 3173: 'perforce', 3174: 'delayed', 3175: 'grace', 3176: 'selected', 3177: 'worthy', 3178: 'assisting', 3179: 'visitors', 3180: 'increasing', 3181: 'vivacity', 3182: 'charms', 3183: 'dispute', 3184: 'prepare', 3185: 'pitiable', 3186: 'succession', 3187: 'sought', 3188: 'shoe', 3189: 'roses', 3190: 'proxy', 3191: 'trial', 3192: 'suspended', 3193: 'friday', 3194: 'endurable', 3195: 'cluster', 3196: 'coats', 3197: 'occurred', 3198: 'unreasonably', 3199: 'dressed', 3200: 'conquest', 3201: 'unsubdued', 3202: 'trusting', 3203: 'arose', 3204: 'suspicion', 3205: 'purposely', 3206: 'omitted', 3207: 'bingleys', 3208: 'absolute', 3209: 'significant', 3210: 'unheard', 3211: 'answerable', 3212: 'surmise', 3213: 'displeasure', 3214: 'immediate', 3215: 'disappointment', 3216: 'approached', 3217: 'attendance', 3218: 'forbearance', 3219: 'injury', 3220: 'surmount', 3221: 'provoked', 3222: 'destroyed', 3223: 'dwell', 3224: 'griefs', 3225: 'transition', 3226: 'oddities', 3227: 'distress', 3228: 'mortification', 3229: 'awkward', 3230: 'solemn', 3231: 'misery', 3232: 'release', 3233: 'ecstasy', 3234: 'refreshment', 3235: 'fret', 3236: 'console', 3237: 'forbid', 3238: 'recommenced', 3239: 'cautioning', 3240: 'unpleasant', 3241: 'dignity', 3242: 'amazement', 3243: 'break', 3244: 'couples', 3245: 'arranged', 3246: 'consulting', 3247: 'gratifying', 3248: 'similarity', 3249: 'unsocial', 3250: 'taciturn', 3251: 'amaze', 3252: 'handed', 3253: 'posterity', 3254: 'éclat', 3255: 'proverb', 3256: 'striking', 3257: 'resemblance', 3258: 'portrait', 3259: 'decide', 3260: 'affirmative', 3261: 'resist', 3262: 'temptation', 3263: 'deeper', 3264: 'hauteur', 3265: 'overspread', 3266: 'blaming', 3267: 'constrained', 3268: 'blessed', 3269: 'ensure', 3270: 'retaining', 3271: 'emphasis', 3272: 'desirous', 3273: 'changing', 3274: 'perceiving', 3275: 'courtesy', 3276: 'belong', 3277: 'circles', 3278: 'congratulations', 3279: 'appeal', 3280: 'interrupt', 3281: 'detaining', 3282: 'bewitching', 3283: 'bright', 3284: 'upbraiding', 3285: 'allusion', 3286: 'strike', 3287: 'forcibly', 3288: 'shortly', 3289: 'compare', 3290: 'occupies', 3291: 'scenes', 3292: 'wandered', 3293: 'forgave', 3294: 'unappeasable', 3295: 'prejudice', 3296: 'judging', 3297: 'tend', 3298: 'illustration', 3299: 'endeavouring', 3300: 'trying', 3301: 'accounts', 3302: 'puzzle', 3303: 'reports', 3304: 'sketch', 3305: 'reflect', 3306: 'likeness', 3307: 'suspend', 3308: 'breast', 3309: 'anger', 3310: 'disdain', 3311: 'george', 3312: 'forgot', 3313: 'steward', 3314: 'implicit', 3315: 'assertions', 3316: 'using', 3317: 'infamous', 3318: 'including', 3319: 'descent', 3320: 'angrily', 3321: 'sneer', 3322: 'interference', 3323: 'wilful', 3324: 'ignorance', 3325: 'malice', 3326: 'undertaken', 3327: 'glow', 3328: 'marked', 3329: 'occurrences', 3330: 'enemies', 3331: 'fairest', 3332: 'probity', 3333: 'imprudent', 3334: 'recollect', 3335: 'believes', 3336: 'conditionally', 3337: 'sincerity', 3338: 'assurances', 3339: 'defense', 3340: 'unacquainted', 3341: 'discourse', 3342: 'sentiment', 3343: 'modest', 3344: 'heighten', 3345: 'pleasantness', 3346: 'exultation', 3347: 'overhear', 3348: 'honours', 3349: 'respects', 3350: 'total', 3351: 'plead', 3352: 'earlier', 3353: \"'nnight\", 3354: 'dissuade', 3355: 'addressing', 3356: 'freedom', 3357: 'ceased', 3358: 'scope', 3359: 'permit', 3360: 'laity', 3361: 'regulate', 3362: 'clergy', 3363: 'clerical', 3364: 'maintained', 3365: 'dictates', 3366: 'conscience', 3367: 'leads', 3368: 'neglecting', 3369: 'profit', 3370: 'guide', 3371: 'habitual', 3372: 'reception', 3373: 'advances', 3374: 'watched', 3375: 'prefaced', 3376: 'motion', 3377: 'eyeing', 3378: 'unrestrained', 3379: 'discouraged', 3380: 'discernment', 3381: 'unworthily', 3382: 'pursue', 3383: 'train', 3384: 'plainly', 3385: 'bent', 3386: 'perverseness', 3387: 'openly', 3388: 'expectation', 3389: 'animating', 3390: 'fatigue', 3391: 'match', 3392: 'points', 3393: 'gratulation', 3394: 'promising', 3395: 'lastly', 3396: 'consign', 3397: 'etiquette', 3398: 'concluded', 3399: 'evidently', 3400: 'triumphantly', 3401: 'believing', 3402: 'audible', 3403: 'inexpressible', 3404: 'scolded', 3405: 'owe', 3406: 'lower', 3407: 'blushed', 3408: 'dreaded', 3409: 'invariably', 3410: 'gradually', 3411: 'indignant', 3412: 'composed', 3413: 'yawning', 3414: 'repetition', 3415: 'likelihood', 3416: 'comforts', 3417: 'ham', 3418: 'chicken', 3419: 'revive', 3420: 'entreaty', 3421: 'prevent', 3422: 'proof', 3423: 'exhibiting', 3424: 'sensations', 3425: 'stanzas', 3426: 'impatience', 3427: 'rewarded', 3428: 'agonies', 3429: 'composedly', 3430: 'signs', 3431: 'derision', 3432: 'imperturbably', 3433: 'finished', 3434: 'exhibit', 3435: 'pretending', 3436: 'innocent', 3437: 'diversion', 3438: 'compatible', 3439: 'devoting', 3440: 'tithes', 3441: 'beneficial', 3442: 'offensive', 3443: 'patron', 3444: 'duties', 3445: 'dwelling', 3446: 'excused', 3447: 'conciliatory', 3448: 'owes', 3449: 'preferment', 3450: 'acquit', 3451: 'omit', 3452: 'testifying', 3453: 'loud', 3454: 'seriously', 3455: 'commended', 3456: 'sensibly', 3457: 'distressed', 3458: 'ridiculing', 3459: 'perseveringly', 3460: 'prevail', 3461: 'arguing', 3462: 'project', 3463: 'owed', 3464: 'naturedly', 3465: 'probable', 3466: 'allusions', 3467: 'rejoiced', 3468: 'depart', 3469: 'manoeuvre', 3470: 'complain', 3471: 'repulsed', 3472: 'languor', 3473: 'speeches', 3474: 'complimenting', 3475: 'guests', 3476: 'enjoying', 3477: 'scene', 3478: 'detached', 3479: 'preserved', 3480: 'utter', 3481: 'pressingly', 3482: 'eating', 3483: 'whither', 3484: 'quitted', 3485: 'preparations', 3486: 'settlements', 3487: 'carriages', 3488: 'wedding', 3489: 'months', 3490: 'eclipsed', 3491: 'declaration', 3492: 'extended', 3493: 'diffidence', 3494: 'orderly', 3495: 'observances', 3496: 'regular', 3497: 'solicit', 3498: 'audience', 3499: 'blush', 3500: 'gathering', 3501: 'hastening', 3502: 'embarrassed', 3503: 'oppose', 3504: 'injunction', 3505: 'quietly', 3506: 'incessant', 3507: 'disservice', 3508: 'adds', 3509: 'perfections', 3510: 'unwillingness', 3511: 'respected', 3512: 'purport', 3513: 'dissemble', 3514: 'singled', 3515: 'reasons', 3516: 'selecting', 3517: 'laughing', 3518: 'stop', 3519: 'secondly', 3520: 'thirdly', 3521: 'unasked', 3522: 'pools', 3523: 'jenkinson', 3524: 'footstool', 3525: 'gentlewoman', 3526: 'reckon', 3527: 'inevitably', 3528: 'excite', 3529: 'inherit', 3530: 'melancholy', 3531: 'esteem', 3532: 'animated', 3533: 'language', 3534: 'violence', 3535: 'demand', 3536: 'cents', 3537: 'decease', 3538: 'uniformly', 3539: 'ungenerous', 3540: 'reproach', 3541: 'proposals', 3542: 'wave', 3543: 'addresses', 3544: 'secretly', 3545: 'applies', 3546: 'refusal', 3547: 'altar', 3548: 'ere', 3549: 'daring', 3550: 'risk', 3551: 'persuaded', 3552: 'disapprove', 3553: 'economy', 3554: 'qualification', 3555: 'unnecessary', 3556: 'refusing', 3557: 'falls', 3558: 'accusing', 3559: 'custom', 3560: 'encourage', 3561: 'hitherto', 3562: 'convince', 3563: 'briefly', 3564: 'acceptance', 3565: 'manifold', 3566: 'attractions', 3567: 'portion', 3568: 'undo', 3569: 'effects', 3570: 'loveliness', 3571: 'qualifications', 3572: 'rejection', 3573: 'suspense', 3574: 'practice', 3575: 'females', 3576: 'pretensions', 3577: 'consists', 3578: 'tormenting', 3579: 'plainer', 3580: 'intending', 3581: 'sanctioned', 3582: 'parents', 3583: 'fail', 3584: 'perseverance', 3585: 'deception', 3586: 'persisted', 3587: 'refusals', 3588: 'apply', 3589: 'negative', 3590: 'uttered', 3591: 'decisive', 3592: 'coquetry', 3593: 'successful', 3594: 'dawdled', 3595: 'vestibule', 3596: 'watch', 3597: 'conference', 3598: 'staircase', 3599: 'congratulated', 3600: 'felicitations', 3601: 'proceeded', 3602: 'interview', 3603: 'steadfastly', 3604: 'bashful', 3605: 'genuine', 3606: 'startled', 3607: 'headstrong', 3608: 'interrupting', 3609: 'persists', 3610: 'rejecting', 3611: 'accepting', 3612: 'liable', 3613: 'contribute', 3614: 'natured', 3615: 'settle', 3616: 'uproar', 3617: 'vows', 3618: 'calm', 3619: 'altered', 3620: 'declares', 3621: 'hopeless', 3622: 'rang', 3623: 'refused', 3624: 'insists', 3625: 'unhappy', 3626: 'conclusion', 3627: 'regarded', 3628: 'favours', 3629: 'coaxed', 3630: 'threatened', 3631: 'turns', 3632: 'endeavoured', 3633: 'mildness', 3634: 'interfering', 3635: 'earnestness', 3636: 'gaiety', 3637: 'attacks', 3638: 'determination', 3639: 'meanwhile', 3640: 'hurt', 3641: 'deserving', 3642: 'regret', 3643: 'fun', 3644: 'entreating', 3645: 'spared', 3646: 'unconcerned', 3647: 'caring', 3648: 'york', 3649: 'maintain', 3650: 'warn', 3651: 'undutiful', 3652: 'pitied', 3653: 'effusion', 3654: 'soothe', 3655: 'irritation', 3656: 'tongues', 3657: 'ground', 3658: 'detained', 3659: 'doleful', 3660: 'projected', 3661: 'presently', 3662: 'resignation', 3663: 'inevitable', 3664: 'evils', 3665: 'peculiar', 3666: 'resigned', 3667: 'positive', 3668: 'denied', 3669: 'showing', 3670: 'withdrawing', 3671: 'requesting', 3672: 'interpose', 3673: 'objectionable', 3674: 'dismission', 3675: 'error', 3676: 'discussion', 3677: 'necessarily', 3678: 'peevish', 3679: 'embarrassment', 3680: 'dejection', 3681: 'assiduous', 3682: 'transferred', 3683: 'seasonable', 3684: 'abatement', 3685: 'shorten', 3686: 'lament', 3687: 'voluntarily', 3688: 'bestowed', 3689: 'accompanying', 3690: 'double', 3691: 'introducing', 3692: 'delivered', 3693: 'envelope', 3694: 'contained', 3695: 'sheet', 3696: 'paper', 3697: 'covered', 3698: 'flowing', 3699: 'intently', 3700: 'passages', 3701: 'recollected', 3702: 'putting', 3703: 'contains', 3704: 'sentence', 3705: 'comprised', 3706: 'grosvenor', 3707: 'returns', 3708: 'intercourse', 3709: 'correspondence', 3710: 'highflown', 3711: 'insensibility', 3712: 'distrust', 3713: 'suddenness', 3714: 'cease', 3715: 'arrive', 3716: 'renewed', 3717: 'imagined', 3718: 'gets', 3719: 'comfortless', 3720: 'hotel', 3721: 'crowd', 3722: 'despair', 3723: 'sincerely', 3724: 'christmas', 3725: 'abound', 3726: 'gaieties', 3727: 'season', 3728: 'brings', 3729: 'beaux', 3730: 'numerous', 3731: 'deprive', 3732: 'passage', 3733: 'hurts', 3734: 'reserves', 3735: 'georgiana', 3736: 'inspires', 3737: 'heightened', 3738: 'confiding', 3739: 'admires', 3740: 'footing', 3741: 'misleading', 3742: 'engaging', 3743: 'indulging', 3744: 'expressly', 3745: 'expects', 3746: 'suspects', 3747: 'willingly', 3748: 'wants', 3749: 'keeping', 3750: 'tries', 3751: 'grand', 3752: 'notion', 3753: 'intermarriage', 3754: 'achieving', 3755: 'ingenuity', 3756: 'succeed', 3757: 'tells', 3758: 'alike', 3759: 'foundation', 3760: 'unjust', 3761: 'wilfully', 3762: 'deceiving', 3763: 'supposing', 3764: 'mature', 3765: 'disobliging', 3766: 'equivalent', 3767: 'faintly', 3768: 'disapprobation', 3769: 'hesitate', 3770: 'suggestion', 3771: 'artfully', 3772: 'independent', 3773: 'desponding', 3774: 'overcame', 3775: 'departure', 3776: 'bewailed', 3777: 'lamenting', 3778: 'thanking', 3779: 'keeps', 3780: 'repaid', 3781: 'farther', 3782: 'conception', 3783: 'appearances', 3784: 'admirable', 3785: 'slyness', 3786: 'hasten', 3787: 'feet', 3788: 'encouraging', 3789: 'comparatively', 3790: 'diffident', 3791: 'perceived', 3792: 'accidentally', 3793: 'eloquence', 3794: 'awaited', 3795: 'happiest', 3796: 'solicitation', 3797: 'waived', 3798: 'stupidity', 3799: 'favoured', 3800: 'courtship', 3801: 'continuance', 3802: 'pure', 3803: 'speedily', 3804: 'joyful', 3805: 'prospects', 3806: 'wealth', 3807: 'calculate', 3808: 'expedient', 3809: 'overjoyed', 3810: 'boys', 3811: 'apprehension', 3812: 'maid', 3813: 'irksome', 3814: 'provision', 3815: 'pleasantest', 3816: 'preservative', 3817: 'luck', 3818: 'valued', 3819: 'shaken', 3820: 'charged', 3821: 'secrecy', 3822: 'dutifully', 3823: 'difficulty', 3824: 'burst', 3825: 'forth', 3826: 'direct', 3827: 'evade', 3828: 'exercising', 3829: 'longing', 3830: 'publish', 3831: 'journey', 3832: 'cordiality', 3833: 'hoping', 3834: 'avail', 3835: 'speedy', 3836: 'offending', 3837: 'concurrence', 3838: 'offence', 3839: 'mark', 3840: 'meditated', 3841: 'rated', 3842: 'encouraged', 3843: 'hers', 3844: 'bounds', 3845: 'crying', 3846: 'commanded', 3847: 'momentary', 3848: 'regained', 3849: 'calmly', 3850: 'procure', 3851: 'firmness', 3852: 'romantic', 3853: 'reconciled', 3854: 'unsuitable', 3855: 'strangeness', 3856: 'offers', 3857: 'sacrificed', 3858: 'worldly', 3859: 'humiliating', 3860: 'pang', 3861: 'sunk', 3862: 'reflecting', 3863: 'doubting', 3864: 'authorised', 3865: 'announce', 3866: 'houses', 3867: 'wondering', 3868: 'incredulous', 3869: 'boisterously', 3870: 'courtier', 3871: 'forbearing', 3872: 'confirm', 3873: 'prior', 3874: 'overpowered', 3875: 'vent', 3876: 'disbelieving', 3877: 'fourthly', 3878: 'broken', 3879: 'inferences', 3880: 'deduced', 3881: 'mischief', 3882: 'barbarously', 3883: 'misused', 3884: 'dwelt', 3885: 'appease', 3886: 'wear', 3887: 'elapsed', 3888: 'rude', 3889: 'emotions', 3890: 'tranquil', 3891: 'confessed', 3892: 'improbable', 3893: 'envying', 3894: 'spread', 3895: 'insensible', 3896: 'retort', 3897: 'sour', 3898: 'restraint', 3899: 'mutually', 3900: 'subsist', 3901: 'fonder', 3902: 'rectitude', 3903: 'daily', 3904: 'counting', 3905: 'reasonably', 3906: 'prompted', 3907: 'discharging', 3908: 'inform', 3909: 'rapturous', 3910: 'unanswerable', 3911: 'inconvenient', 3912: 'troublesome', 3913: 'hated', 3914: 'lovers', 3915: 'murmurs', 3916: 'bringing', 3917: 'tidings', 3918: 'incensed', 3919: 'falsehood', 3920: 'admit', 3921: 'destructive', 3922: 'dishonorable', 3923: 'stability', 3924: 'lover', 3925: 'occurring', 3926: 'efforts', 3927: 'unfeeling', 3928: 'overpowering', 3929: 'feared', 3930: 'concealing', 3931: 'alluded', 3932: 'restrained', 3933: 'seldom', 3934: 'require', 3935: 'needed', 3936: 'punctually', 3937: 'gracious', 3938: 'luckily', 3939: 'agony', 3940: 'successor', 3941: 'abhorrence', 3942: 'anticipating', 3943: 'complained', 3944: 'gloomy', 3945: 'survivor', 3946: 'consoling', 3947: 'professed', 3948: 'boasted', 3949: 'joyfully', 3950: 'ventured', 3951: 'predict', 3952: 'accomplishment', 3953: 'inmate', 3954: 'communicated', 3955: 'slave', 3956: 'designing', 3957: 'sport', 3958: 'involved', 3959: 'unavailing', 3960: 'died', 3961: 'suppressed', 3962: 'wounded', 3963: 'courage', 3964: 'continual', 3965: 'repine', 3966: 'slightly', 3967: 'colouring', 3968: 'try', 3969: 'harm', 3970: 'disinterestedness', 3971: 'angelic', 3972: 'disclaimed', 3973: 'encroaching', 3974: 'privilege', 3975: 'universal', 3976: 'fewer', 3977: 'confirms', 3978: 'belief', 3979: 'inconsistency', 3980: 'dependence', 3981: 'instances', 3982: 'unaccountable', 3983: 'ruin', 3984: 'allowance', 3985: 'respectability', 3986: 'prudent', 3987: 'benefited', 3988: 'narrow', 3989: 'individual', 3990: 'principle', 3991: 'integrity', 3992: 'selfishness', 3993: 'prudence', 3994: 'security', 3995: 'intentionally', 3996: 'circumspect', 3997: 'deceives', 3998: 'designedly', 3999: 'attributing', 4000: 'scheming', 4001: 'thoughtlessness', 4002: 'impute', 4003: 'displease', 4004: 'whilst', 4005: 'persist', 4006: 'conjunction', 4007: 'position', 4008: 'unlikely', 4009: 'unnaturally', 4010: 'ashamed', 4011: 'clearly', 4012: 'perplexity', 4013: 'transient', 4014: 'liking', 4015: 'statement', 4016: 'repeat', 4017: 'crossed', 4018: 'congratulate', 4019: 'companions', 4020: 'outdone', 4021: 'disappoint', 4022: 'jilt', 4023: 'creditably', 4024: 'befall', 4025: 'dispelling', 4026: 'gloom', 4027: 'perverse', 4028: 'thrown', 4029: 'recommendations', 4030: 'unreserve', 4031: 'canvassed', 4032: 'extenuating', 4033: 'mild', 4034: 'pleaded', 4035: 'allowances', 4036: 'mistakes', 4037: 'condemned', 4038: 'worst', 4039: 'alleviated', 4040: 'bride', 4041: 'warehouses', 4042: 'subsisted', 4043: 'distribute', 4044: 'presents', 4045: 'newest', 4046: 'fashions', 4047: 'grievances', 4048: 'artful', 4049: 'thwarted', 4050: 'sleeves', 4051: 'separates', 4052: 'forgets', 4053: 'violently', 4054: 'hackneyed', 4055: 'indefinite', 4056: 'growing', 4057: 'inattentive', 4058: 'incivility', 4059: 'essence', 4060: 'acquiescence', 4061: 'custody', 4062: 'gracechurch', 4063: 'ablution', 4064: 'cleanse', 4065: 'impurities', 4066: 'stirs', 4067: 'correspond', 4068: 'reanimated', 4069: 'successfully', 4070: 'combated', 4071: 'gardiners', 4072: 'stayed', 4073: 'carefully', 4074: 'suspicious', 4075: 'narrowly', 4076: 'affording', 4077: 'unconnected', 4078: 'fresher', 4079: 'procuring', 4080: 'inexhaustible', 4081: 'comparing', 4082: 'bestowing', 4083: 'tribute', 4084: 'delighting', 4085: 'reputed', 4086: 'lad', 4087: 'confident', 4088: 'fitzwilliam', 4089: 'warned', 4090: 'involve', 4091: 'becomes', 4092: 'forfeit', 4093: 'wiser', 4094: 'wisdom', 4095: 'remind', 4096: 'refrain', 4097: 'thursday', 4098: 'farewell', 4099: 'rose', 4100: 'ungracious', 4101: 'reluctant', 4102: 'foresaw', 4103: 'march', 4104: 'bridegroom', 4105: 'slacken', 4106: 'correspondent', 4107: 'eagerness', 4108: 'pronounce', 4109: 'foreseen', 4110: 'cheerfully', 4111: 'surrounded', 4112: 'roads', 4113: 'rationally', 4114: 'accounted', 4115: 'reproached', 4116: 'inventing', 4117: 'fresh', 4118: 'visitor', 4119: 'shortness', 4120: 'deceive', 4121: 'triumphing', 4122: 'obstinate', 4123: 'meantime', 4124: 'singling', 4125: 'deservedly', 4126: 'harshly', 4127: 'duplicity', 4128: 'banish', 4129: 'invariable', 4130: 'duped', 4131: 'review', 4132: 'contentment', 4133: 'subsided', 4134: 'admirer', 4135: 'watchful', 4136: 'permitted', 4137: 'acquisition', 4138: 'rendering', 4139: 'sighted', 4140: 'struggles', 4141: 'relinquish', 4142: 'relating', 4143: 'elevating', 4144: 'passion', 4145: 'effectual', 4146: 'distractedly', 4147: 'purchased', 4148: 'defection', 4149: 'events', 4150: 'diversified', 4151: 'walks', 4152: 'february', 4153: 'depending', 4154: 'learned', 4155: 'weakened', 4156: 'uncompanionable', 4157: 'faultless', 4158: 'unwelcome', 4159: 'peep', 4160: 'smoothly', 4161: 'accompany', 4162: 'bidding', 4163: 'adieu', 4164: 'reminding', 4165: 'coincide', 4166: 'attach', 4167: 'travellers', 4168: 'empty', 4169: 'headed', 4170: 'rattle', 4171: 'absurdities', 4172: 'wonders', 4173: 'worn', 4174: 'noon', 4175: 'drove', 4176: 'healthful', 4177: 'troop', 4178: 'shyness', 4179: 'bustle', 4180: 'shopping', 4181: 'theatres', 4182: 'struggled', 4183: 'support', 4184: 'periods', 4185: 'reasonable', 4186: 'conversations', 4187: 'rallied', 4188: 'niece', 4189: 'desertion', 4190: 'bearing', 4191: 'mercenary', 4192: 'matrimonial', 4193: 'avarice', 4194: 'grandfather', 4195: 'allowable', 4196: 'gain', 4197: 'affections', 4198: 'indelicacy', 4199: 'directing', 4200: 'decorums', 4201: 'savours', 4202: 'tour', 4203: 'carry', 4204: 'lakes', 4205: 'rapturously', 4206: 'vigour', 4207: 'spleen', 4208: 'rocks', 4209: 'mountains', 4210: 'transport', 4211: 'accurate', 4212: 'rivers', 4213: 'jumbled', 4214: 'imaginations', 4215: 'relative', 4216: 'generality', 4217: 'northern', 4218: 'source', 4219: 'road', 4220: 'search', 4221: 'palings', 4222: 'boundary', 4223: 'discernible', 4224: 'sloping', 4225: 'green', 4226: 'pales', 4227: 'laurel', 4228: 'hedge', 4229: 'arriving', 4230: 'gate', 4231: 'amidst', 4232: 'nods', 4233: 'affectionately', 4234: 'pointing', 4235: 'neatness', 4236: 'ostentatious', 4237: 'glory', 4238: 'displaying', 4239: 'neat', 4240: 'gratify', 4241: 'sigh', 4242: 'repentance', 4243: 'unseldom', 4244: 'involuntarily', 4245: 'discern', 4246: 'faint', 4247: 'article', 4248: 'sideboard', 4249: 'fender', 4250: 'stroll', 4251: 'cultivation', 4252: 'pleasures', 4253: 'healthfulness', 4254: 'owned', 4255: 'cross', 4256: 'pointed', 4257: 'minuteness', 4258: 'fields', 4259: 'direction', 4260: 'trees', 4261: 'clump', 4262: 'bordered', 4263: 'front', 4264: 'building', 4265: 'situated', 4266: 'meadows', 4267: 'shoes', 4268: 'encounter', 4269: 'frost', 4270: 'built', 4271: 'consistency', 4272: 'throughout', 4273: 'ensuing', 4274: 'hesitation', 4275: 'include', 4276: 'regularly', 4277: 'chamber', 4278: 'meditate', 4279: 'guiding', 4280: 'anticipate', 4281: 'quiet', 4282: 'tenor', 4283: 'employments', 4284: 'vexatious', 4285: 'interruptions', 4286: 'middle', 4287: 'landing', 4288: 'breathless', 4289: 'agitation', 4290: 'fronted', 4291: 'stopping', 4292: 'pigs', 4293: 'la', 4294: 'shocked', 4295: 'doors', 4296: 'wind', 4297: 'doorway', 4298: 'greatness', 4299: 'constantly', 4300: 'bowing', 4301: 'letting', 4302: 'acquire', 4303: 'instructing', 4304: 'overpower', 4305: 'separating', 4306: 'toilette', 4307: 'apparel', 4308: 'simply', 4309: 'dressing', 4310: 'objected', 4311: 'formidable', 4312: 'inspire', 4313: 'enumeration', 4314: 'glazing', 4315: 'ascended', 4316: 'talents', 4317: 'miraculous', 4318: 'stateliness', 4319: 'witness', 4320: 'trepidation', 4321: 'ornaments', 4322: 'ante', 4323: 'seat', 4324: 'senses', 4325: 'edge', 4326: 'chair', 4327: 'conciliating', 4328: 'inferior', 4329: 'examining', 4330: 'deportment', 4331: 'pale', 4332: 'insignificant', 4333: 'placing', 4334: 'informing', 4335: 'articles', 4336: 'plate', 4337: 'foretold', 4338: 'bottom', 4339: 'carved', 4340: 'ate', 4341: 'echo', 4342: 'indisposed', 4343: 'delivering', 4344: 'controverted', 4345: 'concerns', 4346: 'familiarly', 4347: 'minutely', 4348: 'management', 4349: 'regulated', 4350: 'instructed', 4351: 'cows', 4352: 'poultry', 4353: 'beneath', 4354: 'dictating', 4355: 'older', 4356: 'maiden', 4357: 'entailing', 4358: 'webbs', 4359: 'masters', 4360: 'governess', 4361: 'neglected', 4362: 'strenuously', 4363: 'supplying', 4364: 'metcalf', 4365: 'finds', 4366: 'pope', 4367: 'treasure', 4368: 'elder', 4369: 'sisterly', 4370: 'dignified', 4371: 'cassino', 4372: 'superlatively', 4373: 'syllable', 4374: 'stating', 4375: 'storing', 4376: 'anecdotes', 4377: 'played', 4378: 'gratefully', 4379: 'instructions', 4380: 'thankfulness', 4381: 'costing', 4382: 'comfortably', 4383: 'possessing', 4384: 'gig', 4385: 'backwards', 4386: 'sized', 4387: 'arrangement', 4388: 'distinguish', 4389: 'indebted', 4390: 'unfrequently', 4391: 'livings', 4392: 'negligence', 4393: 'joints', 4394: 'meat', 4395: 'magistrate', 4396: 'minutest', 4397: 'cottagers', 4398: 'quarrelsome', 4399: 'sallied', 4400: 'differences', 4401: 'scold', 4402: 'harmony', 4403: 'plenty', 4404: 'counterpart', 4405: 'grove', 4406: 'edged', 4407: 'sheltered', 4408: 'designs', 4409: 'lodges', 4410: 'hurried', 4411: 'hastened', 4412: 'nephews', 4413: 'disclaim', 4414: 'thirty', 4415: 'curtseyed', 4416: 'awakened', 4417: 'betray', 4418: 'consciousness', 4419: 'confused', 4420: 'pursued', 4421: 'considerably', 4422: 'travelling', 4423: 'conversed', 4424: 'shared', 4425: 'proficient', 4426: 'proficiency', 4427: 'practises', 4428: 'charge', 4429: 'performer', 4430: 'arch', 4431: 'frighten', 4432: 'stubbornness', 4433: 'rises', 4434: 'intimidate', 4435: 'professing', 4436: 'teach', 4437: 'impolitic', 4438: 'retaliate', 4439: 'shock', 4440: 'smilingly', 4441: 'behaves', 4442: 'strangers', 4443: 'scarce', 4444: 'fingers', 4445: 'judged', 4446: 'applying', 4447: 'masterly', 4448: 'produce', 4449: 'practising', 4450: 'amiss', 4451: 'practised', 4452: 'fingering', 4453: 'symptom', 4454: 'derived', 4455: 'mixing', 4456: 'sinking', 4457: 'emergence', 4458: 'recollecting', 4459: 'rejoice', 4460: 'prudential', 4461: 'fifty', 4462: 'varying', 4463: 'expenses', 4464: 'unimportant', 4465: 'journeys', 4466: 'local', 4467: 'newspaper', 4468: 'colder', 4469: 'concise', 4470: 'occasioned', 4471: 'conjectures', 4472: 'sports', 4473: 'billiard', 4474: 'nearness', 4475: 'separately', 4476: 'captivating', 4477: 'softness', 4478: 'disputable', 4479: 'steadfast', 4480: 'gaze', 4481: 'raising', 4482: 'vanish', 4483: 'counterbalance', 4484: 'ramble', 4485: 'mischance', 4486: 'haunt', 4487: 'penance', 4488: 'rencontre', 4489: 'solitary', 4490: 'imply', 4491: 'perusing', 4492: 'forcing', 4493: 'accordingly', 4494: 'disposal', 4495: 'arranges', 4496: 'feelingly', 4497: 'inured', 4498: 'earl', 4499: 'hardships', 4500: 'sons', 4501: 'habits', 4502: 'afford', 4503: 'coloured', 4504: 'price', 4505: 'dropped', 4506: 'someone', 4507: 'lasting', 4508: 'sole', 4509: 'divide', 4510: 'guardianship', 4511: 'guardians', 4512: 'tractable', 4513: 'drily', 4514: 'prodigious', 4515: 'hither', 4516: 'saved', 4517: 'inconveniences', 4518: 'scrape', 4519: 'objections', 4520: 'separate', 4521: 'swelling', 4522: 'thoughtful', 4523: 'officious', 4524: 'condemn', 4525: 'unnatural', 4526: 'lessening', 4527: 'sadly', 4528: 'jestingly', 4529: 'exist', 4530: 'boundless', 4531: 'measures', 4532: 'mislead', 4533: 'ruined', 4534: 'inflicted', 4535: 'goodness', 4536: 'improved', 4537: 'peculiarities', 4538: 'wound', 4539: 'partly', 4540: 'governed', 4541: 'tears', 4542: 'exasperate', 4543: 'complaint', 4544: 'revival', 4545: 'suffering', 4546: 'characterise', 4547: 'serenity', 4548: 'clouded', 4549: 'conveying', 4550: 'perusal', 4551: 'inflict', 4552: 'keener', 4553: 'sufferings', 4554: 'remembering', 4555: 'fluttered', 4556: 'banished', 4557: 'imputing', 4558: 'agitated', 4559: 'repressed', 4560: 'ardently', 4561: 'detailed', 4562: 'degradation', 4563: 'obstacles', 4564: 'wounding', 4565: 'rooted', 4566: 'subsequent', 4567: 'compose', 4568: 'representing', 4569: 'endeavours', 4570: 'conquer', 4571: 'cheeks', 4572: 'obligation', 4573: 'avowed', 4574: 'unequally', 4575: 'duration', 4576: 'overcoming', 4577: 'leaning', 4578: 'disturbance', 4579: 'visible', 4580: 'struggling', 4581: 'attained', 4582: 'expecting', 4583: 'insulting', 4584: 'provocations', 4585: 'ruining', 4586: 'beloved', 4587: 'emotion', 4588: 'dividing', 4589: 'instability', 4590: 'involving', 4591: 'acutest', 4592: 'unmoved', 4593: 'remorse', 4594: 'incredulity', 4595: 'assumed', 4596: 'denying', 4597: 'kinder', 4598: 'disdained', 4599: 'noticing', 4600: 'conciliate', 4601: 'founded', 4602: 'recital', 4603: 'misrepresentation', 4604: 'misfortunes', 4605: 'contemptuously', 4606: 'infliction', 4607: 'reduced', 4608: 'poverty', 4609: 'designed', 4610: 'desert', 4611: 'calculation', 4612: 'honest', 4613: 'confession', 4614: 'accusations', 4615: 'policy', 4616: 'concealed', 4617: 'impelled', 4618: 'unqualified', 4619: 'unalloyed', 4620: 'condition', 4621: 'behaved', 4622: 'start', 4623: 'obvious', 4624: 'mingled', 4625: 'impressing', 4626: 'fullest', 4627: 'arrogance', 4628: 'groundwork', 4629: 'succeeding', 4630: 'immovable', 4631: 'hastily', 4632: 'painfully', 4633: 'reflected', 4634: 'inspired', 4635: 'shameless', 4636: 'unpardonable', 4637: 'acknowledging', 4638: 'unequal', 4639: 'awoke', 4640: 'meditations', 4641: 'recover', 4642: 'indulge', 4643: 'turnpike', 4644: 'paling', 4645: 'gates', 4646: 'verdure', 4647: 'continuing', 4648: 'glimpse', 4649: 'retreating', 4650: 'stepping', 4651: 'instinctively', 4652: 'plantation', 4653: 'strongest', 4654: 'containing', 4655: 'sheets', 4656: 'pursuing', 4657: 'dated', 4658: 'disgusting', 4659: 'paining', 4660: 'humbling', 4661: 'formation', 4662: 'magnitude', 4663: 'defiance', 4664: 'blasted', 4665: 'wantonly', 4666: 'depravity', 4667: 'growth', 4668: 'severity', 4669: 'liberally', 4670: 'respecting', 4671: 'secured', 4672: 'obeyed', 4673: 'rise', 4674: 'undecided', 4675: 'attentively', 4676: 'scrutiny', 4677: 'participation', 4678: 'misled', 4679: 'acute', 4680: 'observer', 4681: 'investigation', 4682: 'decisions', 4683: 'influenced', 4684: 'repugnance', 4685: 'existing', 4686: 'stated', 4687: 'betrayed', 4688: 'pains', 4689: 'nearest', 4690: 'conducted', 4691: 'yourselves', 4692: 'preserve', 4693: 'coincidence', 4694: 'detaching', 4695: 'described', 4696: 'enforced', 4697: 'remonstrance', 4698: 'staggered', 4699: 'ultimately', 4700: 'seconded', 4701: 'hesitated', 4702: 'extinguished', 4703: 'concealment', 4704: 'unknowingly', 4705: 'weighty', 4706: 'accusation', 4707: 'refute', 4708: 'accused', 4709: 'summon', 4710: 'undoubted', 4711: 'discharge', 4712: 'supported', 4713: 'school', 4714: 'cambridge', 4715: 'vicious', 4716: 'propensities', 4717: 'opportunities', 4718: 'unfolding', 4719: 'advancement', 4720: 'legacy', 4721: 'survive', 4722: 'pecuniary', 4723: 'lieu', 4724: 'therein', 4725: 'accede', 4726: 'dissolved', 4727: 'pretence', 4728: 'idleness', 4729: 'dissipation', 4730: 'unprofitable', 4731: 'ordained', 4732: 'revered', 4733: 'resisting', 4734: 'doubtless', 4735: 'reproaches', 4736: 'obtruded', 4737: 'induce', 4738: 'unfold', 4739: 'junior', 4740: 'presided', 4741: 'ramsgate', 4742: 'younge', 4743: 'connivance', 4744: 'aid', 4745: 'retained', 4746: 'impression', 4747: 'elopement', 4748: 'grieving', 4749: 'exposure', 4750: 'unquestionably', 4751: 'revenging', 4752: 'narrative', 4753: 'henceforth', 4754: 'previously', 4755: 'detection', 4756: 'revealed', 4757: 'testimony', 4758: 'executors', 4759: 'unavoidably', 4760: 'transactions', 4761: 'valueless', 4762: 'bless', 4763: 'contrariety', 4764: 'defined', 4765: 'comprehension', 4766: 'penitent', 4767: 'insolence', 4768: 'clearer', 4769: 'overthrow', 4770: 'cherished', 4771: 'definition', 4772: 'horror', 4773: 'oppressed', 4774: 'discredit', 4775: 'grossest', 4776: 'perturbed', 4777: 'collecting', 4778: 'recalled', 4779: 'gross', 4780: 'err', 4781: 're', 4782: 'resigning', 4783: 'sum', 4784: 'weighed', 4785: 'impartiality', 4786: 'deliberated', 4787: 'sides', 4788: 'blameless', 4789: 'profligacy', 4790: 'scrupled', 4791: 'inquiring', 4792: 'trait', 4793: 'rescue', 4794: 'predominance', 4795: 'atone', 4796: 'casual', 4797: 'errors', 4798: 'vice', 4799: 'befriended', 4800: 'social', 4801: 'mess', 4802: 'pausing', 4803: 'alas', 4804: 'referred', 4805: 'awkwardness', 4806: 'hazarded', 4807: 'corroboration', 4808: 'remembered', 4809: 'impropriety', 4810: 'communications', 4811: 'avoided', 4812: 'discussed', 4813: 'hatefully', 4814: 'mediocrity', 4815: 'moderation', 4816: 'grasp', 4817: 'incautiously', 4818: 'lingering', 4819: 'struggle', 4820: 'fainter', 4821: 'justification', 4822: 'asserted', 4823: 'blamelessness', 4824: 'repulsive', 4825: 'latterly', 4826: 'unprincipled', 4827: 'irreligious', 4828: 'immoral', 4829: 'violation', 4830: 'incomprehensible', 4831: 'prejudiced', 4832: 'despicably', 4833: 'prided', 4834: 'blameable', 4835: 'mistrust', 4836: 'humiliation', 4837: 'wretchedly', 4838: 'courted', 4839: 'widely', 4840: 'unsuspicious', 4841: 'fervent', 4842: 'displayed', 4843: 'sensibility', 4844: 'merited', 4845: 'unfelt', 4846: 'soothed', 4847: 'depressed', 4848: 'probabilities', 4849: 'reconciling', 4850: 'repressing', 4851: 'unfit', 4852: 'missing', 4853: 'obeisance', 4854: 'message', 4855: 'importing', 4856: 'dull', 4857: 'diminution', 4858: 'increases', 4859: 'accounting', 4860: 'june', 4861: 'dawson', 4862: 'barouche', 4863: 'box', 4864: 'abide', 4865: 'post', 4866: 'improper', 4867: 'john', 4868: 'discreditable', 4869: 'bromley', 4870: 'studied', 4871: 'unjustly', 4872: 'upbraided', 4873: 'repent', 4874: 'slightest', 4875: 'heavier', 4876: 'chagrin', 4877: 'remedy', 4878: 'exert', 4879: 'restrain', 4880: 'giddiness', 4881: 'spirited', 4882: 'irritable', 4883: 'affronted', 4884: 'willed', 4885: 'flirt', 4886: 'prevailing', 4887: 'restoring', 4888: 'cleared', 4889: 'implicitness', 4890: 'replete', 4891: 'indecorum', 4892: 'development', 4893: 'packing', 4894: 'urgent', 4895: 'gowns', 4896: 'trunk', 4897: 'afresh', 4898: 'exerted', 4899: 'curtsey', 4900: 'deemed', 4901: 'indispensably', 4902: 'domestics', 4903: 'unpleasantly', 4904: 'disagreeably', 4905: 'disadvantages', 4906: 'abiding', 4907: 'sharers', 4908: 'elevation', 4909: 'sentences', 4910: 'drawn', 4911: 'unfortunate', 4912: 'firmly', 4913: 'sprang', 4914: 'regretting', 4915: 'trunks', 4916: 'fastened', 4917: 'parcels', 4918: 'commissioning', 4919: 'consternation', 4920: 'drinking', 4921: 'privately', 4922: 'revealing', 4923: 'conquered', 4924: 'indecision', 4925: 'grieve', 4926: 'appointed', 4927: 'inn', 4928: 'token', 4929: 'coachman', 4930: 'punctuality', 4931: 'sentinel', 4932: 'salad', 4933: 'cucumber', 4934: 'welcoming', 4935: 'larder', 4936: 'affords', 4937: 'lend', 4938: 'ours', 4939: 'purchases', 4940: 'bought', 4941: 'pull', 4942: 'abused', 4943: 'ugly', 4944: 'uglier', 4945: 'satin', 4946: 'trim', 4947: 'signify', 4948: 'wears', 4949: 'encamped', 4950: 'brighton', 4951: 'papa', 4952: 'delicious', 4953: 'campful', 4954: 'soldiers', 4955: 'overset', 4956: 'monthly', 4957: 'waiter', 4958: 'hears', 4959: 'chin', 4960: 'liverpool', 4961: 'fool', 4962: 'straws', 4963: 'nasty', 4964: 'freckled', 4965: 'coarseness', 4966: 'harboured', 4967: 'boxes', 4968: 'bags', 4969: 'nicely', 4970: 'crammed', 4971: 'bandbox', 4972: 'snug', 4973: 'flirting', 4974: 'husbands', 4975: 'chaperon', 4976: 'harringtons', 4977: 'harriet', 4978: 'chamberlayne', 4979: 'pratt', 4980: 'kinds', 4981: 'histories', 4982: 'jokes', 4983: 'additions', 4984: 'escaping', 4985: 'undiminished', 4986: 'welfare', 4987: 'doubly', 4988: 'retailing', 4989: 'louder', 4990: 'blinds', 4991: 'pretended', 4992: 'handsomely', 4993: 'nicest', 4994: 'luncheon', 4995: 'merry', 4996: 'depreciate', 4997: 'congenial', 4998: 'afternoon', 4999: 'answers', 5000: 'vague', 5001: 'equivocal', 5002: 'disheartened', 5003: 'despaired', 5004: 'suppress', 5005: 'lessened', 5006: 'unhappiness', 5007: 'stroke', 5008: 'wickedness', 5009: 'existed', 5010: 'race', 5011: 'mankind', 5012: 'collected', 5013: 'vindication', 5014: 'labour', 5015: 'quantity', 5016: 'shifting', 5017: 'extorted', 5018: 'profusion', 5019: 'saving', 5020: 'feather', 5021: 'gentleness', 5022: 'mismanagement', 5023: 'spur', 5024: 'abusive', 5025: 'stumbling', 5026: 'witty', 5027: 'undeserved', 5028: 'prejudices', 5029: 'dreadfully', 5030: 'undeceive', 5031: 'hence', 5032: 'desperate', 5033: 'allayed', 5034: 'secrets', 5035: 'lurking', 5036: 'forbade', 5037: 'disclosure', 5038: 'partake', 5039: 'encumbrance', 5040: 'mystery', 5041: 'steadiness', 5042: 'attachments', 5043: 'fervently', 5044: 'remembrance', 5045: 'requisite', 5046: 'injurious', 5047: 'sad', 5048: 'undeserving', 5049: 'collinses', 5050: 'manager', 5051: 'sharp', 5052: 'extravagant', 5053: 'outrun', 5054: 'lawfully', 5055: 'drooping', 5056: 'apace', 5057: 'extreme', 5058: 'heartedness', 5059: 'exclaim', 5060: 'woe', 5061: 'grief', 5062: 'miller', 5063: 'sea', 5064: 'bathing', 5065: 'lamentations', 5066: 'resounding', 5067: 'diverted', 5068: 'anew', 5069: 'rapture', 5070: 'adoration', 5071: 'flew', 5072: 'restless', 5073: 'luckless', 5074: 'repined', 5075: 'fate', 5076: 'accent', 5077: 'exciting', 5078: 'warrant', 5079: 'detestable', 5080: 'advising', 5081: 'improprieties', 5082: 'derive', 5083: 'temptations', 5084: 'exposed', 5085: 'arisen', 5086: 'squeamish', 5087: 'youths', 5088: 'absurdity', 5089: 'aloof', 5090: 'injuries', 5091: 'complaining', 5092: 'volatility', 5093: 'checking', 5094: 'exuberant', 5095: 'teaching', 5096: 'pursuits', 5097: 'meanest', 5098: 'flirtation', 5099: 'attraction', 5100: 'emptiness', 5101: 'ward', 5102: 'rage', 5103: 'comprehended', 5104: 'uncontrolled', 5105: 'censured', 5106: 'despised', 5107: 'prey', 5108: 'degrees', 5109: 'authorising', 5110: 'lock', 5111: 'content', 5112: 'vexations', 5113: 'unavoidable', 5114: 'augment', 5115: 'substance', 5116: 'volubility', 5117: 'earthly', 5118: 'creative', 5119: 'streets', 5120: 'gay', 5121: 'tens', 5122: 'scores', 5123: 'glories', 5124: 'camp', 5125: 'tents', 5126: 'stretched', 5127: 'beauteous', 5128: 'uniformity', 5129: 'dazzling', 5130: 'tent', 5131: 'realities', 5132: 'consoled', 5133: 'agitations', 5134: 'detect', 5135: 'sameness', 5136: 'renewing', 5137: 'serve', 5138: 'frivolous', 5139: 'improves', 5140: 'gayer', 5141: 'aught', 5142: 'essentials', 5143: 'apprehensive', 5144: 'gentlest', 5145: 'accents', 5146: 'deter', 5147: 'foul', 5148: 'misconduct', 5149: 'cautiousness', 5150: 'alluding', 5151: 'adopted', 5152: 'awe', 5153: 'operated', 5154: 'forwarding', 5155: 'repress', 5156: 'broke', 5157: 'whence', 5158: 'pathetic', 5159: 'shed', 5160: 'weep', 5161: 'envy', 5162: 'diffuse', 5163: 'impressive', 5164: 'injunctions', 5165: 'clamorous', 5166: 'adieus', 5167: 'conjugal', 5168: 'captivated', 5169: 'illiberal', 5170: 'vanished', 5171: 'overthrown', 5172: 'tastes', 5173: 'enjoyments', 5174: 'contributed', 5175: 'philosopher', 5176: 'overlook', 5177: 'rightly', 5178: 'enlarging', 5179: 'abroad', 5180: 'repinings', 5181: 'dullness', 5182: 'regain', 5183: 'disturbers', 5184: 'brain', 5185: 'apprehended', 5186: 'hardened', 5187: 'watering', 5188: 'commencement', 5189: 'anticipation', 5190: 'discontentedness', 5191: 'carrying', 5192: 'ceaseless', 5193: 'realised', 5194: 'warded', 5195: 'defence', 5196: 'parasol', 5197: 'reappear', 5198: 'happier', 5199: 'querulous', 5200: 'war', 5201: 'quartered', 5202: 'curtailed', 5203: 'setting', 5204: 'later', 5205: 'july', 5206: 'substitute', 5207: 'contracted', 5208: 'northwards', 5209: 'celebrated', 5210: 'matlock', 5211: 'chatsworth', 5212: 'dovedale', 5213: 'peak', 5214: 'impunity', 5215: 'rob', 5216: 'petrified', 5217: 'spars', 5218: 'doubled', 5219: 'loving', 5220: 'enhance', 5221: 'disappointments', 5222: 'route', 5223: 'oxford', 5224: 'blenheim', 5225: 'warwick', 5226: 'kenilworth', 5227: 'birmingham', 5228: 'lambton', 5229: 'willingness', 5230: 'carpets', 5231: 'curtains', 5232: 'richly', 5233: 'furnished', 5234: 'finest', 5235: 'woods', 5236: 'acquiesce', 5237: 'resource', 5238: 'unfavourably', 5239: 'chambermaid', 5240: 'alarms', 5241: 'revived', 5242: 'perturbation', 5243: 'flutter', 5244: 'lowest', 5245: 'wood', 5246: 'stretching', 5247: 'top', 5248: 'eminence', 5249: 'valley', 5250: 'abruptness', 5251: 'stone', 5252: 'backed', 5253: 'ridge', 5254: 'woody', 5255: 'hills', 5256: 'stream', 5257: 'swelled', 5258: 'artificial', 5259: 'banks', 5260: 'falsely', 5261: 'descended', 5262: 'bridge', 5263: 'elderly', 5264: 'proportioned', 5265: 'surveying', 5266: 'crowned', 5267: 'river', 5268: 'scattered', 5269: 'winding', 5270: 'trace', 5271: 'positions', 5272: 'lofty', 5273: 'gaudy', 5274: 'uselessly', 5275: 'splendour', 5276: 'reynolds', 5277: 'miniatures', 5278: 'army', 5279: 'intimation', 5280: 'plays', 5281: 'sings', 5282: 'communicativeness', 5283: 'hearted', 5284: 'affable', 5285: 'pictures', 5286: 'dimensions', 5287: 'merits', 5288: 'landlord', 5289: 'nowadays', 5290: 'whispered', 5291: 'reaching', 5292: 'spacious', 5293: 'lobby', 5294: 'lightness', 5295: 'apartments', 5296: 'bedrooms', 5297: 'paintings', 5298: 'drawings', 5299: 'crayons', 5300: 'lifetime', 5301: 'sensation', 5302: 'canvas', 5303: 'inspection', 5304: 'consigned', 5305: 'gardener', 5306: 'date', 5307: 'stables', 5308: 'yards', 5309: 'abrupt', 5310: 'deepest', 5311: 'lift', 5312: 'recurring', 5313: 'sedateness', 5314: 'distraction', 5315: 'discrimination', 5316: 'alighted', 5317: 'strikingly', 5318: 'water', 5319: 'nobler', 5320: 'mechanically', 5321: 'appeals', 5322: 'aroused', 5323: 'spots', 5324: 'wander', 5325: 'overspreading', 5326: 'triumphant', 5327: 'accustomed', 5328: 'circuit', 5329: 'hanging', 5330: 'narrowest', 5331: 'simple', 5332: 'glen', 5333: 'rough', 5334: 'coppice', 5335: 'explore', 5336: 'windings', 5337: 'submit', 5338: 'slow', 5339: 'fishing', 5340: 'trout', 5341: 'lasted', 5342: 'imitate', 5343: 'mischievously', 5344: 'construed', 5345: 'unprepared', 5346: 'revolted', 5347: 'named', 5348: 'stole', 5349: 'sly', 5350: 'decamping', 5351: 'sustained', 5352: 'fortitude', 5353: 'gloried', 5354: 'tackle', 5355: 'reproofs', 5356: 'resuming', 5357: 'brink', 5358: 'plant', 5359: 'chanced', 5360: 'originated', 5361: 'inadequate', 5362: 'bakewell', 5363: 'acceded', 5364: 'outstripped', 5365: 'lawn', 5366: 'embargo', 5367: 'dove', 5368: 'dale', 5369: 'unbecoming', 5370: 'whimsical', 5371: 'misunderstood', 5372: 'mouth', 5373: 'unfavourable', 5374: 'flaming', 5375: 'comprehends', 5376: 'construction', 5377: 'faulty', 5378: 'naming', 5379: 'relied', 5380: 'environs', 5381: 'satisfactions', 5382: 'discontinuance', 5383: 'curricle', 5384: 'recognizing', 5385: 'livery', 5386: 'guessed', 5387: 'imparted', 5388: 'acquainting', 5389: 'newly', 5390: 'heads', 5391: 'disquiet', 5392: 'commonly', 5393: 'retreated', 5394: 'shy', 5395: 'obtain', 5396: 'monosyllable', 5397: 'scale', 5398: 'womanly', 5399: 'graceful', 5400: 'unembarrassed', 5401: 'discerning', 5402: 'barely', 5403: 'personage', 5404: 'overflowing', 5405: 'prepossessed', 5406: 'rival', 5407: 'interpretation', 5408: 'denoted', 5409: 'untinctured', 5410: 'unattended', 5411: 'temporary', 5412: 'outlived', 5413: 'courting', 5414: 'unbending', 5415: 'invitations', 5416: 'presuming', 5417: 'avoidance', 5418: 'construing', 5419: 'untouched', 5420: 'reference', 5421: 'recognized', 5422: 'indicated', 5423: 'imperfectly', 5424: 'debts', 5425: 'discharged', 5426: 'hatred', 5427: 'repugnant', 5428: 'friendlier', 5429: 'petulance', 5430: 'acrimony', 5431: 'enemy', 5432: 'indelicate', 5433: 'peculiarity', 5434: 'selves', 5435: 'ardent', 5436: 'unpleasing', 5437: 'possessed', 5438: 'imitated', 5439: 'equalled', 5440: 'saloon', 5441: 'oaks', 5442: 'spanish', 5443: 'chestnuts', 5444: 'intermediate', 5445: 'annesley', 5446: 'closely', 5447: 'employing', 5448: 'brevity', 5449: 'variation', 5450: 'cake', 5451: 'fruits', 5452: 'pyramids', 5453: 'grapes', 5454: 'nectarines', 5455: 'peaches', 5456: 'deciding', 5457: 'predominate', 5458: 'learning', 5459: 'forwarded', 5460: 'sneering', 5461: 'uppermost', 5462: 'exerting', 5463: 'vigorously', 5464: 'repel', 5465: 'involuntary', 5466: 'refrained', 5467: 'discompose', 5468: 'injure', 5469: 'venting', 5470: 'criticisms', 5471: 'brown', 5472: 'coarse', 5473: 'tanned', 5474: 'rejoined', 5475: 'nose', 5476: 'teeth', 5477: 'shrewish', 5478: 'sufficiency', 5479: 'recommending', 5480: 'nettled', 5481: 'resolutely', 5482: 'mostly', 5483: 'fruit', 5484: 'repining', 5485: 'missent', 5486: 'scotland', 5487: 'thoughtless', 5488: 'indiscreet', 5489: 'conjectured', 5490: 'missed', 5491: 'finishing', 5492: 'seized', 5493: 'bewildered', 5494: 'coherent', 5495: 'f', 5496: 'gretna', 5497: 'w', 5498: 'b', 5499: 'clapham', 5500: 'hackney', 5501: 'dismissed', 5502: 'epsom', 5503: 'anxiously', 5504: 'turnpikes', 5505: 'inns', 5506: 'barnet', 5507: 'hatfield', 5508: 'kindest', 5509: 'apprehensions', 5510: 'safest', 5511: 'exigence', 5512: 'rely', 5513: 'darting', 5514: 'losing', 5515: 'precious', 5516: 'impetuous', 5517: 'superseded', 5518: 'detain', 5519: 'knees', 5520: 'trembled', 5521: 'commissioned', 5522: 'unintelligible', 5523: 'miserably', 5524: 'commiseration', 5525: 'glass', 5526: 'wretched', 5527: 'indistinctly', 5528: 'eloped', 5529: 'horrible', 5530: 'meditation', 5531: 'brow', 5532: 'consolatory', 5533: 'bosom', 5534: 'palliation', 5535: 'intrude', 5536: 'engross', 5537: 'swallowed', 5538: 'handkerchief', 5539: 'torment', 5540: 'calls', 5541: 'meetings', 5542: 'retrospective', 5543: 'contradictions', 5544: 'varieties', 5545: 'sighed', 5546: 'promoted', 5547: 'termination', 5548: 'foundations', 5549: 'sources', 5550: 'exchanged', 5551: 'authorise', 5552: 'infamy', 5553: 'additional', 5554: 'anguish', 5555: 'deliberately', 5556: 'fluctuating', 5557: 'cares', 5558: 'deranged', 5559: 'satisfying', 5560: 'trembling', 5561: 'afflicted', 5562: 'actuated', 5563: 'disclose', 5564: 'notes', 5565: 'excuses', 5566: 'completed', 5567: 'shorter', 5568: 'space', 5569: 'unprotected', 5570: 'friendless', 5571: 'adequate', 5572: 'brightening', 5573: 'decency', 5574: 'guilty', 5575: 'removing', 5576: 'presumption', 5577: 'traces', 5578: 'exceptional', 5579: 'abundant', 5580: 'economically', 5581: 'expeditiously', 5582: 'forego', 5583: 'benefiting', 5584: 'dishonourable', 5585: 'indolence', 5586: 'dispose', 5587: 'susceptibility', 5588: 'captivate', 5589: 'profligate', 5590: 'insinuating', 5591: 'alive', 5592: 'liberality', 5593: 'lies', 5594: 'endless', 5595: 'thoroughly', 5596: 'unpretending', 5597: 'apparently', 5598: 'ensue', 5599: 'perceptible', 5600: 'moderate', 5601: 'favourites', 5602: 'forgetfulness', 5603: 'travelled', 5604: 'sleeping', 5605: 'wearied', 5606: 'paddock', 5607: 'lighted', 5608: 'faces', 5609: 'bodies', 5610: 'capers', 5611: 'frisks', 5612: 'jumped', 5613: 'kiss', 5614: 'embraced', 5615: 'filled', 5616: 'fugitives', 5617: 'safety', 5618: 'alternate', 5619: 'sanguine', 5620: 'deserted', 5621: 'proceedings', 5622: 'invectives', 5623: 'villainous', 5624: 'forsters', 5625: 'overruled', 5626: 'fight', 5627: 'killed', 5628: 'terrific', 5629: 'fighting', 5630: 'frighted', 5631: 'wits', 5632: 'tremblings', 5633: 'flutterings', 5634: 'spasms', 5635: 'beatings', 5636: 'seclusion', 5637: 'household', 5638: 'busily', 5639: 'incurred', 5640: 'fretfulness', 5641: 'stem', 5642: 'pour', 5643: 'bosoms', 5644: 'balm', 5645: 'lesson', 5646: 'irretrievable', 5647: 'involves', 5648: 'brittle', 5649: 'lifted', 5650: 'moral', 5651: 'extractions', 5652: 'availed', 5653: 'sequel', 5654: 'brains', 5655: 'unjustifiable', 5656: 'pocket', 5657: 'sally', 5658: 'slit', 5659: 'packed', 5660: 'belonging', 5661: 'hysterics', 5662: 'faculties', 5663: 'repose', 5664: 'condole', 5665: 'services', 5666: 'condolence', 5667: 'insufferable', 5668: 'postilions', 5669: 'fare', 5670: 'remarked', 5671: 'anyhow', 5672: 'negligent', 5673: 'dilatory', 5674: 'duel', 5675: 'serviceable', 5676: 'heartening', 5677: 'reporting', 5678: 'irregularity', 5679: 'dispirited', 5680: 'striving', 5681: 'blacken', 5682: 'tradesman', 5683: 'intrigues', 5684: 'title', 5685: 'seduction', 5686: 'wickedest', 5687: 'distrusted', 5688: 'gaining', 5689: 'hotels', 5690: 'disinclined', 5691: 'intimates', 5692: 'clue', 5693: 'essential', 5694: 'curiosities', 5695: 'affliction', 5696: 'sympathise', 5697: 'bitterest', 5698: 'alleviate', 5699: 'afflicting', 5700: 'parent', 5701: 'lamented', 5702: 'informs', 5703: 'licentiousness', 5704: 'enormity', 5705: 'howsoever', 5706: 'grievously', 5707: 'apprehending', 5708: 'fortunes', 5709: 'condescendingly', 5710: 'connect', 5711: 'augmented', 5712: 'reap', 5713: 'heinous', 5714: 'finances', 5715: 'transpired', 5716: 'gaming', 5717: 'gamester', 5718: 'spiritless', 5719: 'yielded', 5720: 'stage', 5721: 'lowness', 5722: 'fairly', 5723: 'dread', 5724: 'sleepless', 5725: 'philosophic', 5726: 'parade', 5727: 'nightcap', 5728: 'powdering', 5729: 'runs', 5730: 'eastbourne', 5731: 'prohibited', 5732: 'stir', 5733: 'threats', 5734: 'cry', 5735: 'concluding', 5736: 'thence', 5737: 'butler', 5738: 'copse', 5739: 'lagged', 5740: 'panting', 5741: 'august', 5742: 'settlement', 5743: 'conditions', 5744: 'privileged', 5745: 'haggerston', 5746: 'diligence', 5747: 'explicitly', 5748: 'edw', 5749: 'farthing', 5750: 'clearing', 5751: 'sixpence', 5752: 'requited', 5753: 'protection', 5754: 'consenting', 5755: 'preparation', 5756: 'exuberance', 5757: 'fidgety', 5758: 'disturbed', 5759: 'humbled', 5760: 'transports', 5761: 'pledged', 5762: 'sounds', 5763: 'dictate', 5764: 'calico', 5765: 'cambric', 5766: 'dictated', 5767: 'plentiful', 5768: 'consulted', 5769: 'philips', 5770: 'airing', 5771: 'bowl', 5772: 'punch', 5773: 'refuge', 5774: 'justly', 5775: 'annual', 5776: 'survived', 5777: 'britain', 5778: 'rested', 5779: 'cutting', 5780: 'successively', 5781: 'exceeding', 5782: 'proportions', 5783: 'acceding', 5784: 'concisely', 5785: 'fulfil', 5786: 'loser', 5787: 'board', 5788: 'undertaking', 5789: 'proportionate', 5790: 'speed', 5791: 'decent', 5792: 'philosophy', 5793: 'secluded', 5794: 'farmhouse', 5795: 'spiteful', 5796: 'oppressively', 5797: 'damp', 5798: 'attendants', 5799: 'nuptials', 5800: 'muslins', 5801: 'searching', 5802: 'haye', 5803: 'gouldings', 5804: 'stoke', 5805: 'ashworth', 5806: 'pulvis', 5807: 'attics', 5808: 'admittance', 5809: 'impudence', 5810: 'guinea', 5811: 'inconceivable', 5812: 'valid', 5813: 'eloping', 5814: 'spreading', 5815: 'confidently', 5816: 'frailty', 5817: 'individually', 5818: 'gulf', 5819: 'impassable', 5820: 'scorned', 5821: 'shrink', 5822: 'blow', 5823: 'repented', 5824: 'proudly', 5825: 'spurned', 5826: 'gladly', 5827: 'mortal', 5828: 'multitude', 5829: 'connubial', 5830: 'precluding', 5831: 'permanent', 5832: 'passions', 5833: 'regulars', 5834: 'ensigncy', 5835: 'arrangements', 5836: 'creditors', 5837: 'payment', 5838: 'subjoin', 5839: 'south', 5840: 'begs', 5841: 'e', 5842: 'residing', 5843: 'mildly', 5844: 'culprit', 5845: 'endure', 5846: 'decked', 5847: 'impenetrably', 5848: 'stepped', 5849: 'forwards', 5850: 'shewed', 5851: 'austerity', 5852: 'untamed', 5853: 'unabashed', 5854: 'fearless', 5855: 'demanding', 5856: 'limits', 5857: 'impudent', 5858: 'caused', 5859: 'replies', 5860: 'expressively', 5861: 'hereabouts', 5862: 'overtook', 5863: 'goulding', 5864: 'glove', 5865: 'frame', 5866: 'housemaids', 5867: 'newcastle', 5868: 'regretted', 5869: 'elope', 5870: 'flight', 5871: 'kill', 5872: 'birds', 5873: 'september', 5874: 'body', 5875: 'managed', 5876: 'clement', 5877: 'eleven', 5878: 'fuss', 5879: 'distracted', 5880: 'sermon', 5881: 'breakfasted', 5882: \"'ll\", 5883: 'foot', 5884: 'theatre', 5885: 'faithfully', 5886: 'burning', 5887: 'noblest', 5888: 'seizing', 5889: 'dropt', 5890: 'cogent', 5891: 'tricks', 5892: 'stratagems', 5893: 'confidante', 5894: 'benches', 5895: 'sept', 5896: 'devote', 5897: 'foresee', 5898: 'comprise', 5899: 'explicit', 5900: 'racked', 5901: 'hunting', 5902: 'worthlessness', 5903: 'confide', 5904: 'generously', 5905: 'edward', 5906: 'bribery', 5907: 'corruption', 5908: 'insisted', 5909: 'expedite', 5910: 'consequences', 5911: 'resign', 5912: 'effectually', 5913: 'postponed', 5914: 'battled', 5915: 'sorely', 5916: 'grain', 5917: 'borrowed', 5918: 'feathers', 5919: 'amounting', 5920: 'admission', 5921: 'staid', 5922: 'bold', 5923: 'prudently', 5924: 'exclude', 5925: 'p', 5926: 'm', 5927: 'unsettled', 5928: 'uncertainty', 5929: 'attendant', 5930: 'research', 5931: 'supplication', 5932: 'abominate', 5933: 'bribe', 5934: 'considerations', 5935: 'revolt', 5936: 'saucy', 5937: 'overtaken', 5938: 'strangely', 5939: 'biting', 5940: 'silenced', 5941: 'kympton', 5942: 'palatable', 5943: 'compromised', 5944: 'kissed', 5945: 'simpers', 5946: 'smirks', 5947: 'prodigiously', 5948: 'forlorn', 5949: 'shoot', 5950: 'fidgets', 5951: 'latest', 5952: 'butcher', 5953: 'ducks', 5954: 'wavered', 5955: 'legally', 5956: 'hired', 5957: 'speculation', 5958: 'errand', 5959: 'neighbouring', 5960: \"'tis\", 5961: 'shan', 5962: 'thirteen', 5963: 'sufferer', 5964: 'counted', 5965: 'intervene', 5966: 'vow', 5967: 'explanatory', 5968: 'shew', 5969: 'undervalued', 5970: 'benefits', 5971: 'witnessing', 5972: 'lustre', 5973: 'unshaken', 5974: 'paler', 5975: 'sedate', 5976: 'contrasted', 5977: 'preservation', 5978: 'irremediable', 5979: 'thoughtfulness', 5980: 'changes', 5981: 'papers', 5982: 'courier', 5983: 'esq', 5984: 'northward', 5985: 'levelled', 5986: 'vastly', 5987: 'covies', 5988: 'compensation', 5989: 'kindled', 5990: 'chatty', 5991: 'mindful', 5992: 'deaden', 5993: 'dines', 5994: 'sportsmen', 5995: 'forbore', 5996: 'sanction', 5997: 'ungraciousness', 5998: 'enabling', 5999: 'wearisome', 6000: 'pouring', 6001: 'confederacy', 6002: 'vacancy', 6003: 'closer', 6004: 'enraged', 6005: 'protest', 6006: 'abhorrent', 6007: 'cup', 6008: 'scarborough', 6009: 'victim', 6010: 'rapacity', 6011: 'unsuccessfully', 6012: 'venison', 6013: 'roasted', 6014: 'fat', 6015: 'haunch', 6016: 'partridges', 6017: 'french', 6018: 'cooks', 6019: 'mortifies', 6020: 'instruct', 6021: 'sarah', 6022: 'forwarder', 6023: 'hang', 6024: 'sash', 6025: 'winking', 6026: 'innocently', 6027: 'wink', 6028: 'waste', 6029: 'premeditation', 6030: 'ineffectual', 6031: 'officiousness', 6032: 'appointment', 6033: 'communicative', 6034: 'eccentric', 6035: 'invention', 6036: 'counteract', 6037: 'infinite', 6038: 'hearth', 6039: 'basis', 6040: 'super', 6041: 'simpered', 6042: 'tempers', 6043: 'cheat', 6044: 'exceed', 6045: 'dispense', 6046: 'petitioned', 6047: 'barbarous', 6048: 'detested', 6049: 'advantageously', 6050: 'vex', 6051: 'dupe', 6052: 'forgiving', 6053: 'forty', 6054: 'shift', 6055: 'luckiest', 6056: 'equipage', 6057: 'preceded', 6058: 'confinement', 6059: 'stiffly', 6060: 'west', 6061: 'puzzled', 6062: 'prettyish', 6063: 'wilderness', 6064: 'hermitage', 6065: 'pronouncing', 6066: 'survey', 6067: 'trifled', 6068: 'insincere', 6069: 'frankness', 6070: 'contradicted', 6071: 'industriously', 6072: 'circulated', 6073: 'retains', 6074: 'allurements', 6075: 'infatuation', 6076: 'aspire', 6077: 'cradles', 6078: 'unallied', 6079: 'tacit', 6080: 'completion', 6081: 'inclinations', 6082: 'dissuaded', 6083: 'brooking', 6084: 'maternal', 6085: 'ancient', 6086: 'untitled', 6087: 'member', 6088: 'respective', 6089: 'upstart', 6090: 'sphere', 6091: 'aunts', 6092: 'recede', 6093: 'intimidated', 6094: 'persuasions', 6095: 'importuned', 6096: 'patched', 6097: 'expence', 6098: 'earth', 6099: 'shades', 6100: 'polluted', 6101: 'insulted', 6102: 'constitute', 6103: 'obey', 6104: 'violated', 6105: 'scorn', 6106: 'final', 6107: 'ambition', 6108: 'originate', 6109: 'revolving', 6110: 'persisting', 6111: 'judgment', 6112: 'miseries', 6113: 'weakest', 6114: 'solid', 6115: 'reasoning', 6116: 'wavering', 6117: 'unblemished', 6118: 'constancy', 6119: 'obligingly', 6120: 'appeased', 6121: 'dismay', 6122: 'consequent', 6123: 'explanations', 6124: 'rushed', 6125: 'instantaneous', 6126: 'undetermined', 6127: 'penetration', 6128: 'sagacity', 6129: 'gossiping', 6130: 'advertised', 6131: 'presumed', 6132: 'illustrious', 6133: 'personages', 6134: 'land', 6135: 'kindred', 6136: 'incur', 6137: 'closure', 6138: 'pitched', 6139: 'lie', 6140: 'blemish', 6141: 'pleasantry', 6142: 'termed', 6143: 'speediest', 6144: 'hushed', 6145: 'declaring', 6146: 'christian', 6147: 'forgiveness', 6148: 'missish', 6149: 'hypocrisy', 6150: 'outstrip', 6151: 'boldly', 6152: 'executed', 6153: 'unexampled', 6154: 'mortifications', 6155: 'discovering', 6156: 'inducements', 6157: 'april', 6158: 'unchanged', 6159: 'fluently', 6160: 'undergone', 6161: 'heartfelt', 6162: 'diffused', 6163: 'proving', 6164: 'emphatically', 6165: 'contrariwise', 6166: 'irrevocably', 6167: 'frankly', 6168: 'premises', 6169: 'severest', 6170: 'annexed', 6171: 'strictly', 6172: 'irreproachable', 6173: 'inexpressibly', 6174: 'tortured', 6175: 'devoid', 6176: 'burnt', 6177: 'unalterable', 6178: 'implies', 6179: 'charity', 6180: 'retrospections', 6181: 'void', 6182: 'innocence', 6183: 'repelled', 6184: 'principles', 6185: 'benevolent', 6186: 'overbearing', 6187: 'loveliest', 6188: 'blamed', 6189: 'leisurely', 6190: 'busy', 6191: 'watches', 6192: 'term', 6193: 'unabated', 6194: 'forgiven', 6195: 'unmarked', 6196: 'unacknowledged', 6197: 'overflows', 6198: 'joking', 6199: 'loves', 6200: 'doubtingly', 6201: 'shooting', 6202: 'disturb', 6203: 'epithet', 6204: 'lanes', 6205: 'oakham', 6206: 'mount', 6207: 'vehemence', 6208: 'filling', 6209: 'disposing', 6210: 'gradual', 6211: 'test', 6212: 'reconcile', 6213: 'rant', 6214: 'storm', 6215: 'tranquilly', 6216: 'familiarity', 6217: 'backward', 6218: 'fidget', 6219: 'pin', 6220: 'jewels', 6221: 'special', 6222: 'licence', 6223: 'omen', 6224: 'warmest', 6225: 'withstood', 6226: 'assiduously', 6227: 'exaggerate', 6228: 'quarrelling', 6229: 'springs', 6230: 'detail', 6231: 'loose', 6232: 'rein', 6233: 'sends', 6234: 'sending', 6235: 'blown', 6236: 'parading', 6237: 'obsequious', 6238: 'jewel', 6239: 'shrug', 6240: 'shoulders', 6241: 'vulgarity', 6242: 'shield', 6243: 'relished', 6244: 'unusual', 6245: 'vicinity', 6246: 'darling', 6247: 'ungovernable', 6248: 'insipid', 6249: 'mix', 6250: 'moralize', 6251: 'comparisons', 6252: 'submitted', 6253: 'reluctance', 6254: 'revolution', 6255: 'ingratitude', 6256: 'congratulatory', 6257: 'expences', 6258: 'heedless', 6259: 'bills', 6260: 'cheap', 6261: 'bath', 6262: 'retain', 6263: 'heretofore', 6264: 'arrear', 6265: 'sportive', 6266: 'liberties', 6267: 'pollution', 6268: 'city', 6269: 'uniting'}\n"
     ]
    }
   ],
   "source": [
    "train_input, train_labels, word2idx, idx2word = preprocess_data(data) # run the preprocessing pipeline\n",
    "\n",
    "batch_size = 16 # the number of sentences to be processed at once\n",
    "\n",
    "train_data = combine_data(train_input, train_labels)\n",
    "train_data = remove_extra(train_data, batch_size)\n",
    "\n",
    "pairs_batch_train = DataLoader(dataset=train_data,\n",
    "                    batch_size=batch_size,\n",
    "                    shuffle=True,\n",
    "                    collate_fn=collate,\n",
    "                    pin_memory=True)"
   ]
  },
  {
   "cell_type": "markdown",
   "metadata": {
    "deletable": false,
    "editable": false,
    "nbgrader": {
     "cell_type": "markdown",
     "checksum": "70f803359c06f00b004853e7bd5455b5",
     "grade": false,
     "grade_id": "cell-1bd781580daacb3f",
     "locked": true,
     "schema_version": 3,
     "solution": false,
     "task": false
    }
   },
   "source": [
    "## TASK 2:  Feed forward neural network language model <a class=\"anchor\" id=\"task_2\"></a>\n",
    "In this task, we are going to implement our first neural network language model. To do that, we are going to use a feed-forward neural network that takes the previous word as input and predicts the next word based on it. This is similar to the bigram language model.\n",
    "\n",
    "To predict the next word, we first need to convert the previous word into a vecor $x(t)$. In other words, we need to embed it. <br>\n",
    "Next, we need to apply a linear transformation $ h(t) = Ax(t) + b $ to compute a representation of linear distributional features. In this case $ A $ is a learnable matrix and $ b $ is the bias, which is also a learnable parameter. <br>\n",
    "In the previous step we applied a linear transformation. In order for the model to learn more complex feature representations, we can add a non-linearity after the linear transformation: $ U(h(t)) $, which in our case is a [Rectified Linear Unit](https://en.wikipedia.org/wiki/Rectifier_(neural_networks)) (ReLU). <br>\n",
    "One common way of preventing the model from overfitting is to apply a dropout. The dropout disconnects random neurons witch a certain probability, preventing the network from overlearning the training set. <br>\n",
    "Since we need to predict the next word, we need the output of the transformation to be equal to the number of unique words in the data. To do that, we need to apply another linear transformation, which has an output size same as the number of unique words in the data. <br>\n",
    "In the end, the output is passed to the CrossEntropy loss function that estimates how good is the model's prediction in comparison to the true labels.\n",
    "\n",
    "Generally, with deep learning frameworks, like Pytorch, we only need to implement the computations from the input to the output. This is also called a \"forward pass\" and is the `forward` function in the `FFNN` class. That in our case would be passing the previous word and getting a probability distribution over the next word.\n",
    "\n",
    "On the other hand, the calculation of the partial derivatives of the loss function are calculated automatically by the framework and we don't need to implement it. This is also called a \"backward pass\"."
   ]
  },
  {
   "cell_type": "markdown",
   "metadata": {
    "deletable": false,
    "editable": false,
    "nbgrader": {
     "cell_type": "markdown",
     "checksum": "0748b1dc70a476a4cd454e729c725765",
     "grade": false,
     "grade_id": "cell-26bb204d783d8381",
     "locked": true,
     "schema_version": 3,
     "solution": false,
     "task": false
    }
   },
   "source": [
    "### 2.1 Create the model (3 Points) <a class=\"anchor\" id=\"task_2_1\"></a>\n",
    "\n",
    "The `FFNN` class contains the definition of the model that we are going to train for the language modeling task. The first function that the class has is called `__init__` and it initializes the layers of the model. This function is already implemented for you.\n",
    "\n",
    "The next function is called `forward` and is the forward pass explained earlier. You need to implement this function.\n",
    "\n",
    "To implement the function, you need to perform the following steps:\n",
    "\n",
    "    1. Replace the indexed word with its embedding vector. In other words, pass it through the embedding layer\n",
    "    2. Apply the first linear transformation to the embedding of the word. In other words, pass the word embedding through the linear layer, defined as `self.lin = nn.Linear(self.embed_dim, self.context_dim)`\n",
    "    3. Apply the ReLU non-linearity to the output of the linear projection defined in the previous step. The ReLU function can be called as `F.relu()`\n",
    "    4. Apply a dropout after ReLU\n",
    "    5. Apply the second linear transformation to the output after the dropout. The second linear transformation is defined as `self.out = nn.Linear(self.context_dim, len(self.word2idx)+1)`\n",
    "    6. Return the output of the second linear transformation\n",
    "    \n",
    "Remember that now we are processing the words in batches. If we have a batch size of 5, that means that we are passing 5 words at a time and applying all the transformations to those 5 words simultaneously."
   ]
  },
  {
   "cell_type": "code",
   "execution_count": 40,
   "metadata": {
    "deletable": false,
    "nbgrader": {
     "cell_type": "code",
     "checksum": "f044204e00968554fc6a773e66178d29",
     "grade": false,
     "grade_id": "cell-040e0f63d5ed2073",
     "locked": false,
     "schema_version": 3,
     "solution": true,
     "task": false
    }
   },
   "outputs": [],
   "source": [
    "class FFNN(nn.Module):\n",
    "    def __init__(self, word2idx, embed_dim, context_dim):\n",
    "        \"\"\"\n",
    "        This function initializes the layers of the model\n",
    "        \n",
    "        Arguments\n",
    "        ---------\n",
    "        word2idx - dictionary\n",
    "                    a dictionary where the keys are the unique words in the data\n",
    "                    and the values are the unique indices corresponding to the words\n",
    "        \n",
    "        embed_dim - integer\n",
    "                        the size of the word embeddings\n",
    "\n",
    "        context_dim - integer\n",
    "                        the dimension of the hidden size\n",
    "        \"\"\"\n",
    "        \n",
    "        super(FFNN, self).__init__()\n",
    "        self.word2idx = word2idx\n",
    "        self.embed_dim = embed_dim\n",
    "        self.context_dim = context_dim\n",
    "        \n",
    "        # here we initialise the layers of the model\n",
    "        self.word_embed = nn.Embedding(len(self.word2idx)+1, self.embed_dim) # embedding layer\n",
    "    \n",
    "        self.lin = nn.Linear(self.embed_dim, self.context_dim) # linear layer\n",
    "        \n",
    "        self.dropout = nn.Dropout(0.1) # dropout layer\n",
    "        \n",
    "        self.out = nn.Linear(self.context_dim, len(self.word2idx)+1) # output layer\n",
    "        \n",
    "    \n",
    "    def forward(self, word):\n",
    "        \"\"\"\n",
    "        This function implements the forward pass of the model\n",
    "        \n",
    "        Arguments\n",
    "        ---------\n",
    "        word - tensor\n",
    "                    a tensor containing indices of the words in a batch\n",
    "        \n",
    "        Returns\n",
    "        -------\n",
    "        output - tensor\n",
    "                    a tensor of logits from the second linear transformation\n",
    "        \"\"\" \n",
    "        \n",
    "        # YOUR CODE HERE\n",
    "        wordembed = self.word_embed(word)\n",
    "        linear = self.lin(wordembed)\n",
    "        nonlinear = F.relu(linear)\n",
    "        dropout = self.dropout(nonlinear)\n",
    "        output = self.out(dropout)\n",
    "        \n",
    "        return output"
   ]
  },
  {
   "cell_type": "code",
   "execution_count": 41,
   "metadata": {
    "deletable": false,
    "editable": false,
    "nbgrader": {
     "cell_type": "code",
     "checksum": "63e60c15d925ad0ca10841b7e42e98ec",
     "grade": true,
     "grade_id": "cell-98d36edab2d74493",
     "locked": true,
     "points": 3,
     "schema_version": 3,
     "solution": false,
     "task": false
    }
   },
   "outputs": [],
   "source": [
    "from nose.tools import assert_equal\n",
    "\n",
    "dummy_ff_model = FFNN(word2idx, 10, 20)\n",
    "dummy_train_input = torch.randint(1, 10, (2,))\n",
    "dummy_output = dummy_ff_model(dummy_train_input)\n",
    "\n",
    "# test that the returned result is a tensor\n",
    "assert_equal(torch.is_tensor(dummy_output), True)\n",
    "\n",
    "# test that the shapes match\n",
    "assert_equal(dummy_output.size(), (2, len(word2idx)+1))\n",
    "\n",
    "\n"
   ]
  },
  {
   "cell_type": "markdown",
   "metadata": {
    "deletable": false,
    "editable": false,
    "nbgrader": {
     "cell_type": "markdown",
     "checksum": "c4ada6555d9f269df41c4b9632e6f66b",
     "grade": false,
     "grade_id": "cell-26003b24ed187c75",
     "locked": true,
     "schema_version": 3,
     "solution": false,
     "task": false
    }
   },
   "source": [
    "### Model initialization\n",
    "In the next cell, we are going to define the hyperparameters of our neural network language model. Additionally, we will initialize the model, along with the loss function and the optimizer."
   ]
  },
  {
   "cell_type": "code",
   "execution_count": 42,
   "metadata": {
    "deletable": false,
    "editable": false,
    "nbgrader": {
     "cell_type": "code",
     "checksum": "f75bdda82a724b24be8f5c3ce448fcb2",
     "grade": false,
     "grade_id": "cell-5e10e6e978b35159",
     "locked": true,
     "schema_version": 3,
     "solution": false,
     "task": false
    }
   },
   "outputs": [],
   "source": [
    "n_epochs = 30 # the number of epochs to train\n",
    "embedding_size = 300 # the size of the embedding layer\n",
    "hidden_size = 450 # the size of the linear projection\n",
    "ff_model = FFNN(word2idx, embedding_size, hidden_size) # initialize the model\n",
    "loss_function = nn.CrossEntropyLoss(ignore_index=0) # the loss function which compares how good the NN is predicting the next word\n",
    "ffnn_optimizer = optim.Adam(ff_model.parameters(), lr=0.005) # Adam optimizer for updating the parameters during training"
   ]
  },
  {
   "cell_type": "markdown",
   "metadata": {
    "deletable": false,
    "editable": false,
    "nbgrader": {
     "cell_type": "markdown",
     "checksum": "1f09fe94f4c90e871e96b1776e04ef43",
     "grade": false,
     "grade_id": "cell-5c171a1594354fd6",
     "locked": true,
     "schema_version": 3,
     "solution": false,
     "task": false
    }
   },
   "source": [
    "### Training the model\n",
    "Now that we have initialized the model, the next step is to train it. The training process is done by passing the previous word through the forward pass. Then, the loss function compares how good the neural network is predicting the next word. Then we run the backward pass of the network where the partial derivatives of the loss function are computed. At the end, based on those partial derivatives, the parameters of the network get updated using the Adam optimizer. The process is repeated for $n$ number of epochs, where one epoch passes when we process all the sentences in the training set.\n",
    "\n",
    "You don't need to modify this function."
   ]
  },
  {
   "cell_type": "code",
   "execution_count": 43,
   "metadata": {
    "deletable": false,
    "editable": false,
    "nbgrader": {
     "cell_type": "code",
     "checksum": "5600bd0b61352a11fa527dfebf5c6308",
     "grade": false,
     "grade_id": "cell-9aa00560847d8739",
     "locked": true,
     "schema_version": 3,
     "solution": false,
     "task": false
    }
   },
   "outputs": [],
   "source": [
    "def train(pairs_batch_train, ff_model, loss_function, ffnn_optimizer, n_epochs):\n",
    "    \"\"\"\n",
    "    This function implements the training of the model\n",
    "\n",
    "    Arguments\n",
    "    ---------\n",
    "    pairs_batch_train - object\n",
    "                            a DataLoader object that contains the batched data\n",
    "\n",
    "    ff_model - object\n",
    "                a FFNN object that contains the initialized model\n",
    "\n",
    "    loss_function - object\n",
    "                        the CrossEntropy loss function\n",
    "\n",
    "    ffnn_optimizer - object\n",
    "                        an Adam object of the optimizer class\n",
    "\n",
    "    n_epochs - integer\n",
    "                the number of epochs to train\n",
    "    \"\"\" \n",
    "    \n",
    "    for epoch in range(n_epochs): # iterate over the epochs\n",
    "        epoch_loss = 0\n",
    "        ff_model.train() # put the model in training mode\n",
    "        \n",
    "        for iteration, batch in enumerate(pairs_batch_train): # at each step take a batch of sentences\n",
    "            sent_loss = 0\n",
    "            ffnn_optimizer.zero_grad() # clear gradients\n",
    "            train_input, train_input_lengths, train_labels = batch # extract the data from the batch\n",
    "            \n",
    "            for i in range(train_input.size(0)): # iterate over each word in the sentence\n",
    "                output = ff_model(train_input[i]) # forward pass\n",
    "                \n",
    "                labels = torch.LongTensor(train_labels.size(1)) # define a random tensor with batch_size as number of elements\n",
    "                labels[:] = train_labels[i][:] # put the correct label values in the tensor\n",
    "                \n",
    "                sent_loss += loss_function(output, labels) # compute the loss, compare the predictions and the labels\n",
    "            \n",
    "            sent_loss.backward() # compute the backward pass\n",
    "            ffnn_optimizer.step() # update the parameters\n",
    "\n",
    "            epoch_loss += sent_loss.item()\n",
    "\n",
    "        print('Epoch: {}   Loss: {}'.format(epoch+1, epoch_loss / len(pairs_batch_train))) # print the loss at each epoch"
   ]
  },
  {
   "cell_type": "markdown",
   "metadata": {
    "deletable": false,
    "editable": false,
    "nbgrader": {
     "cell_type": "markdown",
     "checksum": "48fc76e218490243e5e1d51939a811ee",
     "grade": false,
     "grade_id": "cell-b05374fdbc7addc3",
     "locked": true,
     "schema_version": 3,
     "solution": false,
     "task": false
    }
   },
   "source": [
    "Since training a neural network model takes a long time and a lot of resources, we are not going to train the model. Instead, we are going to load an already trained model.\n",
    "\n",
    "The cell below loads the pre-trained model."
   ]
  },
  {
   "cell_type": "code",
   "execution_count": 44,
   "metadata": {
    "deletable": false,
    "editable": false,
    "nbgrader": {
     "cell_type": "code",
     "checksum": "b489c46889f6d1766c13a272e681e146",
     "grade": false,
     "grade_id": "cell-3c2b1b88769cd717",
     "locked": true,
     "schema_version": 3,
     "solution": false,
     "task": false
    }
   },
   "outputs": [],
   "source": [
    "ff_model = torch.load('ff_model.pt', map_location='cpu')"
   ]
  },
  {
   "cell_type": "markdown",
   "metadata": {
    "deletable": false,
    "editable": false,
    "nbgrader": {
     "cell_type": "markdown",
     "checksum": "cad2bb57cabd6cf06e7352c754146a7b",
     "grade": false,
     "grade_id": "cell-f94402aebe2eb200",
     "locked": true,
     "schema_version": 3,
     "solution": false,
     "task": false
    }
   },
   "source": [
    "### 2.2 Generate text (3 Points) <a class=\"anchor\" id=\"task_2_2\"></a>\n",
    "Now that the model is trained, we can use it to generate sentences.\n",
    "\n",
    "Your task is to implement the `predict_ffnn` function.\n",
    "\n",
    "You need to perform the following steps:\n",
    "\n",
    "    1. Run the forward pass to get the output\n",
    "    2. Run the output through a softmax to convert it to a probability distribution (`F.softmax`) [remember to specify the correct dimention to the softmax function]\n",
    "    3. Flatten the output (`output.flatten()`)\n",
    "    4. Sample from a multinomial distribution with `output.multinomial(1)`\n",
    "    6. Convert the index of the predicted word to the actual word using the idx2word dictionary\n",
    "    7. Append the predicted word to the `predictions` array\n",
    "    \n",
    "<b>Remember to use the prediction from `output.multinomial(1)` as the next input to the `ff_model` function.</b>"
   ]
  },
  {
   "cell_type": "code",
   "execution_count": 47,
   "metadata": {
    "deletable": false,
    "nbgrader": {
     "cell_type": "code",
     "checksum": "24b50e5dca5b4f80e06efffff88b2a3d",
     "grade": false,
     "grade_id": "cell-a7d1a7dd364e812f",
     "locked": false,
     "schema_version": 3,
     "solution": true,
     "task": false
    }
   },
   "outputs": [],
   "source": [
    "def predict_ffnn(ff_model, word2idx, idx2word, start_word, max_len):\n",
    "    \"\"\"\n",
    "    This function predicts the next word, based on the previous word.\n",
    "    We start with the 'start_word' and then feed the prediction as the next input.\n",
    "    \n",
    "    Arguments\n",
    "    ---------\n",
    "    ff_model - object\n",
    "                a FFNN object that contains the trained model\n",
    "                \n",
    "    word2idx - dictionary\n",
    "                    a dictionary where the keys are the unique words in the data\n",
    "                    and the values are the unique indices corresponding to the words\n",
    "                    \n",
    "    idx2word - dictionary\n",
    "                a dictionary, where the keys are the indices and the values are the words\n",
    "                    \n",
    "    start_word - string\n",
    "                    the starting word\n",
    "    \n",
    "    max_len - integer\n",
    "                integer value representing up to how many words to generate\n",
    "                            \n",
    "    Returns\n",
    "    -------\n",
    "    \n",
    "    predictions - string\n",
    "                    a string containing the generated sentence\n",
    "    \"\"\"\n",
    "\n",
    "    start_word_indexed = torch.LongTensor(1)\n",
    "    start_word_indexed[:] = word2idx[start_word] # replace the starting word with its index\n",
    "    \n",
    "    with torch.no_grad(): # don't need to compute the gradients\n",
    "        ff_model.eval() # put the model in evaluation mode\n",
    "        predictions = [] # list where we are going to store the predictions\n",
    "        predictions.append(idx2word[start_word_indexed.item()]) # add the starting word to the array\n",
    "        topk = start_word_indexed # use the starting word as the first previous word during the prediction\n",
    "\n",
    "        while((len(predictions) < max_len) and (predictions[-1] != '</s>')): # generate until we have enough words or generated </s>\n",
    "            \n",
    "            # YOUR CODE HERE\n",
    "            output = ff_model.forward(topk)\n",
    "            output = F.softmax(output, dim=1)\n",
    "            output = output.flatten()\n",
    "            output = output.multinomial(1)\n",
    "            actualword = idx2word[output.item()]\n",
    "            predictions.append(actualword)\n",
    "            topk = output\n",
    "    \n",
    "    predictions = ' '.join(predictions) # convert the array of predictions to a string\n",
    "    \n",
    "    return predictions"
   ]
  },
  {
   "cell_type": "code",
   "execution_count": 48,
   "metadata": {
    "deletable": false,
    "editable": false,
    "nbgrader": {
     "cell_type": "code",
     "checksum": "532742c84bd2bab5930a43c719ca442b",
     "grade": true,
     "grade_id": "cell-5ff14392826ab7de",
     "locked": true,
     "points": 3,
     "schema_version": 3,
     "solution": false,
     "task": false
    }
   },
   "outputs": [],
   "source": [
    "from nose.tools import assert_equal\n",
    "\n",
    "dummy_word = '<s>' # starting word\n",
    "dummy_max_len = 30 # maximum number of words to genertate\n",
    "\n",
    "dummy_predictions = predict_ffnn(ff_model, word2idx, idx2word, dummy_word, dummy_max_len)\n",
    "\n",
    "# check that a string is returned\n",
    "assert_equal(type(dummy_predictions), str)\n",
    "\n",
    "# check that the prediction starts with <s>\n",
    "assert_equal(dummy_predictions.split()[0], '<s>')\n",
    "\n",
    "# check that the model has generated enough samples or reached </s>\n",
    "if len(dummy_predictions.split()) < dummy_max_len:\n",
    "    assert_equal(dummy_predictions.split()[-1], '</s>')\n",
    "else:\n",
    "    assert_equal(len(dummy_predictions.split()), dummy_max_len)\n",
    "    \n",
    "\n"
   ]
  },
  {
   "cell_type": "markdown",
   "metadata": {
    "deletable": false,
    "editable": false,
    "nbgrader": {
     "cell_type": "markdown",
     "checksum": "b978e6eaadec470182445c0ee071b058",
     "grade": false,
     "grade_id": "cell-838815333c879095",
     "locked": true,
     "schema_version": 3,
     "solution": false,
     "task": false
    }
   },
   "source": [
    "Now, we are going to run the prediction function and see what the model generates. You can execute the cell below multiple times in order to get more predictions"
   ]
  },
  {
   "cell_type": "code",
   "execution_count": 49,
   "metadata": {},
   "outputs": [
    {
     "name": "stdout",
     "output_type": "stream",
     "text": [
      "<s> he was venturing purpose , and to fault who has lydia 's assertions him on the very large estate , unable to be the candour report . </s>\n",
      "<s> at last that it , which i am afraid the world , dine , but sir william 's being disturbance . </s>\n",
      "<s> mr delicacy by you must always warm and perhaps , and genius between her assisting . </s>\n"
     ]
    }
   ],
   "source": [
    "start_word = ['<s>', '<s>', '<s>'] # starting word\n",
    "max_len = 30 # maximum number of words to genertate\n",
    "\n",
    "for word in start_word:\n",
    "    predictions = predict_ffnn(ff_model, word2idx, idx2word, word, max_len)\n",
    "    print(predictions)"
   ]
  },
  {
   "cell_type": "markdown",
   "metadata": {
    "deletable": false,
    "editable": false,
    "nbgrader": {
     "cell_type": "markdown",
     "checksum": "babeb168f13b898af793acf431d929a1",
     "grade": false,
     "grade_id": "cell-5ed93286f5555a6b",
     "locked": true,
     "schema_version": 3,
     "solution": false,
     "task": false
    }
   },
   "source": [
    "## TASK 3:  Recurrent neural network language model <a class=\"anchor\" id=\"task_3\"></a>\n",
    "\n",
    "In this task, we are going to implement a recurrent neural network (RNN) language model. The recurrent neural network processes the input sequentially, where each prediction is conditionally dependent of the previous predictions. This makes them suitable for language modeling tasks.\n",
    "\n",
    "To predict the next word, we first need to convert the previous word into a vecor $x(t)$. In other words, we need to embed it. This step is identical to the one in the FFNN model. <br>\n",
    "After we have the word embedding, we need to pass it through the RNN, which is our case is a [Gated Recurrent Unit](https://pytorch.org/docs/stable/generated/torch.nn.GRU.html) (GRU). The GRU returns two tensors: `output` and `hidden`. The `output` tensor contains the output features from the last layer of the GRU, for each timestep. The `hidden` tensor contains the hidden state of the last timestep of each layer. <br>\n",
    "To get an output of size equal to the number of unique words in our vocabulary, we need to pass the output of the GRU through a linear projection, similar to the second linear projection in the FFNN model."
   ]
  },
  {
   "cell_type": "markdown",
   "metadata": {
    "deletable": false,
    "editable": false,
    "nbgrader": {
     "cell_type": "markdown",
     "checksum": "034913adca395577bd95b179e48c17bd",
     "grade": false,
     "grade_id": "cell-699a30f862ba1ad7",
     "locked": true,
     "schema_version": 3,
     "solution": false,
     "task": false
    }
   },
   "source": [
    "### 3.1 Create the model (3 Points) <a class=\"anchor\" id=\"task_3_1\"></a>\n",
    "The `RNN` class contains the definition of the RNN model that we are going to train for the language modeling task. The first function that the class has is called `__init__` and it initializes the layers of the model. This function is already implemented for you.\n",
    "\n",
    "The next function is the `forward` function and does similar job like the one in the FFNN model. You need to implement this function.\n",
    "\n",
    "To implement the function, you need to perform the following steps:\n",
    "\n",
    "    1. Replace the indexed word with its embedding vector. In other words, pass it through the embedding layer\n",
    "    2. Reshape the embedding vector to a shape of (1, batch_size, embed_dim)\n",
    "    3. Pass the embedding through the GRU cell to get the output and the hidden tensors. The GRU function takes as input the word embedding and the previous hidden state.\n",
    "    4. Addpy a dropout to the output of the GRU.\n",
    "    5. Apply the linear transformation to the output of the dropout layer (pass it though the `self.out` layer).\n",
    "    6. Reshape the output to have a shape (batch_size, vocab_length+1)\n",
    "    7. Return the output of the linear transformation and the hidden tensor\n",
    "    \n",
    "Remember that now we are processing the words in batches. If we have a batch size of 5, that means that we are passing 5 words at a time and applying all the transformations to those 5 words simultaneously."
   ]
  },
  {
   "cell_type": "code",
   "execution_count": 50,
   "metadata": {
    "deletable": false,
    "nbgrader": {
     "cell_type": "code",
     "checksum": "e940b4d6bb3611a8bbd0537d71616cc5",
     "grade": false,
     "grade_id": "cell-34f34d4f50e475b3",
     "locked": false,
     "schema_version": 3,
     "solution": true,
     "task": false
    }
   },
   "outputs": [],
   "source": [
    "class RNN(nn.Module):\n",
    "    def __init__(self, word2idx, embed_dim, context_dim, num_layers):\n",
    "        \"\"\"\n",
    "        This function initializes the layers of the model\n",
    "        \n",
    "        Arguments\n",
    "        ---------\n",
    "        word2idx - dictionary\n",
    "                    a dictionary where the keys are the unique words in the data\n",
    "                    and the values are the unique indices corresponding to the words\n",
    "        \n",
    "        embed_dim - integer\n",
    "                        the size of the word embeddings\n",
    "\n",
    "        context_dim - integer\n",
    "                        the dimension of the hidden size\n",
    "                        \n",
    "        num_layers - integer\n",
    "                        the number of layers in the GRU cell\n",
    "        \"\"\"\n",
    "        super(RNN, self).__init__()\n",
    "        self.word2idx = word2idx\n",
    "        self.embed_dim = embed_dim\n",
    "        self.context_dim = context_dim\n",
    "        self.num_layers = num_layers\n",
    "        \n",
    "        # here we initialise weighs of a model\n",
    "        self.word_embed = nn.Embedding(len(self.word2idx)+1, self.embed_dim) # embedding layer\n",
    "\n",
    "        self.gru = nn.GRU(self.embed_dim, self.context_dim, num_layers=self.num_layers) # GRU cell\n",
    "        \n",
    "        self.dropout = nn.Dropout(0.1) # Dropout\n",
    "        \n",
    "        self.out = nn.Linear(self.context_dim, len(self.word2idx)+1) # output layer\n",
    "\n",
    "    \n",
    "    def forward(self, word, hidden):\n",
    "        \"\"\"\n",
    "        This function implements the forward pass of the model\n",
    "        \n",
    "        Arguments\n",
    "        ---------\n",
    "        word - tensor\n",
    "                a tensor containing indices of the words in a batch\n",
    "                \n",
    "        hidden - tensor\n",
    "                    the previous hidden state of the GRU model\n",
    "        \n",
    "        Returns\n",
    "        -------\n",
    "        output - tensor\n",
    "                    a tensor of logits from the linear transformation\n",
    "        \n",
    "        hidden - tensor\n",
    "                    the current hidden state of the GRU model\n",
    "        \"\"\" \n",
    "        \n",
    "        # YOUR CODE HERE\n",
    "        # embed the word\n",
    "        wordembed = self.word_embed(word)\n",
    "        # Reshape the embedding vector to a shape of (1, batch_size, embed_dim)\n",
    "        wordembed = wordembed.view(1, wordembed.shape[0], -1)\n",
    "        # pass the word through the GRU cell\n",
    "        output, hidden = self.gru(wordembed, hidden)\n",
    "        # apply a dropout\n",
    "        output = self.dropout(output)\n",
    "        # pass the output through the linear layer\n",
    "        output = self.out(output)\n",
    "        # reshape the output to a shape of (batch_size, vocab_length + 1)\n",
    "        output = output.view(-1, output.shape[2])\n",
    "\n",
    "        \n",
    "        return output, hidden"
   ]
  },
  {
   "cell_type": "code",
   "execution_count": 51,
   "metadata": {
    "deletable": false,
    "editable": false,
    "nbgrader": {
     "cell_type": "code",
     "checksum": "d83bcb3425bf6ac941f3ccaad474a5ed",
     "grade": true,
     "grade_id": "cell-9ed016e28f21b759",
     "locked": true,
     "points": 3,
     "schema_version": 3,
     "solution": false,
     "task": false
    }
   },
   "outputs": [],
   "source": [
    "from nose.tools import assert_equal\n",
    "\n",
    "dummy_embed_dim = 10\n",
    "dummy_hidden_size = 20\n",
    "dummy_num_layers = 1\n",
    "\n",
    "dummy_rnn_model = RNN(word2idx, dummy_embed_dim, dummy_hidden_size, dummy_num_layers)\n",
    "dummy_train_input = torch.randint(1, 10, (2,))\n",
    "\n",
    "dummy_hidden = torch.zeros((dummy_num_layers, dummy_train_input.size(0), dummy_hidden_size))\n",
    "dummy_output, hidden = dummy_rnn_model(dummy_train_input, dummy_hidden)\n",
    "\n",
    "# test that the returned result is a tensor\n",
    "assert_equal(torch.is_tensor(dummy_output), True)\n",
    "\n",
    "# test that the shapes match\n",
    "assert_equal(dummy_output.size(), (2, len(word2idx)+1))\n",
    "\n"
   ]
  },
  {
   "cell_type": "markdown",
   "metadata": {
    "deletable": false,
    "editable": false,
    "nbgrader": {
     "cell_type": "markdown",
     "checksum": "c5a01554343e97ec3081db93aa1ed9e9",
     "grade": false,
     "grade_id": "cell-6573a7a0788a6b07",
     "locked": true,
     "schema_version": 3,
     "solution": false,
     "task": false
    }
   },
   "source": [
    "### Model initialization\n",
    "In the next cell, we are going to define the hyperparameters of our neural network language model. Additionally, we will initialize the model, along with the loss function and the optimizer."
   ]
  },
  {
   "cell_type": "code",
   "execution_count": 52,
   "metadata": {
    "deletable": false,
    "editable": false,
    "nbgrader": {
     "cell_type": "code",
     "checksum": "a8d2068f16db18bacc4ee28e98698584",
     "grade": false,
     "grade_id": "cell-c113b9200e8b4d2b",
     "locked": true,
     "schema_version": 3,
     "solution": false,
     "task": false
    }
   },
   "outputs": [],
   "source": [
    "n_epochs = 10 # the number of epochs to train\n",
    "embed_dim = 300 # the size of the embedding\n",
    "hidden_size = 450 # the size of the hidden state\n",
    "num_layers = 1 # the number of layers in the GRU cell\n",
    "rnn_model = RNN(word2idx, embed_dim, hidden_size, num_layers) # initialize the RNN model\n",
    "loss_function = nn.CrossEntropyLoss(ignore_index=0) # define the loss function\n",
    "rnn_optimizer = optim.Adam(rnn_model.parameters(), lr=0.001) # define the optimizer"
   ]
  },
  {
   "cell_type": "markdown",
   "metadata": {
    "deletable": false,
    "editable": false,
    "nbgrader": {
     "cell_type": "markdown",
     "checksum": "87b159f4ab408d91fdb06b3bb71be977",
     "grade": false,
     "grade_id": "cell-2c9f6b7cb0785413",
     "locked": true,
     "schema_version": 3,
     "solution": false,
     "task": false
    }
   },
   "source": [
    "### Training the model\n",
    "The training process is similar to the one in the FFNN model. We pass each word through the forward pass and obtain the `output` and the `hidden` states. Then, we use the `output` to compare it against the true labels and see how far we are from the correct result. After that we compute the partial derivatives and update the parameters. This process gets repeated for $ n $ number of epochs."
   ]
  },
  {
   "cell_type": "code",
   "execution_count": 53,
   "metadata": {
    "deletable": false,
    "editable": false,
    "nbgrader": {
     "cell_type": "code",
     "checksum": "77f244b88d205dca3b48a80582ec0e99",
     "grade": false,
     "grade_id": "cell-8a432c7dfbc91003",
     "locked": true,
     "schema_version": 3,
     "solution": false,
     "task": false
    }
   },
   "outputs": [],
   "source": [
    "def train_rnn(pairs_batch_train, rnn_model, hidden_size, num_layers, loss_function, rnn_optimizer, n_epochs):\n",
    "    \"\"\"\n",
    "    This function implements the training of the model\n",
    "\n",
    "    Arguments\n",
    "    ---------\n",
    "    pairs_batch_train - object\n",
    "                            a DataLoader object that contains the batched data\n",
    "\n",
    "    rnn_model - object\n",
    "                an RNN object that contains the initialized model\n",
    "                \n",
    "    hidden_size - integer\n",
    "                    the size of the hidden layer (the context size)\n",
    "    \n",
    "    num_layers - integer\n",
    "                        the number of layers in the GRU cell\n",
    "\n",
    "    loss_function - object\n",
    "                        the CrossEntropy loss function\n",
    "\n",
    "    rnn_optimizer - object\n",
    "                        an Adam object of the optimizer class\n",
    "\n",
    "    n_epochs - integer\n",
    "                the number of epochs to train\n",
    "    \"\"\" \n",
    "\n",
    "    for epoch in range(n_epochs): # iterate over the epochs\n",
    "        epoch_loss = 0\n",
    "        rnn_model.train() # put the model in training mode\n",
    "        \n",
    "        for iteration, batch in enumerate(pairs_batch_train): # at each step take a batch of sentences\n",
    "            sent_loss = 0\n",
    "            rnn_optimizer.zero_grad() # clear gradients\n",
    "            \n",
    "            train_input, train_input_lengths, train_labels = batch # extract the data from the batch\n",
    "            hidden = torch.zeros((num_layers, train_input.size(1), hidden_size)) # initialize the hidden state\n",
    "            \n",
    "            for i in range(train_input.size(0)): # iterate over the word in the sentence\n",
    "                output, hidden = rnn_model(train_input[i], hidden) # forward pass\n",
    "                labels = torch.LongTensor(train_labels.size(1)) # define a random tensor with batch_size as number of elements\n",
    "                labels[:] = train_labels[i][:] # put the correct label values in the tensor\n",
    "                \n",
    "                sent_loss += loss_function(output, labels) # compute the loss, compare the predictions and the labels\n",
    "\n",
    "            sent_loss.backward() # compute the backward pass\n",
    "            rnn_optimizer.step() # update the parameters\n",
    "\n",
    "            epoch_loss += sent_loss.item()\n",
    "            \n",
    "        print('Epoch: {}   Loss: {}'.format(epoch+1, epoch_loss / len(pairs_batch_train))) # print the loss at each epoch"
   ]
  },
  {
   "cell_type": "markdown",
   "metadata": {
    "deletable": false,
    "editable": false,
    "nbgrader": {
     "cell_type": "markdown",
     "checksum": "0e083cdb809bfe17ad433fd699f1c52b",
     "grade": false,
     "grade_id": "cell-a8ca8840d7662157",
     "locked": true,
     "schema_version": 3,
     "solution": false,
     "task": false
    }
   },
   "source": [
    "Similiar to the FFNN, we are not going to train the model. Instead, we are going to load a pre-trained model."
   ]
  },
  {
   "cell_type": "code",
   "execution_count": 54,
   "metadata": {
    "deletable": false,
    "editable": false,
    "nbgrader": {
     "cell_type": "code",
     "checksum": "ba779074665d716df577890986d3e8fc",
     "grade": false,
     "grade_id": "cell-65dbc9a5722d2090",
     "locked": true,
     "schema_version": 3,
     "solution": false,
     "task": false
    }
   },
   "outputs": [],
   "source": [
    "rnn_model = torch.load('rnn_model.pt', map_location='cpu')"
   ]
  },
  {
   "cell_type": "markdown",
   "metadata": {
    "deletable": false,
    "editable": false,
    "nbgrader": {
     "cell_type": "markdown",
     "checksum": "7c73087415aa908a43835b0e97a136ca",
     "grade": false,
     "grade_id": "cell-76ca48bf8c2ae557",
     "locked": true,
     "schema_version": 3,
     "solution": false,
     "task": false
    }
   },
   "source": [
    "### 3.2 Generate text (3 Points) <a class=\"anchor\" id=\"task_3_2\"></a>\n",
    "Now that the model is trained, we can use it to generate sentences.\n",
    "\n",
    "Your task is to implement the `predict_rnn` function.\n",
    "\n",
    "You need to perform the following steps:\n",
    "\n",
    "    1. Run the forward pass to get the output. Don't forget to pass the `hidden` state\n",
    "    2. Run the output through a softmax to convert it to a probability distribution (`F.softmax`) [don't forget to specify the dimension in the softmax function]\n",
    "    3. Get the word with the highest probability using the `topk()` function\n",
    "    4. Set the `next_input` to be the predicted word with the highest probability (the topk word) [very important!].\n",
    "    5. Convert the index of the predicted word to the actual word using the idx2word dictionary\n",
    "    6. Append the predicted word to the `predictions` array"
   ]
  },
  {
   "cell_type": "code",
   "execution_count": 57,
   "metadata": {
    "deletable": false,
    "nbgrader": {
     "cell_type": "code",
     "checksum": "8c704cbf91f9fcbe4cf56be0bc0e5d59",
     "grade": false,
     "grade_id": "cell-14078785f15d0f87",
     "locked": false,
     "schema_version": 3,
     "solution": true,
     "task": false
    }
   },
   "outputs": [],
   "source": [
    "def predict_rnn(rnn_model, hidden_size, num_layers, word2idx, idx2word, context, max_len):\n",
    "    \"\"\"\n",
    "    This function predicts the next word, based on the history of the previous words.\n",
    "    We start with the 'context' and then feed the prediction as the next input.\n",
    "    \n",
    "    Arguments\n",
    "    ---------\n",
    "    rnn_model - object\n",
    "                an RNN object that contains the trained model\n",
    "                \n",
    "    hidden_size - integer\n",
    "                    the size of the hidden layer (the context size)\n",
    "                    \n",
    "    num_layers - integer\n",
    "                    the number of layers in the GRU cell\n",
    "                \n",
    "    word2idx - dictionary\n",
    "                    a dictionary where the keys are the unique words in the data\n",
    "                    and the values are the unique indices corresponding to the words\n",
    "                    \n",
    "    idx2word - dictionary\n",
    "                a dictionary, where the keys are the indices and the values are the words\n",
    "                    \n",
    "    context - string\n",
    "                the context sentence\n",
    "    \n",
    "    max_len - integer\n",
    "                integer value representing up to how many words to generate\n",
    "                            \n",
    "    Returns\n",
    "    -------\n",
    "    \n",
    "    predictions - string\n",
    "                    a string containing the generated sentence\n",
    "    \"\"\"\n",
    "    \n",
    "    # index the context\n",
    "    context_indexed = []\n",
    "    for word in context.split():\n",
    "        word_indexed = torch.LongTensor(1)\n",
    "        word_indexed[:] = word2idx[word]\n",
    "        context_indexed.append(word_indexed)\n",
    "    \n",
    "    with torch.no_grad():\n",
    "        predictions = []\n",
    "        # first build the hidden state from the context\n",
    "        hidden = torch.zeros((num_layers, 1, hidden_size))\n",
    "        for word in context_indexed:\n",
    "            predictions.append(idx2word[word.item()])\n",
    "            output, hidden = rnn_model(word, hidden)\n",
    "            \n",
    "        next_input = context_indexed[-1]\n",
    "        while((len(predictions) < max_len) and (predictions[-1] != '</s>')):\n",
    "            output, hidden = rnn_model(next_input, hidden)\n",
    "            output = F.softmax(output, dim=1)\n",
    "            # get the word with the highest probability using topk function\n",
    "            topk = output.topk(1)\n",
    "            next_input = topk[1]\n",
    "            predictions.append(idx2word[topk[1].item()])\n",
    "            \n",
    "            # YOUR CODE HERE\n",
    "            \n",
    "    predictions = ' '.join(predictions)\n",
    "    \n",
    "    return predictions"
   ]
  },
  {
   "cell_type": "code",
   "execution_count": 58,
   "metadata": {
    "deletable": false,
    "editable": false,
    "nbgrader": {
     "cell_type": "code",
     "checksum": "8c5d59f6674ca21fb544c16a8cc0f35c",
     "grade": true,
     "grade_id": "cell-6ce9bd8c9f198a0b",
     "locked": true,
     "points": 3,
     "schema_version": 3,
     "solution": false,
     "task": false
    }
   },
   "outputs": [],
   "source": [
    "from nose.tools import assert_equal\n",
    "\n",
    "dummy_context = '<s> the' # starting word\n",
    "dummy_max_len = 15 # maximum number of word to genertate\n",
    "\n",
    "dummy_predictions = predict_rnn(rnn_model, hidden_size, num_layers, word2idx, idx2word, dummy_context, dummy_max_len)\n",
    "\n",
    "# check that a string is returned\n",
    "assert_equal(type(dummy_predictions), str)\n",
    "\n",
    "# check that the prediction starts with <s>\n",
    "assert_equal(dummy_predictions.split()[0], '<s>')\n",
    "\n",
    "# check that the model has generated enough samples or reached </s>\n",
    "if len(dummy_predictions.split()) < dummy_max_len:\n",
    "    assert_equal(dummy_predictions.split()[-1], '</s>')\n",
    "else:\n",
    "    assert_equal(len(dummy_predictions.split()), dummy_max_len)\n",
    "    \n"
   ]
  },
  {
   "cell_type": "markdown",
   "metadata": {
    "deletable": false,
    "editable": false,
    "nbgrader": {
     "cell_type": "markdown",
     "checksum": "7926b4a3323f115e525d4f397fcbbe47",
     "grade": false,
     "grade_id": "cell-d7b6eda5b6ae9133",
     "locked": true,
     "schema_version": 3,
     "solution": false,
     "task": false
    }
   },
   "source": [
    "Now, let's generate some text."
   ]
  },
  {
   "cell_type": "code",
   "execution_count": 60,
   "metadata": {},
   "outputs": [
    {
     "name": "stdout",
     "output_type": "stream",
     "text": [
      "<s> this has been enough to think of them in that evening . </s>\n",
      "\n",
      "\n",
      "<s> the person to think of it ; and all too good for my particular , are not long . </s>\n",
      "\n",
      "\n",
      "<s> it is interesting a great deal to say how it is that he should like to be so ill a man of bingley , and jane to jane merely for his anybody fixed , and hour from such a return of them ! </s>\n",
      "\n",
      "\n"
     ]
    }
   ],
   "source": [
    "contexts = ['<s> this has been', '<s> the person', '<s> it is interesting']\n",
    "max_len = 50\n",
    "\n",
    "for context in contexts:\n",
    "    predictions = predict_rnn(rnn_model, hidden_size, num_layers, word2idx, idx2word, context, max_len)\n",
    "    print(predictions)\n",
    "    print('\\n')"
   ]
  },
  {
   "cell_type": "markdown",
   "metadata": {
    "deletable": false,
    "editable": false,
    "nbgrader": {
     "cell_type": "markdown",
     "checksum": "75b20dd8c3017d177970305c8a34a8fd",
     "grade": false,
     "grade_id": "cell-5441f80a5fb10712",
     "locked": true,
     "schema_version": 3,
     "solution": false,
     "task": false
    }
   },
   "source": [
    "## TASK 4: Output analysis <a class=\"anchor\" id=\"task_4\"></a>\n",
    "This task will be manually graded. It is focused on understanding the difference between the models and why one might perform better than the other."
   ]
  },
  {
   "cell_type": "markdown",
   "metadata": {
    "deletable": false,
    "editable": false,
    "nbgrader": {
     "cell_type": "markdown",
     "checksum": "aeb3b98b619028cda011283827668429",
     "grade": false,
     "grade_id": "cell-bddaf8651d8c83ea",
     "locked": true,
     "points": 3,
     "schema_version": 3,
     "solution": false,
     "task": true
    }
   },
   "source": [
    "## 4.1 Model comparison (3 Points) <a class=\"anchor\" id=\"task_4_1\"></a>\n",
    "Answer the following questions:\n",
    "\n",
    "    1. Which model generates more sensible text?\n",
    "    2. Why is that?\n",
    "    3. Write at least one shortcoming of both models."
   ]
  },
  {
   "cell_type": "markdown",
   "metadata": {},
   "source": [
    "#### Answers\n",
    "1. The RNN model generates more sensible text\n",
    "2. The RNN model is better at capturing the context of the sentence\n",
    "3. The FFNN model is not able to capture the context of the sentence and the RNN model is not able to capture long-term dependencies"
   ]
  },
  {
   "cell_type": "markdown",
   "metadata": {
    "deletable": false,
    "editable": false,
    "nbgrader": {
     "cell_type": "markdown",
     "checksum": "6e689da5fb9e59bc28ec6cb7c4ec15c8",
     "grade": false,
     "grade_id": "cell-62e5eafcd2989fb9",
     "locked": true,
     "schema_version": 3,
     "solution": false,
     "task": false
    }
   },
   "source": [
    "## Checklist before submission <a class=\"anchor\" id=\"checklist\"></a>\n",
    "### 1\n",
    "To make sure that you didn't forget to import some package or to name some variable, press **Kernel -> Restart** and then **Cell -> Run All**. This way your code will be run exactly in the same order as during the autograding.\n",
    "### 2\n",
    "Click the **Validate** button in the upper menu to check that you haven't missed anything.\n",
    "### 3\n",
    "To submit the notebook, click on the **jupyterhub** logo in the upper left part of the window, choose the **Assignments** folder, and press **submit**. You can submit multiple times, only the last one counts.\n",
    "### 4\n",
    "Please provide a feedback so that we can improve the assignment."
   ]
  }
 ],
 "metadata": {
  "kernelspec": {
   "display_name": "Python 3",
   "language": "python",
   "name": "python3"
  },
  "language_info": {
   "codemirror_mode": {
    "name": "ipython",
    "version": 3
   },
   "file_extension": ".py",
   "mimetype": "text/x-python",
   "name": "python",
   "nbconvert_exporter": "python",
   "pygments_lexer": "ipython3",
   "version": "3.10.13"
  },
  "varInspector": {
   "cols": {
    "lenName": 16,
    "lenType": 16,
    "lenVar": 40
   },
   "kernels_config": {
    "python": {
     "delete_cmd_postfix": "",
     "delete_cmd_prefix": "del ",
     "library": "var_list.py",
     "varRefreshCmd": "print(var_dic_list())"
    },
    "r": {
     "delete_cmd_postfix": ") ",
     "delete_cmd_prefix": "rm(",
     "library": "var_list.r",
     "varRefreshCmd": "cat(var_dic_list()) "
    }
   },
   "types_to_exclude": [
    "module",
    "function",
    "builtin_function_or_method",
    "instance",
    "_Feature"
   ],
   "window_display": false
  }
 },
 "nbformat": 4,
 "nbformat_minor": 4
}
