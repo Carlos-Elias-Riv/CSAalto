{
 "cells": [
  {
   "cell_type": "markdown",
   "metadata": {
    "deletable": false,
    "editable": false,
    "nbgrader": {
     "cell_type": "markdown",
     "checksum": "3b1bc55e31ec7e30dc690e47cd1308d3",
     "grade": false,
     "grade_id": "cell-c793b2b7fc5465d8",
     "locked": true,
     "schema_version": 3,
     "solution": false,
     "task": false
    }
   },
   "source": [
    "<div class=\"alert alert-block alert-info\">\n",
    "<b>Deadline:</b> March 20, 2024 (Wednesday) 23:00\n",
    "</div>\n",
    "\n",
    "# Exercise 2. Recommender system\n",
    "\n",
    "In this exercise, your task is to design a recommender system.\n",
    "\n",
    "## Learning goals:\n",
    "* Practise tuning a neural network model by using different regularization methods."
   ]
  },
  {
   "cell_type": "code",
   "execution_count": 1,
   "metadata": {},
   "outputs": [],
   "source": [
    "import os\n",
    "import pandas as pd\n",
    "import numpy as np\n",
    "import matplotlib.pyplot as plt\n",
    "\n",
    "import torch\n",
    "import torch.nn as nn\n",
    "import torch.optim as optim\n",
    "import torch.nn.functional as F\n",
    "\n",
    "import tools\n",
    "import data"
   ]
  },
  {
   "cell_type": "code",
   "execution_count": 2,
   "metadata": {},
   "outputs": [],
   "source": [
    "skip_training = False  # Set this flag to True before validation and submission"
   ]
  },
  {
   "cell_type": "code",
   "execution_count": 3,
   "metadata": {
    "deletable": false,
    "editable": false,
    "nbgrader": {
     "cell_type": "code",
     "checksum": "97f36f0a997d795b2db131168549818c",
     "grade": true,
     "grade_id": "cell-281020e1f967884d",
     "locked": true,
     "points": 0,
     "schema_version": 3,
     "solution": false,
     "task": false
    }
   },
   "outputs": [],
   "source": [
    "# During evaluation, this cell sets skip_training to True\n",
    "# skip_training = True\n",
    "\n",
    "import tools, warnings\n",
    "warnings.showwarning = tools.customwarn"
   ]
  },
  {
   "cell_type": "code",
   "execution_count": 5,
   "metadata": {},
   "outputs": [],
   "source": [
    "# When running on your own computer, you can specify the data directory by:\n",
    "# data_dir = tools.select_data_dir('/your/local/data/directory')\n",
    "data_dir = \".\""
   ]
  },
  {
   "cell_type": "code",
   "execution_count": 6,
   "metadata": {},
   "outputs": [],
   "source": [
    "# Select the device for training (use GPU if you have one)\n",
    "#device = torch.device('cuda:0')\n",
    "device = torch.device('cpu')"
   ]
  },
  {
   "cell_type": "code",
   "execution_count": 7,
   "metadata": {
    "deletable": false,
    "editable": false,
    "nbgrader": {
     "cell_type": "code",
     "checksum": "6dc2c53928c3ad25702c9ac906bc6ac3",
     "grade": false,
     "grade_id": "cell-799c694caf47e754",
     "locked": true,
     "schema_version": 3,
     "solution": false,
     "task": false
    }
   },
   "outputs": [],
   "source": [
    "if skip_training:\n",
    "    # The models are always evaluated on CPU\n",
    "    device = torch.device(\"cpu\")"
   ]
  },
  {
   "cell_type": "markdown",
   "metadata": {
    "deletable": false,
    "editable": false,
    "nbgrader": {
     "cell_type": "markdown",
     "checksum": "a83b3c898af9c33ba084f0dd0637ac8c",
     "grade": false,
     "grade_id": "cell-93b1b51f03178ceb",
     "locked": true,
     "schema_version": 3,
     "solution": false,
     "task": false
    }
   },
   "source": [
    "## Ratings dataset\n",
    "\n",
    "We will train the recommender system on the dataset in which element consists of three values:\n",
    "* `user_id` - id of the user (the smallest user id is 1)\n",
    "* `item_id` - id of the item (the smallest item id is 1)\n",
    "* `rating` - rating given by the user to the item (ratings are integer numbers between 1 and 5).\n",
    "\n",
    "The recommender system need to predict the rating for any given pair of `user_id` and `item_id`.\n",
    "\n",
    "We measure the quality of the predicted ratings using the mean-squared error (MSE) loss:\n",
    "$$\n",
    "  \\frac{1}{N}\\sum_{i=1}^N (r_i - \\hat{r}_i)^2\n",
    "$$\n",
    "where $r_i$ is a real rating and $\\hat{r}_i$ is a predicted one.\n",
    "\n",
    "Note: The predicted rating $\\hat{r}_i$ does not have to be an integer number."
   ]
  },
  {
   "cell_type": "code",
   "execution_count": 8,
   "metadata": {
    "deletable": false,
    "editable": false,
    "nbgrader": {
     "cell_type": "code",
     "checksum": "49c9bb6f71c5bebac88f572ebc5fdf21",
     "grade": false,
     "grade_id": "cell-fb7ca3b718244670",
     "locked": true,
     "schema_version": 3,
     "solution": false,
     "task": false
    }
   },
   "outputs": [],
   "source": [
    "trainset = data.RatingsData(root=data_dir, train=True)\n",
    "testset = data.RatingsData(root=data_dir, train=False)"
   ]
  },
  {
   "cell_type": "code",
   "execution_count": 9,
   "metadata": {
    "deletable": false,
    "editable": false,
    "nbgrader": {
     "cell_type": "code",
     "checksum": "aa25e5e6256ec9dcb5dffe5b20d88f87",
     "grade": false,
     "grade_id": "cell-35493e186fda7a43",
     "locked": true,
     "schema_version": 3,
     "solution": false,
     "task": false
    }
   },
   "outputs": [
    {
     "name": "stdout",
     "output_type": "stream",
     "text": [
      "user_id=1, item_id=1, rating=5\n"
     ]
    }
   ],
   "source": [
    "# Print one sample from the dataset\n",
    "x = trainset[0]\n",
    "print(f'user_id={x[0]}, item_id={x[1]}, rating={x[2]}')"
   ]
  },
  {
   "cell_type": "markdown",
   "metadata": {
    "deletable": false,
    "editable": false,
    "nbgrader": {
     "cell_type": "markdown",
     "checksum": "6cab9939fbd855618ea15049c6584c91",
     "grade": false,
     "grade_id": "cell-40d7d3e85e395d42",
     "locked": true,
     "schema_version": 3,
     "solution": false,
     "task": false
    }
   },
   "source": [
    "# Model\n",
    "\n",
    "You need to design a recommender system model with the API described in the cell below.\n",
    "\n",
    "Hints on the model architecture:\n",
    "* You need to use [torch.nn.Embedding](https://pytorch.org/docs/stable/generated/torch.nn.Embedding.html?highlight=embedding#torch.nn.Embedding) layer to convert inputs `user_ids` and `item_ids` into reasonable representations. The idea of the embedding layer is that we want to represent similar users with values that are close to each other. The original representation as integers is not good for that. By using the embedding layer, we can learn such useful representations automatically.\n",
    "\n",
    "### Model tuning\n",
    "\n",
    "In this exercise, you need to tune the architecture of your model to achieve the best performance on the provided test set. You will notice that overfitting is a severe problem for this data: The model can easily overfit the training set producing poor accuracy on the out-of-training (test) data.\n",
    "\n",
    "You need to find an optimal combination of the hyperparameters, with some hyperparameters corresponding to the regularization techniques that we studied in the lecture.\n",
    "\n",
    "The hyperparameters that you are advised to consider:\n",
    "* Learning rate value and learning rate schedule (decresing the learning rate often has positive effect on the model performance)\n",
    "* Number of training epochs\n",
    "* Network size\n",
    "* Weight decay\n",
    "* Early stopping\n",
    "* Dropout\n",
    "* Increase amount of data:\n",
    "  * Data augmentation\n",
    "  * Injecting noise\n",
    "\n",
    "You can tune the hyperparameters by, for example, grid search, random search or manual tuning. In that case, you can use `architecture` argument to specify the hyperparameters that define the architecture of your network. After you have tuned the hyperparameters, set the default value of this argument to the optimal set of the hyparameters so that the best architecture is used in the accuracy tests.\n",
    "\n",
    "Note:\n",
    "* The number of points that you will get from this exercise depends on the MSE loss on the test set:\n",
    "  * below 1.00: 1 point\n",
    "  * below 0.95: 2 points\n",
    "  * below 0.92: 3 points\n",
    "  * below 0.90: 4 points\n",
    "  * below 0.89: 5 points\n",
    "  * below 0.88: 6 points "
   ]
  },
  {
   "cell_type": "code",
   "execution_count": 54,
   "metadata": {
    "deletable": false,
    "nbgrader": {
     "cell_type": "code",
     "checksum": "0e5876624dba2e059f4aea1c65d27dfa",
     "grade": false,
     "grade_id": "cell-c3cffbe259a08d4d",
     "locked": false,
     "schema_version": 3,
     "solution": true,
     "task": false
    }
   },
   "outputs": [],
   "source": [
    "class RecommenderSystem(nn.Module):\n",
    "    def __init__(self, n_users, n_items,\n",
    "                 architecture=None  # If you want to tune the hyperparameters automatically (e.g. using random\n",
    "                                    # search), use this argument to specify the hyperparameters that define the\n",
    "                                    # architecture of your network. After you have tuned the hyperparameters,\n",
    "                                    # set the default value of this argument to the optimal set of the hyparameters\n",
    "                                    # so that the best architecture is used in the accuracy tests.\n",
    "                ):\n",
    "        \"\"\"\n",
    "        Args:\n",
    "          n_users: Number of users.\n",
    "          n_items: Number of items.\n",
    "        \"\"\"\n",
    "        # YOUR CODE HERE\n",
    "        super(RecommenderSystem, self).__init__()\n",
    "        self.embeddingusers = nn.Embedding(n_users + 1, 10)\n",
    "        self.embeddingitems = nn.Embedding(n_items + 1, 10)\n",
    "        self.hidden = nn.Linear(20, 25)\n",
    "        self.relu = nn.ReLU()\n",
    "        self.output = nn.Linear(25, 1)\n",
    "        \n",
    "        \n",
    "    def forward(self, user_ids, item_ids):\n",
    "        \"\"\"\n",
    "        Args:\n",
    "          user_ids of shape (batch_size): User ids (starting from 1).\n",
    "          item_ids of shape (batch_size): Item ids (starting from 1).\n",
    "        \n",
    "        Returns:\n",
    "          outputs of shape (batch_size): Predictions of ratings.\n",
    "        \"\"\"\n",
    "        # YOUR CODE HERE\n",
    "        user_embedding = self.embeddingusers(user_ids)\n",
    "        item_embedding = self.embeddingitems(item_ids)\n",
    "        x = torch.cat([user_embedding, item_embedding], dim=1)\n",
    "        x = self.hidden(x)\n",
    "        x = self.relu(x)\n",
    "        x = self.output(x)\n",
    "        return x.squeeze()\n",
    "        \n"
   ]
  },
  {
   "cell_type": "markdown",
   "metadata": {
    "deletable": false,
    "editable": false,
    "nbgrader": {
     "cell_type": "markdown",
     "checksum": "01bb09f330da9db46e6c8215cba93908",
     "grade": false,
     "grade_id": "cell-4963b96623072e67",
     "locked": true,
     "schema_version": 3,
     "solution": false,
     "task": false
    }
   },
   "source": [
    "You can test the shapes of the model outputs using the function below."
   ]
  },
  {
   "cell_type": "code",
   "execution_count": 55,
   "metadata": {
    "deletable": false,
    "editable": false,
    "nbgrader": {
     "cell_type": "code",
     "checksum": "66e06523fac3af0ef33791d1f4b8b3d8",
     "grade": false,
     "grade_id": "cell-c6083c824af45d0c",
     "locked": true,
     "schema_version": 3,
     "solution": false,
     "task": false
    }
   },
   "outputs": [
    {
     "name": "stdout",
     "output_type": "stream",
     "text": [
      "torch.Size([10])\n",
      "Success\n"
     ]
    }
   ],
   "source": [
    "def test_RecommenderSystem_shapes():\n",
    "    n_users, n_items = 100, 1000\n",
    "    model = RecommenderSystem(n_users, n_items)\n",
    "    batch_size = 10\n",
    "    user_ids = torch.arange(1, batch_size+1)\n",
    "    item_ids = torch.arange(1, batch_size+1)\n",
    "    output = model(user_ids, item_ids)\n",
    "    print(output.shape)\n",
    "    assert output.shape == torch.Size([batch_size]), \"Wrong output shape.\"\n",
    "    print('Success')\n",
    "\n",
    "test_RecommenderSystem_shapes()"
   ]
  },
  {
   "cell_type": "code",
   "execution_count": 56,
   "metadata": {
    "deletable": false,
    "editable": false,
    "nbgrader": {
     "cell_type": "code",
     "checksum": "450b5cbba95ea6ca97ff7d0c086abcc2",
     "grade": true,
     "grade_id": "cell-77bda8eb73762ef9",
     "locked": true,
     "points": 0,
     "schema_version": 3,
     "solution": false,
     "task": false
    }
   },
   "outputs": [],
   "source": [
    "# This cell is reserved for testing"
   ]
  },
  {
   "cell_type": "markdown",
   "metadata": {
    "deletable": false,
    "editable": false,
    "nbgrader": {
     "cell_type": "markdown",
     "checksum": "84fa4c2396a00177cefc9ae035b5ad1c",
     "grade": false,
     "grade_id": "cell-ba8b7cb0e60e0809",
     "locked": true,
     "schema_version": 3,
     "solution": false,
     "task": false
    }
   },
   "source": [
    "## Train the model\n",
    "\n",
    "You need to train a recommender system using **only the training data.** Please use the test set to select the best model: the model that generalizes best to out-of-training data.\n",
    "\n",
    "**IMPORTANT**:\n",
    "* During testing, the predictions are produced by `predictions = model(user_ids, item_ids)` with the `user_ids` and `item_ids` loaded from `RatingsData`.\n",
    "* There is a size limit of 30Mb for saved models."
   ]
  },
  {
   "cell_type": "code",
   "execution_count": 67,
   "metadata": {
    "deletable": false,
    "editable": false,
    "nbgrader": {
     "cell_type": "code",
     "checksum": "9de82b03bc4514fc2e9c8e71fe0eab6f",
     "grade": false,
     "grade_id": "cell-d149dfc0245469b4",
     "locked": true,
     "schema_version": 3,
     "solution": false,
     "task": false
    }
   },
   "outputs": [],
   "source": [
    "# Create the model\n",
    "# IMPORTANT: the default value of the architecture argument should define your best model.\n",
    "model = RecommenderSystem(trainset.n_users, trainset.n_items)"
   ]
  },
  {
   "cell_type": "code",
   "execution_count": 64,
   "metadata": {},
   "outputs": [],
   "source": [
    "# This is the function to compute the loss:\n",
    "def compute_loss(mlp, user_id, item_id, rating):\n",
    "    mlp.eval()\n",
    "    with torch.no_grad():\n",
    "        outputs = mlp.forward(user_id, item_id)\n",
    "        loss = F.mse_loss(outputs, rating)\n",
    "        return loss.cpu().numpy()\n",
    "\n",
    "# This is the function to print the progress during training\n",
    "def print_progress(epoch, train_error, val_error):\n",
    "    print('Epoch {}: Train error: {:.4f}, Test error: {:.4f}'.format(\n",
    "        epoch, train_error, val_error))"
   ]
  },
  {
   "cell_type": "code",
   "execution_count": 65,
   "metadata": {},
   "outputs": [
    {
     "name": "stdout",
     "output_type": "stream",
     "text": [
      "tensor(5)\n"
     ]
    }
   ],
   "source": [
    "train_user_ids = trainset[0][2]\n",
    "print(train_user_ids)"
   ]
  },
  {
   "cell_type": "code",
   "execution_count": 66,
   "metadata": {
    "deletable": false,
    "nbgrader": {
     "cell_type": "code",
     "checksum": "9ae611f86dc42c930a1421847d3310e8",
     "grade": false,
     "grade_id": "cell-d821843867334aed",
     "locked": false,
     "schema_version": 3,
     "solution": true,
     "task": false
    }
   },
   "outputs": [
    {
     "name": "stdout",
     "output_type": "stream",
     "text": [
      "Epoch 19: Train error: 2.6711, Test error: 2.7243\n",
      "Epoch 39: Train error: 1.4941, Test error: 1.5266\n",
      "Epoch 59: Train error: 1.2665, Test error: 1.3186\n",
      "Epoch 79: Train error: 1.1553, Test error: 1.2123\n",
      "Epoch 99: Train error: 1.0735, Test error: 1.1244\n",
      "Epoch 119: Train error: 1.0174, Test error: 1.0657\n",
      "Epoch 139: Train error: 0.9682, Test error: 1.0148\n",
      "Epoch 159: Train error: 0.9234, Test error: 0.9691\n",
      "Epoch 179: Train error: 0.8873, Test error: 0.9330\n",
      "Epoch 199: Train error: 0.8626, Test error: 0.9085\n",
      "Epoch 219: Train error: 0.8482, Test error: 0.8946\n",
      "Epoch 239: Train error: 0.8399, Test error: 0.8862\n",
      "Epoch 259: Train error: 0.8351, Test error: 0.8811\n",
      "Epoch 279: Train error: 0.8319, Test error: 0.8779\n",
      "Epoch 299: Train error: 0.8299, Test error: 0.8757\n",
      "Epoch 319: Train error: 0.8284, Test error: 0.8742\n",
      "Epoch 339: Train error: 0.8273, Test error: 0.8731\n",
      "Epoch 359: Train error: 0.8263, Test error: 0.8723\n",
      "Epoch 379: Train error: 0.8254, Test error: 0.8718\n",
      "Epoch 399: Train error: 0.8247, Test error: 0.8715\n",
      "Epoch 419: Train error: 0.8240, Test error: 0.8712\n",
      "Epoch 439: Train error: 0.8232, Test error: 0.8706\n",
      "Epoch 459: Train error: 0.8224, Test error: 0.8701\n",
      "Epoch 479: Train error: 0.8214, Test error: 0.8696\n",
      "Epoch 499: Train error: 0.8204, Test error: 0.8692\n"
     ]
    }
   ],
   "source": [
    "# Implement the training loop in this cell\n",
    "if not skip_training:\n",
    "    # YOUR CODE HERE\n",
    "    n_epochs = 500\n",
    "    model = model.to(device)\n",
    "    criterion = nn.MSELoss()\n",
    "    optimizer = optim.Adam(model.parameters(), lr=0.01, weight_decay=0.001)\n",
    "\n",
    "    train_user_ids, train_item_ids, train_ratings = trainset[:]\n",
    "    train_user_ids = train_user_ids.to(torch.long)\n",
    "    train_item_ids = train_item_ids.to(torch.long)\n",
    "    train_ratings = train_ratings.to(torch.float32)\n",
    "    test_user_ids, test_item_ids, test_ratings = testset[:]\n",
    "    test_user_ids = test_user_ids.to(torch.long)\n",
    "    test_item_ids = test_item_ids.to(torch.long)\n",
    "    test_ratings = test_ratings.to(torch.float32)\n",
    "    # train_user_ids = train_user_ids.to(device)\n",
    "    # train_item_ids = train_item_ids.to(device)\n",
    "    # train_ratings = train_ratings.to(device)\n",
    "\n",
    "    for epoch in range(n_epochs):\n",
    "\n",
    "        optimizer.zero_grad()\n",
    "        outputs = model.forward(train_user_ids, train_item_ids)\n",
    "        loss = F.mse_loss(outputs, train_ratings)\n",
    "        loss.backward()\n",
    "        optimizer.step()\n",
    "\n",
    "        if (epoch+1) % 20 == 0:\n",
    "            print_progress(epoch, compute_loss(model, train_user_ids, train_item_ids, train_ratings), compute_loss(model, test_user_ids, test_item_ids, test_ratings))\n",
    "\n",
    "\n",
    "\n",
    "    "
   ]
  },
  {
   "cell_type": "code",
   "execution_count": 68,
   "metadata": {},
   "outputs": [],
   "source": [
    "def train(weight_decay=0.01, epochs=350):\n",
    "    optimizer = torch.optim.AdamW(model.parameters(), lr=0.01, weight_decay=weight_decay) # weight decay\n",
    "    criterion = nn.MSELoss()\n",
    "    \n",
    "    for i in range(epochs):\n",
    "        model.train()\n",
    "        optimizer.zero_grad()\n",
    "        user_ids, item_ids, ratings = trainset[:]\n",
    "        user_ids = user_ids.to(torch.long)\n",
    "        item_ids = item_ids.to(torch.long)\n",
    "        ratings = ratings.to(torch.float32)\n",
    "        \n",
    "        # injecting noise into ratings\n",
    "        std = 0.1\n",
    "        ratings += torch.randn_like(ratings) * std\n",
    "        \n",
    "        # clamping the ratings between 1 and 5\n",
    "        \n",
    "        ratings = torch.clamp(ratings, min=1, max=5)\n",
    "        \n",
    "        outputs = model(user_ids, item_ids)\n",
    "        training_loss = criterion(outputs, ratings)\n",
    "        \n",
    "        model.eval()\n",
    "        with torch.no_grad():\n",
    "            user_ids, item_ids, ratings = zip(*testset)\n",
    "            user_ids = torch.tensor(user_ids, dtype=torch.long)\n",
    "            item_ids = torch.tensor(item_ids, dtype=torch.long)\n",
    "            ratings = torch.tensor(ratings, dtype=torch.float32)\n",
    "            validation_outputs = model(user_ids, item_ids)\n",
    "            validation_loss = criterion(validation_outputs, ratings)\n",
    "    \n",
    "        print(\"Epoch:\", i + 1, \"training loss:\", training_loss, \"validation loss:\", validation_loss)\n",
    "        \n",
    "        training_loss.backward()\n",
    "        optimizer.step()"
   ]
  },
  {
   "cell_type": "code",
   "execution_count": null,
   "metadata": {},
   "outputs": [],
   "source": [
    "# Save the model to disk (the pth-files will be submitted automatically together with your notebook)\n",
    "# Set confirm=False if you do not want to be asked for confirmation before saving.\n",
    "if not skip_training:\n",
    "    tools.save_model(model, 'recsys.pth', confirm=True)"
   ]
  },
  {
   "cell_type": "code",
   "execution_count": null,
   "metadata": {
    "deletable": false,
    "editable": false,
    "nbgrader": {
     "cell_type": "code",
     "checksum": "13f9cd9f77491dbdc099d1f0abb4ddbd",
     "grade": false,
     "grade_id": "cell-f1407ea48ef44720",
     "locked": true,
     "schema_version": 3,
     "solution": false,
     "task": false
    }
   },
   "outputs": [],
   "source": [
    "# This cell loads your best model\n",
    "if skip_training:\n",
    "    model = RecommenderSystem(trainset.n_users, trainset.n_items)\n",
    "    tools.load_model(model, 'recsys.pth', device)"
   ]
  },
  {
   "cell_type": "markdown",
   "metadata": {
    "deletable": false,
    "editable": false,
    "nbgrader": {
     "cell_type": "markdown",
     "checksum": "f3a0c9a862742764c451006091c5295f",
     "grade": false,
     "grade_id": "cell-0968d93ce893a867",
     "locked": true,
     "schema_version": 3,
     "solution": false,
     "task": false
    }
   },
   "source": [
    "The next cell tests the accuracy of your best model. It is enough to submit .pth files.\n",
    "\n",
    "**IMPORTANT**:\n",
    "* During testing, the predictions are produced by `predictions = model(user_ids, item_ids)` with the `user_ids` and `item_ids` loaded from `RatingsData`.\n",
    "* There is a size limit of 30Mb for saved models. Please make sure that your model loads in the cell above."
   ]
  },
  {
   "cell_type": "code",
   "execution_count": null,
   "metadata": {
    "deletable": false,
    "editable": false,
    "nbgrader": {
     "cell_type": "code",
     "checksum": "d5da1ca794d9decc9969a31342685666",
     "grade": true,
     "grade_id": "cell-bffe8fbb471081d9",
     "locked": true,
     "points": 1,
     "schema_version": 3,
     "solution": false,
     "task": false
    }
   },
   "outputs": [],
   "source": [
    "# This cell tests the accuracy of your best model."
   ]
  },
  {
   "cell_type": "code",
   "execution_count": null,
   "metadata": {
    "deletable": false,
    "editable": false,
    "nbgrader": {
     "cell_type": "code",
     "checksum": "6424893302c13e465c2c75bbe70f8735",
     "grade": true,
     "grade_id": "cell-cd5e14d4b944f427",
     "locked": true,
     "points": 1,
     "schema_version": 3,
     "solution": false,
     "task": false
    }
   },
   "outputs": [],
   "source": [
    "# This cell is reserved for grading"
   ]
  },
  {
   "cell_type": "code",
   "execution_count": null,
   "metadata": {
    "deletable": false,
    "editable": false,
    "nbgrader": {
     "cell_type": "code",
     "checksum": "1c30f9763e61f52dedcc999c69901c79",
     "grade": true,
     "grade_id": "cell-d6d18ec22f375541",
     "locked": true,
     "points": 1,
     "schema_version": 3,
     "solution": false,
     "task": false
    }
   },
   "outputs": [],
   "source": [
    "# This cell is reserved for grading"
   ]
  },
  {
   "cell_type": "code",
   "execution_count": null,
   "metadata": {
    "deletable": false,
    "editable": false,
    "nbgrader": {
     "cell_type": "code",
     "checksum": "5bb64cc670252d78e6d0610fc87f818d",
     "grade": true,
     "grade_id": "cell-2a7cbd80cefdfc28",
     "locked": true,
     "points": 1,
     "schema_version": 3,
     "solution": false,
     "task": false
    }
   },
   "outputs": [],
   "source": [
    "# This cell is reserved for grading"
   ]
  },
  {
   "cell_type": "code",
   "execution_count": null,
   "metadata": {
    "deletable": false,
    "editable": false,
    "nbgrader": {
     "cell_type": "code",
     "checksum": "655de66b979f1ac0bc9009ef71201bee",
     "grade": true,
     "grade_id": "cell-583d64dae36d06ae",
     "locked": true,
     "points": 1,
     "schema_version": 3,
     "solution": false,
     "task": false
    }
   },
   "outputs": [],
   "source": [
    "# This cell is reserved for grading"
   ]
  },
  {
   "cell_type": "code",
   "execution_count": null,
   "metadata": {
    "deletable": false,
    "editable": false,
    "nbgrader": {
     "cell_type": "code",
     "checksum": "3df236f1b1d600d0ef716148cce58c46",
     "grade": true,
     "grade_id": "cell-545fe9918fc5b54a",
     "locked": true,
     "points": 1,
     "schema_version": 3,
     "solution": false,
     "task": false
    }
   },
   "outputs": [],
   "source": [
    "# This cell is reserved for grading"
   ]
  },
  {
   "cell_type": "code",
   "execution_count": null,
   "metadata": {
    "deletable": false,
    "editable": false,
    "nbgrader": {
     "cell_type": "code",
     "checksum": "845675607fd47b1ece1e7c5288e11561",
     "grade": true,
     "grade_id": "cell-a890dc0ffcb07f46",
     "locked": true,
     "points": 0,
     "schema_version": 3,
     "solution": false,
     "task": false
    }
   },
   "outputs": [],
   "source": [
    "# This cell is reserved for grading"
   ]
  }
 ],
 "metadata": {
  "kernelspec": {
   "display_name": "Python 3",
   "language": "python",
   "name": "python3"
  },
  "language_info": {
   "codemirror_mode": {
    "name": "ipython",
    "version": 3
   },
   "file_extension": ".py",
   "mimetype": "text/x-python",
   "name": "python",
   "nbconvert_exporter": "python",
   "pygments_lexer": "ipython3",
   "version": "3.10.13"
  },
  "varInspector": {
   "cols": {
    "lenName": 16,
    "lenType": 16,
    "lenVar": 40
   },
   "kernels_config": {
    "python": {
     "delete_cmd_postfix": "",
     "delete_cmd_prefix": "del ",
     "library": "var_list.py",
     "varRefreshCmd": "print(var_dic_list())"
    },
    "r": {
     "delete_cmd_postfix": ") ",
     "delete_cmd_prefix": "rm(",
     "library": "var_list.r",
     "varRefreshCmd": "cat(var_dic_list()) "
    }
   },
   "types_to_exclude": [
    "module",
    "function",
    "builtin_function_or_method",
    "instance",
    "_Feature"
   ],
   "window_display": false
  }
 },
 "nbformat": 4,
 "nbformat_minor": 2
}
