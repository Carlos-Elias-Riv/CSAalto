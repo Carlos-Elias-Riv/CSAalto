{
 "cells": [
  {
   "cell_type": "markdown",
   "metadata": {
    "deletable": false,
    "editable": false,
    "nbgrader": {
     "cell_type": "markdown",
     "checksum": "e3ec1a856db2f2379f50b150e9e5cca1",
     "grade": false,
     "grade_id": "cell-4695c999b42f2904",
     "locked": true,
     "schema_version": 3,
     "solution": false,
     "task": false
    }
   },
   "source": [
    "# CS-E4895: Gaussian Processes\n",
    "\n",
    "## Assignment #1: Linear regression and Gaussian distributions\n",
    "\n",
    "### Learning objectives\n",
    "\n",
    "The purpose of this exercise is to become familiar with the multivariate Gaussian distribution and the basics of Bayesian inference. After completing the exercise, you should be able to:\n",
    "\n",
    "- Manipulate, implement, and sample from  multivariate Gaussian densities.\n",
    "- Explain the role of the prior, likelihood, posterior, and model evidence in Bayesian inference.\n",
    "- Derive the posterior distribution of the regression weight for a ridge regression model. \n",
    "\n",
    "You are only allowed to use the numpy module to solve the exercises and **not** statistics specific modules (e.g scipy.stats or GPy). Check the slides for the first two lectures, and then complete the tasks below. \n"
   ]
  },
  {
   "cell_type": "markdown",
   "metadata": {},
   "source": [
    "## Enter your student number\n",
    "\n",
    "**STUDENT_NUMBER** = 102179473"
   ]
  },
  {
   "cell_type": "markdown",
   "metadata": {
    "deletable": false,
    "editable": false,
    "nbgrader": {
     "cell_type": "markdown",
     "checksum": "07331f3f39ab8812066df27abb0fc1d4",
     "grade": false,
     "grade_id": "cell-b22a0a08b1a3829e",
     "locked": true,
     "schema_version": 3,
     "solution": false,
     "task": false
    }
   },
   "source": [
    "## Warnings:\n",
    "\n",
    "- Don’t copy and paste cells within a notebook. This will mess up the tracking metadata and prevent autograding from working.\n",
    "- Only add new cells using the '+' button in the upper toolbar and do not split cells.\n",
    "- Be cautious about things such as copying the whole notebook to Colab to work on it. This has sometimes resulted in removing all notebook metadata, making autograding impossible."
   ]
  },
  {
   "cell_type": "code",
   "execution_count": null,
   "metadata": {
    "deletable": false,
    "editable": false,
    "nbgrader": {
     "cell_type": "code",
     "checksum": "ddd205cfc50af26808b583f5ad5afb68",
     "grade": false,
     "grade_id": "cell-4c6fb9112febee75",
     "locked": true,
     "schema_version": 3,
     "solution": false,
     "task": false
    }
   },
   "outputs": [],
   "source": [
    "%matplotlib inline\n",
    "import numpy as np\n",
    "import matplotlib.pyplot as plt\n",
    "import seaborn as snb\n",
    "snb.set(font_scale=1.5)\n",
    "\n",
    "import IPython\n",
    "assert IPython.version_info[0] >= 3, \"Your version of IPython is too old, please update it.\""
   ]
  },
  {
   "cell_type": "markdown",
   "metadata": {
    "deletable": false,
    "editable": false,
    "nbgrader": {
     "cell_type": "markdown",
     "checksum": "5a31fb19a5a46783c19b751c728a3561",
     "grade": false,
     "grade_id": "cell-08b30ed154bf5e69",
     "locked": true,
     "schema_version": 3,
     "solution": false,
     "task": false
    }
   },
   "source": [
    "### Gaussian linear regression\n",
    "\n",
    "Linear regression is perhaps the most frequently used technique in applied statistics for modelling the relationship between set of a covariates $\\left\\lbrace \\mathbf{x}_n \\right\\rbrace_{n=1}^N$ and a response variable $\\left\\lbrace y_n \\right\\rbrace_{n=1}^N$. More formally, let $\\mathbf{X} \\in \\mathbb{R}^{N \\times D}$ be a design matrix and let  $\\mathbf{y} \\in \\mathbb{R}^N$ be the response variables collected into a single vector, then the linear regression model is given by\n",
    "\n",
    "\\begin{align}\n",
    "\\mathbf{y} = \\mathbf{X}\\mathbf{w} + \\mathbf{e},\n",
    "\\end{align}\n",
    "\n",
    "where $\\mathbf{w} \\in \\mathbb{R}^D$ is the regression weights and $\\mathbf{e} \\in \\mathbb{R}^N$ is the observation noise vector.\n",
    "\n",
    "Assuming isotropic Gaussian noise and imposing a multivariate Gaussian prior on $\\mathbf{w} \\sim \\mathcal{N}\\left(\\mathbf{m}, \\mathbf{S}\\right)$ gives rise to the following joint distribution\n",
    "\n",
    "\\begin{align}\n",
    "p(\\mathbf{y}, \\mathbf{w}) = p\\left(\\mathbf{y} \\mid \\mathbf{w}\\right)p\\left(\\mathbf{w}\\right) = \\mathcal{N}\\left(\\mathbf{y} \\mid \\mathbf{Xw}, \\sigma^2\\mathbf{I}\\right)\\mathcal{N}\\left(\\mathbf{w} \\mid \\mathbf{m}, \\mathbf{S}\\right).\n",
    "\\end{align}\n",
    "\n",
    "In this exercise, we will use the following simple model as a running example:\n",
    "\n",
    "\\begin{align}\n",
    "y_n = ax_n + b +  e_n = \\begin{bmatrix}x_n&1\\end{bmatrix}\\begin{bmatrix}a\\\\b\\end{bmatrix} + e_n.\n",
    "\\end{align}\n",
    "\n",
    "That is, the parameters are $\\mathbf{w} = \\left[a, b\\right]$, where $a$ and $b$ are the slope and intercept of the line, respectively. Furthermore, we will assume $\\mathbf{m} = \\mathbf{0}$, $\\mathbf{S} = \\mathbf{I}$, and $\\sigma^2 = 2$.\n",
    "\n",
    "In the following cell, we define the data, noise variance, and the hyperparameters of the prior. Kindly note we use these values for both Task 1 and Task 2.\n"
   ]
  },
  {
   "cell_type": "code",
   "execution_count": null,
   "metadata": {
    "deletable": false,
    "editable": false,
    "nbgrader": {
     "cell_type": "code",
     "checksum": "e4d21998cbf2707f37f7b24437574cae",
     "grade": false,
     "grade_id": "cell-4568e694b98eb197",
     "locked": true,
     "schema_version": 3,
     "solution": false,
     "task": false
    }
   },
   "outputs": [],
   "source": [
    "# hyperparameters of the prior\n",
    "m_prior = np.zeros((2, 1))\n",
    "S_prior = 1.0*np.identity(2)\n",
    "\n",
    "# noise variance\n",
    "sigma2 = 2\n",
    "\n",
    "# data\n",
    "N = 8\n",
    "x_data = np.array([1.764, 0.4, 0.979, 2.241, 1.868, -0.977,  0.95, -0.151])[:, None]\n",
    "y_data = np.array([-0.464, 2.024, 3.191, 2.812, 6.512, -3.022, 1.99, 0.009])[:, None]\n",
    "\n",
    "# plot\n",
    "plt.plot(x_data, y_data, 'k.', label='Data', markersize=12)\n",
    "plt.xlabel('Input x')\n",
    "plt.ylabel('Response y')\n",
    "plt.legend()\n",
    "plt.xlim((-3, 3))\n",
    "plt.ylim((-6, 6));"
   ]
  },
  {
   "cell_type": "markdown",
   "metadata": {
    "deletable": false,
    "editable": false,
    "nbgrader": {
     "cell_type": "markdown",
     "checksum": "ecea985f89c3bc59a8fd32ad443bfac7",
     "grade": false,
     "grade_id": "cell-76c91e859780ba9d",
     "locked": true,
     "schema_version": 3,
     "solution": false,
     "task": false
    }
   },
   "source": [
    "### Task 1: The prior, likelihood and posterior (2 points)\n",
    "\n",
    "The purpose of this task is to implement the basic building blocks of the linear model. In the cells below, you are given a set of function templates and the task is to complete the implementations as specified below.\n",
    "\n",
    "*Hint:* look for Rasmussen book section 2.1 (http://www.gaussianprocess.org/gpml/)\n",
    "\n",
    "**Task 1a**: Implement the multivariate Gaussian density function using numpy (Hint: to avoid numerical problems, always add a small diagonal constant (1e-10) to covariance matrices)\n",
    "\n",
    "\\begin{align}\n",
    "    \\mathcal{N}(\\mathbf{x} \\mid \\boldsymbol{\\mu}, \\mathbf{\\Sigma} ) \\sim (2\\pi)^{-\\frac{D}{2}} | \\mathbf{\\Sigma} |^{-\\frac{1}{2}} \\exp\\left[-\\frac{1}{2}(\\mathbf{x} - \\boldsymbol{\\mu})^\\top \\mathbf{\\Sigma}^{-1} (\\mathbf{x} - \\boldsymbol{\\mu}) \\right]\n",
    "\\end{align}\n",
    "\n",
    "**Reminder:** When $\\mathbf{X}$ is a matrix, $|\\mathbf{X}|$ refers to its determinant. \n"
   ]
  },
  {
   "cell_type": "code",
   "execution_count": null,
   "metadata": {
    "deletable": false,
    "nbgrader": {
     "cell_type": "code",
     "checksum": "7221769bfacda40eba59ccdf7ab707d0",
     "grade": false,
     "grade_id": "cell-4b5c96cb5d771ff5",
     "locked": false,
     "schema_version": 3,
     "solution": true,
     "task": false
    }
   },
   "outputs": [],
   "source": [
    "def mvn_pdf(x, mu, Sigma, log=True):\n",
    "    \"\"\" Returns the density of a multivariate Gaussian distribution\n",
    "    with mean mu and covariance Sigma at point x\n",
    "    \n",
    "    Arguments:\n",
    "    x     -- (Dx1) evaluation point\n",
    "    mu    -- (Dx1) mean vector\n",
    "    Sigma -- (DxD) covariance matrix\n",
    "    log   -- (bool) if true, return log density. If false, return the density. (default=True)\n",
    "      \n",
    "    Returns:\n",
    "    (scalar) density\n",
    "    \"\"\"\n",
    "\n",
    "    # YOUR CODE HERE\n",
    "    raise NotImplementedError()\n",
    "    "
   ]
  },
  {
   "cell_type": "markdown",
   "metadata": {
    "deletable": false,
    "editable": false,
    "nbgrader": {
     "cell_type": "markdown",
     "checksum": "335b4ea8217249f969b32324fc545cd7",
     "grade": false,
     "grade_id": "cell-5688672d1f1c54ff",
     "locked": true,
     "schema_version": 3,
     "solution": false,
     "task": false
    }
   },
   "source": [
    "#### Let's test the above function"
   ]
  },
  {
   "cell_type": "code",
   "execution_count": null,
   "metadata": {
    "deletable": false,
    "editable": false,
    "nbgrader": {
     "cell_type": "code",
     "checksum": "a9cce6bcd5ea3fc167a79b9e0be11c1d",
     "grade": false,
     "grade_id": "cell-2b09d952c8adfeea",
     "locked": true,
     "schema_version": 3,
     "solution": false,
     "task": false
    }
   },
   "outputs": [],
   "source": [
    "x = np.array([-0.78 , -8.92]).reshape((-1, 1))\n",
    "m = np.array([0.24, -0.99]).reshape((-1, 1))\n",
    "Sigma = np.diag([4.02, 4.38])\n",
    "\n",
    "assert isinstance(mvn_pdf(x, m, Sigma, log=True), float)\n",
    "assert isinstance(mvn_pdf(x, m, Sigma, log=False), float)\n",
    "np.testing.assert_allclose(mvn_pdf(x, m, Sigma, log=True), -10.580086)\n",
    "np.testing.assert_allclose(mvn_pdf(x, m, Sigma, log=False), 2.5417137e-05)"
   ]
  },
  {
   "cell_type": "markdown",
   "metadata": {
    "deletable": false,
    "editable": false,
    "nbgrader": {
     "cell_type": "markdown",
     "checksum": "2f300f668af7b237f898d44c48d6e1c8",
     "grade": false,
     "grade_id": "cell-af6f9b65a1915526",
     "locked": true,
     "schema_version": 3,
     "solution": false,
     "task": false
    }
   },
   "source": [
    "### Do not move or delete the below block. It is used for automatic grading."
   ]
  },
  {
   "cell_type": "code",
   "execution_count": null,
   "metadata": {
    "deletable": false,
    "editable": false,
    "nbgrader": {
     "cell_type": "code",
     "checksum": "fb264b591819a5fbe24fd908e43ebebd",
     "grade": true,
     "grade_id": "cell-90c4ec46515d5f1e",
     "locked": true,
     "points": 0.5,
     "schema_version": 3,
     "solution": false,
     "task": false
    }
   },
   "outputs": [],
   "source": []
  },
  {
   "cell_type": "markdown",
   "metadata": {
    "deletable": false,
    "editable": false,
    "nbgrader": {
     "cell_type": "markdown",
     "checksum": "40c6ee63fae2622929bfb77e979809f0",
     "grade": false,
     "grade_id": "cell-3b465435dd9ec677",
     "locked": true,
     "schema_version": 3,
     "solution": false,
     "task": false
    }
   },
   "source": [
    "**Task 1b**: Implement functions to evaluate log density of the (i) prior, (ii) likelihood and (iii) unnormalized posterior (likelihood times prior) using the <tt>mvn_pdf</tt> function above. Hint: Use the function <tt>predict(x,a,b)</tt> given below"
   ]
  },
  {
   "cell_type": "code",
   "execution_count": null,
   "metadata": {
    "deletable": false,
    "nbgrader": {
     "cell_type": "code",
     "checksum": "6cf4b7f9ae1cddf73d05f107d73b1640",
     "grade": false,
     "grade_id": "cell-c478c74903fc3b65",
     "locked": false,
     "schema_version": 3,
     "solution": true,
     "task": false
    }
   },
   "outputs": [],
   "source": [
    "def predict(x, a, b):\n",
    "    \"\"\" returns prediction for inputs x given parameter (a,b)\n",
    "    \n",
    "    Arguments:\n",
    "    x    --  (Nx1) vector of inputs\n",
    "    a    --  slope parameter\n",
    "    b    --  intercept parameter\n",
    "    \n",
    "    Returns:\n",
    "    (Nx1) vector of predictions\n",
    "    \"\"\"\n",
    "    return a*x + b\n",
    "\n",
    "\n",
    "def log_prior(a, b, m, S):\n",
    "    \"\"\" returns the log density of the prior at the points (a,b) given m and S\n",
    "    \n",
    "    Arguments:\n",
    "    a    -- (scalar) slope parameter\n",
    "    b    -- (scalar) intercept parameter\n",
    "    m    -- (2x1) The prior mean\n",
    "    S    -- (2x2) The prior covariance\n",
    "    \n",
    "    Returns\n",
    "    (scalar) log density for the pair (a,b)\n",
    "    \n",
    "    \"\"\"\n",
    "    \n",
    "    # YOUR CODE HERE\n",
    "    raise NotImplementedError()\n",
    "\n",
    "\n",
    "def log_likelihood(x, y, a, b):\n",
    "    \"\"\" returns the log-likelihood for the data (x,y) given the parameters (a,b)\n",
    "    \n",
    "    Arguments:\n",
    "    x    -- (Nx1) vector of inputs\n",
    "    y    -- (Nx1) vector of responses\n",
    "    a    -- slope parameter\n",
    "    b    -- intercept parameter\n",
    "    \n",
    "    Returns:\n",
    "    (scalar) log-likelihood of (x,y) \n",
    "    \"\"\"\n",
    "    \n",
    "    # YOUR CODE HERE\n",
    "    raise NotImplementedError()\n",
    "    \n",
    "\n",
    "\n",
    "def log_posterior(x, y, a, b, m, S):\n",
    "    \"\"\" returns the log posterior at (a,b), given the data (x,y) and the prior parameters (m, S)\n",
    "    \n",
    "    Arguments:\n",
    "    x    -- (Nx1) vector of inputs\n",
    "    y    -- (Nx1) vector of responses\n",
    "    a    -- slope parameter\n",
    "    b    -- intercept parameter\n",
    "    m    -- (2x1) The prior mean\n",
    "    S    -- (2x2) The prior covariance\n",
    "    \n",
    "    Returns:\n",
    "    (scalar) log posterior of (x,y)\n",
    "    \"\"\"\n",
    "    \n",
    "    # YOUR CODE HERE\n",
    "    raise NotImplementedError()\n",
    "    \n",
    "\n"
   ]
  },
  {
   "cell_type": "markdown",
   "metadata": {
    "deletable": false,
    "editable": false,
    "nbgrader": {
     "cell_type": "markdown",
     "checksum": "72f24457219bde1bb3d3f5bae10b269c",
     "grade": false,
     "grade_id": "cell-2950944b49953059",
     "locked": true,
     "schema_version": 3,
     "solution": false,
     "task": false
    }
   },
   "source": [
    "#### Let's test the above functions"
   ]
  },
  {
   "cell_type": "code",
   "execution_count": null,
   "metadata": {
    "deletable": false,
    "editable": false,
    "nbgrader": {
     "cell_type": "code",
     "checksum": "c2af2fd22fa5264cb1f023fb140a6030",
     "grade": false,
     "grade_id": "cell-3056d0b169676ae8",
     "locked": true,
     "schema_version": 3,
     "solution": false,
     "task": false
    }
   },
   "outputs": [],
   "source": [
    "a_test = 0.4986\n",
    "b_test = 0.1951\n",
    "m_p_test = np.array([-1.43, 0.07]).reshape((2, 1))\n",
    "S_p_test = np.diag([6.32, 3.88])\n",
    "x_test = np.array([2.43, 1.82]).reshape((2, 1))\n",
    "y_test = np.array([-1.46, 1.03]).reshape((2, 1))\n",
    "\n",
    "np.testing.assert_allclose(log_prior(a_test, b_test, m_p_test, S_p_test), -3.733935)\n",
    "np.testing.assert_allclose(log_likelihood(x_test, y_test, a_test, b_test), -4.58682955)\n",
    "np.testing.assert_allclose(log_posterior(x_test, y_test, a_test, b_test, m_p_test, S_p_test), -8.32076455)"
   ]
  },
  {
   "cell_type": "markdown",
   "metadata": {
    "deletable": false,
    "editable": false,
    "nbgrader": {
     "cell_type": "markdown",
     "checksum": "8b7abfdf66cd17881993a1cd94018816",
     "grade": false,
     "grade_id": "cell-539a4b598fce9e59",
     "locked": true,
     "schema_version": 3,
     "solution": false,
     "task": false
    }
   },
   "source": [
    "### Do not move or delete the below three blocks. It is used for automatic grading."
   ]
  },
  {
   "cell_type": "code",
   "execution_count": null,
   "metadata": {
    "deletable": false,
    "editable": false,
    "nbgrader": {
     "cell_type": "code",
     "checksum": "04e067fff01de184667e5a348e36f4a8",
     "grade": true,
     "grade_id": "cell-ae4a35b05cf60ccb",
     "locked": true,
     "points": 0.5,
     "schema_version": 3,
     "solution": false,
     "task": false
    }
   },
   "outputs": [],
   "source": []
  },
  {
   "cell_type": "code",
   "execution_count": null,
   "metadata": {
    "deletable": false,
    "editable": false,
    "nbgrader": {
     "cell_type": "code",
     "checksum": "f9305f930ce94241c2fbba6ca8177c22",
     "grade": true,
     "grade_id": "cell-048ff7edbad3f16a",
     "locked": true,
     "points": 0.5,
     "schema_version": 3,
     "solution": false,
     "task": false
    }
   },
   "outputs": [],
   "source": []
  },
  {
   "cell_type": "code",
   "execution_count": null,
   "metadata": {
    "deletable": false,
    "editable": false,
    "nbgrader": {
     "cell_type": "code",
     "checksum": "6099f6eca7dc0d216eb0de4c1d68fab5",
     "grade": true,
     "grade_id": "cell-ca8cc5e858ce98ac",
     "locked": true,
     "points": 0.5,
     "schema_version": 3,
     "solution": false,
     "task": false
    }
   },
   "outputs": [],
   "source": []
  },
  {
   "attachments": {
    "92e8c6f8-df1f-46ae-bf38-7d59e04a8c96.png": {
     "image/png": "[encoded data removed]"
    }
   },
   "cell_type": "markdown",
   "metadata": {
    "deletable": false,
    "editable": false,
    "nbgrader": {
     "cell_type": "markdown",
     "checksum": "8c9412c8aa8eb8a647beb90440c007e0",
     "grade": false,
     "grade_id": "cell-3a80a2d6cb16d22f",
     "locked": true,
     "schema_version": 3,
     "solution": false,
     "task": false
    }
   },
   "source": [
    "**Task 1c**: The goal of this task is to make contour plots of the prior density, the likelihood and the posterior as a function of (a,b) in the intervals $-3 \\leq a \\leq 3$ and $-3 \\leq b \\leq 3$, respectively, by completing the implementation of the functions: <tt>plot_prior_density</tt>,  <tt>plot_likelihood</tt>,  <tt>plot_posterior_density</tt> given below. \n",
    "\n",
    "*Hint:* Check the numpy function <tt>meshgrid</tt> and pyplot function <tt>contour</tt> to plot 2D densities.\n",
    "\n",
    "The final plot should resemble the below plot:\n",
    "\n",
    "![image.png](attachment:92e8c6f8-df1f-46ae-bf38-7d59e04a8c96.png)\n"
   ]
  },
  {
   "cell_type": "code",
   "execution_count": null,
   "metadata": {
    "deletable": false,
    "nbgrader": {
     "cell_type": "code",
     "checksum": "4e753f7b17933614e15c8e42022bacdf",
     "grade": false,
     "grade_id": "cell-453608ccd9d39037",
     "locked": false,
     "schema_version": 3,
     "solution": true,
     "task": false
    }
   },
   "outputs": [],
   "source": [
    "a = np.linspace(-3, 3, 100)\n",
    "b = np.linspace(-3, 3, 100)\n",
    "\n",
    "def log_to_density(Z):\n",
    "    \"\"\"\n",
    "    This function converts the log probabilities to probability densities such that they sum to 1.\n",
    "    \"\"\"\n",
    "    Z = Z - np.max(Z)\n",
    "    Z = np.exp(Z)\n",
    "    return Z/np.sum(Z)\n",
    "\n",
    "def plot_prior_density(m, S):\n",
    "    # YOUR CODE HERE\n",
    "    raise NotImplementedError()\n",
    "    plt.xlabel('slope')\n",
    "    plt.ylabel('intercept')\n",
    "    \n",
    "    \n",
    "def plot_likelihood(x, y):\n",
    "    # YOUR CODE HERE\n",
    "    raise NotImplementedError()\n",
    "    plt.xlabel('slope')\n",
    "    plt.ylabel('intercept')\n",
    "\n",
    "def plot_posterior_density(x, y, m, S):\n",
    "    # YOUR CODE HERE\n",
    "    raise NotImplementedError()\n",
    "    plt.xlabel('slope')\n",
    "    plt.ylabel('intercept')\n",
    "    \n",
    "# plot\n",
    "plt.figure(figsize=(18,6))\n",
    "plt.subplot(1, 3, 1)\n",
    "plot_prior_density(m_prior, S_prior)\n",
    "plt.title('Prior')\n",
    "\n",
    "plt.subplot(1, 3, 2)\n",
    "plot_likelihood(x_data, y_data)\n",
    "plt.title('Likelihood')\n",
    "\n",
    "plt.subplot(1, 3, 3)\n",
    "plot_posterior_density(x_data, y_data, m_prior, S_prior)\n",
    "plt.title('Posterior');"
   ]
  },
  {
   "cell_type": "markdown",
   "metadata": {
    "deletable": false,
    "editable": false,
    "nbgrader": {
     "cell_type": "markdown",
     "checksum": "ac58df169a33c75cefe9e1054e7f87a7",
     "grade": false,
     "grade_id": "cell-10fd28f266abd8db",
     "locked": true,
     "schema_version": 3,
     "solution": false,
     "task": false
    }
   },
   "source": [
    "### Task 2: Analytical expression of the posterior distribution (2 points)\n",
    "\n",
    "**Task 2a**: If the prior is $p(\\mathbf{w}) \\sim \\mathcal{N}(\\mathbf{m}, \\mathbf{S})$, likelihood model is Gaussian with zero mean and $\\sigma^2$ variance, the data set is $(\\mathbf{X}, \\mathbf{y})$ then the posterior is written as $p(\\mathbf{w} \\mid \\mathbf{y}) \\sim \\mathcal{N}\\left(\\mathbf{w} \\mid \\mu, \\Sigma\\right)$.\n",
    "\n",
    "Derive the posterior and answer the question below."
   ]
  },
  {
   "cell_type": "markdown",
   "metadata": {
    "deletable": false,
    "editable": false,
    "nbgrader": {
     "cell_type": "markdown",
     "checksum": "671c89ed7b5e61ea00fff076f1918994",
     "grade": false,
     "grade_id": "cell-68a5438d514a02a0",
     "locked": true,
     "points": 0,
     "schema_version": 3,
     "solution": false,
     "task": true
    }
   },
   "source": [
    "#### **Write your derivation here**\n",
    "\n",
    "<sub>\n",
    "Hints:\n",
    "\n",
    "1. Use Bayes rule to obtain an expression for the posterior $p(\\mathbf{w}\\big|\\mathbf{y})$ in terms of the prior, likehood and marginal likelihood\n",
    "2. Take the logarithm on both sides and expand the right hand side\n",
    "3. Conclude that only a subset of the terms depends on $\\mathbf{w}$. Replace all terms independent of $\\mathbf{w}$ with a constant\n",
    "4. Argue that the posterior distribution must be Gaussian as the remaining terms on the right hand side is a quadratic function of $\\mathbf{w}$. \n",
    "5. Determine the posterior mean and covariance by 'completing the square' or by comparing the coefficients of the quadractic functions to the logarithm of a multivariate Guassian distribution with mean $\\mu$ and covariance $\\Sigma$.\n",
    "</sub>\n",
    "\n"
   ]
  },
  {
   "cell_type": "markdown",
   "metadata": {
    "deletable": false,
    "editable": false,
    "nbgrader": {
     "cell_type": "markdown",
     "checksum": "de1aeab5315a084281f923d56382ae2e",
     "grade": false,
     "grade_id": "cell-06376ef4af531ee4",
     "locked": true,
     "schema_version": 3,
     "solution": false,
     "task": false
    }
   },
   "source": [
    "##### What is the correct value of $\\mu$ and $\\Sigma$?\n",
    "\n",
    "**1)** $\\Sigma = \\left(\\frac{1}{\\sigma^2}\\mathbf{X}^\\top\\mathbf{X} + \\mathbf{S}^{-1}\\right)$ and $\\mu = \\Sigma\\left(\\frac{1}{\\sigma^2}\\mathbf{X}^\\top\\mathbf{y} + \\mathbf{S}^{-1}\\mathbf{m}\\right)$\n",
    "\n",
    "**2)** $\\Sigma = \\left(\\frac{1}{\\sigma^2}\\mathbf{X}^\\top\\mathbf{X} + \\mathbf{S}^{-1}\\right)^{-1}$ and $\\mu = \\left(\\frac{1}{\\sigma^2}\\mathbf{X}^\\top\\mathbf{y} + \\mathbf{S}^{-1}\\mathbf{m}\\right)$\n",
    "\n",
    "**3)** $\\Sigma = \\left(\\frac{1}{\\sigma^2}\\mathbf{X}^\\top\\mathbf{X} + \\mathbf{S}^{-1}\\right)^{-1}$ and $\\mu = \\Sigma\\left(\\frac{1}{\\sigma^2}\\mathbf{X}^\\top\\mathbf{y} + \\mathbf{S}^{-1}\\mathbf{m}\\right)$\n",
    "\n",
    "**4)** $\\Sigma = \\left(\\frac{1}{\\sigma^2}\\mathbf{X}^\\top\\mathbf{X} + \\mathbf{S}\\right)^{-1}$ and $\\mu = \\Sigma\\left(\\frac{1}{\\sigma^2}\\mathbf{X}^\\top\\mathbf{y} + \\mathbf{S}\\mathbf{m}\\right)$"
   ]
  },
  {
   "cell_type": "code",
   "execution_count": null,
   "metadata": {},
   "outputs": [],
   "source": [
    "a_2a = None  # TASK: Replace None with your answer (1, 2, 3, 4)"
   ]
  },
  {
   "cell_type": "code",
   "execution_count": null,
   "metadata": {
    "deletable": false,
    "editable": false,
    "nbgrader": {
     "cell_type": "code",
     "checksum": "59bc64749a9383ac7578623f153be0ce",
     "grade": false,
     "grade_id": "cell-2b67c9d494ed03c3",
     "locked": true,
     "schema_version": 3,
     "solution": false,
     "task": false
    }
   },
   "outputs": [],
   "source": [
    "assert a_2a in [1, 2, 3, 4]"
   ]
  },
  {
   "cell_type": "markdown",
   "metadata": {
    "deletable": false,
    "editable": false,
    "nbgrader": {
     "cell_type": "markdown",
     "checksum": "1481290c02c91f6dec440c59f512b039",
     "grade": false,
     "grade_id": "cell-38ce19be0ee46484",
     "locked": true,
     "schema_version": 3,
     "solution": false,
     "task": false
    }
   },
   "source": [
    "### Do not move or delete the below block. It is used for automatic grading."
   ]
  },
  {
   "cell_type": "code",
   "execution_count": null,
   "metadata": {
    "deletable": false,
    "editable": false,
    "nbgrader": {
     "cell_type": "code",
     "checksum": "abddcfbc3e1819cc345061fd3b2fb6a1",
     "grade": true,
     "grade_id": "cell-5d70c196b356361d",
     "locked": true,
     "points": 0.5,
     "schema_version": 3,
     "solution": false,
     "task": false
    }
   },
   "outputs": [],
   "source": []
  },
  {
   "cell_type": "markdown",
   "metadata": {
    "deletable": false,
    "editable": false,
    "nbgrader": {
     "cell_type": "markdown",
     "checksum": "4784f26b271b5259067a6768b6ce828a",
     "grade": false,
     "grade_id": "cell-f9edf1845fc6f79e",
     "locked": true,
     "schema_version": 3,
     "solution": false,
     "task": false
    }
   },
   "source": [
    "**Task 2b**: Complete the implementation of the function for computing the analytical posterior distribution given below.\n",
    "\n",
    "*Hint:* The function <tt>design_matrix</tt> maps from a vectors of input $\\mathbf{x}$ to the design matrix $\\mathbf{X}$."
   ]
  },
  {
   "cell_type": "code",
   "execution_count": null,
   "metadata": {
    "deletable": false,
    "nbgrader": {
     "cell_type": "code",
     "checksum": "400fb21cb0a25a7da05d79064a09da22",
     "grade": false,
     "grade_id": "cell-067037f56640685d",
     "locked": false,
     "schema_version": 3,
     "solution": true,
     "task": false
    }
   },
   "outputs": [],
   "source": [
    "def design_matrix(x):\n",
    "    \"\"\" returns the design matrix for a vector of input values x \n",
    "    \n",
    "    Arguments:\n",
    "    x    -- (Nx1) vector of inputs\n",
    "    \n",
    "    Returns:\n",
    "    (Nx2) design matrix\n",
    "    \n",
    "    \"\"\"\n",
    "    X = np.column_stack((x, np.ones(len(x))))\n",
    "    return X\n",
    "\n",
    "def compute_posterior(x, y, m, S, sigma2):\n",
    "    \"\"\" return the posterior mean and covariance of w given (x,y) \n",
    "    and hyperparameters m, S and sigma2\n",
    "    \n",
    "    Arguments:\n",
    "    x      -- (Nx1) vector of inputs\n",
    "    y      -- (Nx1) vector of responses\n",
    "    m      -- (Dx1) prior mean\n",
    "    S      -- (DxD) prior covariance\n",
    "    sigma2 -- (scalar) noise variance\n",
    "    \n",
    "    Returns:\n",
    "    mu     -- (Dx1) posterior mean\n",
    "    Sigma  -- (DxD) posterior covariance\n",
    "    \n",
    "    \"\"\"\n",
    "    \n",
    "    X = design_matrix(x)\n",
    "    \n",
    "    # YOUR CODE HERE\n",
    "    raise NotImplementedError()\n",
    "    \n",
    "    return mu, Sigma"
   ]
  },
  {
   "cell_type": "markdown",
   "metadata": {
    "deletable": false,
    "editable": false,
    "nbgrader": {
     "cell_type": "markdown",
     "checksum": "e88ff01fd01f27e8772af592d172fc38",
     "grade": false,
     "grade_id": "cell-dc8e48b08e1db4b1",
     "locked": true,
     "schema_version": 3,
     "solution": false,
     "task": false
    }
   },
   "source": [
    "#### Let's test the above function"
   ]
  },
  {
   "cell_type": "code",
   "execution_count": null,
   "metadata": {
    "deletable": false,
    "editable": false,
    "nbgrader": {
     "cell_type": "code",
     "checksum": "30318c7c16d9f26f705b48df118600ff",
     "grade": false,
     "grade_id": "cell-45c0717d2d2f9a50",
     "locked": true,
     "schema_version": 3,
     "solution": false,
     "task": false
    }
   },
   "outputs": [],
   "source": [
    "x_test = np.array([3.06, -0.59]).reshape((2, 1))\n",
    "y_test = np.array([3.35, 5.75]).reshape((2, 1))\n",
    "m_prior_test = np.array([-0.47, -0.85]).reshape((2, 1))\n",
    "S_prior_test = np.diag([4.86, 2.64])\n",
    "\n",
    "expected_val_mu = np.array([-0.114923, 3.169421]).reshape((2, 1))\n",
    "expected_val_S =  np.array([[0.252819, -0.226453], [-0.226453, 0.928112]]).reshape((2, 2))\n",
    "\n",
    "val_mu, val_S = compute_posterior(x_test, y_test, m_prior_test, S_prior_test, sigma2)\n",
    "\n",
    "np.testing.assert_array_almost_equal(val_mu, expected_val_mu)\n",
    "np.testing.assert_array_almost_equal(val_S, expected_val_S)"
   ]
  },
  {
   "cell_type": "markdown",
   "metadata": {
    "deletable": false,
    "editable": false,
    "nbgrader": {
     "cell_type": "markdown",
     "checksum": "4d9cd0c011982b45c834c38ce5066370",
     "grade": false,
     "grade_id": "cell-f48abd172bdfe0cf",
     "locked": true,
     "schema_version": 3,
     "solution": false,
     "task": false
    }
   },
   "source": [
    "### Do not move or delete the below block. It is used for automatic grading."
   ]
  },
  {
   "cell_type": "code",
   "execution_count": null,
   "metadata": {
    "deletable": false,
    "editable": false,
    "nbgrader": {
     "cell_type": "code",
     "checksum": "de99bac8465c18e96f51baa7f2eaf631",
     "grade": true,
     "grade_id": "cell-56bddff74287eae3",
     "locked": true,
     "points": 1,
     "schema_version": 3,
     "solution": false,
     "task": false
    }
   },
   "outputs": [],
   "source": []
  },
  {
   "cell_type": "markdown",
   "metadata": {
    "deletable": false,
    "editable": false,
    "nbgrader": {
     "cell_type": "markdown",
     "checksum": "e21853c9ad7e9a4c74f077813df28164",
     "grade": false,
     "grade_id": "cell-e45fec122ff558d3",
     "locked": true,
     "schema_version": 3,
     "solution": false,
     "task": false
    }
   },
   "source": [
    "**Task 2c**: Using the function above, compute the posterior mean and covariance for the data set $(\\mathbf{x\\_data}, \\mathbf{y\\_data})$. Plot the resulting density and check that it matches the posterior distribution from task 1d."
   ]
  },
  {
   "cell_type": "code",
   "execution_count": null,
   "metadata": {
    "deletable": false,
    "nbgrader": {
     "cell_type": "code",
     "checksum": "3874413647e1fd2b506ee8a841d8cdd9",
     "grade": false,
     "grade_id": "cell-4e6b41b52f0cec6e",
     "locked": false,
     "schema_version": 3,
     "solution": true,
     "task": false
    }
   },
   "outputs": [],
   "source": [
    "a = np.linspace(-3, 3, 100)\n",
    "b = np.linspace(-3, 3, 100)\n",
    "A, B = np.meshgrid(a, b)\n",
    "AB = np.column_stack((A.ravel(), B.ravel()))\n",
    "\n",
    "mu, Sigma = compute_posterior(x_data, y_data, m_prior, S_prior, sigma2)\n",
    "log_posterior_vals = None  # TASK: Populate this with the log PDF values for the grid. It should be a numpy array.\n",
    "\n",
    "# YOUR CODE HERE\n",
    "raise NotImplementedError()\n"
   ]
  },
  {
   "cell_type": "code",
   "execution_count": null,
   "metadata": {
    "deletable": false,
    "editable": false,
    "nbgrader": {
     "cell_type": "code",
     "checksum": "5ddc208f5b281ae05c53acf571ec57da",
     "grade": false,
     "grade_id": "cell-5335b8d8d21928b4",
     "locked": true,
     "schema_version": 3,
     "solution": false,
     "task": false
    }
   },
   "outputs": [],
   "source": [
    "assert isinstance(log_posterior_vals, np.ndarray)\n",
    "assert log_posterior_vals.shape == (100, 100)\n",
    "\n",
    "plt.figure(figsize=(15, 6))\n",
    "\n",
    "plt.subplot(1, 2, 1)\n",
    "plt.contour(a, b, log_to_density(log_posterior_vals), 10)\n",
    "plt.title('Analytical posterior density')\n",
    "plt.colorbar()\n",
    "plt.xlabel('slope')\n",
    "plt.ylabel('intercept');\n",
    "\n",
    "plt.subplot(1, 2, 2)\n",
    "plot_posterior_density(x_data, y_data, m_prior, S_prior)\n",
    "plt.title('Numerical posterior density')\n",
    "plt.colorbar()\n",
    "plt.xlabel('slope')\n",
    "plt.ylabel('intercept');"
   ]
  },
  {
   "cell_type": "markdown",
   "metadata": {
    "deletable": false,
    "editable": false,
    "nbgrader": {
     "cell_type": "markdown",
     "checksum": "b73ff9f1a80a99d7e7b1069fde47e1fc",
     "grade": false,
     "grade_id": "cell-40ccc37454578afd",
     "locked": true,
     "schema_version": 3,
     "solution": false,
     "task": false
    }
   },
   "source": [
    "### Do not move or delete the below block. It is used for automatic grading."
   ]
  },
  {
   "cell_type": "code",
   "execution_count": null,
   "metadata": {
    "deletable": false,
    "editable": false,
    "nbgrader": {
     "cell_type": "code",
     "checksum": "81621429c1c0501e2e9ffb17c7d5002a",
     "grade": true,
     "grade_id": "cell-40142853466216b9",
     "locked": true,
     "points": 0.5,
     "schema_version": 3,
     "solution": false,
     "task": false
    }
   },
   "outputs": [],
   "source": []
  },
  {
   "cell_type": "markdown",
   "metadata": {
    "deletable": false,
    "editable": false,
    "nbgrader": {
     "cell_type": "markdown",
     "checksum": "b0923aa31c2a0c4aa13316dbdc200693",
     "grade": false,
     "grade_id": "cell-6ce182fc16a861b6",
     "locked": true,
     "schema_version": 3,
     "solution": false,
     "task": false
    }
   },
   "source": [
    "### Task 3: Combining all of the above (2 points)\n",
    "\n",
    "In this task, you will use all the functions you implemented above to perform compute the posterior distribution $p\\left(\\mathbf{w}|\\mathbf{y}\\right)$ for various sizes of $N$. The cell below analyses the data set using $N = \\left\\lbrace 1, 2, 10, 20 \\right\\rbrace$ data points, where the columns visualise (i) data and sample functions, (ii) the prior, (iii) the likelihood and (iv) posterior. \n",
    "\n",
    "**Task 3a**: The code below is 100% complete, and works without issues if you have implemented all previous functions/tasks. You should see 4 visualisations.\n"
   ]
  },
  {
   "cell_type": "code",
   "execution_count": null,
   "metadata": {
    "deletable": false,
    "editable": false,
    "nbgrader": {
     "cell_type": "code",
     "checksum": "9b5c5d20c373030d7ee3810da64727a3",
     "grade": false,
     "grade_id": "cell-ab1f66023be0f232",
     "locked": true,
     "schema_version": 3,
     "solution": false,
     "task": false
    }
   },
   "outputs": [],
   "source": [
    "def generate_mvn_samples(mu, Sigma, M):\n",
    "    \"\"\" return samples from a multivariate normal distribution N(mu, Sigma)\n",
    "\n",
    "    Arguments:\n",
    "    mu      -- (Dx1) mean vector\n",
    "    Sigma   -- (DxD) covariance matrix\n",
    "    M       -- (scalar) number of samples\n",
    "    \n",
    "    Returns:\n",
    "    (DxM) matrix, where each column corresponds to a sample\n",
    "    \"\"\"\n",
    "    \n",
    "    jitter = 1e-8\n",
    "    D = len(mu)\n",
    "    L = np.linalg.cholesky(Sigma + jitter*np.identity(D))\n",
    "    zs = np.random.normal(0, 1, size=(D, M))\n",
    "    fs = mu + np.dot(L, zs)\n",
    "    return fs\n",
    "\n",
    "def compute_f_posterior(x, mu, Sigma):\n",
    "    \"\"\" compute the posterior distribution of f(x) wrt. posterior distribution N(mu, Sigma) \n",
    "    \n",
    "    Arguments:\n",
    "    x      -- (Nx1) vector of inputs\n",
    "    mu     -- (2x1) mean vector\n",
    "    Sigma  -- (2x2) covariance matrix\n",
    "    \n",
    "    Returns:\n",
    "    mu_f   -- (Nx1) vector of pointwise posterior means at x\n",
    "    var_f  -- (Nx1) vector of pointwise posterior variances at x\n",
    "    \n",
    "    \"\"\"\n",
    "    \n",
    "    X = np.column_stack((x, np.ones(len(x))))\n",
    "    mu_f = np.dot(X, mu)\n",
    "    var_f = np.diag(np.dot(np.dot(X, Sigma), X.T))[:, None]\n",
    "        \n",
    "    return mu_f, var_f\n",
    "\n",
    "\n",
    "np.random.seed(21340)\n",
    "\n",
    "# New data set with more data points\n",
    "N_2 = 20\n",
    "x_2 = np.array([1.764, 0.4, 0.979, 2.241, 1.868, -0.977,  0.95, -0.151, -0.103, 0.411, 0.144, 1.454, 0.761, 0.122,\n",
    "              0.444, 0.334, 1.494, -0.205,  0.313, -0.854])[:, None]\n",
    "y_2 = np.array([-0.464, 2.024, 3.191, 2.812, 6.512, -3.022, 1.99, 0.009, 2.513, 3.194, 0.935, 3.216, 0.386, -2.118,\n",
    "               0.674, 1.222, 4.481, 1.893, 0.422, -1.209])[:, None]\n",
    "\n",
    "xp = np.linspace(-3, 3, 50)[:, None]\n",
    "\n",
    "plt.figure(figsize=(20, 30))    \n",
    "for idx_n, n in enumerate([1, 2, 10, 20]):\n",
    "    \n",
    "    # compute posterior & generate samples\n",
    "    mu, Sigma = compute_posterior(x_2[:n, :], y_2[:n, :], m_prior, S_prior, sigma2)\n",
    "    ahat, bhat = generate_mvn_samples(mu, Sigma, M=30)\n",
    "  \n",
    "    # plot\n",
    "    plt.subplot2grid((5, 4), (idx_n, 0))\n",
    "    plt.plot(x_2[:n, :], y_2[:n, :], 'k.', markersize=12)\n",
    "    plt.ylabel('N = %d' % n, fontweight='bold')    \n",
    "    for (ai, bi) in zip(ahat, bhat):\n",
    "        plt.plot(xp, predict(xp, ai, bi), 'b-', alpha=0.25)\n",
    "        \n",
    "    mu_f, var_f = compute_f_posterior(xp, mu, Sigma)\n",
    "    std_f = np.sqrt(var_f)\n",
    "\n",
    "    plt.plot(xp, mu_f, 'r')\n",
    "    plt.plot(xp, mu_f + 2*std_f, 'r--')\n",
    "    plt.plot(xp, mu_f - 2*std_f, 'r--')\n",
    "    \n",
    "    if idx_n == 0:\n",
    "        plt.title('Data points', fontweight='bold')\n",
    "        \n",
    "    plt.subplot2grid((5, 4), (idx_n, 1))\n",
    "    plot_prior_density(m_prior, S_prior)\n",
    "    \n",
    "    if idx_n == 0:\n",
    "        plt.title('Prior', fontweight='bold')\n",
    "\n",
    "    plt.subplot2grid((5, 4), (idx_n, 2))\n",
    "    plot_likelihood(x_2[:n, :], y_2[:n, :])\n",
    "       \n",
    "    if idx_n == 0:\n",
    "        plt.title('Likelihood', fontweight='bold')\n",
    "    \n",
    "    plt.subplot2grid((5, 4), (idx_n, 3))\n",
    "    plot_posterior_density(x_2[:n, :], y_2[:n, :], m_prior, S_prior)\n",
    "    plt.plot(ahat, bhat, 'b.', markersize=10)\n",
    "    \n",
    "    if idx_n == 0:\n",
    "        plt.title('Posterior', fontweight='bold')\n"
   ]
  },
  {
   "cell_type": "markdown",
   "metadata": {
    "deletable": false,
    "editable": false,
    "nbgrader": {
     "cell_type": "markdown",
     "checksum": "3410551fa878232de37bf30375734832",
     "grade": false,
     "grade_id": "cell-140703f92cfc2260",
     "locked": true,
     "schema_version": 3,
     "solution": false,
     "task": false
    }
   },
   "source": [
    "**Task 3b**: Study the code and plots above and answer the below questions: "
   ]
  },
  {
   "cell_type": "markdown",
   "metadata": {
    "deletable": false,
    "editable": false,
    "nbgrader": {
     "cell_type": "markdown",
     "checksum": "5091cd058717e73667a447547f6d700f",
     "grade": false,
     "grade_id": "cell-6423e083f675291a",
     "locked": true,
     "schema_version": 3,
     "solution": false,
     "task": false
    }
   },
   "source": [
    "**Q3.1:** Is there a relation between the blue lines in the first column and the blue dots in the fourth column?"
   ]
  },
  {
   "cell_type": "code",
   "execution_count": null,
   "metadata": {},
   "outputs": [],
   "source": [
    "a3_1 = None  # TASK: Replace None with True or False answer."
   ]
  },
  {
   "cell_type": "markdown",
   "metadata": {
    "deletable": false,
    "editable": false,
    "nbgrader": {
     "cell_type": "markdown",
     "checksum": "11fef00f3eb7d099bbcc05f563e130dd",
     "grade": false,
     "grade_id": "cell-57f34a07d4bcc412",
     "locked": true,
     "schema_version": 3,
     "solution": false,
     "task": false
    }
   },
   "source": [
    "**Q3.2:** As the number of data points increase, the effect of prior on the posterior increases?"
   ]
  },
  {
   "cell_type": "code",
   "execution_count": null,
   "metadata": {},
   "outputs": [],
   "source": [
    "a3_2 = None  # TASK: Replace None with True or False answer."
   ]
  },
  {
   "cell_type": "markdown",
   "metadata": {
    "deletable": false,
    "editable": false,
    "nbgrader": {
     "cell_type": "markdown",
     "checksum": "43efac03d9f7059dd08c0f66c187b144",
     "grade": false,
     "grade_id": "cell-baf921e6f8a6fc42",
     "locked": true,
     "schema_version": 3,
     "solution": false,
     "task": false
    }
   },
   "source": [
    "**Q3.3:** As the number of data points increase, the effect of likelihood in the posterior increases?"
   ]
  },
  {
   "cell_type": "code",
   "execution_count": null,
   "metadata": {},
   "outputs": [],
   "source": [
    "a3_3 = None  # TASK: Replace None with True or False answer."
   ]
  },
  {
   "cell_type": "markdown",
   "metadata": {
    "deletable": false,
    "editable": false,
    "nbgrader": {
     "cell_type": "markdown",
     "checksum": "6d02af994b1c6d5330885bded316360d",
     "grade": false,
     "grade_id": "cell-c70d5db83e467de7",
     "locked": true,
     "schema_version": 3,
     "solution": false,
     "task": false
    }
   },
   "source": [
    "**Q3.4** The number of data points have no effect on the prior."
   ]
  },
  {
   "cell_type": "code",
   "execution_count": null,
   "metadata": {},
   "outputs": [],
   "source": [
    "a3_4 = None  # TASK: Replace None with True or False answer."
   ]
  },
  {
   "cell_type": "code",
   "execution_count": null,
   "metadata": {
    "deletable": false,
    "editable": false,
    "nbgrader": {
     "cell_type": "code",
     "checksum": "e34e612eda8402500eec20c8ad66c918",
     "grade": false,
     "grade_id": "cell-efcfba8d60e99c61",
     "locked": true,
     "schema_version": 3,
     "solution": false,
     "task": false
    }
   },
   "outputs": [],
   "source": [
    "assert isinstance(a3_1, bool)\n",
    "assert isinstance(a3_2, bool)\n",
    "assert isinstance(a3_3, bool)\n",
    "assert isinstance(a3_4, bool)"
   ]
  },
  {
   "cell_type": "markdown",
   "metadata": {
    "deletable": false,
    "editable": false,
    "nbgrader": {
     "cell_type": "markdown",
     "checksum": "1e1a5bd787feea9d92e347650bf668d0",
     "grade": false,
     "grade_id": "cell-e364de19b9b0b5b6",
     "locked": true,
     "schema_version": 3,
     "solution": false,
     "task": false
    }
   },
   "source": [
    "### Do not move or delete the below blocks. It is used for automatic grading."
   ]
  },
  {
   "cell_type": "code",
   "execution_count": null,
   "metadata": {
    "deletable": false,
    "editable": false,
    "nbgrader": {
     "cell_type": "code",
     "checksum": "52271dcb1b122d7c5c3448bae7a2223b",
     "grade": true,
     "grade_id": "cell-d33af0babee65af4",
     "locked": true,
     "points": 0.5,
     "schema_version": 3,
     "solution": false,
     "task": false
    }
   },
   "outputs": [],
   "source": []
  },
  {
   "cell_type": "code",
   "execution_count": null,
   "metadata": {
    "deletable": false,
    "editable": false,
    "nbgrader": {
     "cell_type": "code",
     "checksum": "aece4c48bf59238e696a209cc51e8624",
     "grade": true,
     "grade_id": "cell-61dc5f6e58c9b910",
     "locked": true,
     "points": 0.5,
     "schema_version": 3,
     "solution": false,
     "task": false
    }
   },
   "outputs": [],
   "source": []
  },
  {
   "cell_type": "code",
   "execution_count": null,
   "metadata": {
    "deletable": false,
    "editable": false,
    "nbgrader": {
     "cell_type": "code",
     "checksum": "05d3900aab2b9b1a5a842ff728284153",
     "grade": true,
     "grade_id": "cell-e9f2866950fdd6f2",
     "locked": true,
     "points": 0.5,
     "schema_version": 3,
     "solution": false,
     "task": false
    }
   },
   "outputs": [],
   "source": []
  },
  {
   "cell_type": "code",
   "execution_count": null,
   "metadata": {
    "deletable": false,
    "editable": false,
    "nbgrader": {
     "cell_type": "code",
     "checksum": "818a030e83490f9473da4d6aecb46c16",
     "grade": true,
     "grade_id": "cell-f3816256f7deece0",
     "locked": true,
     "points": 0.5,
     "schema_version": 3,
     "solution": false,
     "task": false
    }
   },
   "outputs": [],
   "source": []
  },
  {
   "cell_type": "markdown",
   "metadata": {
    "deletable": false,
    "editable": false,
    "nbgrader": {
     "cell_type": "markdown",
     "checksum": "03913aa19a94db7a89c8d5f3bac2cd5d",
     "grade": false,
     "grade_id": "cell-2ac38e9501be38cf",
     "locked": true,
     "schema_version": 3,
     "solution": false,
     "task": false
    }
   },
   "source": [
    "### Task 4: After answering all the questions, kindly use the validate option in the toolbar to validate the notebook and be sure that there are no errors."
   ]
  }
 ],
 "metadata": {
  "kernelspec": {
   "display_name": "Python 3",
   "language": "python",
   "name": "python3"
  },
  "language_info": {
   "codemirror_mode": {
    "name": "ipython",
    "version": 3
   },
   "file_extension": ".py",
   "mimetype": "text/x-python",
   "name": "python",
   "nbconvert_exporter": "python",
   "pygments_lexer": "ipython3",
   "version": "3.10.12"
  }
 },
 "nbformat": 4,
 "nbformat_minor": 4
}
