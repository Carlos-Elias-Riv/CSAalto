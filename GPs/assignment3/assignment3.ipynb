{
 "cells": [
  {
   "cell_type": "markdown",
   "id": "cf278d1f",
   "metadata": {
    "deletable": false,
    "editable": false,
    "id": "2U5gjTQc669x",
    "nbgrader": {
     "cell_type": "markdown",
     "checksum": "425ca8ca35145c103877b783fab0a958",
     "grade": false,
     "grade_id": "cell-a4c3a0e280505827",
     "locked": true,
     "schema_version": 3,
     "solution": false,
     "task": false
    }
   },
   "source": [
    "# CS-E4895: Gaussian Processes\n",
    "\n",
    "## Assignment #3: Marginal likelihood, Model Selection, and Kernel Ridge Regression.\n",
    "\n",
    "### Learning objectives\n",
    "\n",
    "After completing the exercise, you should be able to:\n",
    "- implement and use marginal likelihood for model selection.\n",
    "- implement and use mean log posterior predictive density (MLPPD) for model selection.\n",
    "- implement periodic kernel and study its properties.\n",
    "- implement kernel ridge regression objective, and compare numerical vs analytical solution.\n"
   ]
  },
  {
   "cell_type": "markdown",
   "id": "87f0d4fd-493f-4704-b057-36130eec68cd",
   "metadata": {},
   "source": [
    "## Enter your student number\n",
    "\n",
    "**STUDENT_NUMBER** = XXX"
   ]
  },
  {
   "cell_type": "markdown",
   "id": "34780d11-66fb-47ed-b370-ee007e7a3cbc",
   "metadata": {
    "deletable": false,
    "editable": false,
    "nbgrader": {
     "cell_type": "markdown",
     "checksum": "269a3a76e0f79e350dbfac9062a0db52",
     "grade": false,
     "grade_id": "cell-9b2437dd3f9f3313",
     "locked": true,
     "schema_version": 3,
     "solution": false,
     "task": false
    }
   },
   "source": [
    "## Warnings:\n",
    "\n",
    "- Don’t copy and paste cells within a notebook. This will mess up the tracking metadata and prevent autograding from working.\n",
    "- Only add new cells using the '+' button in the upper toolbar and do not split cells.\n",
    "- Be cautious about things such as copying the whole notebook to Colab to work on it. This has sometimes resulted in removing all notebook metadata, making autograding impossible."
   ]
  },
  {
   "cell_type": "code",
   "execution_count": 1,
   "id": "2029697e-ad33-4e08-b742-f2dbad6a7028",
   "metadata": {
    "deletable": false,
    "editable": false,
    "nbgrader": {
     "cell_type": "code",
     "checksum": "19b1a93dbeb83797e312cc5cf08bebbe",
     "grade": false,
     "grade_id": "cell-ac62eb14e46c39e4",
     "locked": true,
     "schema_version": 3,
     "solution": false,
     "task": false
    },
    "tags": []
   },
   "outputs": [],
   "source": [
    "%matplotlib inline\n",
    "import os\n",
    "import numpy as np\n",
    "import matplotlib.pyplot as plt\n",
    "import seaborn as snb\n",
    "from scipy.optimize import minimize\n",
    "snb.set(font_scale=1.5)\n",
    "\n",
    "import IPython\n",
    "assert IPython.version_info[0] >= 3, \"Your version of IPython is too old, please update it.\""
   ]
  },
  {
   "cell_type": "code",
   "execution_count": 2,
   "id": "13c2b615-f28f-4916-bb28-950fe7a2504f",
   "metadata": {
    "tags": []
   },
   "outputs": [],
   "source": [
    "automatic_grading = False  # Set this to True after completing the notebook and before submitting."
   ]
  },
  {
   "cell_type": "markdown",
   "id": "d85543aa-086b-4850-9f22-ec2057874089",
   "metadata": {
    "deletable": false,
    "editable": false,
    "nbgrader": {
     "cell_type": "markdown",
     "checksum": "a6f095d8a938675082609c29ad582adc",
     "grade": false,
     "grade_id": "cell-32b267ffbf52f37a",
     "locked": true,
     "schema_version": 3,
     "solution": false,
     "task": false
    }
   },
   "source": [
    "### Do not move or delete the below block. It is used for automatic grading."
   ]
  },
  {
   "cell_type": "code",
   "execution_count": null,
   "id": "b1651432-2a00-4704-b573-1a247d3b41d5",
   "metadata": {
    "deletable": false,
    "editable": false,
    "nbgrader": {
     "cell_type": "code",
     "checksum": "caf46ab5a04e17dd2b7667ed52992041",
     "grade": true,
     "grade_id": "cell-b844946fac90bdea",
     "locked": true,
     "points": 0,
     "schema_version": 3,
     "solution": false,
     "task": false
    }
   },
   "outputs": [],
   "source": []
  },
  {
   "cell_type": "markdown",
   "id": "1cca2580-bbb9-4cb9-83f9-e8238d3bb9b1",
   "metadata": {
    "deletable": false,
    "editable": false,
    "nbgrader": {
     "cell_type": "markdown",
     "checksum": "05dfcfe3a77c938cc3464f305a8e1cce",
     "grade": false,
     "grade_id": "cell-c7a36eb6c3716825",
     "locked": true,
     "schema_version": 3,
     "solution": false,
     "task": false
    }
   },
   "source": [
    "### Task 1: The marginal likelihood (3 points)\n",
    "\n",
    "The purpose of this task is to study the marginal likelihood $p(\\mathbf{y})$ and see how it can be useful for model selection. \n",
    "\n",
    "The marginal likelihood for a zero-mean Gaussian process model with Gaussian likelihood is given by\n",
    "\n",
    "\\begin{align}\n",
    "    p(\\mathbf{y} \\mid \\theta) = \\mathcal{N}\\left(\\bf{y} \\mid \\bf{0}, \\bf{K} + \\sigma^2 \\bf{I}\\right)\n",
    "\\end{align}\n",
    "\n",
    "where $\\theta$ are the set of hyperparameters, *e.g.* the alpha and scale parameters.\n",
    "\n",
    "First, we will load some data that will be useful for evaluating the model.\n"
   ]
  },
  {
   "cell_type": "code",
   "execution_count": null,
   "id": "090839c8-a760-428d-bd4f-82fb9a69c8d2",
   "metadata": {
    "deletable": false,
    "editable": false,
    "nbgrader": {
     "cell_type": "code",
     "checksum": "2726c9886668421a33afb4f48faf09f0",
     "grade": false,
     "grade_id": "cell-5cf5ed943d5eb7c0",
     "locked": true,
     "schema_version": 3,
     "solution": false,
     "task": false
    }
   },
   "outputs": [],
   "source": [
    "# load data\n",
    "data = np.load('assignment3_data.npz')\n",
    "N, X, y = data['N'], data['X'], data['y']\n",
    "Nval, Xval, yval = data['Nval'], data['Xval'], data['yval']\n",
    "\n",
    "plt.plot(X, y, 'k.', markersize=12, label='Training data')\n",
    "plt.plot(Xval, yval, 'c.', label='Validation data', markersize=12)\n",
    "plt.grid(True)\n",
    "plt.xlim((-4, 4))\n",
    "plt.ylim((-3, 6))\n",
    "plt.xlabel('$x$')\n",
    "plt.ylabel('$y$')\n",
    "plt.legend()\n",
    "plt.show()"
   ]
  },
  {
   "cell_type": "markdown",
   "id": "79d8d5f0-4c82-424a-a4ec-c520f1031b23",
   "metadata": {
    "deletable": false,
    "editable": false,
    "nbgrader": {
     "cell_type": "markdown",
     "checksum": "8275623e768fb42bf9976e1b2d384d4b",
     "grade": false,
     "grade_id": "cell-595ed0a62c1cab15",
     "locked": true,
     "schema_version": 3,
     "solution": false,
     "task": false
    }
   },
   "source": [
    "Implement the squared exponential kernel and posterior function below (**you can copy-paste it from Assignment #2 directly**)."
   ]
  },
  {
   "cell_type": "code",
   "execution_count": null,
   "id": "82efed05-3e4f-47cb-9f47-5acc445180c7",
   "metadata": {
    "deletable": false,
    "nbgrader": {
     "cell_type": "code",
     "checksum": "94e74c92c1986dbeed72fd39f6a87d3a",
     "grade": false,
     "grade_id": "cell-7e14c29c3607bd7b",
     "locked": false,
     "schema_version": 3,
     "solution": true,
     "task": false
    }
   },
   "outputs": [],
   "source": [
    "def create_se_kernel(X1, X2, alpha=1, scale=1):\n",
    "    \"\"\" returns the NxM kernel matrix between the two sets of input X1 and X2 \n",
    "    \n",
    "    arguments:\n",
    "    X1    -- NxD matrix\n",
    "    X2    -- MxD matrix\n",
    "    alpha -- scalar \n",
    "    scale -- scalar\n",
    "    \n",
    "    returns NxM matrix    \n",
    "    \"\"\"\n",
    "    \n",
    "    # YOUR CODE HERE\n",
    "    raise NotImplementedError()\n"
   ]
  },
  {
   "cell_type": "code",
   "execution_count": null,
   "id": "bd748cad-bb56-4cf8-9259-aa12f682e523",
   "metadata": {
    "deletable": false,
    "nbgrader": {
     "cell_type": "code",
     "checksum": "aff433b01177516eda1405d4ecf6b86a",
     "grade": false,
     "grade_id": "cell-eab9aadba6e3308e",
     "locked": false,
     "schema_version": 3,
     "solution": true,
     "task": false
    }
   },
   "outputs": [],
   "source": [
    "def posterior(Xp, X, y, alpha, scale, sigma2):\n",
    "    \"\"\" returns the posterior distribution of f evaluated at each of the points in Xp conditioned on (X, y)\n",
    "        using the squared exponential kernel.\n",
    "    \n",
    "    Arguments:\n",
    "    Xp    -- PxD prediction points\n",
    "    X     -- NxD input points\n",
    "    y     -- Nx1 observed values \n",
    "    alpha -- hyperparameter\n",
    "    scale -- hyperparameter\n",
    "    sigma2 -- noise variance\n",
    "    \n",
    "    returns Px1 mean vector and PxP covariance matrix\n",
    "    \"\"\"\n",
    "    \n",
    "    # YOUR CODE HERE\n",
    "    raise NotImplementedError()\n",
    "    \n",
    "    return mu, Sigma"
   ]
  },
  {
   "cell_type": "markdown",
   "id": "c8b67644-2792-4d49-ab0e-c3aee6b7670f",
   "metadata": {
    "deletable": false,
    "editable": false,
    "nbgrader": {
     "cell_type": "markdown",
     "checksum": "2a169213c0a0e654aa3e331d82076afe",
     "grade": false,
     "grade_id": "cell-e06a0e9c430ddb3d",
     "locked": true,
     "schema_version": 3,
     "solution": false,
     "task": false
    }
   },
   "source": [
    "**Task 1a:** Complete the implementation of the function <tt>predictive</tt> below. The predictive distribution of $(X_p, y_p)$ combines prediction function posterior (<tt>posterior</tt>) and the noise variance."
   ]
  },
  {
   "cell_type": "code",
   "execution_count": null,
   "id": "d16edae6-cf48-4253-937e-3a0e22b8330b",
   "metadata": {
    "deletable": false,
    "nbgrader": {
     "cell_type": "code",
     "checksum": "13a930a6313d0342da3a1576d0925e88",
     "grade": false,
     "grade_id": "cell-91427a84b8004f8c",
     "locked": false,
     "schema_version": 3,
     "solution": true,
     "task": false
    }
   },
   "outputs": [],
   "source": [
    "def predictive(Xp, X, y, alpha, scale, sigma2):\n",
    "    \"\"\" returns the predictive distribution of yp evaluated at each of the points in Xp conditioned on (X, y)\n",
    "    \n",
    "    Arguments:\n",
    "    Xp    -- PxD prediction points\n",
    "    X     -- NxD input points\n",
    "    y     -- Nx1 observed values \n",
    "    alpha -- hyperparameter\n",
    "    scale -- hyperparameter\n",
    "    sigma2 -- noise variance\n",
    "    \n",
    "    returns Px1 mean vector and PxP covariance matrix\n",
    "    \"\"\"\n",
    "    # YOUR CODE HERE\n",
    "    raise NotImplementedError()\n"
   ]
  },
  {
   "cell_type": "markdown",
   "id": "49955f23-500a-42fa-8176-c9ae897b8a7f",
   "metadata": {
    "deletable": false,
    "editable": false,
    "nbgrader": {
     "cell_type": "markdown",
     "checksum": "4cca6f880b53c77f13156abc1e8dfc5f",
     "grade": false,
     "grade_id": "cell-7c788aa11fa2c47a",
     "locked": true,
     "schema_version": 3,
     "solution": false,
     "task": false
    }
   },
   "source": [
    "#### Let's test the above function"
   ]
  },
  {
   "cell_type": "code",
   "execution_count": null,
   "id": "dc2126ec-7f5c-4e8b-86b7-6ba21b3612ac",
   "metadata": {
    "deletable": false,
    "editable": false,
    "nbgrader": {
     "cell_type": "code",
     "checksum": "85693d8c69ff33c0e6d1fec2dc2e590a",
     "grade": false,
     "grade_id": "cell-fd6bdd65a9ed2775",
     "locked": true,
     "schema_version": 3,
     "solution": false,
     "task": false
    }
   },
   "outputs": [],
   "source": [
    "Xp_test = np.linspace(-1, 1, 2)[:, None]\n",
    "X_test = np.array([0.09, 0.40]).reshape((-1, 1))\n",
    "y_test = np.array([0.59, 0.60]).reshape((-1, 1))\n",
    "\n",
    "expected_m = np.array([[0.40882346], [0.46350769]])\n",
    "expected_S = np.array([[ 0.41300352, -0.01397061], [-0.01397061,  0.33694137]])\n",
    "\n",
    "m, S = predictive(Xp_test, X_test, y_test, 0.5, 2, 0.2)\n",
    "\n",
    "assert m.shape == expected_m.shape\n",
    "assert S.shape == expected_S.shape\n",
    "assert np.allclose(m.reshape(-1), expected_m.reshape(-1))\n",
    "assert np.allclose(S.reshape(-1), expected_S.reshape(-1))\n"
   ]
  },
  {
   "cell_type": "markdown",
   "id": "2271ea11-1aa4-4a10-afb8-3e4953237ce8",
   "metadata": {
    "deletable": false,
    "editable": false,
    "nbgrader": {
     "cell_type": "markdown",
     "checksum": "75307fd5b084ad2f89bfd87e3cdaeabb",
     "grade": false,
     "grade_id": "cell-e8269e758779b9f4",
     "locked": true,
     "schema_version": 3,
     "solution": false,
     "task": false
    }
   },
   "source": [
    "### Do not move or delete the below block. It is used for automatic grading."
   ]
  },
  {
   "cell_type": "code",
   "execution_count": null,
   "id": "564104eb-d80d-4307-a35b-f04d71f01603",
   "metadata": {
    "deletable": false,
    "editable": false,
    "nbgrader": {
     "cell_type": "code",
     "checksum": "bb2951a72d16578b1fc73511065c92e7",
     "grade": true,
     "grade_id": "cell-4ddca786ec1e82dc",
     "locked": true,
     "points": 0.5,
     "schema_version": 3,
     "solution": false,
     "task": false
    }
   },
   "outputs": [],
   "source": []
  },
  {
   "cell_type": "markdown",
   "id": "6a8bf42b-faab-4e1f-a39c-96a151340550",
   "metadata": {
    "deletable": false,
    "editable": false,
    "nbgrader": {
     "cell_type": "markdown",
     "checksum": "d5a3707ee53b32575ac2cabfdec735e9",
     "grade": false,
     "grade_id": "cell-341582b319390e90",
     "locked": true,
     "schema_version": 3,
     "solution": false,
     "task": false
    }
   },
   "source": [
    "**Task 1b**: Complete the implementation of the function <tt>MLPPD</tt> for computing the mean log posterior predictive density.\n"
   ]
  },
  {
   "cell_type": "code",
   "execution_count": null,
   "id": "b07cd567-01a0-4f72-81b7-c2bb7a6b2948",
   "metadata": {
    "deletable": false,
    "nbgrader": {
     "cell_type": "code",
     "checksum": "ebaaf21f0c415083c710eecd33755b40",
     "grade": false,
     "grade_id": "cell-08d8d0aa10f24f13",
     "locked": false,
     "schema_version": 3,
     "solution": true,
     "task": false
    }
   },
   "outputs": [],
   "source": [
    "def MLPPD(yval, mu, Sigma):\n",
    "    \"\"\" returns the mean log posterior predictive density for the data points (Xval, yval) wrt. predictive density N(mu, sigma)\n",
    "    \n",
    "    Arguments:\n",
    "    yval      -- px1 observed values \n",
    "    mu        -- Px1 mean of predictive distribution\n",
    "    Sigma     -- PxP covariance of predictive distribution\n",
    "\n",
    "    Returns\n",
    "        mlppd     -- (scalar) mean log posterior predictive density\n",
    "    \"\"\"\n",
    "    # YOUR CODE HERE\n",
    "    raise NotImplementedError()\n",
    "    \n",
    "    return mlppd\n"
   ]
  },
  {
   "cell_type": "markdown",
   "id": "272e90d7-1423-4ba1-af66-adbc3f05343d",
   "metadata": {
    "deletable": false,
    "editable": false,
    "nbgrader": {
     "cell_type": "markdown",
     "checksum": "7a9b04c31a1e9d7f4bd5540fac5457fe",
     "grade": false,
     "grade_id": "cell-821b4e3068c190a7",
     "locked": true,
     "schema_version": 3,
     "solution": false,
     "task": false
    }
   },
   "source": [
    "#### Let's test the above function"
   ]
  },
  {
   "cell_type": "code",
   "execution_count": null,
   "id": "bbcc98c6-0142-4fc7-ae1f-4d984d1c26e5",
   "metadata": {
    "deletable": false,
    "editable": false,
    "nbgrader": {
     "cell_type": "code",
     "checksum": "79b8cb966e3bf685662fa2b3c894f94b",
     "grade": false,
     "grade_id": "cell-bc2ab28ef4a3f85e",
     "locked": true,
     "schema_version": 3,
     "solution": false,
     "task": false
    }
   },
   "outputs": [],
   "source": [
    "Xp_test = np.linspace(-1, 1, 2)[:, None]\n",
    "X_test = np.array([0.09, 0.40]).reshape((-1, 1))\n",
    "y_test = np.array([0.59, 0.60]).reshape((-1, 1))\n",
    "\n",
    "expected_m = np.array([[0.40882346], [0.46350769]])\n",
    "expected_S = np.array([[ 0.41300352, -0.01397061], [-0.01397061,  0.33694137]])\n",
    "\n",
    "mlppd_val = MLPPD(y_test, expected_m, expected_S)\n",
    "\n",
    "assert isinstance(mlppd_val, float)\n",
    "assert np.allclose(mlppd_val, -0.9210686)"
   ]
  },
  {
   "cell_type": "markdown",
   "id": "42ec7586-a3a8-4306-a0e3-341c47ddc76c",
   "metadata": {
    "deletable": false,
    "editable": false,
    "nbgrader": {
     "cell_type": "markdown",
     "checksum": "b8460b8329d5b98ddf2f80966d208e8d",
     "grade": false,
     "grade_id": "cell-db614e8668d7b1f8",
     "locked": true,
     "schema_version": 3,
     "solution": false,
     "task": false
    }
   },
   "source": [
    "### Do not move or delete the below block. It is used for automatic grading."
   ]
  },
  {
   "cell_type": "code",
   "execution_count": null,
   "id": "b0d1f85e-3bf9-42be-a1c9-18bcd7a8d382",
   "metadata": {
    "deletable": false,
    "editable": false,
    "nbgrader": {
     "cell_type": "code",
     "checksum": "166d0b0b62c7968a9d82f5e142c0b880",
     "grade": true,
     "grade_id": "cell-92dd9f78dcbbc8e8",
     "locked": true,
     "points": 0.5,
     "schema_version": 3,
     "solution": false,
     "task": false
    }
   },
   "outputs": [],
   "source": []
  },
  {
   "cell_type": "markdown",
   "id": "20a4e3df-a7de-4b06-b10b-0adf82a612cd",
   "metadata": {
    "deletable": false,
    "editable": false,
    "nbgrader": {
     "cell_type": "markdown",
     "checksum": "da5e6d4418c5ce3dd6e9936eda13ff4c",
     "grade": false,
     "grade_id": "cell-813d6693c78cb181",
     "locked": true,
     "schema_version": 3,
     "solution": false,
     "task": false
    }
   },
   "source": [
    "**Task 1c**: Complete the implementation of the function <tt>log_marginal_likelihood</tt>  given below."
   ]
  },
  {
   "cell_type": "code",
   "execution_count": null,
   "id": "75ec81ad-2642-4ff8-b4c3-8051fb14b336",
   "metadata": {
    "deletable": false,
    "nbgrader": {
     "cell_type": "code",
     "checksum": "45765067340ee045e78be5d19250aeaf",
     "grade": false,
     "grade_id": "cell-387d3c7db000d74f",
     "locked": false,
     "schema_version": 3,
     "solution": true,
     "task": false
    }
   },
   "outputs": [],
   "source": [
    "def log_marginal_likelihood(X, y, alpha, scale, sigma2):\n",
    "    \"\"\" returns the log marginal likelihood for the data set (X, y) for the hyperparameters alpha, scale, sigma2\n",
    "        The function also returns the components of the log marginal likelihood:\n",
    "        \n",
    "        log_ml = const_term + det_term + quad_term\n",
    "    \n",
    "    Arguments:\n",
    "    X        -- N x D input points\n",
    "    y        -- N x 1 observed values \n",
    "    alpha    -- alpha parameter\n",
    "    scale    -- scale parameter\n",
    "    sigma2   -- noise variance\n",
    "\n",
    "    Returns:\n",
    "    log_ml   -- (scalar) log marginal likelihood ( = const + det + quad) with dtype float.\n",
    "    const    -- constant part of the log marginal likelihood with dtype float.\n",
    "    det      -- determinant part of the log marginal likelihood with dtype float.\n",
    "    quad     -- quadratic part of the log marginal likelihood with dtype float.\n",
    "    \n",
    "    \"\"\"\n",
    "    \n",
    "    # YOUR CODE HERE\n",
    "    raise NotImplementedError()\n",
    "    \n",
    "    return log_ml, const_term, det_term, quad_term\n",
    "\n"
   ]
  },
  {
   "cell_type": "markdown",
   "id": "ee8de613-df4e-45ed-b834-1d51558bbb21",
   "metadata": {
    "deletable": false,
    "editable": false,
    "nbgrader": {
     "cell_type": "markdown",
     "checksum": "a8d0c7640d514d32aaab82b7b1f01196",
     "grade": false,
     "grade_id": "cell-d9e8cdd80078b975",
     "locked": true,
     "schema_version": 3,
     "solution": false,
     "task": false
    }
   },
   "source": [
    "#### Let's test the above function"
   ]
  },
  {
   "cell_type": "code",
   "execution_count": null,
   "id": "3924e898-2849-47b9-a51d-056a62a2de9a",
   "metadata": {
    "deletable": false,
    "editable": false,
    "nbgrader": {
     "cell_type": "code",
     "checksum": "5a8254827c695693b59750d49e3762c3",
     "grade": false,
     "grade_id": "cell-6a39302ca6e37888",
     "locked": true,
     "schema_version": 3,
     "solution": false,
     "task": false
    }
   },
   "outputs": [],
   "source": [
    "Xp_test = np.linspace(-1, 1, 2)[:, None]\n",
    "X_test = np.array([0.09, 0.40]).reshape((-1, 1))\n",
    "y_test = np.array([0.59, 0.60]).reshape((-1, 1))\n",
    "\n",
    "log_ml, const_term, det_term, quad_term = log_marginal_likelihood(X_test, y_test, 0.5, 2, 0.2)\n",
    "\n",
    "assert isinstance(log_ml, float)\n",
    "assert isinstance(const_term, float)\n",
    "assert isinstance(det_term, float)\n",
    "assert isinstance(quad_term, float)\n",
    "\n",
    "assert np.allclose(log_ml, -1.433149)\n",
    "assert np.allclose(const_term, -1.837877)\n",
    "assert np.allclose(det_term, 0.7013446)\n",
    "assert np.allclose(quad_term, -0.296617)"
   ]
  },
  {
   "cell_type": "markdown",
   "id": "1e95607f-9283-4c56-a011-9b8653933c3c",
   "metadata": {
    "deletable": false,
    "editable": false,
    "nbgrader": {
     "cell_type": "markdown",
     "checksum": "131701da2637b0eb143f39ee8d145653",
     "grade": false,
     "grade_id": "cell-47d6205611dcc0b6",
     "locked": true,
     "schema_version": 3,
     "solution": false,
     "task": false
    }
   },
   "source": [
    "### Do not move or delete the below block. It is used for automatic grading."
   ]
  },
  {
   "cell_type": "code",
   "execution_count": null,
   "id": "dc16683a-3b31-40a9-b6f9-590b71d09007",
   "metadata": {
    "deletable": false,
    "editable": false,
    "nbgrader": {
     "cell_type": "code",
     "checksum": "a6e02dd12cbf30d0910d858584e5abb5",
     "grade": true,
     "grade_id": "cell-432b34d57d4365f4",
     "locked": true,
     "points": 0.5,
     "schema_version": 3,
     "solution": false,
     "task": false
    }
   },
   "outputs": [],
   "source": []
  },
  {
   "cell_type": "markdown",
   "id": "32f6cae0-15f0-4503-b9ed-9729b06edff7",
   "metadata": {
    "deletable": false,
    "editable": false,
    "nbgrader": {
     "cell_type": "markdown",
     "checksum": "0e58657f3b32fbd57997545bcb7b4913",
     "grade": false,
     "grade_id": "cell-28cb0cd8f357b3a6",
     "locked": true,
     "schema_version": 3,
     "solution": false,
     "task": false
    }
   },
   "source": [
    "**Task 1d**: Compute and plot the marginal likelihood as a function of the scale parameter in the interval $\\left[0.01, 100\\right]$ using the scales vector (<tt>scales</tt>) given below. In the same figure, you should plot the determinant and the quadratic part of the marginal likelihood. Note that the scale values are distributed equally in log space. Use $\\sigma^2 = 0.5$ and $\\alpha=1$. The scale axis should be logarithmic in the plot. Furthermore, locate the optimal value of the scale and plot the posterior distribution of $f(\\bf{X}_p)$ for the optimal value."
   ]
  },
  {
   "cell_type": "code",
   "execution_count": null,
   "id": "981d64cb-e71b-4cb0-b824-0f36b78ec961",
   "metadata": {
    "deletable": false,
    "editable": false,
    "nbgrader": {
     "cell_type": "code",
     "checksum": "be776d568ba2cc5d0aa9435e82361729",
     "grade": false,
     "grade_id": "cell-d552d62ffe78c006",
     "locked": true,
     "schema_version": 3,
     "solution": false,
     "task": false
    }
   },
   "outputs": [],
   "source": [
    "# NOTE: This block contains supporting functions used for plotting. These are complete, and nothing needs to be done here.\n",
    "\n",
    "def plot_with_uncertainty(Xp, mu, Sigma, color='r', color_samples='b', title=\"\", num_samples=0):\n",
    "    mean, std = mu.ravel(), np.sqrt(np.diag(Sigma))\n",
    "    # plot distribution\n",
    "    plt.plot(Xp, mean, color=color, label='Mean')\n",
    "    plt.plot(Xp, mean + 2*std, color=color, linestyle='--')\n",
    "    plt.plot(Xp, mean - 2*std, color=color, linestyle='--')\n",
    "    plt.fill_between(Xp.ravel(), mean - 2*std, mean + 2*std, color=color, alpha=0.25, label='Confidence')\n",
    "\n",
    "    def generate_samples(mean, K, M):\n",
    "        L = np.linalg.cholesky(K + 1e-8 * np.identity(len(K)))\n",
    "        zs = np.random.normal(0, 1, size=(len(K), M))\n",
    "        fs = mean + np.dot(L, zs)\n",
    "        return fs\n",
    "    \n",
    "    # generate samples\n",
    "    if num_samples > 0:\n",
    "        fs = generate_samples(mu, Sigma, 10)\n",
    "        plt.plot(Xp, fs, color=color_samples, alpha=.25)\n",
    "    \n",
    "    plt.title(title)\n",
    "    \n",
    "def plot_data():\n",
    "    plt.plot(X, y, 'k.', markersize=15, label='Data')\n",
    "    plt.xlabel('Input x')\n",
    "    plt.ylim((-5, 5))\n",
    "    plt.grid(True)"
   ]
  },
  {
   "cell_type": "code",
   "execution_count": null,
   "id": "96f19409-a7c0-4930-9f4b-fb56f48faea2",
   "metadata": {
    "deletable": false,
    "nbgrader": {
     "cell_type": "code",
     "checksum": "4840d0c8077536ced56941db20fc7696",
     "grade": false,
     "grade_id": "cell-1307fd7bd1e819ef",
     "locked": false,
     "schema_version": 3,
     "solution": true,
     "task": false
    }
   },
   "outputs": [],
   "source": [
    "def plot_ml_scale_grid():\n",
    "    scales = np.logspace(-2, 2, 100)\n",
    "    sigma2 = 0.5\n",
    "    alpha = 1\n",
    "    Xp = np.linspace(-3, 9, N)[:, None]  # Used for plotting the posterior\n",
    "    \n",
    "    log_ml_values = None # TASK: Calculate this for X, y, alpha, scales, and sigma2 values.\n",
    "    const = None  # TASK: Calculate this for X, y, alpha, scales, and sigma2 values.\n",
    "    det = None  # TASK: Calculate this for X, y, alpha, scales, and sigma2 values.\n",
    "    quad = None # TASK: Calculate this for X, y, alpha, scales, and sigma2 values.\n",
    "    optimal_scale_mll = None  # TASK: Calculate the optimal scale value based on the log marginal likelihood value.\n",
    "    \n",
    "    # YOUR CODE HERE\n",
    "    raise NotImplementedError()\n",
    "    \n",
    "    print(f\"Optimal value is {optimal_scale_mll}\")\n",
    "    \n",
    "    plt.figure(figsize=(20, 6))\n",
    "    plt.subplot(1, 2, 1)\n",
    "    plt.semilogx(scales, log_ml_values, label='Log ML', linewidth=3.)\n",
    "    plt.semilogx(scales, const, '--', label='Const')\n",
    "    plt.semilogx(scales, det, '--', label='Determinant term')\n",
    "    plt.semilogx(scales, quad, '--', label='Quadractic term')\n",
    "    plt.xlabel('Scale')\n",
    "    plt.ylabel('Marginal likelihood')\n",
    "    plt.grid(True)\n",
    "    \n",
    "    plt.plot([optimal_scale_mll, optimal_scale_mll],[min(min(const,det,quad,log_ml_values)), \n",
    "                                            max(max(const,det,quad,log_ml_values))], label='Optimal scale')\n",
    "    plt.legend(loc='lower left')\n",
    "    \n",
    "    mu_post, Sigma_post = posterior(Xp, X, y, alpha, optimal_scale_mll, sigma2)\n",
    "    plt.subplot(1, 2, 2)\n",
    "    plot_data()\n",
    "    plt.plot(Xval, yval, 'c.', label='Validation data', markersize=12)\n",
    "    plot_with_uncertainty(Xp, mu_post, Sigma_post, title='Posterior at optimal scale for marginal likelihood', num_samples=10)\n",
    "    plt.legend(loc='lower right')\n",
    "    plt.show()\n"
   ]
  },
  {
   "cell_type": "code",
   "execution_count": null,
   "id": "1cd1540c-ea3a-4075-ba48-10f357284bfa",
   "metadata": {
    "deletable": false,
    "editable": false,
    "nbgrader": {
     "cell_type": "code",
     "checksum": "79eb4fc13758272cdc8a1d408376d1ab",
     "grade": false,
     "grade_id": "cell-e1735ed61088eb44",
     "locked": true,
     "schema_version": 3,
     "solution": false,
     "task": false
    }
   },
   "outputs": [],
   "source": [
    "if not automatic_grading:\n",
    "    plot_ml_scale_grid()"
   ]
  },
  {
   "cell_type": "markdown",
   "id": "67948f53-3266-4eca-b6af-993a0c78a0b9",
   "metadata": {
    "deletable": false,
    "editable": false,
    "nbgrader": {
     "cell_type": "markdown",
     "checksum": "18bc3e53e7403f3f14b2a50011acdec5",
     "grade": false,
     "grade_id": "cell-2a69e81323989d9f",
     "locked": true,
     "schema_version": 3,
     "solution": false,
     "task": false
    }
   },
   "source": [
    "##### Q: What is the optimal scale value (approximately) according to the marginal likelihood?\n",
    "\n",
    "**1)** 0.87\n",
    "\n",
    "**2)** 1.00\n",
    "\n",
    "**3)** 1.84\n",
    "\n",
    "**4)** 2.42\n"
   ]
  },
  {
   "cell_type": "code",
   "execution_count": null,
   "id": "f9b01f95-08c1-47f2-9e36-90e6e059f950",
   "metadata": {},
   "outputs": [],
   "source": [
    "a_1d = None  # TASK: Replace None with your answer (1, 2, 3, 4)"
   ]
  },
  {
   "cell_type": "code",
   "execution_count": null,
   "id": "00c0f5ec-cec3-435b-8fea-d0bc412d0cd8",
   "metadata": {
    "deletable": false,
    "editable": false,
    "nbgrader": {
     "cell_type": "code",
     "checksum": "d99fbada8dd46caa4a0fdcf9e3ae608c",
     "grade": false,
     "grade_id": "cell-7b92276e90772d85",
     "locked": true,
     "schema_version": 3,
     "solution": false,
     "task": false
    }
   },
   "outputs": [],
   "source": [
    "assert a_1d in [1, 2, 3, 4]"
   ]
  },
  {
   "cell_type": "markdown",
   "id": "461b9fb1-2742-40a7-9197-b797af9d56db",
   "metadata": {
    "deletable": false,
    "editable": false,
    "nbgrader": {
     "cell_type": "markdown",
     "checksum": "c6917cedb83d354187b57d3cf8971837",
     "grade": false,
     "grade_id": "cell-27951d34091367dc",
     "locked": true,
     "schema_version": 3,
     "solution": false,
     "task": false
    }
   },
   "source": [
    "### Do not move or delete the below block. It is used for automatic grading."
   ]
  },
  {
   "cell_type": "code",
   "execution_count": null,
   "id": "244d2b55-599f-4081-9262-61b72abb758f",
   "metadata": {
    "deletable": false,
    "editable": false,
    "nbgrader": {
     "cell_type": "code",
     "checksum": "e5f359ccbb9dd71d3c93873bcd1ec23f",
     "grade": true,
     "grade_id": "cell-03b277a37282df51",
     "locked": true,
     "points": 0.5,
     "schema_version": 3,
     "solution": false,
     "task": false
    }
   },
   "outputs": [],
   "source": []
  },
  {
   "cell_type": "markdown",
   "id": "24a5ee1b-f7e1-4a92-81ab-3d0a14453f5b",
   "metadata": {
    "deletable": false,
    "editable": false,
    "nbgrader": {
     "cell_type": "markdown",
     "checksum": "2010bf1a0a20b3ea466271dbff9d2d9c",
     "grade": false,
     "grade_id": "cell-bd5a5a28ded7b2d0",
     "locked": true,
     "schema_version": 3,
     "solution": false,
     "task": false
    }
   },
   "source": [
    "**Task 1e**: Compute and plot the MLPPD of the validation set $\\left( \\bf{X}_{\\text{val}}, \\bf{y}_{\\text{val}}\\right)$ as a function of the scale parameter in the interval $\\left[0.01, 100\\right]$ using the scales vector (<tt>scales</tt>) given below. Note that the scale values are distributed equally in log space. Use $\\sigma^2 = 0.5$ and $\\alpha=1$. The scale axis should be logarithmic in the plot. Furthermore, locate the optimal value of the scale and plot the posterior distribution of $f(\\bf{X}_p)$ for the optimal value."
   ]
  },
  {
   "cell_type": "code",
   "execution_count": null,
   "id": "68e898d3-ef24-4501-897f-82bf5edb2de1",
   "metadata": {
    "deletable": false,
    "nbgrader": {
     "cell_type": "code",
     "checksum": "f5936e5f46bfd590073d296445974345",
     "grade": false,
     "grade_id": "cell-fe0e5705f159e00f",
     "locked": false,
     "schema_version": 3,
     "solution": true,
     "task": false
    }
   },
   "outputs": [],
   "source": [
    "def plot_mlppd_scale_grid():\n",
    "    scales = np.logspace(-2, 2, 50)\n",
    "    sigma2 = 0.5\n",
    "    alpha = 1\n",
    "    Xp = np.linspace(-3, 9, N)[:, None]  # Used for plotting the posterior\n",
    "    \n",
    "    MLPPD_values = None  # TASK: Calculate the MLPPD values: alpha, scales, sigma2, X, y, Xval, yval\n",
    "    optimal_scale_mlppd = None  # TASK: Calculate the optimal scale value based on the MLPPD value.\n",
    "    \n",
    "    # YOUR CODE HERE\n",
    "    raise NotImplementedError()\n",
    "    \n",
    "    print(f\"Optimal value is {optimal_scale_mlppd}\")\n",
    "    \n",
    "    plt.figure(figsize=(20, 6))\n",
    "    plt.subplot(1, 2, 1)\n",
    "    plt.semilogx(scales, MLPPD_values, label='MLPPD', linewidth=3.)\n",
    "    plt.xlabel('Scale')\n",
    "    plt.ylabel('MLPPD')\n",
    "    plt.grid(True)\n",
    "    \n",
    "    plt.plot([optimal_scale_mlppd, optimal_scale_mlppd],[min(MLPPD_values), max(MLPPD_values)], label='Optimal scale')\n",
    "    plt.legend(loc='lower left')\n",
    "    \n",
    "    mu_post, Sigma_post = posterior(Xp, X, y, alpha, optimal_scale_mlppd, sigma2)\n",
    "    plt.subplot(1, 2, 2)\n",
    "    plot_data()\n",
    "    plt.plot(Xval, yval, 'c.', label='Validation data', markersize=12)\n",
    "    plot_with_uncertainty(Xp, mu_post, Sigma_post, title='Posterior at optimal scale for mean log posterior predictive density', num_samples=10)\n",
    "    plt.legend(loc='lower right')\n",
    "    plt.show()"
   ]
  },
  {
   "cell_type": "code",
   "execution_count": null,
   "id": "9ece3b3b-220b-4b0f-b6af-396c95507a47",
   "metadata": {
    "deletable": false,
    "editable": false,
    "nbgrader": {
     "cell_type": "code",
     "checksum": "37f822c3b1a40d65548355cbd6685bad",
     "grade": false,
     "grade_id": "cell-cacd1f0bad46879a",
     "locked": true,
     "schema_version": 3,
     "solution": false,
     "task": false
    }
   },
   "outputs": [],
   "source": [
    "if not automatic_grading:\n",
    "    plot_mlppd_scale_grid()"
   ]
  },
  {
   "cell_type": "markdown",
   "id": "a0bc8664-199f-45d9-8478-6272214482dd",
   "metadata": {
    "deletable": false,
    "editable": false,
    "nbgrader": {
     "cell_type": "markdown",
     "checksum": "98f6b1fa6eec8633d0bac245b7c426e7",
     "grade": false,
     "grade_id": "cell-904e2d9bde98bc6e",
     "locked": true,
     "schema_version": 3,
     "solution": false,
     "task": false
    }
   },
   "source": [
    "##### Q: What is the optimal scale value (approximately) according to the MLPPD?\n",
    "\n",
    "**1)** 0.86\n",
    "\n",
    "**2)** 1.00\n",
    "\n",
    "**3)** 1.84\n",
    "\n",
    "**4)** 2.33\n"
   ]
  },
  {
   "cell_type": "code",
   "execution_count": null,
   "id": "c1998ad5-0927-4e11-b911-c9d8cbbdccc5",
   "metadata": {},
   "outputs": [],
   "source": [
    "a_1e = None  # TASK: Replace None with your answer (1, 2, 3, 4)"
   ]
  },
  {
   "cell_type": "code",
   "execution_count": null,
   "id": "266266b4-596b-406c-9357-898fe96354bd",
   "metadata": {
    "deletable": false,
    "editable": false,
    "nbgrader": {
     "cell_type": "code",
     "checksum": "62ecd58e35eeaadee5477dd0cca231c8",
     "grade": false,
     "grade_id": "cell-9e85021d3fad2353",
     "locked": true,
     "schema_version": 3,
     "solution": false,
     "task": false
    }
   },
   "outputs": [],
   "source": [
    "assert a_1e in [1, 2, 3, 4]"
   ]
  },
  {
   "cell_type": "markdown",
   "id": "3de3e306-3a46-4761-9e1d-33aa82b2fa1c",
   "metadata": {
    "deletable": false,
    "editable": false,
    "nbgrader": {
     "cell_type": "markdown",
     "checksum": "98ece06aaca40a9ee315f8fdc0aa6ed0",
     "grade": false,
     "grade_id": "cell-639f72a8e88cc414",
     "locked": true,
     "schema_version": 3,
     "solution": false,
     "task": false
    }
   },
   "source": [
    "### Do not move or delete the below block. It is used for automatic grading."
   ]
  },
  {
   "cell_type": "code",
   "execution_count": null,
   "id": "0ea2337d-9328-41a9-aa4a-06ad8bd7029f",
   "metadata": {
    "deletable": false,
    "editable": false,
    "nbgrader": {
     "cell_type": "code",
     "checksum": "06c40b74cc73ca13eb7adc47438f9321",
     "grade": true,
     "grade_id": "cell-09dedba99063a94c",
     "locked": true,
     "points": 0.5,
     "schema_version": 3,
     "solution": false,
     "task": false
    }
   },
   "outputs": [],
   "source": []
  },
  {
   "cell_type": "markdown",
   "id": "eeccb67d-daf2-4490-9ed2-e57b0f6b840a",
   "metadata": {
    "deletable": false,
    "editable": false,
    "nbgrader": {
     "cell_type": "markdown",
     "checksum": "0a0ad8d1a36760915a6dab915bbe9af0",
     "grade": false,
     "grade_id": "cell-c5f5c9654f3e0b08",
     "locked": true,
     "schema_version": 3,
     "solution": false,
     "task": false
    }
   },
   "source": [
    "**Task 1f**: Are the optimal scale values in the above plots the same? Answer the **True-False** question and explain why."
   ]
  },
  {
   "cell_type": "code",
   "execution_count": null,
   "id": "ffa246dd-ed41-431e-87c4-1d0f5dc90a8a",
   "metadata": {},
   "outputs": [],
   "source": [
    "a_1f = None  # TASK: Replace None with your answer True or False"
   ]
  },
  {
   "cell_type": "markdown",
   "id": "0c470bab-488d-423b-a70b-67d8c93203c4",
   "metadata": {},
   "source": [
    "**Explanation:** {Write your answer here}"
   ]
  },
  {
   "cell_type": "code",
   "execution_count": null,
   "id": "d40d1ae2-b120-41e7-a32c-a982070999dd",
   "metadata": {
    "deletable": false,
    "editable": false,
    "nbgrader": {
     "cell_type": "code",
     "checksum": "106d4ccae3217993f27cb50b914d25a1",
     "grade": false,
     "grade_id": "cell-ea61145de8e365e3",
     "locked": true,
     "schema_version": 3,
     "solution": false,
     "task": false
    }
   },
   "outputs": [],
   "source": [
    "assert isinstance(a_1f, bool)"
   ]
  },
  {
   "cell_type": "markdown",
   "id": "172f2ca9-6a4a-4f5b-9b17-3c930b1a9f2d",
   "metadata": {
    "deletable": false,
    "editable": false,
    "nbgrader": {
     "cell_type": "markdown",
     "checksum": "c9007607aba096898b9a2b24a00a4c48",
     "grade": false,
     "grade_id": "cell-60a8b3e53976521b",
     "locked": true,
     "schema_version": 3,
     "solution": false,
     "task": false
    }
   },
   "source": [
    "### Do not move or delete the below block. It is used for automatic grading."
   ]
  },
  {
   "cell_type": "code",
   "execution_count": null,
   "id": "31beacb3-d15d-425e-bc30-a44edce7d3d7",
   "metadata": {
    "deletable": false,
    "editable": false,
    "nbgrader": {
     "cell_type": "code",
     "checksum": "c7e8ad3b098ee48d796db48ab9a02168",
     "grade": true,
     "grade_id": "cell-2b8c0fbf6f0947d4",
     "locked": true,
     "points": 0.5,
     "schema_version": 3,
     "solution": false,
     "task": false
    }
   },
   "outputs": [],
   "source": []
  },
  {
   "cell_type": "markdown",
   "id": "16504e9a-a98f-44da-a9e2-faca7ca46f1a",
   "metadata": {
    "deletable": false,
    "editable": false,
    "nbgrader": {
     "cell_type": "markdown",
     "checksum": "e33eac5c04146b30eb084a771eb7eb2b",
     "grade": false,
     "grade_id": "cell-0b866bab680e1f3e",
     "locked": true,
     "schema_version": 3,
     "solution": false,
     "task": false
    }
   },
   "source": [
    "### Task 2: Periodic Kernel (1 point)\n",
    "\n",
    "The aim of this task is to implement the Periodic kernel, and compare it with the Squared Exponential Kernel."
   ]
  },
  {
   "cell_type": "markdown",
   "id": "635dc137-064e-464d-aa03-cb3694ca47e7",
   "metadata": {
    "deletable": false,
    "editable": false,
    "nbgrader": {
     "cell_type": "markdown",
     "checksum": "8b8d7fe02212eb4aae2f3112552dfb48",
     "grade": false,
     "grade_id": "cell-a26028e1ae2881e9",
     "locked": true,
     "schema_version": 3,
     "solution": false,
     "task": false
    }
   },
   "source": [
    "### Task 2a: Implement the periodic kernel below.\n",
    "\n",
    "$$ K_{ij} = \\alpha \\cdot \\exp\\left(-\\frac{2 \\sin^2\\left(\\frac{\\pi D^2_{ij}}{T}\\right)}{s^2}\\right) $$\n",
    "\n",
    "where $D^2_{ij}$ refers to the squared Euclidean distance between $x_i$ and $x_j$."
   ]
  },
  {
   "cell_type": "code",
   "execution_count": null,
   "id": "790882b2-85a3-471d-8dc4-f20f8e2f532d",
   "metadata": {
    "deletable": false,
    "nbgrader": {
     "cell_type": "code",
     "checksum": "20b6cc98ac142b2521a2060e55f42261",
     "grade": false,
     "grade_id": "cell-8852204993734efb",
     "locked": false,
     "schema_version": 3,
     "solution": true,
     "task": false
    }
   },
   "outputs": [],
   "source": [
    "def create_periodic_kernel(X1, X2, alpha=1, scale=1, period=1):\n",
    "    \"\"\" returns the NxM kernel matrix between the two sets of input X1 and X2 using the periodic kernel.\n",
    "    \n",
    "    Arguments:\n",
    "    \n",
    "    X1    -- NxD matrix\n",
    "    X2    -- MxD matrix\n",
    "    alpha -- scalar \n",
    "    scale -- scalar\n",
    "    period -- scalar\n",
    "    \n",
    "    returns NxM matrix    \n",
    "    \"\"\"\n",
    "    \n",
    "    # YOUR CODE HERE\n",
    "    raise NotImplementedError()"
   ]
  },
  {
   "cell_type": "markdown",
   "id": "25d4cc1b-f551-4e66-b1c0-55403cd98a7f",
   "metadata": {
    "deletable": false,
    "editable": false,
    "nbgrader": {
     "cell_type": "markdown",
     "checksum": "9b8ce49ec0d4a74a556c454a5c43194a",
     "grade": false,
     "grade_id": "cell-41c4678ef64918dc",
     "locked": true,
     "schema_version": 3,
     "solution": false,
     "task": false
    }
   },
   "source": [
    "### Let's test the function"
   ]
  },
  {
   "cell_type": "code",
   "execution_count": null,
   "id": "5f5643d9-6cd3-4fe6-9f5f-0a4fc669c27c",
   "metadata": {
    "deletable": false,
    "editable": false,
    "nbgrader": {
     "cell_type": "code",
     "checksum": "0a6d339e1d3dba3f2667c910a792a982",
     "grade": false,
     "grade_id": "cell-3eb205e4113e0d08",
     "locked": true,
     "schema_version": 3,
     "solution": false,
     "task": false
    }
   },
   "outputs": [],
   "source": [
    "X1 = np.array([0.87, 0.55]).reshape((2, 1))\n",
    "X2 = np.array([0.50, 0.28]).reshape((2, 1))\n",
    "alpha = .5\n",
    "scale = 1.5\n",
    "period = .8\n",
    "\n",
    "expected_kernel_val = np.array([[0.3960411, 0.2131794], [0.4999572, 0.4657867]])\n",
    "kernel_val = create_periodic_kernel(X1, X2, alpha, scale, period)\n",
    "\n",
    "assert kernel_val.shape == expected_kernel_val.shape\n",
    "np.testing.assert_almost_equal(expected_kernel_val, kernel_val)"
   ]
  },
  {
   "cell_type": "markdown",
   "id": "540806ea-d3b0-4712-8ef6-c4d777c16492",
   "metadata": {
    "deletable": false,
    "editable": false,
    "nbgrader": {
     "cell_type": "markdown",
     "checksum": "99942133ad4259900c8d5c7c01dacd8e",
     "grade": false,
     "grade_id": "cell-72701ab03a2480c7",
     "locked": true,
     "schema_version": 3,
     "solution": false,
     "task": false
    }
   },
   "source": [
    "### Do not move or delete the below block. It is used for automatic grading."
   ]
  },
  {
   "cell_type": "code",
   "execution_count": null,
   "id": "92cb1ab7-c3f0-4b30-a0ad-ab664a61f440",
   "metadata": {
    "deletable": false,
    "editable": false,
    "nbgrader": {
     "cell_type": "code",
     "checksum": "dbb3a2306117b960ba6e0cfaa0f19fbf",
     "grade": true,
     "grade_id": "cell-fe3b7c2cb5cdc1e5",
     "locked": true,
     "points": 0.5,
     "schema_version": 3,
     "solution": false,
     "task": false
    }
   },
   "outputs": [],
   "source": []
  },
  {
   "cell_type": "markdown",
   "id": "226602b9-72e4-4628-b6ff-094cf57c156a",
   "metadata": {
    "deletable": false,
    "editable": false,
    "nbgrader": {
     "cell_type": "markdown",
     "checksum": "4722bf333474e5bb2830e3293d64a743",
     "grade": false,
     "grade_id": "cell-987230f9f6dd0606",
     "locked": true,
     "schema_version": 3,
     "solution": false,
     "task": false
    }
   },
   "source": [
    "### Let us generate some toy data, plot the covariance for different kernels, and study its properties."
   ]
  },
  {
   "cell_type": "code",
   "execution_count": null,
   "id": "e393a58c-26a3-46e7-9b48-ada03391dd7e",
   "metadata": {
    "deletable": false,
    "editable": false,
    "nbgrader": {
     "cell_type": "code",
     "checksum": "4341da61a38c4fed4db69dd9361bc8b8",
     "grade": false,
     "grade_id": "cell-e913011453bf7681",
     "locked": true,
     "schema_version": 3,
     "solution": false,
     "task": false
    }
   },
   "outputs": [],
   "source": [
    "def create_sin_data():\n",
    "    \"\"\"Create the Sin data.\"\"\"\n",
    "    X_sine = np.linspace(0, 10, 50).reshape((-1, 1))    \n",
    "    y_sine = np.sin(X_sine)\n",
    "    return X_sine, y_sine"
   ]
  },
  {
   "cell_type": "code",
   "execution_count": null,
   "id": "d7a4dffc-9ece-4f0e-bf63-13c17831559d",
   "metadata": {
    "deletable": false,
    "editable": false,
    "nbgrader": {
     "cell_type": "code",
     "checksum": "c4b2a38584a00c7fe14b8a5bb6b90275",
     "grade": false,
     "grade_id": "cell-69a906f6fa258d02",
     "locked": true,
     "schema_version": 3,
     "solution": false,
     "task": false
    }
   },
   "outputs": [],
   "source": [
    "X_sine, y_sine = create_sin_data()\n",
    "\n",
    "fig, axs = plt.subplots(1, 3, figsize=(20, 5))\n",
    "axs[0].plot(X_sine, y_sine, \"k.\")\n",
    "axs[0].set_xlabel('X')\n",
    "axs[0].set_ylabel('y')\n",
    "axs[0].grid(True)\n",
    "\n",
    "K_periodic = create_periodic_kernel(X_sine, X_sine, alpha=1.0, scale=.1, period=4.)\n",
    "axs[1].imshow(K_periodic, extent=(0, 10, 10, 0), cmap=\"viridis\")\n",
    "axs[1].set_title(\"Periodic Kernel\")\n",
    "\n",
    "K_se = create_se_kernel(X_sine, X_sine, alpha=1.0, scale=.1)\n",
    "axs[2].imshow(K_se, extent=(0, 10, 10, 0), cmap=\"viridis\")\n",
    "axs[2].set_title(\"Squared Exponential Kernel\")\n",
    "\n",
    "plt.show()"
   ]
  },
  {
   "cell_type": "markdown",
   "id": "af3add91-5d90-4c9c-a1d8-032adb3834f9",
   "metadata": {
    "deletable": false,
    "editable": false,
    "nbgrader": {
     "cell_type": "markdown",
     "checksum": "70fabf4bd49c8a2d1ef25a1f2b2eae82",
     "grade": false,
     "grade_id": "cell-b0aece3fa8a71e86",
     "locked": true,
     "schema_version": 3,
     "solution": false,
     "task": false
    }
   },
   "source": [
    "### Task 2b: For the toy data generated above, on the basis of the covariance matrix, which kernel is a better choice for modelling? Explain!\n",
    "\n",
    "**1)** Periodic Kernel\n",
    "\n",
    "**2)** Squared Exponential Kernel"
   ]
  },
  {
   "cell_type": "code",
   "execution_count": null,
   "id": "dfcc3004-98fd-4edd-8152-707481fbfce0",
   "metadata": {},
   "outputs": [],
   "source": [
    "a_2b = None  # TASK: Replace None with your answer (1, 2)"
   ]
  },
  {
   "cell_type": "markdown",
   "id": "2b968200-ae54-4967-bae7-3b6c0f22dd79",
   "metadata": {},
   "source": [
    "**Explanation:** {Write your answer here}"
   ]
  },
  {
   "cell_type": "code",
   "execution_count": null,
   "id": "53220df3-5894-4474-a6ce-968e0491fe68",
   "metadata": {
    "deletable": false,
    "editable": false,
    "nbgrader": {
     "cell_type": "code",
     "checksum": "3ec02016638532f189179d5b7d212148",
     "grade": false,
     "grade_id": "cell-b066c7462d28ce40",
     "locked": true,
     "schema_version": 3,
     "solution": false,
     "task": false
    }
   },
   "outputs": [],
   "source": [
    "assert a_2b in [1, 2]"
   ]
  },
  {
   "cell_type": "markdown",
   "id": "852e1841-4ada-47f8-a777-156ee8e8a445",
   "metadata": {
    "deletable": false,
    "editable": false,
    "nbgrader": {
     "cell_type": "markdown",
     "checksum": "0c8d75f015173dac243ceed3e20585b2",
     "grade": false,
     "grade_id": "cell-70bac5aafdb4accf",
     "locked": true,
     "schema_version": 3,
     "solution": false,
     "task": false
    }
   },
   "source": [
    "### Do not move or delete the below block. It is used for automatic grading."
   ]
  },
  {
   "cell_type": "code",
   "execution_count": null,
   "id": "915200dd-3015-4cb4-8c28-f6767a830d06",
   "metadata": {
    "deletable": false,
    "editable": false,
    "nbgrader": {
     "cell_type": "code",
     "checksum": "1c2f9a04f7dd3b510e0e09d1baabe387",
     "grade": true,
     "grade_id": "cell-067445908b7baba9",
     "locked": true,
     "points": 0.5,
     "schema_version": 3,
     "solution": false,
     "task": false
    }
   },
   "outputs": [],
   "source": []
  },
  {
   "cell_type": "markdown",
   "id": "dbb1458a-375b-4c56-a370-0be722259fb8",
   "metadata": {
    "deletable": false,
    "editable": false,
    "nbgrader": {
     "cell_type": "markdown",
     "checksum": "11f540a9db381256490c5d34d7466f96",
     "grade": false,
     "grade_id": "cell-7f905d83fd2cbb5b",
     "locked": true,
     "schema_version": 3,
     "solution": false,
     "task": false
    }
   },
   "source": [
    "### Task 3: Kernel ridge regression (2 points)\n",
    "\n",
    "The aim of this task is to compute the solution to the Kernel ridge regression problem using *scipy.optimize* and compare it to the analytical solution."
   ]
  },
  {
   "cell_type": "code",
   "execution_count": null,
   "id": "d1c522df-da36-4531-8acf-c852a4e96942",
   "metadata": {
    "deletable": false,
    "editable": false,
    "nbgrader": {
     "cell_type": "code",
     "checksum": "5e6b156904d72cf367a20afaa88c1186",
     "grade": false,
     "grade_id": "cell-38f267353ec5c7c6",
     "locked": true,
     "schema_version": 3,
     "solution": false,
     "task": false
    }
   },
   "outputs": [],
   "source": [
    "# This block generates toy data. Nothing to do here.\n",
    "\n",
    "# Generate the toy data\n",
    "n = 100\n",
    "x_ridge = np.linspace(0, 10, n).reshape((n, 1))\n",
    "y_ridge = np.sin(x_ridge)\n",
    "y_ridge = y_ridge.reshape(-1) + 0.1 * np.random.randn(n)\n",
    "\n",
    "K_ridge = create_se_kernel(x_ridge, x_ridge)\n",
    "\n",
    "lambda_val = 2"
   ]
  },
  {
   "cell_type": "markdown",
   "id": "79156e39-30d9-4f1f-a71f-7f459311bcd3",
   "metadata": {
    "deletable": false,
    "editable": false,
    "nbgrader": {
     "cell_type": "markdown",
     "checksum": "022a59566fd834a16a49cccc176c2bd4",
     "grade": false,
     "grade_id": "cell-61cdcbce6c4ef4e2",
     "locked": true,
     "schema_version": 3,
     "solution": false,
     "task": false
    }
   },
   "source": [
    "**Task 3a.** Implement the objective of the kernel ridge regression in the function below."
   ]
  },
  {
   "cell_type": "code",
   "execution_count": null,
   "id": "27765fc7-7108-4aca-ae2e-7314f71512b8",
   "metadata": {
    "deletable": false,
    "nbgrader": {
     "cell_type": "code",
     "checksum": "99d2b31de8fa11635a3d0e5e67a11bab",
     "grade": false,
     "grade_id": "cell-b30201425272b876",
     "locked": false,
     "schema_version": 3,
     "solution": true,
     "task": false
    }
   },
   "outputs": [],
   "source": [
    "def ridge_obj(alpha, K, y, lambda_val) -> float:\n",
    "    \"\"\"\n",
    "    Implement the kernel ridge regression objective and return the float value.\n",
    "    \"\"\"\n",
    "    # YOUR CODE HERE\n",
    "    raise NotImplementedError()"
   ]
  },
  {
   "cell_type": "markdown",
   "id": "f2edf123-ab0a-4dff-9209-502b0d22a9af",
   "metadata": {
    "deletable": false,
    "editable": false,
    "nbgrader": {
     "cell_type": "markdown",
     "checksum": "bf2d6d545a359af3b07480892385c4a1",
     "grade": false,
     "grade_id": "cell-46f36f4f07dd561a",
     "locked": true,
     "schema_version": 3,
     "solution": false,
     "task": false
    }
   },
   "source": [
    "#### Let's test the above function"
   ]
  },
  {
   "cell_type": "code",
   "execution_count": null,
   "id": "35974194-f626-49bb-b2eb-7753bd4096ad",
   "metadata": {
    "deletable": false,
    "editable": false,
    "nbgrader": {
     "cell_type": "code",
     "checksum": "bf96743f785e1193bde3904d39550279",
     "grade": false,
     "grade_id": "cell-ed0e3e9deab500c6",
     "locked": true,
     "schema_version": 3,
     "solution": false,
     "task": false
    }
   },
   "outputs": [],
   "source": [
    "alpha = np.ones((100))\n",
    "val = ridge_obj(alpha, K_ridge, np.sin(x_ridge).reshape((-1,)), lambda_val)\n",
    "\n",
    "assert isinstance(val, float)\n",
    "assert np.allclose(val, 57049.835187)"
   ]
  },
  {
   "cell_type": "markdown",
   "id": "aad34d94-eebd-4d9a-a048-9f41b5870253",
   "metadata": {
    "deletable": false,
    "editable": false,
    "nbgrader": {
     "cell_type": "markdown",
     "checksum": "cec0ec802bd2795cd0315ea431604a75",
     "grade": false,
     "grade_id": "cell-9fa0408b62d0f059",
     "locked": true,
     "schema_version": 3,
     "solution": false,
     "task": false
    }
   },
   "source": [
    "### Do not move or delete the below block. It is used for automatic grading."
   ]
  },
  {
   "cell_type": "code",
   "execution_count": null,
   "id": "e661f9ca-871e-4f2b-bee8-887c68348ab4",
   "metadata": {
    "deletable": false,
    "editable": false,
    "nbgrader": {
     "cell_type": "code",
     "checksum": "3dfcb71c9e6996a4dc34bded6d704d60",
     "grade": true,
     "grade_id": "cell-51ac89f9d3f7c5ad",
     "locked": true,
     "points": 0.5,
     "schema_version": 3,
     "solution": false,
     "task": false
    }
   },
   "outputs": [],
   "source": []
  },
  {
   "cell_type": "markdown",
   "id": "583d0b12-79a8-4d56-8783-753d2d935e47",
   "metadata": {
    "deletable": false,
    "editable": false,
    "nbgrader": {
     "cell_type": "markdown",
     "checksum": "2a620aa8f46204eeae571c6316caa7f9",
     "grade": false,
     "grade_id": "cell-f617adea51b850b5",
     "locked": true,
     "schema_version": 3,
     "solution": false,
     "task": false
    }
   },
   "source": [
    "Now, we will optimize the ridge objective using the *scipy.minimize* function."
   ]
  },
  {
   "cell_type": "code",
   "execution_count": null,
   "id": "7df45d1b-05f0-4af2-8ea8-0e6867217cd4",
   "metadata": {
    "deletable": false,
    "editable": false,
    "nbgrader": {
     "cell_type": "code",
     "checksum": "3b1d251d7423c078f0d7a0fb4e09d757",
     "grade": false,
     "grade_id": "cell-9d3dbf60a44953f3",
     "locked": true,
     "schema_version": 3,
     "solution": false,
     "task": false
    }
   },
   "outputs": [],
   "source": [
    "from scipy.optimize import minimize\n",
    "if not automatic_grading:\n",
    "    r = minimize(ridge_obj, np.random.rand(n), args=(K_ridge, y_ridge, lambda_val))\n",
    "    assert r.success == True\n",
    "    optimized_alpha_value = r.x    "
   ]
  },
  {
   "cell_type": "markdown",
   "id": "d426e096-4caa-45e0-9ac9-3014b98478f7",
   "metadata": {
    "deletable": false,
    "editable": false,
    "nbgrader": {
     "cell_type": "markdown",
     "checksum": "5c036032f3638ffc4aea684f7dbb8f4d",
     "grade": false,
     "grade_id": "cell-e50224f718afc739",
     "locked": true,
     "schema_version": 3,
     "solution": false,
     "task": false
    }
   },
   "source": [
    "**Task 3b:** Implement the numerical solution."
   ]
  },
  {
   "cell_type": "code",
   "execution_count": null,
   "id": "95b50de4-1963-4af7-b924-a2386c4bc208",
   "metadata": {
    "deletable": false,
    "nbgrader": {
     "cell_type": "code",
     "checksum": "974f7c6d7c4e5177117242d9383313f0",
     "grade": false,
     "grade_id": "cell-5612dab952f18e1e",
     "locked": false,
     "schema_version": 3,
     "solution": true,
     "task": false
    }
   },
   "outputs": [],
   "source": [
    "def numerical_solution(K, optimized_alpha_value):\n",
    "    # YOUR CODE HERE\n",
    "    raise NotImplementedError()"
   ]
  },
  {
   "cell_type": "markdown",
   "id": "9794ef63-fef1-4b38-ab24-bf75eb1165ad",
   "metadata": {
    "deletable": false,
    "editable": false,
    "nbgrader": {
     "cell_type": "markdown",
     "checksum": "71b5386c00caef74000f51e5869b1dd8",
     "grade": false,
     "grade_id": "cell-ab1704f185b2df8f",
     "locked": true,
     "schema_version": 3,
     "solution": false,
     "task": false
    }
   },
   "source": [
    "#### Let's test the above function"
   ]
  },
  {
   "cell_type": "code",
   "execution_count": null,
   "id": "339ac28d-bdb5-44f0-a934-d53d3007ae1c",
   "metadata": {
    "deletable": false,
    "editable": false,
    "nbgrader": {
     "cell_type": "code",
     "checksum": "d0870447877d9b7301851fcc254f5029",
     "grade": false,
     "grade_id": "cell-20fdab1c095234c3",
     "locked": true,
     "schema_version": 3,
     "solution": false,
     "task": false
    }
   },
   "outputs": [],
   "source": [
    "xtest = 0.15 * np.ones((2, 1))\n",
    "ytest = 0.43 * np.ones((2, 1))\n",
    "K_test = create_se_kernel(xtest, xtest)\n",
    "alpha_value_test = np.array([[0.435], [0.435]])\n",
    "\n",
    "expected_val = K_test @ alpha_value_test\n",
    "val = numerical_solution(K_test, alpha_value_test)\n",
    "\n",
    "assert np.allclose(val, expected_val)"
   ]
  },
  {
   "cell_type": "markdown",
   "id": "47f28159-71a5-4820-9eb1-1d0ce0b9cc16",
   "metadata": {
    "deletable": false,
    "editable": false,
    "nbgrader": {
     "cell_type": "markdown",
     "checksum": "0c2a97683fbdfae79db8aa3de9ec43a3",
     "grade": false,
     "grade_id": "cell-cacdb5a6a264ee8e",
     "locked": true,
     "schema_version": 3,
     "solution": false,
     "task": false
    }
   },
   "source": [
    "### Do not move or delete the below block. It is used for automatic grading."
   ]
  },
  {
   "cell_type": "code",
   "execution_count": null,
   "id": "94434ed5-673f-4d19-a288-443e83e03b33",
   "metadata": {
    "deletable": false,
    "editable": false,
    "nbgrader": {
     "cell_type": "code",
     "checksum": "acf2b86b9679a753dd952fb3e57adcc1",
     "grade": true,
     "grade_id": "cell-7be6d225eace3c3b",
     "locked": true,
     "points": 0.5,
     "schema_version": 3,
     "solution": false,
     "task": false
    }
   },
   "outputs": [],
   "source": []
  },
  {
   "cell_type": "markdown",
   "id": "daff1dde-bb49-43de-a2b1-c566cae9bccc",
   "metadata": {
    "deletable": false,
    "editable": false,
    "nbgrader": {
     "cell_type": "markdown",
     "checksum": "cf0cc7cbf285fdf6bec0ef5fc87598d4",
     "grade": false,
     "grade_id": "cell-3ac24b65f6882b4c",
     "locked": true,
     "schema_version": 3,
     "solution": false,
     "task": false
    }
   },
   "source": [
    "**Task 3c:** Implement the analytical solution."
   ]
  },
  {
   "cell_type": "code",
   "execution_count": null,
   "id": "6982db50-7e1f-4650-a03d-9e62155cdbea",
   "metadata": {
    "deletable": false,
    "nbgrader": {
     "cell_type": "code",
     "checksum": "a80d7d809a8a06954b9e9432425ff6e9",
     "grade": false,
     "grade_id": "cell-4d60f44625ad5ab7",
     "locked": false,
     "schema_version": 3,
     "solution": true,
     "task": false
    }
   },
   "outputs": [],
   "source": [
    "def analytical_solution(K, lambda_val, y):\n",
    "    # YOUR CODE HERE\n",
    "    raise NotImplementedError()"
   ]
  },
  {
   "cell_type": "markdown",
   "id": "c3057b5e-63d5-44cb-9580-6ab00993ab06",
   "metadata": {
    "deletable": false,
    "editable": false,
    "nbgrader": {
     "cell_type": "markdown",
     "checksum": "788334724b6bd174d57004010e57abad",
     "grade": false,
     "grade_id": "cell-cd2cf9985e4d4d1f",
     "locked": true,
     "schema_version": 3,
     "solution": false,
     "task": false
    }
   },
   "source": [
    "#### Let's test the above function"
   ]
  },
  {
   "cell_type": "code",
   "execution_count": null,
   "id": "024cd961-2d9f-4f1e-bb08-a3cbae7a6cd4",
   "metadata": {
    "deletable": false,
    "editable": false,
    "nbgrader": {
     "cell_type": "code",
     "checksum": "b865b1cfa6ac7551f1b76df6cce20cf4",
     "grade": false,
     "grade_id": "cell-3b708b6724a19ce5",
     "locked": true,
     "schema_version": 3,
     "solution": false,
     "task": false
    }
   },
   "outputs": [],
   "source": [
    "xtest = 0.15 * np.ones((2, 1))\n",
    "ytest = 0.43 * np.ones((2, 1))\n",
    "K_test = create_se_kernel(xtest, xtest)\n",
    "expected_val = np.array([[0.215], [0.215]])\n",
    "val = analytical_solution(K_test, lambda_val, ytest)\n",
    "\n",
    "assert np.allclose(val, expected_val)"
   ]
  },
  {
   "cell_type": "markdown",
   "id": "c00cc313-b02e-482b-87ed-4e88a4b3eb52",
   "metadata": {
    "deletable": false,
    "editable": false,
    "nbgrader": {
     "cell_type": "markdown",
     "checksum": "89731c69d1c62fc14b40129e7e7f5892",
     "grade": false,
     "grade_id": "cell-ae5427d8ebcd6856",
     "locked": true,
     "schema_version": 3,
     "solution": false,
     "task": false
    }
   },
   "source": [
    "### Do not move or delete the below block. It is used for automatic grading."
   ]
  },
  {
   "cell_type": "code",
   "execution_count": null,
   "id": "9e25cfd0-5f3e-4547-a69a-da97112e7cf0",
   "metadata": {
    "deletable": false,
    "editable": false,
    "nbgrader": {
     "cell_type": "code",
     "checksum": "b4e4f1e1dd5befe9b9ea0d561cabf6d9",
     "grade": true,
     "grade_id": "cell-e7ead7083c961c6e",
     "locked": true,
     "points": 0.5,
     "schema_version": 3,
     "solution": false,
     "task": false
    }
   },
   "outputs": [],
   "source": []
  },
  {
   "cell_type": "markdown",
   "id": "253a7e4a-9048-4408-9f87-4632ef98e4fc",
   "metadata": {
    "deletable": false,
    "editable": false,
    "nbgrader": {
     "cell_type": "markdown",
     "checksum": "a0ebf4217e3c3855295aabaf8eed8834",
     "grade": false,
     "grade_id": "cell-12ad138d4a4dd0f3",
     "locked": true,
     "schema_version": 3,
     "solution": false,
     "task": false
    }
   },
   "source": [
    "Let's plot both the solutions"
   ]
  },
  {
   "cell_type": "code",
   "execution_count": null,
   "id": "f8d9a614-227b-42cb-9244-42a980ecd6a2",
   "metadata": {
    "deletable": false,
    "editable": false,
    "nbgrader": {
     "cell_type": "code",
     "checksum": "9539577752d2fbc009db16bb19d23f73",
     "grade": false,
     "grade_id": "cell-f5426744f0887cb9",
     "locked": true,
     "schema_version": 3,
     "solution": false,
     "task": false
    }
   },
   "outputs": [],
   "source": [
    "if not automatic_grading:\n",
    "    plt.figure(figsize=(12, 6))\n",
    "    plt.plot(x_ridge, y_ridge, 'r+', markersize=5, label=u'Observations')\n",
    "    \n",
    "    plt.plot(x_ridge, numerical_solution(K_ridge, optimized_alpha_value), 'r-', label='Numerical Solution')\n",
    "    plt.plot(x_ridge, analytical_solution(K_ridge, lambda_val, y_ridge), 'b--', label = 'Analytical Solution')\n",
    "    \n",
    "    plt.xlabel('Input, $x$')\n",
    "    plt.ylabel('Output, $y$')\n",
    "    plt.legend()\n",
    "    plt.show()"
   ]
  },
  {
   "cell_type": "markdown",
   "id": "6b73ec1d-ef67-4bcf-9f8a-eaf8c3be8c7e",
   "metadata": {
    "deletable": false,
    "editable": false,
    "nbgrader": {
     "cell_type": "markdown",
     "checksum": "74fdcd8c8cdad38e04247b33e882c422",
     "grade": false,
     "grade_id": "cell-3f0f68beb7ffa023",
     "locked": true,
     "schema_version": 3,
     "solution": false,
     "task": false
    }
   },
   "source": [
    "**Task 3d:** Is the analytical solution same (approximately) as the numerical solution obtained by using *scipy.optimize*?"
   ]
  },
  {
   "cell_type": "code",
   "execution_count": null,
   "id": "b2418b69-6e8f-4c49-ad72-75e763e2f226",
   "metadata": {},
   "outputs": [],
   "source": [
    "a_3d = None  # TASK: Replace None with True or False"
   ]
  },
  {
   "cell_type": "code",
   "execution_count": null,
   "id": "81da4a48-33db-407e-a857-d387a32b70c9",
   "metadata": {
    "deletable": false,
    "editable": false,
    "nbgrader": {
     "cell_type": "code",
     "checksum": "333f74b03327125a64f5d59163a91230",
     "grade": false,
     "grade_id": "cell-c7b3a29aabf8c30e",
     "locked": true,
     "schema_version": 3,
     "solution": false,
     "task": false
    }
   },
   "outputs": [],
   "source": [
    "assert isinstance(a_3d, bool)"
   ]
  },
  {
   "cell_type": "markdown",
   "id": "436ca34f-661d-4df8-b3df-5cfd0e21ba3e",
   "metadata": {
    "deletable": false,
    "editable": false,
    "nbgrader": {
     "cell_type": "markdown",
     "checksum": "e3e1428826aae2ea758050393e477c8d",
     "grade": false,
     "grade_id": "cell-d8e4c76527c39014",
     "locked": true,
     "schema_version": 3,
     "solution": false,
     "task": false
    }
   },
   "source": [
    "### Do not move or delete the below block. It is used for automatic grading."
   ]
  },
  {
   "cell_type": "code",
   "execution_count": null,
   "id": "2a9456a8-260b-40ec-adb1-43fc0b1833b1",
   "metadata": {
    "deletable": false,
    "editable": false,
    "nbgrader": {
     "cell_type": "code",
     "checksum": "58a5878c7317ea7d1a41bda0d23a02df",
     "grade": true,
     "grade_id": "cell-997e01564a02470a",
     "locked": true,
     "points": 0.5,
     "schema_version": 3,
     "solution": false,
     "task": false
    }
   },
   "outputs": [],
   "source": []
  },
  {
   "cell_type": "markdown",
   "id": "151ac262-3c47-4973-975f-5f92ad1b7cc4",
   "metadata": {
    "deletable": false,
    "editable": false,
    "nbgrader": {
     "cell_type": "markdown",
     "checksum": "52295952170d12ee93bf419f7ad47969",
     "grade": false,
     "grade_id": "cell-3ba110af08e071db",
     "locked": true,
     "schema_version": 3,
     "solution": false,
     "task": false
    }
   },
   "source": [
    "### Task 4: After answering all the questions, kindly set `automatic_grading=True` at the top of the notebook, use the validate option in the toolbar to validate the notebook and be sure that there are no errors."
   ]
  },
  {
   "cell_type": "code",
   "execution_count": null,
   "id": "34a3f6b8-0c22-495d-b093-d27c1ff09beb",
   "metadata": {},
   "outputs": [],
   "source": []
  }
 ],
 "metadata": {
  "jupytext": {
   "encoding": "# -*- coding: utf-8 -*-"
  },
  "kernelspec": {
   "display_name": "Python 3",
   "language": "python",
   "name": "python3"
  },
  "language_info": {
   "codemirror_mode": {
    "name": "ipython",
    "version": 3
   },
   "file_extension": ".py",
   "mimetype": "text/x-python",
   "name": "python",
   "nbconvert_exporter": "python",
   "pygments_lexer": "ipython3",
   "version": "3.10.12"
  }
 },
 "nbformat": 4,
 "nbformat_minor": 5
}
