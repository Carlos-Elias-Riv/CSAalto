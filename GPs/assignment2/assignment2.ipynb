{
 "cells": [
  {
   "cell_type": "markdown",
   "metadata": {
    "deletable": false,
    "editable": false,
    "nbgrader": {
     "cell_type": "markdown",
     "checksum": "0530727c8708d48e86dbfaee0bc10db1",
     "grade": false,
     "grade_id": "cell-22a8a5823a83dad3",
     "locked": true,
     "schema_version": 3,
     "solution": false,
     "task": false
    }
   },
   "source": [
    "# CS-E4895: Gaussian Processes\n",
    "\n",
    "# Assignment #2: The Squared Exponential Kernel and Gaussian Process Model\n",
    "\n",
    "### Learning objectives\n",
    "\n",
    "After completing this lab exercise, you should be able to:\n",
    "\n",
    "- Implement the squared exponential kernel and explain the interpretation of each parameter\n",
    "- Generate samples from a Gaussian process prior\n",
    "- Compute the posterior & predictive distributions for a Gaussian process model with Gaussian likelihood\n",
    "\n",
    "**Note:** All exercises must be solved using numpy only.\n",
    "\n",
    "This assignment consists of 3 smaller tasks and each task is worth 2 points."
   ]
  },
  {
   "cell_type": "markdown",
   "metadata": {},
   "source": [
    "## Enter your student number here\n",
    "\n",
    "**STUDENT_NUMBER** = 102179473"
   ]
  },
  {
   "cell_type": "markdown",
   "metadata": {
    "deletable": false,
    "editable": false,
    "nbgrader": {
     "cell_type": "markdown",
     "checksum": "d4ee76335185ede5add2af13b7ec9597",
     "grade": false,
     "grade_id": "cell-a7fb0dbfbd013ad0",
     "locked": true,
     "schema_version": 3,
     "solution": false,
     "task": false
    }
   },
   "source": [
    "## Warnings:\n",
    "\n",
    "- Don’t copy and paste cells within a notebook. This will mess up the tracking metadata and prevent autograding from working.\n",
    "- Only add new cells using the '+' button in the upper toolbar and do not split cells.\n",
    "- Be cautious about things such as copying the whole notebook to Colab to work on it. This has sometimes resulted in removing all notebook metadata, making autograding impossible."
   ]
  },
  {
   "cell_type": "code",
   "execution_count": 1,
   "metadata": {
    "deletable": false,
    "editable": false,
    "nbgrader": {
     "cell_type": "code",
     "checksum": "bba860a72f021fa8604a7c61bd8c3a6f",
     "grade": false,
     "grade_id": "cell-304fdb73f526af24",
     "locked": true,
     "schema_version": 3,
     "solution": false,
     "task": false
    },
    "tags": []
   },
   "outputs": [],
   "source": [
    "%matplotlib inline\n",
    "import os\n",
    "import numpy as np\n",
    "import pylab as plt\n",
    "import seaborn as snb\n",
    "snb.set(font_scale=1.5)\n",
    "\n",
    "import IPython\n",
    "assert IPython.version_info[0] >= 3, \"Your version of IPython is too old, please update it.\""
   ]
  },
  {
   "cell_type": "code",
   "execution_count": null,
   "metadata": {},
   "outputs": [],
   "source": [
    "automatic_grading = False  # Set this to True after completing the notebook and before submitting."
   ]
  },
  {
   "cell_type": "markdown",
   "metadata": {
    "deletable": false,
    "editable": false,
    "nbgrader": {
     "cell_type": "markdown",
     "checksum": "c73ee384af1be1c3ea3b1b5b8a203f91",
     "grade": false,
     "grade_id": "cell-bfdec2e96fcfcdd5",
     "locked": true,
     "schema_version": 3,
     "solution": false,
     "task": false
    }
   },
   "source": [
    "#### Do not move or delete the below block. It is used for automatic grading."
   ]
  },
  {
   "cell_type": "code",
   "execution_count": null,
   "metadata": {
    "deletable": false,
    "editable": false,
    "nbgrader": {
     "cell_type": "code",
     "checksum": "65cba59d4dc4c9ab35661656f3ff6f85",
     "grade": true,
     "grade_id": "cell-6a2777547a216ded",
     "locked": true,
     "points": 0,
     "schema_version": 3,
     "solution": false,
     "task": false
    }
   },
   "outputs": [],
   "source": []
  },
  {
   "cell_type": "markdown",
   "metadata": {
    "deletable": false,
    "editable": false,
    "nbgrader": {
     "cell_type": "markdown",
     "checksum": "9a3ae38e602af3068fd826300fa1229d",
     "grade": false,
     "grade_id": "cell-0026f2582ec8b1d7",
     "locked": true,
     "schema_version": 3,
     "solution": false,
     "task": false
    }
   },
   "source": [
    "### Task 1: The squared exponential kernel (2 points)"
   ]
  },
  {
   "cell_type": "markdown",
   "metadata": {
    "deletable": false,
    "editable": false,
    "nbgrader": {
     "cell_type": "markdown",
     "checksum": "5f45650b19a536b5ba4a066dce100362",
     "grade": false,
     "grade_id": "cell-bff24b98b98e9e36",
     "locked": true,
     "schema_version": 3,
     "solution": false,
     "task": false
    }
   },
   "source": [
    "The squared exponential covariance function is given by\n",
    "\n",
    "\\begin{align}\n",
    "    k(\\mathbf{x}_n, \\mathbf{x}_m) = \\alpha \\exp\\left(-\\frac{\\|\\mathbf{x}_n - \\mathbf{x}_m\\|^2_ 2}{2\\ell^2}\\right),\n",
    "\\end{align}\n",
    "\n",
    "where $\\alpha > 0$ and $\\ell > 0$ are hyperparameters of the kernel. This specific covariance function is perhaps the most common covariance function used in statistics and machine learning. It is also known as the radial basis function kernel, the gaussian kernel, or the exponeniated quadratic kernel. \n",
    "\n",
    "Below you are given a vector $\\mathbf{X}^p \\in \\mathbb{R}^{N \\times 1}$ of $N = 50$ points on the real line. The points are sorted and equidistantly distributed in the interval $\\left[-3, 9\\right]$. "
   ]
  },
  {
   "cell_type": "code",
   "execution_count": null,
   "metadata": {
    "deletable": false,
    "editable": false,
    "nbgrader": {
     "cell_type": "code",
     "checksum": "9e5d056f13b829f9b7bf97a71dd17ec9",
     "grade": false,
     "grade_id": "cell-d71eaebec68fa43f",
     "locked": true,
     "schema_version": 3,
     "solution": false,
     "task": false
    }
   },
   "outputs": [],
   "source": [
    "# create an Nx1 vector of equidistant points in [-3, 3]\n",
    "N = 50\n",
    "Xp = np.linspace(-3, 9, N)[:, None]"
   ]
  },
  {
   "cell_type": "markdown",
   "metadata": {
    "deletable": false,
    "editable": false,
    "nbgrader": {
     "cell_type": "markdown",
     "checksum": "f5642f92e6becdd311a1488de60de2a4",
     "grade": false,
     "grade_id": "cell-73e22cdb681d1c6b",
     "locked": true,
     "schema_version": 3,
     "solution": false,
     "task": false
    }
   },
   "source": [
    "**Task 1a**: Complete the implementation of the squared exponential kernel function below. (Hint: the code only needs to work with $D=1$)."
   ]
  },
  {
   "cell_type": "code",
   "execution_count": null,
   "metadata": {
    "deletable": false,
    "nbgrader": {
     "cell_type": "code",
     "checksum": "ce5c9c7b8c2bef47e1b29d775ea60506",
     "grade": false,
     "grade_id": "cell-10f2d0649dfe51af",
     "locked": false,
     "schema_version": 3,
     "solution": true,
     "task": false
    }
   },
   "outputs": [],
   "source": [
    "def create_se_kernel(X1, X2, alpha=1, scale=1):\n",
    "    \"\"\" returns the NxM kernel matrix between the two sets of input X1 and X2 \n",
    "    \n",
    "    arguments:\n",
    "    X1    -- NxD matrix\n",
    "    X2    -- MxD matrix\n",
    "    alpha -- scalar \n",
    "    scale -- scalar\n",
    "    \n",
    "    returns NxM matrix    \n",
    "    \"\"\"\n",
    "    \n",
    "    # YOUR CODE HERE\n",
    "    raise NotImplementedError()\n"
   ]
  },
  {
   "cell_type": "markdown",
   "metadata": {
    "deletable": false,
    "editable": false,
    "nbgrader": {
     "cell_type": "markdown",
     "checksum": "66f3f02b84979bf99b89d0713ec211d9",
     "grade": false,
     "grade_id": "cell-25c1846245c5c7fb",
     "locked": true,
     "schema_version": 3,
     "solution": false,
     "task": false
    }
   },
   "source": [
    "Let's test the above function:"
   ]
  },
  {
   "cell_type": "code",
   "execution_count": null,
   "metadata": {
    "deletable": false,
    "editable": false,
    "nbgrader": {
     "cell_type": "code",
     "checksum": "20e9f7209e2d8b19ef42d69ea5ea3964",
     "grade": false,
     "grade_id": "cell-c380914ecb98f81f",
     "locked": true,
     "schema_version": 3,
     "solution": false,
     "task": false
    }
   },
   "outputs": [],
   "source": [
    "X1 = np.asarray([[0.477], [0.986], [0.101]])\n",
    "X2 = np.asarray([[0.872], [0.210]])\n",
    "\n",
    "assert create_se_kernel(X1, X2).shape == (3,2)\n",
    "np.testing.assert_allclose(create_se_kernel(X1, X2), np.asarray([[0.92495, 0.96498], [0.99352, 0.74001], [0.74288, 0.99408]]), atol=1e-3)"
   ]
  },
  {
   "cell_type": "markdown",
   "metadata": {
    "deletable": false,
    "editable": false,
    "nbgrader": {
     "cell_type": "markdown",
     "checksum": "65b0ffad2e488892b91a393aecd85bf8",
     "grade": false,
     "grade_id": "cell-7f7c22a2df66d9dd",
     "locked": true,
     "schema_version": 3,
     "solution": false,
     "task": false
    }
   },
   "source": [
    "#### Do not move or delete the below block. It is used for automatic grading."
   ]
  },
  {
   "cell_type": "code",
   "execution_count": null,
   "metadata": {
    "deletable": false,
    "editable": false,
    "nbgrader": {
     "cell_type": "code",
     "checksum": "4737f4ceb5a82165c1c242a7bb2da2be",
     "grade": true,
     "grade_id": "cell-d8dd0faba87361de",
     "locked": true,
     "points": 1,
     "schema_version": 3,
     "solution": false,
     "task": false
    }
   },
   "outputs": [],
   "source": []
  },
  {
   "cell_type": "markdown",
   "metadata": {
    "deletable": false,
    "editable": false,
    "nbgrader": {
     "cell_type": "markdown",
     "checksum": "8fc62befedf6b1d9c33cdab7034208b8",
     "grade": false,
     "grade_id": "cell-eeef53a91e7956df",
     "locked": true,
     "schema_version": 3,
     "solution": false,
     "task": false
    }
   },
   "source": [
    "**Task 1b**: Use the kernel function to compute the $N\\times N$ kernel matrix for the points $\\mathbf{X}^p$ with $\\alpha=1$ and $\\ell=1$. These points will be used for predictions later and hence, the superscript 'p'. Visualize the kernel function as an image and give an interpretation of the structure of the kernel (Hint: Use the 'imshow' function). Then, answer the multiple choice question below."
   ]
  },
  {
   "cell_type": "code",
   "execution_count": null,
   "metadata": {
    "deletable": false,
    "nbgrader": {
     "cell_type": "code",
     "checksum": "0333f93c727c4fd5547940d3513ccca6",
     "grade": false,
     "grade_id": "cell-4feb5c613edb33db",
     "locked": false,
     "schema_version": 3,
     "solution": true,
     "task": false
    }
   },
   "outputs": [],
   "source": [
    "# YOUR CODE HERE\n",
    "raise NotImplementedError()"
   ]
  },
  {
   "cell_type": "markdown",
   "metadata": {
    "deletable": false,
    "editable": false,
    "nbgrader": {
     "cell_type": "markdown",
     "checksum": "58a636d9d23e7ba28a5cfbc4b021c6df",
     "grade": false,
     "grade_id": "cell-a53de3467a051d5b",
     "locked": true,
     "schema_version": 3,
     "solution": false,
     "task": false
    }
   },
   "source": [
    "**What does the kernel function visualization look like?**\n",
    "\n",
    "**1)** It shows a **diagonal** band, which indicates **higher** values along the diagonal.\n",
    "\n",
    "**2)** It shows a **diagonal** band, which indicates **lower** values along the diagonal.\n",
    "\n",
    "**3)** It shows a **horizontal** band, which indicates **higher** values along the horizontal.\n",
    "\n",
    "**4)** It shows a **horizontal** band, which indicates **lower** values along the horizontal.\n",
    "\n",
    "Choose one answer and type it in the cell below."
   ]
  },
  {
   "cell_type": "code",
   "execution_count": null,
   "metadata": {},
   "outputs": [],
   "source": [
    "a_1b = None  # TASK: Replace None with your answer (1, 2, 3, 4)"
   ]
  },
  {
   "cell_type": "code",
   "execution_count": null,
   "metadata": {
    "deletable": false,
    "editable": false,
    "nbgrader": {
     "cell_type": "code",
     "checksum": "1cd8ba018c6f0615ca09d77b58471db2",
     "grade": false,
     "grade_id": "cell-00e43aa872dcf393",
     "locked": true,
     "schema_version": 3,
     "solution": false,
     "task": false
    }
   },
   "outputs": [],
   "source": [
    "assert a_1b in [1, 2, 3, 4]"
   ]
  },
  {
   "cell_type": "markdown",
   "metadata": {
    "deletable": false,
    "editable": false,
    "nbgrader": {
     "cell_type": "markdown",
     "checksum": "3142e1c522661b72f2963b98002e3877",
     "grade": false,
     "grade_id": "cell-766666b5b703a52a",
     "locked": true,
     "schema_version": 3,
     "solution": false,
     "task": false
    }
   },
   "source": [
    "#### Do not move or delete the below block. It is used for automatic grading."
   ]
  },
  {
   "cell_type": "code",
   "execution_count": null,
   "metadata": {
    "deletable": false,
    "editable": false,
    "nbgrader": {
     "cell_type": "code",
     "checksum": "b395157a2344f9dd472eb4f6f4681caf",
     "grade": true,
     "grade_id": "cell-3fe3aa5ce94155bb",
     "locked": true,
     "points": 0.5,
     "schema_version": 3,
     "solution": false,
     "task": false
    }
   },
   "outputs": [],
   "source": []
  },
  {
   "cell_type": "markdown",
   "metadata": {
    "deletable": false,
    "editable": false,
    "nbgrader": {
     "cell_type": "markdown",
     "checksum": "10ca90b3c9d2dc90f149b53a96cbcef8",
     "grade": false,
     "grade_id": "cell-8ee35f5a98845822",
     "locked": true,
     "schema_version": 3,
     "solution": false,
     "task": false
    }
   },
   "source": [
    "**Task 1c**: Visualize the kernel function for a few other values for the $\\alpha$ (alpha) parameter and answer the multiple choice question below."
   ]
  },
  {
   "cell_type": "code",
   "execution_count": null,
   "metadata": {
    "deletable": false,
    "nbgrader": {
     "cell_type": "code",
     "checksum": "2c56a1e114e87b27f028a327c8c3dffe",
     "grade": false,
     "grade_id": "cell-8f118f6fd8719ecf",
     "locked": false,
     "schema_version": 3,
     "solution": true,
     "task": false
    }
   },
   "outputs": [],
   "source": [
    "# YOUR CODE HERE\n",
    "raise NotImplementedError()"
   ]
  },
  {
   "cell_type": "markdown",
   "metadata": {
    "deletable": false,
    "editable": false,
    "nbgrader": {
     "cell_type": "markdown",
     "checksum": "2481471a2703ceb1f3b30039e51c3b27",
     "grade": false,
     "grade_id": "cell-a43511ae5012bffa",
     "locked": true,
     "schema_version": 3,
     "solution": false,
     "task": false
    }
   },
   "source": [
    "How does changing the $\\alpha$ (alpha) parameter affect the kernel function's structure?\n",
    "\n",
    "**1)** Increasing $\\alpha$ decreases the width of the band of higher values.\n",
    "\n",
    "**2)** Increasing $\\alpha$ increases the width of the band of higher values.\n",
    "\n",
    "**3)** Increasing $\\alpha$ has no effect on the width of the band, but increases its intensity.\n",
    "\n",
    "**4)** Increasing $\\alpha$ has no effect on the width of the band, but decreases its intensity.\n",
    "\n",
    "Choose one answer and type it in the cell below."
   ]
  },
  {
   "cell_type": "code",
   "execution_count": null,
   "metadata": {},
   "outputs": [],
   "source": [
    "a_1c = None  # TASK: Replace None with your answer (1, 2, 3, 4)"
   ]
  },
  {
   "cell_type": "code",
   "execution_count": null,
   "metadata": {
    "deletable": false,
    "editable": false,
    "nbgrader": {
     "cell_type": "code",
     "checksum": "6ad02ac48af325237701e0a37c66835a",
     "grade": false,
     "grade_id": "cell-b093fcfd3b296342",
     "locked": true,
     "schema_version": 3,
     "solution": false,
     "task": false
    }
   },
   "outputs": [],
   "source": [
    "assert a_1c in [1, 2, 3, 4]"
   ]
  },
  {
   "cell_type": "markdown",
   "metadata": {
    "deletable": false,
    "editable": false,
    "nbgrader": {
     "cell_type": "markdown",
     "checksum": "f64ee7f708682b7427505e5486308dd2",
     "grade": false,
     "grade_id": "cell-9e8767a0de191505",
     "locked": true,
     "schema_version": 3,
     "solution": false,
     "task": false
    }
   },
   "source": [
    "#### Do not move or delete the below block. It is used for automatic grading."
   ]
  },
  {
   "cell_type": "code",
   "execution_count": null,
   "metadata": {
    "deletable": false,
    "editable": false,
    "nbgrader": {
     "cell_type": "code",
     "checksum": "cb040e7d6b340105aad2f6e43fdf163d",
     "grade": true,
     "grade_id": "cell-f00f0357e47eab46",
     "locked": true,
     "points": 0.25,
     "schema_version": 3,
     "solution": false,
     "task": false
    }
   },
   "outputs": [],
   "source": []
  },
  {
   "cell_type": "markdown",
   "metadata": {
    "deletable": false,
    "editable": false,
    "nbgrader": {
     "cell_type": "markdown",
     "checksum": "00742f5baef595121b9d17da528b32f9",
     "grade": false,
     "grade_id": "cell-33dc5fe6eb5a3d75",
     "locked": true,
     "schema_version": 3,
     "solution": false,
     "task": false
    }
   },
   "source": [
    "**Task 1d:** Visualize the kernel function for a few other values for the $\\ell$ (scale) parameter and answer the multiple choice question below."
   ]
  },
  {
   "cell_type": "code",
   "execution_count": null,
   "metadata": {
    "deletable": false,
    "nbgrader": {
     "cell_type": "code",
     "checksum": "68331bcd3ac72945a0fc142d0fd1546e",
     "grade": false,
     "grade_id": "cell-fa2033e66ee6016a",
     "locked": false,
     "schema_version": 3,
     "solution": true,
     "task": false
    }
   },
   "outputs": [],
   "source": [
    "# YOUR CODE HERE\n",
    "raise NotImplementedError()"
   ]
  },
  {
   "cell_type": "markdown",
   "metadata": {
    "deletable": false,
    "editable": false,
    "nbgrader": {
     "cell_type": "markdown",
     "checksum": "4ff5979c87b0316ac59b073aec13a370",
     "grade": false,
     "grade_id": "cell-3b708f3643d3542a",
     "locked": true,
     "schema_version": 3,
     "solution": false,
     "task": false
    }
   },
   "source": [
    "How does changing the $\\ell$ (scale) parameter affect the kernel function's structure?\n",
    "\n",
    "**1)** Increasing $\\ell$ decreases the width of the band of higher values.\n",
    "\n",
    "**2)** Increasing $\\ell$ increases the width of the band of higher values.\n",
    "\n",
    "**3)** Increasing $\\ell$ has no effect on the width of the band, but increases its intensity.\n",
    "\n",
    "**4)** Increasing $\\ell$ has no effect on the width of the band, but decreases its intensity.\n",
    "\n",
    "Choose one answer and type it in the cell below."
   ]
  },
  {
   "cell_type": "code",
   "execution_count": null,
   "metadata": {},
   "outputs": [],
   "source": [
    "a_1d = None  # TASK: Replace None with your answer (1, 2, 3, 4)"
   ]
  },
  {
   "cell_type": "code",
   "execution_count": null,
   "metadata": {
    "deletable": false,
    "editable": false,
    "nbgrader": {
     "cell_type": "code",
     "checksum": "20dc1af19dc9be8b96e174d9bca1674f",
     "grade": false,
     "grade_id": "cell-f7031e6faeec8a8c",
     "locked": true,
     "schema_version": 3,
     "solution": false,
     "task": false
    }
   },
   "outputs": [],
   "source": [
    "assert a_1d in [1, 2, 3, 4]"
   ]
  },
  {
   "cell_type": "markdown",
   "metadata": {
    "deletable": false,
    "editable": false,
    "nbgrader": {
     "cell_type": "markdown",
     "checksum": "76d127ddce3e2e050af0264ce9530f1e",
     "grade": false,
     "grade_id": "cell-4f78f4c39f1044dc",
     "locked": true,
     "schema_version": 3,
     "solution": false,
     "task": false
    }
   },
   "source": [
    "#### Do not move or delete the below block. It is used for automatic grading."
   ]
  },
  {
   "cell_type": "code",
   "execution_count": null,
   "metadata": {
    "deletable": false,
    "editable": false,
    "nbgrader": {
     "cell_type": "code",
     "checksum": "d41eb8233ee4dd6b5709fbb8f9209320",
     "grade": true,
     "grade_id": "cell-915cffc6d13ad2be",
     "locked": true,
     "points": 0.25,
     "schema_version": 3,
     "solution": false,
     "task": false
    }
   },
   "outputs": [],
   "source": []
  },
  {
   "cell_type": "markdown",
   "metadata": {
    "deletable": false,
    "editable": false,
    "nbgrader": {
     "cell_type": "markdown",
     "checksum": "948d260d09cea67e51c9c6fc4a38f6ea",
     "grade": false,
     "grade_id": "cell-983d01bc9e1d6ce5",
     "locked": true,
     "schema_version": 3,
     "solution": false,
     "task": false
    }
   },
   "source": [
    "---"
   ]
  },
  {
   "cell_type": "markdown",
   "metadata": {
    "deletable": false,
    "editable": false,
    "nbgrader": {
     "cell_type": "markdown",
     "checksum": "1697769a0ddadd83bbdd9473bddc9749",
     "grade": false,
     "grade_id": "cell-8514708908115fa0",
     "locked": true,
     "schema_version": 3,
     "solution": false,
     "task": false
    }
   },
   "source": [
    "### Task 2: Sampling from a Gaussian process (1.5 points)"
   ]
  },
  {
   "cell_type": "markdown",
   "metadata": {
    "deletable": false,
    "editable": false,
    "nbgrader": {
     "cell_type": "markdown",
     "checksum": "f6cee90d2ffe2577fca9161470cda320",
     "grade": false,
     "grade_id": "cell-8fc658d7634625fc",
     "locked": true,
     "schema_version": 3,
     "solution": false,
     "task": false
    }
   },
   "source": [
    "We will consider a zero-mean Gaussian process prior for functions of the form $f: \\mathbb{R} \\rightarrow \\mathbb{R}$ using the squared exponential kernel from task 1). That is,\n",
    "\n",
    "\\begin{align}\n",
    "f(x) \\sim \\mathcal{GP}\\left(0 \\, , \\, k\\left(x, x'\\right)\\right).\n",
    "\\end{align}\n",
    "\n",
    "Let $f_n = f(x_n) \\in \\mathbb{R}$ be the value of the function $f$ evaluated at a point $x_n \\in \\mathbb{R}$. Furthermore, let $\\mathbf{f} = \\left[f_1, f_2, \\dots, f_N\\right] \\in \\mathbb{R}^{N \\times 1}$ be the vector of function values for each of the points of $\\mathbf{X}^p$ from task 1. \n",
    "\n",
    "The Gaussian process prior for $\\mathbf{f}$ becomes\n",
    "\n",
    "\\begin{align}\n",
    "\\mathbf{f} \\sim \\mathcal{N}\\left(\\mathbf{0}, \\mathbf{K}\\right),\n",
    "\\end{align}\n",
    "\n",
    "where $\\mathbf{K}$ is the kernel matrix you generated previously.\n",
    "\n",
    "**Task 2a**: Complete the implementation of the sampling function given below. Hint: You can re-use the code from first exercise.\n"
   ]
  },
  {
   "cell_type": "code",
   "execution_count": null,
   "metadata": {
    "deletable": false,
    "nbgrader": {
     "cell_type": "code",
     "checksum": "322649fecc71684d6d75c90b2a5581d6",
     "grade": false,
     "grade_id": "cell-f19b04d91c3bc420",
     "locked": false,
     "schema_version": 3,
     "solution": true,
     "task": false
    }
   },
   "outputs": [],
   "source": [
    "def generate_samples(mean, K, M):\n",
    "    \"\"\" returns M samples from a zero-mean Gaussian process with kernel matrix K\n",
    "    \n",
    "    arguments:\n",
    "    mean -- Nx1 mean vector\n",
    "    K    -- NxN kernel matrix\n",
    "    M    -- number of samples (scalar)\n",
    "    \n",
    "    returns NxM matrix\n",
    "    \"\"\"\n",
    "    \n",
    "    # YOUR CODE HERE\n",
    "    raise NotImplementedError()\n"
   ]
  },
  {
   "cell_type": "markdown",
   "metadata": {
    "deletable": false,
    "editable": false,
    "nbgrader": {
     "cell_type": "markdown",
     "checksum": "af4968f2f4a2a2e7ff7d631957576d04",
     "grade": false,
     "grade_id": "cell-8b169aed4bf31210",
     "locked": true,
     "schema_version": 3,
     "solution": false,
     "task": false
    }
   },
   "source": [
    "Let's test the above function"
   ]
  },
  {
   "cell_type": "code",
   "execution_count": null,
   "metadata": {
    "deletable": false,
    "editable": false,
    "nbgrader": {
     "cell_type": "code",
     "checksum": "b2ef579fa3e3e3ee4ad42a842944c375",
     "grade": false,
     "grade_id": "cell-3452d8b051a558bb",
     "locked": true,
     "schema_version": 3,
     "solution": false,
     "task": false
    }
   },
   "outputs": [],
   "source": [
    "samples = generate_samples(np.zeros((5, 1)), np.eye(5), 2)\n",
    "assert samples.shape == (5, 2)"
   ]
  },
  {
   "cell_type": "markdown",
   "metadata": {
    "deletable": false,
    "editable": false,
    "nbgrader": {
     "cell_type": "markdown",
     "checksum": "3a29ed6a2ffd90e9917684d0ada0dbc4",
     "grade": false,
     "grade_id": "cell-3d5ebf3d3d13a2f5",
     "locked": true,
     "schema_version": 3,
     "solution": false,
     "task": false
    }
   },
   "source": [
    "#### Do not move or delete the below block. It is used for automatic grading."
   ]
  },
  {
   "cell_type": "code",
   "execution_count": null,
   "metadata": {
    "deletable": false,
    "editable": false,
    "nbgrader": {
     "cell_type": "code",
     "checksum": "4af834abacfa8988c60ad4930833c393",
     "grade": true,
     "grade_id": "cell-dd939f262704cb44",
     "locked": true,
     "points": 0.5,
     "schema_version": 3,
     "solution": false,
     "task": false
    }
   },
   "outputs": [],
   "source": []
  },
  {
   "cell_type": "markdown",
   "metadata": {
    "deletable": false,
    "editable": false,
    "nbgrader": {
     "cell_type": "markdown",
     "checksum": "1d8cc84699e6810a401e4220433268a1",
     "grade": false,
     "grade_id": "cell-7aaffdc0901403ff",
     "locked": true,
     "schema_version": 3,
     "solution": false,
     "task": false
    }
   },
   "source": [
    "**Task 2b**: Generate $M = 10$ samples from the Gaussian process prior $\\mathbf{f} \\sim \\mathcal{N}\\left(\\mathbf{0}, \\mathbf{K}\\right)$ using the function you implemented. For kernel matrix $\\mathbf{K}$, use the kernel matrix for the points $\\mathbf{X}^p$ with $\\alpha=1$ and $\\ell=1$ which you computed in *Task 1b*. Plot the samples, and answer the multiple choice question below."
   ]
  },
  {
   "cell_type": "code",
   "execution_count": null,
   "metadata": {
    "deletable": false,
    "nbgrader": {
     "cell_type": "code",
     "checksum": "464a65b5ed2cad8ac65f3155a8eb7339",
     "grade": false,
     "grade_id": "cell-981555d3719ee35e",
     "locked": false,
     "schema_version": 3,
     "solution": true,
     "task": false
    }
   },
   "outputs": [],
   "source": [
    "# YOUR CODE HERE\n",
    "raise NotImplementedError()"
   ]
  },
  {
   "cell_type": "markdown",
   "metadata": {
    "deletable": false,
    "editable": false,
    "nbgrader": {
     "cell_type": "markdown",
     "checksum": "977d610fac6e1caa3326b70b31d9895c",
     "grade": false,
     "grade_id": "cell-eced6a46c787daac",
     "locked": true,
     "schema_version": 3,
     "solution": false,
     "task": false
    }
   },
   "source": [
    "What do the generated samples look like?\n",
    "\n",
    "**1)** Straight horizontal lines, each with a different slope and different intercept at $x=0$.\n",
    "\n",
    "**2)** Continuous curves that are roughly centered around $f(x)=0$.\n",
    "\n",
    "**3)** Continuous curves that are roughly centered around $f(x)=10$.\n",
    "\n",
    "**4)** Straight horizontal lines, each with a different slope but the same intercept at $x=0$.\n",
    "\n",
    "Choose one answer and type it in the cell below."
   ]
  },
  {
   "cell_type": "code",
   "execution_count": null,
   "metadata": {},
   "outputs": [],
   "source": [
    "a_2b = None  # TASK: Replace None with your answer (1, 2, 3, 4)"
   ]
  },
  {
   "cell_type": "code",
   "execution_count": null,
   "metadata": {
    "deletable": false,
    "editable": false,
    "nbgrader": {
     "cell_type": "code",
     "checksum": "7ec235c0e16c2f74716244a1f1774b5f",
     "grade": false,
     "grade_id": "cell-a4023285d4a5a844",
     "locked": true,
     "schema_version": 3,
     "solution": false,
     "task": false
    }
   },
   "outputs": [],
   "source": [
    "assert a_2b in [1, 2, 3, 4]"
   ]
  },
  {
   "cell_type": "markdown",
   "metadata": {
    "deletable": false,
    "editable": false,
    "nbgrader": {
     "cell_type": "markdown",
     "checksum": "63a1723c113acc1923b6fd64f5728914",
     "grade": false,
     "grade_id": "cell-bb5ecd0eefe55bee",
     "locked": true,
     "schema_version": 3,
     "solution": false,
     "task": false
    }
   },
   "source": [
    "#### Do not move or delete the below block. It is used for automatic grading."
   ]
  },
  {
   "cell_type": "code",
   "execution_count": null,
   "metadata": {
    "deletable": false,
    "editable": false,
    "nbgrader": {
     "cell_type": "code",
     "checksum": "fdc39e065f3de92eaf3f59415ec968f0",
     "grade": true,
     "grade_id": "cell-17da8d3c646b4cf8",
     "locked": true,
     "points": 0.5,
     "schema_version": 3,
     "solution": false,
     "task": false
    }
   },
   "outputs": [],
   "source": []
  },
  {
   "cell_type": "markdown",
   "metadata": {
    "deletable": false,
    "editable": false,
    "nbgrader": {
     "cell_type": "markdown",
     "checksum": "5b89c3bd041aa4d1df9eff6d7443fe48",
     "grade": false,
     "grade_id": "cell-87349f579da42d34",
     "locked": true,
     "schema_version": 3,
     "solution": false,
     "task": false
    }
   },
   "source": [
    "**Task 2c**: Change the parameter $\\alpha$ (alpha) and observe how it affects the generated samples. Plot them, and answer the multiple choice question below."
   ]
  },
  {
   "cell_type": "code",
   "execution_count": null,
   "metadata": {
    "deletable": false,
    "nbgrader": {
     "cell_type": "code",
     "checksum": "1dec5e026c30c108db8c0433228ed74b",
     "grade": false,
     "grade_id": "cell-35a2b8449fb4478a",
     "locked": false,
     "schema_version": 3,
     "solution": true,
     "task": false
    }
   },
   "outputs": [],
   "source": [
    "# YOUR CODE HERE\n",
    "raise NotImplementedError()"
   ]
  },
  {
   "cell_type": "markdown",
   "metadata": {
    "deletable": false,
    "editable": false,
    "nbgrader": {
     "cell_type": "markdown",
     "checksum": "a5104cdf507f0988848c5c18cad92d18",
     "grade": false,
     "grade_id": "cell-8af3ad6fdd9420d2",
     "locked": true,
     "schema_version": 3,
     "solution": false,
     "task": false
    }
   },
   "source": [
    "What is the effect of changing the $\\alpha$ (alpha) parameter on the generated samples?\n",
    "\n",
    "**1)** Increasing the $\\alpha$ parameter results in the samples having a larger range of values.\n",
    "\n",
    "**2)** Decreasing the $\\alpha$ parameter results in the samples looking more smooth.\n",
    "\n",
    "**3)** Increasing the $\\alpha$ parameter results in the samples having a smaller range of values.\n",
    "\n",
    "**4)** Decreasing the $\\alpha$ parameter results in the samples looking less smooth.\n",
    "\n",
    "Choose one answer and type it in the cell below."
   ]
  },
  {
   "cell_type": "code",
   "execution_count": null,
   "metadata": {},
   "outputs": [],
   "source": [
    "a_2c1 = None  # TASK: Replace None with your answer (1, 2, 3, 4)"
   ]
  },
  {
   "cell_type": "code",
   "execution_count": null,
   "metadata": {
    "deletable": false,
    "editable": false,
    "nbgrader": {
     "cell_type": "code",
     "checksum": "7748017ea4881d84a4219bb0ef46fba6",
     "grade": false,
     "grade_id": "cell-0c395dbb9c9e6091",
     "locked": true,
     "schema_version": 3,
     "solution": false,
     "task": false
    }
   },
   "outputs": [],
   "source": [
    "assert a_2c1 in [1, 2, 3, 4]"
   ]
  },
  {
   "cell_type": "markdown",
   "metadata": {
    "deletable": false,
    "editable": false,
    "nbgrader": {
     "cell_type": "markdown",
     "checksum": "b3f601be68bcdd8b3c75256e29e2fbca",
     "grade": false,
     "grade_id": "cell-c56e99d02242c45c",
     "locked": true,
     "schema_version": 3,
     "solution": false,
     "task": false
    }
   },
   "source": [
    "### Do not move or delete the below block. It is used for automatic grading."
   ]
  },
  {
   "cell_type": "code",
   "execution_count": null,
   "metadata": {
    "deletable": false,
    "editable": false,
    "nbgrader": {
     "cell_type": "code",
     "checksum": "e8f3926a3389131822b78a79f4d10d95",
     "grade": true,
     "grade_id": "cell-c3af6fec97918b49",
     "locked": true,
     "points": 0.25,
     "schema_version": 3,
     "solution": false,
     "task": false
    }
   },
   "outputs": [],
   "source": []
  },
  {
   "cell_type": "markdown",
   "metadata": {
    "deletable": false,
    "editable": false,
    "nbgrader": {
     "cell_type": "markdown",
     "checksum": "3226176683dc1a1e885af367156cb5a9",
     "grade": false,
     "grade_id": "cell-110caf37f631b727",
     "locked": true,
     "schema_version": 3,
     "solution": false,
     "task": false
    }
   },
   "source": [
    "**Task 2d**: Change the parameter $\\ell$ (scale) and observe how it affects the generated samples. Plot them, and answer the multiple choice question below."
   ]
  },
  {
   "cell_type": "code",
   "execution_count": null,
   "metadata": {
    "deletable": false,
    "nbgrader": {
     "cell_type": "code",
     "checksum": "afcd6af467a3ba33ac951631fd7aa9ca",
     "grade": false,
     "grade_id": "cell-bc9683085d282ff2",
     "locked": false,
     "schema_version": 3,
     "solution": true,
     "task": false
    }
   },
   "outputs": [],
   "source": [
    "# YOUR CODE HERE\n",
    "raise NotImplementedError()"
   ]
  },
  {
   "cell_type": "markdown",
   "metadata": {
    "deletable": false,
    "editable": false,
    "nbgrader": {
     "cell_type": "markdown",
     "checksum": "e06b0dd4fe313d2aa79c7b9ab24244b0",
     "grade": false,
     "grade_id": "cell-f3647376793b0cb7",
     "locked": true,
     "schema_version": 3,
     "solution": false,
     "task": false
    }
   },
   "source": [
    "What is the effect of changing the $\\ell$ (scale) parameter on the generated samples?\n",
    "\n",
    "**1)** Increasing the $\\ell$ parameter results in the samples having a larger range of values.\n",
    "\n",
    "**2)** Decreasing the $\\ell$ parameter results in the samples looking more smooth.\n",
    "\n",
    "**3)** Increasing the $\\ell$ parameter results in the samples having a smaller range of values.\n",
    "\n",
    "**4)** Decreasing the $\\ell$ parameter results in the samples looking less smooth.\n",
    "\n",
    "Choose one answer and type it in the cell below."
   ]
  },
  {
   "cell_type": "code",
   "execution_count": null,
   "metadata": {},
   "outputs": [],
   "source": [
    "a_2d = None  # TASK: Replace None with your answer (1, 2, 3, 4)"
   ]
  },
  {
   "cell_type": "code",
   "execution_count": null,
   "metadata": {
    "deletable": false,
    "editable": false,
    "nbgrader": {
     "cell_type": "code",
     "checksum": "c2032db66b43482adb15bd9f8d623890",
     "grade": false,
     "grade_id": "cell-61e9fd3cf28023ad",
     "locked": true,
     "schema_version": 3,
     "solution": false,
     "task": false
    }
   },
   "outputs": [],
   "source": [
    "assert a_2d in [1,2,3,4]"
   ]
  },
  {
   "cell_type": "markdown",
   "metadata": {
    "deletable": false,
    "editable": false,
    "nbgrader": {
     "cell_type": "markdown",
     "checksum": "fdc42a786149aa82eed03ed99314577a",
     "grade": false,
     "grade_id": "cell-6ccc9304dbaec384",
     "locked": true,
     "schema_version": 3,
     "solution": false,
     "task": false
    }
   },
   "source": [
    "#### Do not move or delete the below block. It is used for automatic grading."
   ]
  },
  {
   "cell_type": "code",
   "execution_count": null,
   "metadata": {
    "deletable": false,
    "editable": false,
    "nbgrader": {
     "cell_type": "code",
     "checksum": "889d372d8e714f51b095dcc7589b2c67",
     "grade": true,
     "grade_id": "cell-c1e2ad74b5763a65",
     "locked": true,
     "points": 0.25,
     "schema_version": 3,
     "solution": false,
     "task": false
    }
   },
   "outputs": [],
   "source": []
  },
  {
   "cell_type": "markdown",
   "metadata": {
    "deletable": false,
    "editable": false,
    "nbgrader": {
     "cell_type": "markdown",
     "checksum": "0c6fb00df6b6fb0c293833bb6622231b",
     "grade": false,
     "grade_id": "cell-e52fc0f2c882cd2f",
     "locked": true,
     "schema_version": 3,
     "solution": false,
     "task": false
    }
   },
   "source": [
    "---"
   ]
  },
  {
   "cell_type": "markdown",
   "metadata": {
    "deletable": false,
    "editable": false,
    "nbgrader": {
     "cell_type": "markdown",
     "checksum": "80826fd3775a94a2000174cefe1fb701",
     "grade": false,
     "grade_id": "cell-d9e43e4fd42e7727",
     "locked": true,
     "schema_version": 3,
     "solution": false,
     "task": false
    }
   },
   "source": [
    "### Task 3: The analytical posterior distribution (2.5 points)"
   ]
  },
  {
   "cell_type": "markdown",
   "metadata": {
    "deletable": false,
    "editable": false,
    "nbgrader": {
     "cell_type": "markdown",
     "checksum": "6650ac2e536f37112d14b3e3f70ab92d",
     "grade": false,
     "grade_id": "cell-3c7d5cc4dc93f837",
     "locked": true,
     "schema_version": 3,
     "solution": false,
     "task": false
    }
   },
   "source": [
    "The goal of this task is complete the implementation of the function below for computing the analytical posterior distribution for a Gaussian process model with Gaussian likelihood, respectively, using the squared exponential kernel.\n",
    "\n",
    "The joint model for the training data is as follows:\n",
    "\\begin{align}\n",
    "p(\\mathbf{y}, \\mathbf{f}) = \\mathcal{N}\\left(\\mathbf{y}|\\mathbf{f}, \\sigma^2 \\mathbf{I}\\right)\\mathcal{N}\\left(\\mathbf{f} | \\mathbf{0}, \\mathbf{K}\\right)\n",
    "\\end{align}\n",
    "\n",
    "\n",
    "\n",
    "\n",
    "\n",
    "Below you are given a simple toy data set $\\mathcal{D} = \\left\\lbrace x_n, y_n \\right\\rbrace_{n=1}^N$ for $N = 50$ as visualized below"
   ]
  },
  {
   "cell_type": "code",
   "execution_count": null,
   "metadata": {
    "deletable": false,
    "editable": false,
    "nbgrader": {
     "cell_type": "code",
     "checksum": "4bb5c71da0b4d352ffb9a51667d16a58",
     "grade": false,
     "grade_id": "cell-6d60a8cc98427f2a",
     "locked": true,
     "schema_version": 3,
     "solution": false,
     "task": false
    }
   },
   "outputs": [],
   "source": [
    "# load data\n",
    "data = np.load('assignment2_data.npz')\n",
    "N = data['N']\n",
    "X = data['X']\n",
    "y = data['y']\n",
    "Xp = np.linspace(-3, 9, N)[:, None]\n",
    "\n",
    "def plot_data():\n",
    "    plt.plot(X, y, 'k.', markersize=12, label='Training data')\n",
    "    plt.grid(True)\n",
    "    plt.xlim((-4, 4))\n",
    "    plt.ylim((-3, 6))\n",
    "    plt.xlabel('Input $x$')\n",
    "    plt.ylabel('Response $y$')\n",
    "    plt.legend();\n",
    "\n",
    "if not automatic_grading:\n",
    "    plot_data()\n"
   ]
  },
  {
   "cell_type": "markdown",
   "metadata": {
    "deletable": false,
    "editable": false,
    "nbgrader": {
     "cell_type": "markdown",
     "checksum": "43291bd3173d3e0ebde31ec58d2e24a4",
     "grade": false,
     "grade_id": "cell-b9742ed329cc7911",
     "locked": true,
     "schema_version": 3,
     "solution": false,
     "task": false
    }
   },
   "source": [
    "**Task 3a**: Complete the implementation of the function <tt>posterior</tt> that computes the posterior\n",
    "\n",
    "\\begin{align*}\n",
    "p(f_* | X,y,X^p) = \\mathcal{N} \\left(f_* \\big| K_{f_* f} (K_{ff} + \\sigma^2)^{-1} y, K_{f_* f_*} - K_{f_* f} (K_{ff} + \\sigma^2)^{-1} K_{f_* f}^T \\right)\n",
    "\\end{align*}\n"
   ]
  },
  {
   "cell_type": "code",
   "execution_count": null,
   "metadata": {
    "deletable": false,
    "nbgrader": {
     "cell_type": "code",
     "checksum": "60b9109de2da9a655e1e49cabb99202f",
     "grade": false,
     "grade_id": "cell-898f2a63e01022fd",
     "locked": false,
     "schema_version": 3,
     "solution": true,
     "task": false
    }
   },
   "outputs": [],
   "source": [
    "def posterior(Xp, X, y, alpha, scale, sigma2):\n",
    "    \"\"\" returns the posterior distribution of f evaluated at each of the points in Xp conditioned on (X, y)\n",
    "        using the squared exponential kernel.\n",
    "    \n",
    "    Arguments:\n",
    "    Xp    -- PxD prediction points\n",
    "    X     -- NxD input points\n",
    "    y     -- Nx1 observed values \n",
    "    alpha -- hyperparameter\n",
    "    scale -- hyperparameter\n",
    "    sigma2 -- noise variance\n",
    "    \n",
    "    returns Px1 mean vector and PxP covariance matrix\n",
    "    \"\"\"\n",
    "\n",
    "    # YOUR CODE HERE\n",
    "    raise NotImplementedError()\n",
    "    \n",
    "    return mu, Sigma"
   ]
  },
  {
   "cell_type": "markdown",
   "metadata": {
    "deletable": false,
    "editable": false,
    "nbgrader": {
     "cell_type": "markdown",
     "checksum": "363f12af04fab6f526d307241569330e",
     "grade": false,
     "grade_id": "cell-c290e0230de2a987",
     "locked": true,
     "schema_version": 3,
     "solution": false,
     "task": false
    }
   },
   "source": [
    "Let's test the above function:"
   ]
  },
  {
   "cell_type": "code",
   "execution_count": null,
   "metadata": {
    "deletable": false,
    "editable": false,
    "nbgrader": {
     "cell_type": "code",
     "checksum": "8f524124e1fdb01e78c62cb9e94271dc",
     "grade": false,
     "grade_id": "cell-53aebe4fe3a5bbbe",
     "locked": true,
     "schema_version": 3,
     "solution": false,
     "task": false
    }
   },
   "outputs": [],
   "source": [
    "# Make some dummy data\n",
    "X_test = np.array([3.06, 1.09, 0.01, -0.59, -1.53, -2.41]).reshape((6, 1))\n",
    "y_test = np.array([2.20, 2.01, 1.95, 2.40, 2.50, 2.20]).reshape((6, 1))\n",
    "Xp_test = np.asarray([2.45, 0.00, -0.69]).reshape((3, 1))\n",
    "\n",
    "# Call the posterior function implementation\n",
    "mu_test, Sigma_test = posterior(Xp_test, X_test, y_test, alpha=1.0, scale=1.0, sigma2=1.0)\n",
    "\n",
    "# Test the results\n",
    "assert mu_test.shape == (3, 1)\n",
    "assert Sigma_test.shape == (3, 3)\n",
    "np.testing.assert_allclose(mu_test, np.asarray([[1.18489], [1.59151], [1.76300]]), rtol=1e-3, atol=1e-3)\n",
    "np.testing.assert_allclose(Sigma_test, \n",
    "                                     np.asarray([[ 0.59695, -0.02277, -0.00558],\n",
    "                                                [-0.02277,  0.35115,  0.22146],\n",
    "                                                [-0.00558,  0.22146,  0.3450]]), rtol=1e-3, atol=1e-3)"
   ]
  },
  {
   "cell_type": "markdown",
   "metadata": {
    "deletable": false,
    "editable": false,
    "nbgrader": {
     "cell_type": "markdown",
     "checksum": "d2c5fdbe0f9367d313b6a988bc30f6f8",
     "grade": false,
     "grade_id": "cell-44f80b5bff85e888",
     "locked": true,
     "schema_version": 3,
     "solution": false,
     "task": false
    }
   },
   "source": [
    "#### Do not move or delete the below block. It is used for automatic grading."
   ]
  },
  {
   "cell_type": "code",
   "execution_count": null,
   "metadata": {
    "deletable": false,
    "editable": false,
    "nbgrader": {
     "cell_type": "code",
     "checksum": "cd4a344bf624fdb1d30ac77a18477250",
     "grade": true,
     "grade_id": "cell-20aef7a259ca4bc5",
     "locked": true,
     "points": 1,
     "schema_version": 3,
     "solution": false,
     "task": false
    }
   },
   "outputs": [],
   "source": []
  },
  {
   "cell_type": "markdown",
   "metadata": {
    "deletable": false,
    "editable": false,
    "nbgrader": {
     "cell_type": "markdown",
     "checksum": "5483b50c2215904ee0fe7da279ae580a",
     "grade": false,
     "grade_id": "cell-d244dc126e580894",
     "locked": true,
     "schema_version": 3,
     "solution": false,
     "task": false
    }
   },
   "source": [
    "**Task 3b**: Compute the prior & posterior of $f(\\mathbf{X}_p)$ with $\\sigma^2 = \\frac{1}{2}$, $\\alpha=1$, and $\\ell$=1, where $\\mathbf{X}_p$ is the vector from *Task 1*.\n"
   ]
  },
  {
   "cell_type": "code",
   "execution_count": null,
   "metadata": {
    "deletable": false,
    "nbgrader": {
     "cell_type": "code",
     "checksum": "23b4009ef5424dfe6cd8c67d7418acea",
     "grade": false,
     "grade_id": "cell-3a50983e25c119d2",
     "locked": false,
     "schema_version": 3,
     "solution": true,
     "task": false
    }
   },
   "outputs": [],
   "source": [
    "sigma2 = 0.5\n",
    "alpha = 1\n",
    "scale = 1\n",
    "\n",
    "# prior mean and covariance\n",
    "mu_prior, Sigma_prior = None, None\n",
    "\n",
    "# posterior mean and covariance\n",
    "mu_post, Sigma_post = None, None\n",
    "\n",
    "# YOUR CODE HERE\n",
    "raise NotImplementedError()"
   ]
  },
  {
   "cell_type": "markdown",
   "metadata": {
    "deletable": false,
    "editable": false,
    "nbgrader": {
     "cell_type": "markdown",
     "checksum": "2b184e983ee9ab3b1aac8c634b144c17",
     "grade": false,
     "grade_id": "cell-5c509a1c2cc178b2",
     "locked": true,
     "schema_version": 3,
     "solution": false,
     "task": false
    }
   },
   "source": [
    "Let's test the above:"
   ]
  },
  {
   "cell_type": "code",
   "execution_count": null,
   "metadata": {
    "deletable": false,
    "editable": false,
    "nbgrader": {
     "cell_type": "code",
     "checksum": "ae8b55024ac43197932719a2fbef1d0d",
     "grade": false,
     "grade_id": "cell-4702d8e8c8568be4",
     "locked": true,
     "schema_version": 3,
     "solution": false,
     "task": false
    }
   },
   "outputs": [],
   "source": [
    "assert mu_prior.shape == (50, 1)\n",
    "assert Sigma_prior.shape == (50, 50)\n",
    "assert mu_post.shape == (50, 1)\n",
    "assert Sigma_post.shape == (50, 50)"
   ]
  },
  {
   "cell_type": "markdown",
   "metadata": {
    "deletable": false,
    "editable": false,
    "nbgrader": {
     "cell_type": "markdown",
     "checksum": "480e2663162dc66a05ae396252c80db9",
     "grade": false,
     "grade_id": "cell-2f8a00bf277f2df2",
     "locked": true,
     "schema_version": 3,
     "solution": false,
     "task": false
    }
   },
   "source": [
    "#### Do not move or delete the below block. It is used for automatic grading."
   ]
  },
  {
   "cell_type": "code",
   "execution_count": null,
   "metadata": {
    "deletable": false,
    "editable": false,
    "nbgrader": {
     "cell_type": "code",
     "checksum": "a2aefbfb1a8d620e345cad3db1705bb4",
     "grade": true,
     "grade_id": "cell-510403182418738b",
     "locked": true,
     "points": 0.5,
     "schema_version": 3,
     "solution": false,
     "task": false
    }
   },
   "outputs": [],
   "source": []
  },
  {
   "cell_type": "markdown",
   "metadata": {
    "deletable": false,
    "editable": false,
    "nbgrader": {
     "cell_type": "markdown",
     "checksum": "e56359838d4326ee080f4c4c6936dc98",
     "grade": false,
     "grade_id": "cell-28ed614cc7377f5c",
     "locked": true,
     "schema_version": 3,
     "solution": false,
     "task": false
    }
   },
   "source": [
    "**Task 3c**: If the functions above have been implemented correctly, then the following two plots below will show the training data superimposed with prior and posterior, respectively. Answer the two multiple choice questions below."
   ]
  },
  {
   "cell_type": "code",
   "execution_count": null,
   "metadata": {
    "deletable": false,
    "editable": false,
    "nbgrader": {
     "cell_type": "code",
     "checksum": "7652bea3287f06446fc72740738e8eb6",
     "grade": false,
     "grade_id": "cell-716a202980054510",
     "locked": true,
     "schema_version": 3,
     "solution": false,
     "task": false
    }
   },
   "outputs": [],
   "source": [
    "def plot_with_uncertainty(Xp, mu, Sigma, color='r', color_samples='b', title=\"\", num_samples=0):\n",
    "    \n",
    "    mean, std = mu.ravel(), np.sqrt(np.diag(Sigma))\n",
    "\n",
    "    \n",
    "    # plot distribution\n",
    "    plt.plot(Xp, mean, color=color, label='Mean')\n",
    "    plt.plot(Xp, mean + 2*std, color=color, linestyle='--')\n",
    "    plt.plot(Xp, mean - 2*std, color=color, linestyle='--')\n",
    "    plt.fill_between(Xp.ravel(), mean - 2*std, mean + 2*std, color=color, alpha=0.25, label='Confidence')\n",
    "    \n",
    "    # generate samples\n",
    "    if num_samples > 0:\n",
    "        fs = generate_samples(mu, Sigma, 10)\n",
    "        plt.plot(Xp, fs, color=color_samples, alpha=.25)\n",
    "    \n",
    "    plt.title(title)\n",
    "    \n",
    "def plot_data():\n",
    "    plt.plot(X, y, 'k.', markersize=15, label='Data')\n",
    "    plt.xlabel('Input x')\n",
    "    plt.ylim((-5, 5))\n",
    "    plt.grid(True)\n",
    "\n",
    "\n",
    "def plot_data_with_uncertainty():\n",
    "    plt.figure(figsize=(20, 6))\n",
    "    plt.subplot(1, 2, 1)\n",
    "    plot_data()\n",
    "    plot_with_uncertainty(Xp, mu_prior, Sigma_prior, title='Prior distribution', num_samples=10)\n",
    "    plt.legend(loc='lower right')\n",
    "\n",
    "    plt.subplot(1, 2, 2)\n",
    "    plot_data()\n",
    "    plot_with_uncertainty(Xp, mu_post, Sigma_post, title='Posterior distribution', num_samples=10)\n",
    "    plt.legend(loc='lower right')\n",
    "\n",
    "if not automatic_grading:\n",
    "    plot_data_with_uncertainty()"
   ]
  },
  {
   "cell_type": "markdown",
   "metadata": {
    "deletable": false,
    "editable": false,
    "nbgrader": {
     "cell_type": "markdown",
     "checksum": "21eb038fc5b755649be10a2b7780013f",
     "grade": false,
     "grade_id": "cell-7ee0f7dda1ad700a",
     "locked": true,
     "schema_version": 3,
     "solution": false,
     "task": false
    }
   },
   "source": [
    "What is the difference between the prior and the posterior distributions in regions **close to** the data points $(-3 < x < 3)$?\n",
    "\n",
    "**1)** The prior distribution plot shows a **constant mean line** with a **wide confidence interval**, and and the posterior distribution plot shows a shows a **constant mean line** with a **wide confidence interval**.\n",
    "\n",
    "**2)** The prior distribution plot shows a **mean curve** that follows the data with a **narrow confidence interval**, and the posterior distribution plot shows a **constant mean line** with a **wide confidence interval**.\n",
    "\n",
    "**3)** The prior distribution plot shows a **constant mean line** with a **wide confidence interval**, and the posterior distribution plot shows a **mean curve** that follows the data with a **narrow confidence interval**.\n",
    "\n",
    "**4)** The prior distribution plot shows a **mean curve** that follows the data with a **narrow confidence interval**, and the posterior distribution plot shows a **mean curve** that follows the data with a **narrow confidence interval**.\n",
    "\n",
    "Choose one answer and type it in the cell below."
   ]
  },
  {
   "cell_type": "code",
   "execution_count": null,
   "metadata": {},
   "outputs": [],
   "source": [
    "a_3c1 = None  # TASK: Replace None with your answer (1, 2, 3, 4)"
   ]
  },
  {
   "cell_type": "code",
   "execution_count": null,
   "metadata": {
    "deletable": false,
    "editable": false,
    "nbgrader": {
     "cell_type": "code",
     "checksum": "dda28b78f062903577f1a16a3f596a8f",
     "grade": false,
     "grade_id": "cell-e9b90da05e71ff3c",
     "locked": true,
     "schema_version": 3,
     "solution": false,
     "task": false
    }
   },
   "outputs": [],
   "source": [
    "assert a_3c1 in [1, 2, 3, 4]"
   ]
  },
  {
   "cell_type": "markdown",
   "metadata": {
    "deletable": false,
    "editable": false,
    "nbgrader": {
     "cell_type": "markdown",
     "checksum": "480830b8c4cbb52678f0586e5b15c691",
     "grade": false,
     "grade_id": "cell-be9183b11c9c1d17",
     "locked": true,
     "schema_version": 3,
     "solution": false,
     "task": false
    }
   },
   "source": [
    "#### Do not move or delete the below block. It is used for automatic grading."
   ]
  },
  {
   "cell_type": "code",
   "execution_count": null,
   "metadata": {
    "deletable": false,
    "editable": false,
    "nbgrader": {
     "cell_type": "code",
     "checksum": "62023bb42bd0c6b903c1c95f77502f77",
     "grade": true,
     "grade_id": "cell-8b6d3c9c5381503f",
     "locked": true,
     "points": 0.25,
     "schema_version": 3,
     "solution": false,
     "task": false
    }
   },
   "outputs": [],
   "source": []
  },
  {
   "cell_type": "markdown",
   "metadata": {
    "deletable": false,
    "editable": false,
    "nbgrader": {
     "cell_type": "markdown",
     "checksum": "cab7bb70eef9575afe4ba7ad8a3cf2ed",
     "grade": false,
     "grade_id": "cell-da2ec4103e536bbf",
     "locked": true,
     "schema_version": 3,
     "solution": false,
     "task": false
    }
   },
   "source": [
    "What is the difference between the prior and the posterior distributions in regions **far away** from the data points $(x > 6)$?\n",
    "\n",
    "**1)** The prior distribution plot shows a **constant mean line** with a **wide confidence interval**, and also the posterior distribution plot shows a shows a **constant mean line** with a **wide confidence interval**.\n",
    "\n",
    "**2)** The prior distribution plot shows a **mean curve** that follows the data with a **narrow confidence interval**, whilst the posterior distribution plot shows a **constant mean line** with a **wide confidence interval**.\n",
    "\n",
    "**3)** The prior distribution plot shows a shows a **constant mean line** with a **wide confidence interval**, whilst the posterior distribution plot shows a **mean curve** that follows the data with a **narrow confidence interval**.\n",
    "\n",
    "**4)** The prior distribution plot shows a **mean curve** that follows the data with a **narrow confidence interval**, and also the posterior distribution plot shows a **mean curve** that follows the data with a **narrow confidence interval**.\n",
    "\n",
    "Choose one answer and type it in the cell below."
   ]
  },
  {
   "cell_type": "code",
   "execution_count": null,
   "metadata": {},
   "outputs": [],
   "source": [
    "a_3c2 = None  # TASK: Replace None with your answer (1, 2, 3, 4)"
   ]
  },
  {
   "cell_type": "code",
   "execution_count": null,
   "metadata": {
    "deletable": false,
    "editable": false,
    "nbgrader": {
     "cell_type": "code",
     "checksum": "3d89d9419915a46c25cec6d2a9587c0c",
     "grade": false,
     "grade_id": "cell-ee8e45e1176f7a5a",
     "locked": true,
     "schema_version": 3,
     "solution": false,
     "task": false
    }
   },
   "outputs": [],
   "source": [
    "assert a_3c2 in [1, 2, 3, 4] "
   ]
  },
  {
   "cell_type": "markdown",
   "metadata": {
    "deletable": false,
    "editable": false,
    "nbgrader": {
     "cell_type": "markdown",
     "checksum": "18065dc32ef9a0cfbcce9c69b827de40",
     "grade": false,
     "grade_id": "cell-a8e39e667130afbc",
     "locked": true,
     "schema_version": 3,
     "solution": false,
     "task": false
    }
   },
   "source": [
    "#### Do not move or delete the below block. It is used for automatic grading."
   ]
  },
  {
   "cell_type": "code",
   "execution_count": null,
   "metadata": {
    "deletable": false,
    "editable": false,
    "nbgrader": {
     "cell_type": "code",
     "checksum": "39fcf16fea2489158c58c9f1436dc705",
     "grade": true,
     "grade_id": "cell-45ad4a46f9093ea7",
     "locked": true,
     "points": 0.25,
     "schema_version": 3,
     "solution": false,
     "task": false
    }
   },
   "outputs": [],
   "source": []
  },
  {
   "cell_type": "markdown",
   "metadata": {
    "deletable": false,
    "editable": false,
    "nbgrader": {
     "cell_type": "markdown",
     "checksum": "66e82b69f2ce763f8b68d247fa9652f4",
     "grade": false,
     "grade_id": "cell-81a4be3c4e1478b2",
     "locked": true,
     "schema_version": 3,
     "solution": false,
     "task": false
    }
   },
   "source": [
    "**Task 3d**: Replicate the two figures above for the following three different values of the scale parameter: $\\ell \\in \\left\\lbrace 0.1, 1., 10 \\right\\rbrace$ and for $\\sigma^2 = \\frac{1}{2}$ and $\\alpha=1$. Answer the multiple choice question below.\n"
   ]
  },
  {
   "cell_type": "code",
   "execution_count": null,
   "metadata": {
    "deletable": false,
    "nbgrader": {
     "cell_type": "code",
     "checksum": "dc217abfe798fbb702d499bace2193cc",
     "grade": false,
     "grade_id": "cell-69e8f1e942ff0a8a",
     "locked": false,
     "schema_version": 3,
     "solution": true,
     "task": false
    }
   },
   "outputs": [],
   "source": [
    "sigma2=0.5\n",
    "alpha=1\n",
    "scales = [0.1, 1., 10.]\n",
    "\n",
    "# YOUR CODE HERE\n",
    "raise NotImplementedError()"
   ]
  },
  {
   "cell_type": "markdown",
   "metadata": {
    "deletable": false,
    "editable": false,
    "nbgrader": {
     "cell_type": "markdown",
     "checksum": "7ed98ee5055145855e469a2158b7ffed",
     "grade": false,
     "grade_id": "cell-1cdf237e65cdc397",
     "locked": true,
     "schema_version": 3,
     "solution": false,
     "task": false
    }
   },
   "source": [
    "How does varying the **scale** parameter change the plots for the prior and posterior distributions?\n",
    "\n",
    "**1)** Increasing the scale increases the width of the confidence interval of the prior and posterior distributions.\n",
    "\n",
    "**2)** Increasing the scale increases the smoothness of the functions sampled from the prior and posterior distributions.\n",
    "\n",
    "**3)** Increasing the scale decreases the smoothness of the functions sampled from the prior and posterior distributions\n",
    "\n",
    "**4)** Increasing the scale decreases the width of the confidence interval of the prior and posterior distributions.\n",
    "\n",
    "Choose one answer and type it in the cell below."
   ]
  },
  {
   "cell_type": "code",
   "execution_count": null,
   "metadata": {},
   "outputs": [],
   "source": [
    "a_3d = None  # TASK: Replace None with your answer (1, 2, 3, 4)"
   ]
  },
  {
   "cell_type": "code",
   "execution_count": null,
   "metadata": {
    "deletable": false,
    "editable": false,
    "nbgrader": {
     "cell_type": "code",
     "checksum": "90d5c67043db3b48b6220ea267ee9839",
     "grade": false,
     "grade_id": "cell-8f87adcc82832545",
     "locked": true,
     "schema_version": 3,
     "solution": false,
     "task": false
    }
   },
   "outputs": [],
   "source": [
    "assert a_3d in [1, 2, 3, 4]"
   ]
  },
  {
   "cell_type": "markdown",
   "metadata": {
    "deletable": false,
    "editable": false,
    "nbgrader": {
     "cell_type": "markdown",
     "checksum": "7af91f72bc9471e5750dfccec77ea525",
     "grade": false,
     "grade_id": "cell-63230574c38d37cb",
     "locked": true,
     "schema_version": 3,
     "solution": false,
     "task": false
    }
   },
   "source": [
    "#### Do not move or delete the below block. It is used for automatic grading."
   ]
  },
  {
   "cell_type": "code",
   "execution_count": null,
   "metadata": {
    "deletable": false,
    "editable": false,
    "nbgrader": {
     "cell_type": "code",
     "checksum": "65225c77454c05eff803b110516b3652",
     "grade": true,
     "grade_id": "cell-e09c6afa2f75027e",
     "locked": true,
     "points": 0.25,
     "schema_version": 3,
     "solution": false,
     "task": false
    }
   },
   "outputs": [],
   "source": []
  },
  {
   "cell_type": "markdown",
   "metadata": {
    "deletable": false,
    "editable": false,
    "nbgrader": {
     "cell_type": "markdown",
     "checksum": "39628a5bf6366d2a560f1dcd25428fa9",
     "grade": false,
     "grade_id": "cell-9951b51325b5471a",
     "locked": true,
     "schema_version": 3,
     "solution": false,
     "task": false
    }
   },
   "source": [
    "**Task 3e**: Replicate the two figures above for the following three different values of the alpha parameter: $\\alpha \\in \\left\\lbrace 0.25, 1, 5 \\right\\rbrace$ and for $\\sigma^2 = \\frac{1}{2}$ and $\\ell=1$. Answer the multiple choice question below.\n"
   ]
  },
  {
   "cell_type": "code",
   "execution_count": null,
   "metadata": {
    "deletable": false,
    "nbgrader": {
     "cell_type": "code",
     "checksum": "6c23cc5b7a214c78913afee54efa809e",
     "grade": false,
     "grade_id": "cell-2bfe7d1f1fea1e8d",
     "locked": false,
     "schema_version": 3,
     "solution": true,
     "task": false
    }
   },
   "outputs": [],
   "source": [
    "sigma2=0.5\n",
    "scale=1\n",
    "alphas = [0.25, 1., 2.]\n",
    "\n",
    "# YOUR CODE HERE\n",
    "raise NotImplementedError()"
   ]
  },
  {
   "cell_type": "markdown",
   "metadata": {
    "deletable": false,
    "editable": false,
    "nbgrader": {
     "cell_type": "markdown",
     "checksum": "648d4f01387f0efddb51a252d3210237",
     "grade": false,
     "grade_id": "cell-2e17b697bbd46189",
     "locked": true,
     "schema_version": 3,
     "solution": false,
     "task": false
    }
   },
   "source": [
    "How does varying the **alpha** parameter change the plots for the prior and posterior distributions?\n",
    "\n",
    "**1)** Increasing alpha increases the width of the confidence interval of the prior and posterior distributions.\n",
    "\n",
    "**2)** Increasing alpha increases the smoothness of the functions sampled from the prior and posterior distributions.\n",
    "\n",
    "**3)** Increasing alpha decreases the smoothness of the functions sampled from the prior and posterior distributions\n",
    "\n",
    "**4)** Increasing alpha decreases the width of the confidence interval of the prior and posterior distributions.\n",
    "\n",
    "Choose one answer and type it in the cell below."
   ]
  },
  {
   "cell_type": "code",
   "execution_count": null,
   "metadata": {},
   "outputs": [],
   "source": [
    "a_3e = None # TASK: Replace None with your answer (1, 2, 3, 4)"
   ]
  },
  {
   "cell_type": "code",
   "execution_count": null,
   "metadata": {
    "deletable": false,
    "editable": false,
    "nbgrader": {
     "cell_type": "code",
     "checksum": "7376cc15324d510e9683ed8b3c78835f",
     "grade": false,
     "grade_id": "cell-33160f2a9890f6ad",
     "locked": true,
     "schema_version": 3,
     "solution": false,
     "task": false
    }
   },
   "outputs": [],
   "source": [
    "assert a_3e in [1, 2, 3, 4]"
   ]
  },
  {
   "cell_type": "markdown",
   "metadata": {
    "deletable": false,
    "editable": false,
    "nbgrader": {
     "cell_type": "markdown",
     "checksum": "3340a214f3dddff626f4d518cdd21411",
     "grade": false,
     "grade_id": "cell-9547c1843d5d1f88",
     "locked": true,
     "schema_version": 3,
     "solution": false,
     "task": false
    }
   },
   "source": [
    "#### Do not move or delete the below block. It is used for automatic grading."
   ]
  },
  {
   "cell_type": "code",
   "execution_count": null,
   "metadata": {
    "deletable": false,
    "editable": false,
    "nbgrader": {
     "cell_type": "code",
     "checksum": "3c9f0b0c7c37048b1b2a41c3d0c7b85e",
     "grade": true,
     "grade_id": "cell-a19804057a5b5a20",
     "locked": true,
     "points": 0.25,
     "schema_version": 3,
     "solution": false,
     "task": false
    }
   },
   "outputs": [],
   "source": []
  },
  {
   "cell_type": "markdown",
   "metadata": {
    "deletable": false,
    "editable": false,
    "nbgrader": {
     "cell_type": "markdown",
     "checksum": "0243901d03126bcd79e4fd91cae8e50d",
     "grade": false,
     "grade_id": "cell-d1b1bf8a8891a663",
     "locked": true,
     "schema_version": 3,
     "solution": false,
     "task": false
    }
   },
   "source": [
    "---"
   ]
  },
  {
   "cell_type": "markdown",
   "metadata": {
    "deletable": false,
    "editable": false,
    "nbgrader": {
     "cell_type": "markdown",
     "checksum": "6dbb16bc182239fc6ec6642de5c5700e",
     "grade": false,
     "grade_id": "cell-fa812c2ba7dd9300",
     "locked": true,
     "schema_version": 3,
     "solution": false,
     "task": false
    }
   },
   "source": [
    "### Task 4: After answering all the questions, kindly set `automatic_grading=True` at the top of the notebook, use the validate option in the toolbar to validate the notebook and be sure that there are no errors."
   ]
  },
  {
   "cell_type": "markdown",
   "metadata": {
    "deletable": false,
    "editable": false,
    "nbgrader": {
     "cell_type": "markdown",
     "checksum": "0d9e64a16a20030e8f3eb0dc706e5d0b",
     "grade": false,
     "grade_id": "cell-4bc43b1db27700b9",
     "locked": true,
     "schema_version": 3,
     "solution": false,
     "task": false
    }
   },
   "source": [
    "---"
   ]
  }
 ],
 "metadata": {
  "kernelspec": {
   "display_name": "Python 3",
   "language": "python",
   "name": "python3"
  },
  "language_info": {
   "codemirror_mode": {
    "name": "ipython",
    "version": 3
   },
   "file_extension": ".py",
   "mimetype": "text/x-python",
   "name": "python",
   "nbconvert_exporter": "python",
   "pygments_lexer": "ipython3",
   "version": "3.10.12"
  }
 },
 "nbformat": 4,
 "nbformat_minor": 4
}
